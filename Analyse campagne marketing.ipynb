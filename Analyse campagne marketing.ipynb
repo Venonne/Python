{
 "cells": [
  {
   "cell_type": "markdown",
   "id": "9e8ec887",
   "metadata": {},
   "source": [
    "# Analyse de Campagne Marketing - Grande Distribution\n",
    "\n",
    "---\n",
    "\n",
    "## Contexte et Objectifs\n",
    "\n",
    "**Client :** Direction Marketing d'une multinationale de la grande distribution\n",
    "\n",
    "### Objectifs Principaux\n",
    "1. **Analyser, visualiser et interpréter** les données de campagne marketing\n",
    "2. **Définir les KPIs pertinents** pour évaluer l'efficacité des campagnes\n",
    "3. **Prédire la réponse client** aux futures campagnes\n",
    "\n",
    "### Objectifs Finaux\n",
    "- Chiffrer l'efficacité des campagnes marketing\n",
    "- Réaliser des KPIs et fournir des chiffres clés\n",
    "- Cerner la cible client et comprendre le public ciblé\n",
    "\n",
    "### Livrables\n",
    "- Analyses exploratoires complètes\n",
    "- Modèles prédictifs de réponse client\n",
    "- Segmentation client (clustering)\n",
    "- Justification du feature engineering"
   ]
  },
  {
   "cell_type": "markdown",
   "id": "d06c55b5",
   "metadata": {},
   "source": [
    "## Table des Matières\n",
    "\n",
    "1. **Importation des Bibliothèques**\n",
    "2. **Chargement et Découverte des Données**\n",
    "3. **Nettoyage et Prétraitement des Données**\n",
    "4. **Feature Engineering**\n",
    "5. **Définition et Calcul des KPIs**\n",
    "6. **Segmentation Client (Clustering)**\n",
    "7. **Modélisation Prédictive**\n",
    "8. **Conclusions et Recommandations**"
   ]
  },
  {
   "cell_type": "markdown",
   "id": "c9679aba",
   "metadata": {},
   "source": [
    "---\n",
    "## 1) Importation des Bibliothèques"
   ]
  },
  {
   "cell_type": "code",
   "execution_count": 1,
   "id": "c692e748",
   "metadata": {},
   "outputs": [
    {
     "name": "stdout",
     "output_type": "stream",
     "text": [
      "✅ Toutes les bibliothèques ont été importées avec succès !\n"
     ]
    }
   ],
   "source": [
    "import pandas as pd\n",
    "import numpy as np\n",
    "\n",
    "# Visualisation\n",
    "import matplotlib.pyplot as plt\n",
    "import seaborn as sns\n",
    "import plotly.express as px\n",
    "import plotly.graph_objects as go\n",
    "from plotly.subplots import make_subplots\n",
    "\n",
    "# Machine Learning - Preprocessing\n",
    "from sklearn.preprocessing import StandardScaler, LabelEncoder\n",
    "\n",
    "# Machine Learning - Clustering\n",
    "from sklearn.cluster import KMeans\n",
    "from sklearn.decomposition import PCA\n",
    "\n",
    "# Machine Learning - Modélisation\n",
    "from sklearn.model_selection import train_test_split\n",
    "from sklearn.linear_model import LogisticRegression\n",
    "from sklearn.ensemble import RandomForestClassifier, GradientBoostingClassifier\n",
    "from sklearn.tree import DecisionTreeClassifier\n",
    "\n",
    "# Machine Learning - Évaluation\n",
    "from sklearn.metrics import (\n",
    "    classification_report, confusion_matrix, \n",
    "    accuracy_score, precision_score, recall_score, f1_score,\n",
    "    roc_auc_score, roc_curve, precision_recall_curve\n",
    ")\n",
    "\n",
    "# Ignorer les warnings\n",
    "import warnings \n",
    "warnings.filterwarnings('ignore')\n",
    "\n",
    "# Configuration des graphiques\n",
    "plt.style.use('seaborn-v0_8-darkgrid')\n",
    "sns.set_palette(\"husl\")\n",
    "pd.set_option('display.max_columns', None)\n",
    "pd.set_option('display.max_rows', 100)\n",
    "\n",
    "print(\"✅ Toutes les bibliothèques ont été importées avec succès !\")"
   ]
  },
  {
   "cell_type": "markdown",
   "id": "333de1be",
   "metadata": {},
   "source": [
    "---\n",
    "## 2️) Chargement et Découverte des Données"
   ]
  },
  {
   "cell_type": "code",
   "execution_count": 2,
   "id": "360ebe4f",
   "metadata": {},
   "outputs": [
    {
     "name": "stdout",
     "output_type": "stream",
     "text": [
      "📊 Dimensions du dataset :\n",
      "   Nombre de lignes : 2240\n",
      "   Nombre de colonnes : 29\n",
      "\n",
      "================================================================================\n",
      "\n",
      "📋 Aperçu des données :\n"
     ]
    },
    {
     "data": {
      "application/vnd.microsoft.datawrangler.viewer.v0+json": {
       "columns": [
        {
         "name": "index",
         "rawType": "int64",
         "type": "integer"
        },
        {
         "name": "ID",
         "rawType": "int64",
         "type": "integer"
        },
        {
         "name": "Year_Birth",
         "rawType": "int64",
         "type": "integer"
        },
        {
         "name": "Education",
         "rawType": "object",
         "type": "string"
        },
        {
         "name": "Marital_Status",
         "rawType": "object",
         "type": "string"
        },
        {
         "name": "Income",
         "rawType": "object",
         "type": "string"
        },
        {
         "name": "Kidhome",
         "rawType": "int64",
         "type": "integer"
        },
        {
         "name": "Teenhome",
         "rawType": "int64",
         "type": "integer"
        },
        {
         "name": "Dt_Customer",
         "rawType": "object",
         "type": "string"
        },
        {
         "name": "Recency",
         "rawType": "int64",
         "type": "integer"
        },
        {
         "name": "MntWines",
         "rawType": "int64",
         "type": "integer"
        },
        {
         "name": "MntFruits",
         "rawType": "int64",
         "type": "integer"
        },
        {
         "name": "MntMeatProducts",
         "rawType": "int64",
         "type": "integer"
        },
        {
         "name": "MntFishProducts",
         "rawType": "int64",
         "type": "integer"
        },
        {
         "name": "MntSweetProducts",
         "rawType": "int64",
         "type": "integer"
        },
        {
         "name": "MntGoldProds",
         "rawType": "int64",
         "type": "integer"
        },
        {
         "name": "NumDealsPurchases",
         "rawType": "int64",
         "type": "integer"
        },
        {
         "name": "NumWebPurchases",
         "rawType": "int64",
         "type": "integer"
        },
        {
         "name": "NumCatalogPurchases",
         "rawType": "int64",
         "type": "integer"
        },
        {
         "name": "NumStorePurchases",
         "rawType": "int64",
         "type": "integer"
        },
        {
         "name": "NumWebVisitsMonth",
         "rawType": "int64",
         "type": "integer"
        },
        {
         "name": "AcceptedCmp3",
         "rawType": "int64",
         "type": "integer"
        },
        {
         "name": "AcceptedCmp4",
         "rawType": "int64",
         "type": "integer"
        },
        {
         "name": "AcceptedCmp5",
         "rawType": "int64",
         "type": "integer"
        },
        {
         "name": "AcceptedCmp1",
         "rawType": "int64",
         "type": "integer"
        },
        {
         "name": "AcceptedCmp2",
         "rawType": "int64",
         "type": "integer"
        },
        {
         "name": "Complain",
         "rawType": "int64",
         "type": "integer"
        },
        {
         "name": "Z_CostContact",
         "rawType": "int64",
         "type": "integer"
        },
        {
         "name": "Z_Revenue",
         "rawType": "int64",
         "type": "integer"
        },
        {
         "name": "Response",
         "rawType": "int64",
         "type": "integer"
        }
       ],
       "ref": "724ee22a-e302-49df-b32a-919a515509b2",
       "rows": [
        [
         "0",
         "0",
         "1985",
         "Graduation",
         "Married",
         "70951",
         "0",
         "0",
         "04/05/2013",
         "66",
         "239",
         "10",
         "554",
         "254",
         "87",
         "54",
         "1",
         "3",
         "4",
         "9",
         "1",
         "0",
         "0",
         "0",
         "0",
         "0",
         "0",
         "3",
         "11",
         "0"
        ],
        [
         "1",
         "1",
         "1961",
         "Graduation",
         "Single",
         "57091",
         "0",
         "0",
         "15/06/2014",
         "0",
         "464",
         "5",
         "64",
         "7",
         "0",
         "37",
         "1",
         "7",
         "3",
         "7",
         "5",
         "0",
         "0",
         "0",
         "0",
         "1",
         "0",
         "3",
         "11",
         "1"
        ],
        [
         "2",
         "9",
         "1975",
         "Master",
         "Single",
         "46098",
         "1",
         "1",
         "18/08/2012",
         "86",
         "57",
         "0",
         "27",
         "0",
         "0",
         "36",
         "4",
         "3",
         "2",
         "2",
         "8",
         "0",
         "0",
         "0",
         "0",
         "0",
         "0",
         "3",
         "11",
         "0"
        ],
        [
         "3",
         "13",
         "1947",
         "PhD",
         "Widow",
         "25358",
         "0",
         "1",
         "22/07/2013",
         "57",
         "19",
         "0",
         "5",
         "0",
         "0",
         "8",
         "2",
         "1",
         "0",
         "3",
         "6",
         "0",
         "0",
         "0",
         "0",
         "0",
         "0",
         "3",
         "11",
         "0"
        ],
        [
         "4",
         "17",
         "1971",
         "PhD",
         "Married",
         "60491",
         "0",
         "1",
         "06/09/2013",
         "81",
         "637",
         "47",
         "237",
         "12",
         "19",
         "76",
         "4",
         "6",
         "11",
         "7",
         "5",
         "0",
         "0",
         "0",
         "0",
         "0",
         "0",
         "3",
         "11",
         "0"
        ],
        [
         "5",
         "20",
         "1965",
         "2n Cycle",
         "Married",
         "46891",
         "0",
         "1",
         "01/09/2013",
         "91",
         "43",
         "12",
         "23",
         "29",
         "15",
         "61",
         "1",
         "2",
         "1",
         "4",
         "4",
         "0",
         "0",
         "0",
         "0",
         "0",
         "0",
         "3",
         "11",
         "0"
        ],
        [
         "6",
         "22",
         "1976",
         "Graduation",
         "Divorced",
         "46310",
         "1",
         "0",
         "03/12/2012",
         "99",
         "185",
         "2",
         "88",
         "15",
         "5",
         "14",
         "2",
         "6",
         "1",
         "5",
         "8",
         "0",
         "0",
         "0",
         "0",
         "0",
         "0",
         "3",
         "11",
         "0"
        ],
        [
         "7",
         "24",
         "1960",
         "Master",
         "Together",
         "17144",
         "1",
         "1",
         "15/02/2014",
         "96",
         "18",
         "2",
         "19",
         "0",
         "2",
         "6",
         "5",
         "3",
         "0",
         "4",
         "7",
         "0",
         "0",
         "0",
         "0",
         "0",
         "0",
         "3",
         "11",
         "0"
        ],
        [
         "8",
         "25",
         "1958",
         "Graduation",
         "Married",
         "65148",
         "0",
         "1",
         "16/11/2012",
         "9",
         "460",
         "35",
         "422",
         "33",
         "12",
         "153",
         "2",
         "6",
         "6",
         "7",
         "4",
         "0",
         "0",
         "0",
         "0",
         "0",
         "0",
         "3",
         "11",
         "0"
        ],
        [
         "9",
         "35",
         "1987",
         "Graduation",
         "Married",
         "25545",
         "1",
         "0",
         "08/09/2012",
         "35",
         "32",
         "1",
         "64",
         "16",
         "12",
         "85",
         "3",
         "2",
         "2",
         "3",
         "6",
         "0",
         "0",
         "0",
         "0",
         "0",
         "0",
         "3",
         "11",
         "1"
        ]
       ],
       "shape": {
        "columns": 29,
        "rows": 10
       }
      },
      "text/html": [
       "<div>\n",
       "<style scoped>\n",
       "    .dataframe tbody tr th:only-of-type {\n",
       "        vertical-align: middle;\n",
       "    }\n",
       "\n",
       "    .dataframe tbody tr th {\n",
       "        vertical-align: top;\n",
       "    }\n",
       "\n",
       "    .dataframe thead th {\n",
       "        text-align: right;\n",
       "    }\n",
       "</style>\n",
       "<table border=\"1\" class=\"dataframe\">\n",
       "  <thead>\n",
       "    <tr style=\"text-align: right;\">\n",
       "      <th></th>\n",
       "      <th>ID</th>\n",
       "      <th>Year_Birth</th>\n",
       "      <th>Education</th>\n",
       "      <th>Marital_Status</th>\n",
       "      <th>Income</th>\n",
       "      <th>Kidhome</th>\n",
       "      <th>Teenhome</th>\n",
       "      <th>Dt_Customer</th>\n",
       "      <th>Recency</th>\n",
       "      <th>MntWines</th>\n",
       "      <th>MntFruits</th>\n",
       "      <th>MntMeatProducts</th>\n",
       "      <th>MntFishProducts</th>\n",
       "      <th>MntSweetProducts</th>\n",
       "      <th>MntGoldProds</th>\n",
       "      <th>NumDealsPurchases</th>\n",
       "      <th>NumWebPurchases</th>\n",
       "      <th>NumCatalogPurchases</th>\n",
       "      <th>NumStorePurchases</th>\n",
       "      <th>NumWebVisitsMonth</th>\n",
       "      <th>AcceptedCmp3</th>\n",
       "      <th>AcceptedCmp4</th>\n",
       "      <th>AcceptedCmp5</th>\n",
       "      <th>AcceptedCmp1</th>\n",
       "      <th>AcceptedCmp2</th>\n",
       "      <th>Complain</th>\n",
       "      <th>Z_CostContact</th>\n",
       "      <th>Z_Revenue</th>\n",
       "      <th>Response</th>\n",
       "    </tr>\n",
       "  </thead>\n",
       "  <tbody>\n",
       "    <tr>\n",
       "      <th>0</th>\n",
       "      <td>0</td>\n",
       "      <td>1985</td>\n",
       "      <td>Graduation</td>\n",
       "      <td>Married</td>\n",
       "      <td>70951</td>\n",
       "      <td>0</td>\n",
       "      <td>0</td>\n",
       "      <td>04/05/2013</td>\n",
       "      <td>66</td>\n",
       "      <td>239</td>\n",
       "      <td>10</td>\n",
       "      <td>554</td>\n",
       "      <td>254</td>\n",
       "      <td>87</td>\n",
       "      <td>54</td>\n",
       "      <td>1</td>\n",
       "      <td>3</td>\n",
       "      <td>4</td>\n",
       "      <td>9</td>\n",
       "      <td>1</td>\n",
       "      <td>0</td>\n",
       "      <td>0</td>\n",
       "      <td>0</td>\n",
       "      <td>0</td>\n",
       "      <td>0</td>\n",
       "      <td>0</td>\n",
       "      <td>3</td>\n",
       "      <td>11</td>\n",
       "      <td>0</td>\n",
       "    </tr>\n",
       "    <tr>\n",
       "      <th>1</th>\n",
       "      <td>1</td>\n",
       "      <td>1961</td>\n",
       "      <td>Graduation</td>\n",
       "      <td>Single</td>\n",
       "      <td>57091</td>\n",
       "      <td>0</td>\n",
       "      <td>0</td>\n",
       "      <td>15/06/2014</td>\n",
       "      <td>0</td>\n",
       "      <td>464</td>\n",
       "      <td>5</td>\n",
       "      <td>64</td>\n",
       "      <td>7</td>\n",
       "      <td>0</td>\n",
       "      <td>37</td>\n",
       "      <td>1</td>\n",
       "      <td>7</td>\n",
       "      <td>3</td>\n",
       "      <td>7</td>\n",
       "      <td>5</td>\n",
       "      <td>0</td>\n",
       "      <td>0</td>\n",
       "      <td>0</td>\n",
       "      <td>0</td>\n",
       "      <td>1</td>\n",
       "      <td>0</td>\n",
       "      <td>3</td>\n",
       "      <td>11</td>\n",
       "      <td>1</td>\n",
       "    </tr>\n",
       "    <tr>\n",
       "      <th>2</th>\n",
       "      <td>9</td>\n",
       "      <td>1975</td>\n",
       "      <td>Master</td>\n",
       "      <td>Single</td>\n",
       "      <td>46098</td>\n",
       "      <td>1</td>\n",
       "      <td>1</td>\n",
       "      <td>18/08/2012</td>\n",
       "      <td>86</td>\n",
       "      <td>57</td>\n",
       "      <td>0</td>\n",
       "      <td>27</td>\n",
       "      <td>0</td>\n",
       "      <td>0</td>\n",
       "      <td>36</td>\n",
       "      <td>4</td>\n",
       "      <td>3</td>\n",
       "      <td>2</td>\n",
       "      <td>2</td>\n",
       "      <td>8</td>\n",
       "      <td>0</td>\n",
       "      <td>0</td>\n",
       "      <td>0</td>\n",
       "      <td>0</td>\n",
       "      <td>0</td>\n",
       "      <td>0</td>\n",
       "      <td>3</td>\n",
       "      <td>11</td>\n",
       "      <td>0</td>\n",
       "    </tr>\n",
       "    <tr>\n",
       "      <th>3</th>\n",
       "      <td>13</td>\n",
       "      <td>1947</td>\n",
       "      <td>PhD</td>\n",
       "      <td>Widow</td>\n",
       "      <td>25358</td>\n",
       "      <td>0</td>\n",
       "      <td>1</td>\n",
       "      <td>22/07/2013</td>\n",
       "      <td>57</td>\n",
       "      <td>19</td>\n",
       "      <td>0</td>\n",
       "      <td>5</td>\n",
       "      <td>0</td>\n",
       "      <td>0</td>\n",
       "      <td>8</td>\n",
       "      <td>2</td>\n",
       "      <td>1</td>\n",
       "      <td>0</td>\n",
       "      <td>3</td>\n",
       "      <td>6</td>\n",
       "      <td>0</td>\n",
       "      <td>0</td>\n",
       "      <td>0</td>\n",
       "      <td>0</td>\n",
       "      <td>0</td>\n",
       "      <td>0</td>\n",
       "      <td>3</td>\n",
       "      <td>11</td>\n",
       "      <td>0</td>\n",
       "    </tr>\n",
       "    <tr>\n",
       "      <th>4</th>\n",
       "      <td>17</td>\n",
       "      <td>1971</td>\n",
       "      <td>PhD</td>\n",
       "      <td>Married</td>\n",
       "      <td>60491</td>\n",
       "      <td>0</td>\n",
       "      <td>1</td>\n",
       "      <td>06/09/2013</td>\n",
       "      <td>81</td>\n",
       "      <td>637</td>\n",
       "      <td>47</td>\n",
       "      <td>237</td>\n",
       "      <td>12</td>\n",
       "      <td>19</td>\n",
       "      <td>76</td>\n",
       "      <td>4</td>\n",
       "      <td>6</td>\n",
       "      <td>11</td>\n",
       "      <td>7</td>\n",
       "      <td>5</td>\n",
       "      <td>0</td>\n",
       "      <td>0</td>\n",
       "      <td>0</td>\n",
       "      <td>0</td>\n",
       "      <td>0</td>\n",
       "      <td>0</td>\n",
       "      <td>3</td>\n",
       "      <td>11</td>\n",
       "      <td>0</td>\n",
       "    </tr>\n",
       "    <tr>\n",
       "      <th>5</th>\n",
       "      <td>20</td>\n",
       "      <td>1965</td>\n",
       "      <td>2n Cycle</td>\n",
       "      <td>Married</td>\n",
       "      <td>46891</td>\n",
       "      <td>0</td>\n",
       "      <td>1</td>\n",
       "      <td>01/09/2013</td>\n",
       "      <td>91</td>\n",
       "      <td>43</td>\n",
       "      <td>12</td>\n",
       "      <td>23</td>\n",
       "      <td>29</td>\n",
       "      <td>15</td>\n",
       "      <td>61</td>\n",
       "      <td>1</td>\n",
       "      <td>2</td>\n",
       "      <td>1</td>\n",
       "      <td>4</td>\n",
       "      <td>4</td>\n",
       "      <td>0</td>\n",
       "      <td>0</td>\n",
       "      <td>0</td>\n",
       "      <td>0</td>\n",
       "      <td>0</td>\n",
       "      <td>0</td>\n",
       "      <td>3</td>\n",
       "      <td>11</td>\n",
       "      <td>0</td>\n",
       "    </tr>\n",
       "    <tr>\n",
       "      <th>6</th>\n",
       "      <td>22</td>\n",
       "      <td>1976</td>\n",
       "      <td>Graduation</td>\n",
       "      <td>Divorced</td>\n",
       "      <td>46310</td>\n",
       "      <td>1</td>\n",
       "      <td>0</td>\n",
       "      <td>03/12/2012</td>\n",
       "      <td>99</td>\n",
       "      <td>185</td>\n",
       "      <td>2</td>\n",
       "      <td>88</td>\n",
       "      <td>15</td>\n",
       "      <td>5</td>\n",
       "      <td>14</td>\n",
       "      <td>2</td>\n",
       "      <td>6</td>\n",
       "      <td>1</td>\n",
       "      <td>5</td>\n",
       "      <td>8</td>\n",
       "      <td>0</td>\n",
       "      <td>0</td>\n",
       "      <td>0</td>\n",
       "      <td>0</td>\n",
       "      <td>0</td>\n",
       "      <td>0</td>\n",
       "      <td>3</td>\n",
       "      <td>11</td>\n",
       "      <td>0</td>\n",
       "    </tr>\n",
       "    <tr>\n",
       "      <th>7</th>\n",
       "      <td>24</td>\n",
       "      <td>1960</td>\n",
       "      <td>Master</td>\n",
       "      <td>Together</td>\n",
       "      <td>17144</td>\n",
       "      <td>1</td>\n",
       "      <td>1</td>\n",
       "      <td>15/02/2014</td>\n",
       "      <td>96</td>\n",
       "      <td>18</td>\n",
       "      <td>2</td>\n",
       "      <td>19</td>\n",
       "      <td>0</td>\n",
       "      <td>2</td>\n",
       "      <td>6</td>\n",
       "      <td>5</td>\n",
       "      <td>3</td>\n",
       "      <td>0</td>\n",
       "      <td>4</td>\n",
       "      <td>7</td>\n",
       "      <td>0</td>\n",
       "      <td>0</td>\n",
       "      <td>0</td>\n",
       "      <td>0</td>\n",
       "      <td>0</td>\n",
       "      <td>0</td>\n",
       "      <td>3</td>\n",
       "      <td>11</td>\n",
       "      <td>0</td>\n",
       "    </tr>\n",
       "    <tr>\n",
       "      <th>8</th>\n",
       "      <td>25</td>\n",
       "      <td>1958</td>\n",
       "      <td>Graduation</td>\n",
       "      <td>Married</td>\n",
       "      <td>65148</td>\n",
       "      <td>0</td>\n",
       "      <td>1</td>\n",
       "      <td>16/11/2012</td>\n",
       "      <td>9</td>\n",
       "      <td>460</td>\n",
       "      <td>35</td>\n",
       "      <td>422</td>\n",
       "      <td>33</td>\n",
       "      <td>12</td>\n",
       "      <td>153</td>\n",
       "      <td>2</td>\n",
       "      <td>6</td>\n",
       "      <td>6</td>\n",
       "      <td>7</td>\n",
       "      <td>4</td>\n",
       "      <td>0</td>\n",
       "      <td>0</td>\n",
       "      <td>0</td>\n",
       "      <td>0</td>\n",
       "      <td>0</td>\n",
       "      <td>0</td>\n",
       "      <td>3</td>\n",
       "      <td>11</td>\n",
       "      <td>0</td>\n",
       "    </tr>\n",
       "    <tr>\n",
       "      <th>9</th>\n",
       "      <td>35</td>\n",
       "      <td>1987</td>\n",
       "      <td>Graduation</td>\n",
       "      <td>Married</td>\n",
       "      <td>25545</td>\n",
       "      <td>1</td>\n",
       "      <td>0</td>\n",
       "      <td>08/09/2012</td>\n",
       "      <td>35</td>\n",
       "      <td>32</td>\n",
       "      <td>1</td>\n",
       "      <td>64</td>\n",
       "      <td>16</td>\n",
       "      <td>12</td>\n",
       "      <td>85</td>\n",
       "      <td>3</td>\n",
       "      <td>2</td>\n",
       "      <td>2</td>\n",
       "      <td>3</td>\n",
       "      <td>6</td>\n",
       "      <td>0</td>\n",
       "      <td>0</td>\n",
       "      <td>0</td>\n",
       "      <td>0</td>\n",
       "      <td>0</td>\n",
       "      <td>0</td>\n",
       "      <td>3</td>\n",
       "      <td>11</td>\n",
       "      <td>1</td>\n",
       "    </tr>\n",
       "  </tbody>\n",
       "</table>\n",
       "</div>"
      ],
      "text/plain": [
       "   ID  Year_Birth   Education Marital_Status Income  Kidhome  Teenhome  \\\n",
       "0   0        1985  Graduation        Married  70951        0         0   \n",
       "1   1        1961  Graduation         Single  57091        0         0   \n",
       "2   9        1975      Master         Single  46098        1         1   \n",
       "3  13        1947         PhD          Widow  25358        0         1   \n",
       "4  17        1971         PhD        Married  60491        0         1   \n",
       "5  20        1965    2n Cycle        Married  46891        0         1   \n",
       "6  22        1976  Graduation       Divorced  46310        1         0   \n",
       "7  24        1960      Master       Together  17144        1         1   \n",
       "8  25        1958  Graduation        Married  65148        0         1   \n",
       "9  35        1987  Graduation        Married  25545        1         0   \n",
       "\n",
       "  Dt_Customer  Recency  MntWines  MntFruits  MntMeatProducts  MntFishProducts  \\\n",
       "0  04/05/2013       66       239         10              554              254   \n",
       "1  15/06/2014        0       464          5               64                7   \n",
       "2  18/08/2012       86        57          0               27                0   \n",
       "3  22/07/2013       57        19          0                5                0   \n",
       "4  06/09/2013       81       637         47              237               12   \n",
       "5  01/09/2013       91        43         12               23               29   \n",
       "6  03/12/2012       99       185          2               88               15   \n",
       "7  15/02/2014       96        18          2               19                0   \n",
       "8  16/11/2012        9       460         35              422               33   \n",
       "9  08/09/2012       35        32          1               64               16   \n",
       "\n",
       "   MntSweetProducts  MntGoldProds  NumDealsPurchases  NumWebPurchases  \\\n",
       "0                87            54                  1                3   \n",
       "1                 0            37                  1                7   \n",
       "2                 0            36                  4                3   \n",
       "3                 0             8                  2                1   \n",
       "4                19            76                  4                6   \n",
       "5                15            61                  1                2   \n",
       "6                 5            14                  2                6   \n",
       "7                 2             6                  5                3   \n",
       "8                12           153                  2                6   \n",
       "9                12            85                  3                2   \n",
       "\n",
       "   NumCatalogPurchases  NumStorePurchases  NumWebVisitsMonth  AcceptedCmp3  \\\n",
       "0                    4                  9                  1             0   \n",
       "1                    3                  7                  5             0   \n",
       "2                    2                  2                  8             0   \n",
       "3                    0                  3                  6             0   \n",
       "4                   11                  7                  5             0   \n",
       "5                    1                  4                  4             0   \n",
       "6                    1                  5                  8             0   \n",
       "7                    0                  4                  7             0   \n",
       "8                    6                  7                  4             0   \n",
       "9                    2                  3                  6             0   \n",
       "\n",
       "   AcceptedCmp4  AcceptedCmp5  AcceptedCmp1  AcceptedCmp2  Complain  \\\n",
       "0             0             0             0             0         0   \n",
       "1             0             0             0             1         0   \n",
       "2             0             0             0             0         0   \n",
       "3             0             0             0             0         0   \n",
       "4             0             0             0             0         0   \n",
       "5             0             0             0             0         0   \n",
       "6             0             0             0             0         0   \n",
       "7             0             0             0             0         0   \n",
       "8             0             0             0             0         0   \n",
       "9             0             0             0             0         0   \n",
       "\n",
       "   Z_CostContact  Z_Revenue  Response  \n",
       "0              3         11         0  \n",
       "1              3         11         1  \n",
       "2              3         11         0  \n",
       "3              3         11         0  \n",
       "4              3         11         0  \n",
       "5              3         11         0  \n",
       "6              3         11         0  \n",
       "7              3         11         0  \n",
       "8              3         11         0  \n",
       "9              3         11         1  "
      ]
     },
     "execution_count": 2,
     "metadata": {},
     "output_type": "execute_result"
    }
   ],
   "source": [
    "# Chargement des données\n",
    "df = pd.read_csv('Camp_Market.csv', sep=';')\n",
    "\n",
    "print(\"📊 Dimensions du dataset :\")\n",
    "print(f\"   Nombre de lignes : {df.shape[0]}\")\n",
    "print(f\"   Nombre de colonnes : {df.shape[1]}\")\n",
    "print(\"\\n\" + \"=\"*80 + \"\\n\")\n",
    "\n",
    "# Affichage des premières lignes\n",
    "print(\"📋 Aperçu des données :\")\n",
    "df.head(10)"
   ]
  },
  {
   "cell_type": "code",
   "execution_count": 3,
   "id": "9f531e9d",
   "metadata": {},
   "outputs": [
    {
     "name": "stdout",
     "output_type": "stream",
     "text": [
      "ℹ️ Informations sur le dataset :\n",
      "<class 'pandas.core.frame.DataFrame'>\n",
      "RangeIndex: 2240 entries, 0 to 2239\n",
      "Data columns (total 29 columns):\n",
      " #   Column               Non-Null Count  Dtype \n",
      "---  ------               --------------  ----- \n",
      " 0   ID                   2240 non-null   int64 \n",
      " 1   Year_Birth           2240 non-null   int64 \n",
      " 2   Education            2240 non-null   object\n",
      " 3   Marital_Status       2240 non-null   object\n",
      " 4   Income               2240 non-null   object\n",
      " 5   Kidhome              2240 non-null   int64 \n",
      " 6   Teenhome             2240 non-null   int64 \n",
      " 7   Dt_Customer          2240 non-null   object\n",
      " 8   Recency              2240 non-null   int64 \n",
      " 9   MntWines             2240 non-null   int64 \n",
      " 10  MntFruits            2240 non-null   int64 \n",
      " 11  MntMeatProducts      2240 non-null   int64 \n",
      " 12  MntFishProducts      2240 non-null   int64 \n",
      " 13  MntSweetProducts     2240 non-null   int64 \n",
      " 14  MntGoldProds         2240 non-null   int64 \n",
      " 15  NumDealsPurchases    2240 non-null   int64 \n",
      " 16  NumWebPurchases      2240 non-null   int64 \n",
      " 17  NumCatalogPurchases  2240 non-null   int64 \n",
      " 18  NumStorePurchases    2240 non-null   int64 \n",
      " 19  NumWebVisitsMonth    2240 non-null   int64 \n",
      " 20  AcceptedCmp3         2240 non-null   int64 \n",
      " 21  AcceptedCmp4         2240 non-null   int64 \n",
      " 22  AcceptedCmp5         2240 non-null   int64 \n",
      " 23  AcceptedCmp1         2240 non-null   int64 \n",
      " 24  AcceptedCmp2         2240 non-null   int64 \n",
      " 25  Complain             2240 non-null   int64 \n",
      " 26  Z_CostContact        2240 non-null   int64 \n",
      " 27  Z_Revenue            2240 non-null   int64 \n",
      " 28  Response             2240 non-null   int64 \n",
      "dtypes: int64(25), object(4)\n",
      "memory usage: 507.6+ KB\n",
      "None\n",
      "\n",
      "================================================================================\n",
      "\n",
      "Statistiques descriptives :\n"
     ]
    },
    {
     "data": {
      "application/vnd.microsoft.datawrangler.viewer.v0+json": {
       "columns": [
        {
         "name": "index",
         "rawType": "object",
         "type": "string"
        },
        {
         "name": "ID",
         "rawType": "float64",
         "type": "float"
        },
        {
         "name": "Year_Birth",
         "rawType": "float64",
         "type": "float"
        },
        {
         "name": "Kidhome",
         "rawType": "float64",
         "type": "float"
        },
        {
         "name": "Teenhome",
         "rawType": "float64",
         "type": "float"
        },
        {
         "name": "Recency",
         "rawType": "float64",
         "type": "float"
        },
        {
         "name": "MntWines",
         "rawType": "float64",
         "type": "float"
        },
        {
         "name": "MntFruits",
         "rawType": "float64",
         "type": "float"
        },
        {
         "name": "MntMeatProducts",
         "rawType": "float64",
         "type": "float"
        },
        {
         "name": "MntFishProducts",
         "rawType": "float64",
         "type": "float"
        },
        {
         "name": "MntSweetProducts",
         "rawType": "float64",
         "type": "float"
        },
        {
         "name": "MntGoldProds",
         "rawType": "float64",
         "type": "float"
        },
        {
         "name": "NumDealsPurchases",
         "rawType": "float64",
         "type": "float"
        },
        {
         "name": "NumWebPurchases",
         "rawType": "float64",
         "type": "float"
        },
        {
         "name": "NumCatalogPurchases",
         "rawType": "float64",
         "type": "float"
        },
        {
         "name": "NumStorePurchases",
         "rawType": "float64",
         "type": "float"
        },
        {
         "name": "NumWebVisitsMonth",
         "rawType": "float64",
         "type": "float"
        },
        {
         "name": "AcceptedCmp3",
         "rawType": "float64",
         "type": "float"
        },
        {
         "name": "AcceptedCmp4",
         "rawType": "float64",
         "type": "float"
        },
        {
         "name": "AcceptedCmp5",
         "rawType": "float64",
         "type": "float"
        },
        {
         "name": "AcceptedCmp1",
         "rawType": "float64",
         "type": "float"
        },
        {
         "name": "AcceptedCmp2",
         "rawType": "float64",
         "type": "float"
        },
        {
         "name": "Complain",
         "rawType": "float64",
         "type": "float"
        },
        {
         "name": "Z_CostContact",
         "rawType": "float64",
         "type": "float"
        },
        {
         "name": "Z_Revenue",
         "rawType": "float64",
         "type": "float"
        },
        {
         "name": "Response",
         "rawType": "float64",
         "type": "float"
        }
       ],
       "ref": "85aa4ea1-103b-4f2d-973d-b61b948504f1",
       "rows": [
        [
         "count",
         "2240.0",
         "2240.0",
         "2240.0",
         "2240.0",
         "2240.0",
         "2240.0",
         "2240.0",
         "2240.0",
         "2240.0",
         "2240.0",
         "2240.0",
         "2240.0",
         "2240.0",
         "2240.0",
         "2240.0",
         "2240.0",
         "2240.0",
         "2240.0",
         "2240.0",
         "2240.0",
         "2240.0",
         "2240.0",
         "2240.0",
         "2240.0",
         "2240.0"
        ],
        [
         "mean",
         "5592.159821428571",
         "1968.8058035714287",
         "0.44419642857142855",
         "0.50625",
         "49.109375",
         "303.9357142857143",
         "26.302232142857143",
         "166.95",
         "37.52544642857143",
         "27.06294642857143",
         "44.021875",
         "2.325",
         "4.084821428571429",
         "2.6620535714285714",
         "5.790178571428571",
         "5.316517857142857",
         "0.07276785714285715",
         "0.07455357142857143",
         "0.07276785714285715",
         "0.06428571428571428",
         "0.013392857142857142",
         "0.009375",
         "3.0",
         "11.0",
         "0.14910714285714285"
        ],
        [
         "std",
         "3246.6621975643407",
         "11.984069456885827",
         "0.5383980977345936",
         "0.5445382307698758",
         "28.962452808378206",
         "336.59739260537174",
         "39.77343376457855",
         "225.7153725117536",
         "54.62897940287807",
         "41.280498487854935",
         "52.16743891499733",
         "1.932237500855979",
         "2.778714147388102",
         "2.9231006555397463",
         "3.2509581456744323",
         "2.426645009547286",
         "0.25981306992189507",
         "0.2627282848535613",
         "0.25981306992189507",
         "0.24531597433401414",
         "0.1149756062554841",
         "0.09639116794449755",
         "0.0",
         "0.0",
         "0.35627358640847917"
        ],
        [
         "min",
         "0.0",
         "1893.0",
         "0.0",
         "0.0",
         "0.0",
         "0.0",
         "0.0",
         "0.0",
         "0.0",
         "0.0",
         "0.0",
         "0.0",
         "0.0",
         "0.0",
         "0.0",
         "0.0",
         "0.0",
         "0.0",
         "0.0",
         "0.0",
         "0.0",
         "0.0",
         "3.0",
         "11.0",
         "0.0"
        ],
        [
         "25%",
         "2828.25",
         "1959.0",
         "0.0",
         "0.0",
         "24.0",
         "23.75",
         "1.0",
         "16.0",
         "3.0",
         "1.0",
         "9.0",
         "1.0",
         "2.0",
         "0.0",
         "3.0",
         "3.0",
         "0.0",
         "0.0",
         "0.0",
         "0.0",
         "0.0",
         "0.0",
         "3.0",
         "11.0",
         "0.0"
        ],
        [
         "50%",
         "5458.5",
         "1970.0",
         "0.0",
         "0.0",
         "49.0",
         "173.5",
         "8.0",
         "67.0",
         "12.0",
         "8.0",
         "24.0",
         "2.0",
         "4.0",
         "2.0",
         "5.0",
         "6.0",
         "0.0",
         "0.0",
         "0.0",
         "0.0",
         "0.0",
         "0.0",
         "3.0",
         "11.0",
         "0.0"
        ],
        [
         "75%",
         "8427.75",
         "1977.0",
         "1.0",
         "1.0",
         "74.0",
         "504.25",
         "33.0",
         "232.0",
         "50.0",
         "33.0",
         "56.0",
         "3.0",
         "6.0",
         "4.0",
         "8.0",
         "7.0",
         "0.0",
         "0.0",
         "0.0",
         "0.0",
         "0.0",
         "0.0",
         "3.0",
         "11.0",
         "0.0"
        ],
        [
         "max",
         "11191.0",
         "1996.0",
         "2.0",
         "2.0",
         "99.0",
         "1493.0",
         "199.0",
         "1725.0",
         "259.0",
         "263.0",
         "362.0",
         "15.0",
         "27.0",
         "28.0",
         "13.0",
         "20.0",
         "1.0",
         "1.0",
         "1.0",
         "1.0",
         "1.0",
         "1.0",
         "3.0",
         "11.0",
         "1.0"
        ]
       ],
       "shape": {
        "columns": 25,
        "rows": 8
       }
      },
      "text/html": [
       "<div>\n",
       "<style scoped>\n",
       "    .dataframe tbody tr th:only-of-type {\n",
       "        vertical-align: middle;\n",
       "    }\n",
       "\n",
       "    .dataframe tbody tr th {\n",
       "        vertical-align: top;\n",
       "    }\n",
       "\n",
       "    .dataframe thead th {\n",
       "        text-align: right;\n",
       "    }\n",
       "</style>\n",
       "<table border=\"1\" class=\"dataframe\">\n",
       "  <thead>\n",
       "    <tr style=\"text-align: right;\">\n",
       "      <th></th>\n",
       "      <th>ID</th>\n",
       "      <th>Year_Birth</th>\n",
       "      <th>Kidhome</th>\n",
       "      <th>Teenhome</th>\n",
       "      <th>Recency</th>\n",
       "      <th>MntWines</th>\n",
       "      <th>MntFruits</th>\n",
       "      <th>MntMeatProducts</th>\n",
       "      <th>MntFishProducts</th>\n",
       "      <th>MntSweetProducts</th>\n",
       "      <th>MntGoldProds</th>\n",
       "      <th>NumDealsPurchases</th>\n",
       "      <th>NumWebPurchases</th>\n",
       "      <th>NumCatalogPurchases</th>\n",
       "      <th>NumStorePurchases</th>\n",
       "      <th>NumWebVisitsMonth</th>\n",
       "      <th>AcceptedCmp3</th>\n",
       "      <th>AcceptedCmp4</th>\n",
       "      <th>AcceptedCmp5</th>\n",
       "      <th>AcceptedCmp1</th>\n",
       "      <th>AcceptedCmp2</th>\n",
       "      <th>Complain</th>\n",
       "      <th>Z_CostContact</th>\n",
       "      <th>Z_Revenue</th>\n",
       "      <th>Response</th>\n",
       "    </tr>\n",
       "  </thead>\n",
       "  <tbody>\n",
       "    <tr>\n",
       "      <th>count</th>\n",
       "      <td>2240.000000</td>\n",
       "      <td>2240.000000</td>\n",
       "      <td>2240.000000</td>\n",
       "      <td>2240.000000</td>\n",
       "      <td>2240.000000</td>\n",
       "      <td>2240.000000</td>\n",
       "      <td>2240.000000</td>\n",
       "      <td>2240.000000</td>\n",
       "      <td>2240.000000</td>\n",
       "      <td>2240.000000</td>\n",
       "      <td>2240.000000</td>\n",
       "      <td>2240.000000</td>\n",
       "      <td>2240.000000</td>\n",
       "      <td>2240.000000</td>\n",
       "      <td>2240.000000</td>\n",
       "      <td>2240.000000</td>\n",
       "      <td>2240.000000</td>\n",
       "      <td>2240.000000</td>\n",
       "      <td>2240.000000</td>\n",
       "      <td>2240.000000</td>\n",
       "      <td>2240.000000</td>\n",
       "      <td>2240.000000</td>\n",
       "      <td>2240.0</td>\n",
       "      <td>2240.0</td>\n",
       "      <td>2240.000000</td>\n",
       "    </tr>\n",
       "    <tr>\n",
       "      <th>mean</th>\n",
       "      <td>5592.159821</td>\n",
       "      <td>1968.805804</td>\n",
       "      <td>0.444196</td>\n",
       "      <td>0.506250</td>\n",
       "      <td>49.109375</td>\n",
       "      <td>303.935714</td>\n",
       "      <td>26.302232</td>\n",
       "      <td>166.950000</td>\n",
       "      <td>37.525446</td>\n",
       "      <td>27.062946</td>\n",
       "      <td>44.021875</td>\n",
       "      <td>2.325000</td>\n",
       "      <td>4.084821</td>\n",
       "      <td>2.662054</td>\n",
       "      <td>5.790179</td>\n",
       "      <td>5.316518</td>\n",
       "      <td>0.072768</td>\n",
       "      <td>0.074554</td>\n",
       "      <td>0.072768</td>\n",
       "      <td>0.064286</td>\n",
       "      <td>0.013393</td>\n",
       "      <td>0.009375</td>\n",
       "      <td>3.0</td>\n",
       "      <td>11.0</td>\n",
       "      <td>0.149107</td>\n",
       "    </tr>\n",
       "    <tr>\n",
       "      <th>std</th>\n",
       "      <td>3246.662198</td>\n",
       "      <td>11.984069</td>\n",
       "      <td>0.538398</td>\n",
       "      <td>0.544538</td>\n",
       "      <td>28.962453</td>\n",
       "      <td>336.597393</td>\n",
       "      <td>39.773434</td>\n",
       "      <td>225.715373</td>\n",
       "      <td>54.628979</td>\n",
       "      <td>41.280498</td>\n",
       "      <td>52.167439</td>\n",
       "      <td>1.932238</td>\n",
       "      <td>2.778714</td>\n",
       "      <td>2.923101</td>\n",
       "      <td>3.250958</td>\n",
       "      <td>2.426645</td>\n",
       "      <td>0.259813</td>\n",
       "      <td>0.262728</td>\n",
       "      <td>0.259813</td>\n",
       "      <td>0.245316</td>\n",
       "      <td>0.114976</td>\n",
       "      <td>0.096391</td>\n",
       "      <td>0.0</td>\n",
       "      <td>0.0</td>\n",
       "      <td>0.356274</td>\n",
       "    </tr>\n",
       "    <tr>\n",
       "      <th>min</th>\n",
       "      <td>0.000000</td>\n",
       "      <td>1893.000000</td>\n",
       "      <td>0.000000</td>\n",
       "      <td>0.000000</td>\n",
       "      <td>0.000000</td>\n",
       "      <td>0.000000</td>\n",
       "      <td>0.000000</td>\n",
       "      <td>0.000000</td>\n",
       "      <td>0.000000</td>\n",
       "      <td>0.000000</td>\n",
       "      <td>0.000000</td>\n",
       "      <td>0.000000</td>\n",
       "      <td>0.000000</td>\n",
       "      <td>0.000000</td>\n",
       "      <td>0.000000</td>\n",
       "      <td>0.000000</td>\n",
       "      <td>0.000000</td>\n",
       "      <td>0.000000</td>\n",
       "      <td>0.000000</td>\n",
       "      <td>0.000000</td>\n",
       "      <td>0.000000</td>\n",
       "      <td>0.000000</td>\n",
       "      <td>3.0</td>\n",
       "      <td>11.0</td>\n",
       "      <td>0.000000</td>\n",
       "    </tr>\n",
       "    <tr>\n",
       "      <th>25%</th>\n",
       "      <td>2828.250000</td>\n",
       "      <td>1959.000000</td>\n",
       "      <td>0.000000</td>\n",
       "      <td>0.000000</td>\n",
       "      <td>24.000000</td>\n",
       "      <td>23.750000</td>\n",
       "      <td>1.000000</td>\n",
       "      <td>16.000000</td>\n",
       "      <td>3.000000</td>\n",
       "      <td>1.000000</td>\n",
       "      <td>9.000000</td>\n",
       "      <td>1.000000</td>\n",
       "      <td>2.000000</td>\n",
       "      <td>0.000000</td>\n",
       "      <td>3.000000</td>\n",
       "      <td>3.000000</td>\n",
       "      <td>0.000000</td>\n",
       "      <td>0.000000</td>\n",
       "      <td>0.000000</td>\n",
       "      <td>0.000000</td>\n",
       "      <td>0.000000</td>\n",
       "      <td>0.000000</td>\n",
       "      <td>3.0</td>\n",
       "      <td>11.0</td>\n",
       "      <td>0.000000</td>\n",
       "    </tr>\n",
       "    <tr>\n",
       "      <th>50%</th>\n",
       "      <td>5458.500000</td>\n",
       "      <td>1970.000000</td>\n",
       "      <td>0.000000</td>\n",
       "      <td>0.000000</td>\n",
       "      <td>49.000000</td>\n",
       "      <td>173.500000</td>\n",
       "      <td>8.000000</td>\n",
       "      <td>67.000000</td>\n",
       "      <td>12.000000</td>\n",
       "      <td>8.000000</td>\n",
       "      <td>24.000000</td>\n",
       "      <td>2.000000</td>\n",
       "      <td>4.000000</td>\n",
       "      <td>2.000000</td>\n",
       "      <td>5.000000</td>\n",
       "      <td>6.000000</td>\n",
       "      <td>0.000000</td>\n",
       "      <td>0.000000</td>\n",
       "      <td>0.000000</td>\n",
       "      <td>0.000000</td>\n",
       "      <td>0.000000</td>\n",
       "      <td>0.000000</td>\n",
       "      <td>3.0</td>\n",
       "      <td>11.0</td>\n",
       "      <td>0.000000</td>\n",
       "    </tr>\n",
       "    <tr>\n",
       "      <th>75%</th>\n",
       "      <td>8427.750000</td>\n",
       "      <td>1977.000000</td>\n",
       "      <td>1.000000</td>\n",
       "      <td>1.000000</td>\n",
       "      <td>74.000000</td>\n",
       "      <td>504.250000</td>\n",
       "      <td>33.000000</td>\n",
       "      <td>232.000000</td>\n",
       "      <td>50.000000</td>\n",
       "      <td>33.000000</td>\n",
       "      <td>56.000000</td>\n",
       "      <td>3.000000</td>\n",
       "      <td>6.000000</td>\n",
       "      <td>4.000000</td>\n",
       "      <td>8.000000</td>\n",
       "      <td>7.000000</td>\n",
       "      <td>0.000000</td>\n",
       "      <td>0.000000</td>\n",
       "      <td>0.000000</td>\n",
       "      <td>0.000000</td>\n",
       "      <td>0.000000</td>\n",
       "      <td>0.000000</td>\n",
       "      <td>3.0</td>\n",
       "      <td>11.0</td>\n",
       "      <td>0.000000</td>\n",
       "    </tr>\n",
       "    <tr>\n",
       "      <th>max</th>\n",
       "      <td>11191.000000</td>\n",
       "      <td>1996.000000</td>\n",
       "      <td>2.000000</td>\n",
       "      <td>2.000000</td>\n",
       "      <td>99.000000</td>\n",
       "      <td>1493.000000</td>\n",
       "      <td>199.000000</td>\n",
       "      <td>1725.000000</td>\n",
       "      <td>259.000000</td>\n",
       "      <td>263.000000</td>\n",
       "      <td>362.000000</td>\n",
       "      <td>15.000000</td>\n",
       "      <td>27.000000</td>\n",
       "      <td>28.000000</td>\n",
       "      <td>13.000000</td>\n",
       "      <td>20.000000</td>\n",
       "      <td>1.000000</td>\n",
       "      <td>1.000000</td>\n",
       "      <td>1.000000</td>\n",
       "      <td>1.000000</td>\n",
       "      <td>1.000000</td>\n",
       "      <td>1.000000</td>\n",
       "      <td>3.0</td>\n",
       "      <td>11.0</td>\n",
       "      <td>1.000000</td>\n",
       "    </tr>\n",
       "  </tbody>\n",
       "</table>\n",
       "</div>"
      ],
      "text/plain": [
       "                 ID   Year_Birth      Kidhome     Teenhome      Recency  \\\n",
       "count   2240.000000  2240.000000  2240.000000  2240.000000  2240.000000   \n",
       "mean    5592.159821  1968.805804     0.444196     0.506250    49.109375   \n",
       "std     3246.662198    11.984069     0.538398     0.544538    28.962453   \n",
       "min        0.000000  1893.000000     0.000000     0.000000     0.000000   \n",
       "25%     2828.250000  1959.000000     0.000000     0.000000    24.000000   \n",
       "50%     5458.500000  1970.000000     0.000000     0.000000    49.000000   \n",
       "75%     8427.750000  1977.000000     1.000000     1.000000    74.000000   \n",
       "max    11191.000000  1996.000000     2.000000     2.000000    99.000000   \n",
       "\n",
       "          MntWines    MntFruits  MntMeatProducts  MntFishProducts  \\\n",
       "count  2240.000000  2240.000000      2240.000000      2240.000000   \n",
       "mean    303.935714    26.302232       166.950000        37.525446   \n",
       "std     336.597393    39.773434       225.715373        54.628979   \n",
       "min       0.000000     0.000000         0.000000         0.000000   \n",
       "25%      23.750000     1.000000        16.000000         3.000000   \n",
       "50%     173.500000     8.000000        67.000000        12.000000   \n",
       "75%     504.250000    33.000000       232.000000        50.000000   \n",
       "max    1493.000000   199.000000      1725.000000       259.000000   \n",
       "\n",
       "       MntSweetProducts  MntGoldProds  NumDealsPurchases  NumWebPurchases  \\\n",
       "count       2240.000000   2240.000000        2240.000000      2240.000000   \n",
       "mean          27.062946     44.021875           2.325000         4.084821   \n",
       "std           41.280498     52.167439           1.932238         2.778714   \n",
       "min            0.000000      0.000000           0.000000         0.000000   \n",
       "25%            1.000000      9.000000           1.000000         2.000000   \n",
       "50%            8.000000     24.000000           2.000000         4.000000   \n",
       "75%           33.000000     56.000000           3.000000         6.000000   \n",
       "max          263.000000    362.000000          15.000000        27.000000   \n",
       "\n",
       "       NumCatalogPurchases  NumStorePurchases  NumWebVisitsMonth  \\\n",
       "count          2240.000000        2240.000000        2240.000000   \n",
       "mean              2.662054           5.790179           5.316518   \n",
       "std               2.923101           3.250958           2.426645   \n",
       "min               0.000000           0.000000           0.000000   \n",
       "25%               0.000000           3.000000           3.000000   \n",
       "50%               2.000000           5.000000           6.000000   \n",
       "75%               4.000000           8.000000           7.000000   \n",
       "max              28.000000          13.000000          20.000000   \n",
       "\n",
       "       AcceptedCmp3  AcceptedCmp4  AcceptedCmp5  AcceptedCmp1  AcceptedCmp2  \\\n",
       "count   2240.000000   2240.000000   2240.000000   2240.000000   2240.000000   \n",
       "mean       0.072768      0.074554      0.072768      0.064286      0.013393   \n",
       "std        0.259813      0.262728      0.259813      0.245316      0.114976   \n",
       "min        0.000000      0.000000      0.000000      0.000000      0.000000   \n",
       "25%        0.000000      0.000000      0.000000      0.000000      0.000000   \n",
       "50%        0.000000      0.000000      0.000000      0.000000      0.000000   \n",
       "75%        0.000000      0.000000      0.000000      0.000000      0.000000   \n",
       "max        1.000000      1.000000      1.000000      1.000000      1.000000   \n",
       "\n",
       "          Complain  Z_CostContact  Z_Revenue     Response  \n",
       "count  2240.000000         2240.0     2240.0  2240.000000  \n",
       "mean      0.009375            3.0       11.0     0.149107  \n",
       "std       0.096391            0.0        0.0     0.356274  \n",
       "min       0.000000            3.0       11.0     0.000000  \n",
       "25%       0.000000            3.0       11.0     0.000000  \n",
       "50%       0.000000            3.0       11.0     0.000000  \n",
       "75%       0.000000            3.0       11.0     0.000000  \n",
       "max       1.000000            3.0       11.0     1.000000  "
      ]
     },
     "execution_count": 3,
     "metadata": {},
     "output_type": "execute_result"
    }
   ],
   "source": [
    "# Informations générales sur le dataset\n",
    "print(\"ℹ️ Informations sur le dataset :\")\n",
    "print(df.info())\n",
    "print(\"\\n\" + \"=\"*80 + \"\\n\")\n",
    "\n",
    "# Statistiques descriptives\n",
    "print(\"Statistiques descriptives :\")\n",
    "df.describe()"
   ]
  },
  {
   "cell_type": "markdown",
   "id": "71dcd399",
   "metadata": {},
   "source": [
    "---\n",
    "## 3️) Nettoyage et Prétraitement des Données"
   ]
  },
  {
   "cell_type": "code",
   "execution_count": 4,
   "id": "9f211a90",
   "metadata": {},
   "outputs": [
    {
     "name": "stdout",
     "output_type": "stream",
     "text": [
      "Valeurs dans 'Marital_Status' remplacées avec succès.\n",
      "0    Married\n",
      "1     Single\n",
      "2     Single\n",
      "3      Widow\n",
      "4    Married\n",
      "Name: Marital_Status, dtype: object\n",
      "\n",
      "================================================================================\n",
      "\n",
      "Virgules dans 'Income' remplacées par des points avec succès.\n",
      "0    70951.0\n",
      "1    57091.0\n",
      "2    46098.0\n",
      "3    25358.0\n",
      "4    60491.0\n",
      "Name: Income, dtype: float64\n",
      "\n",
      "================================================================================\n",
      "\n",
      "Ligne avec 'Income' = 666666 supprimée avec succès.\n",
      "\n",
      "================================================================================\n",
      "\n",
      "Lignes avec somme des canaux de distribution égale à 0 supprimées avec succès.\n",
      "\n",
      "================================================================================\n",
      "\n",
      "Lignes où la somme store/web/catalog < deals supprimées avec succès.\n",
      "\n",
      "================================================================================\n",
      "\n",
      "Colonnes triées dans l'ordre souhaité avec succès.\n",
      "La somme totale des revenus (Income) est : 116001621.0\n",
      "Nombre de valeurs manquantes dans Income avant : 0\n",
      "La somme totale des revenus (Income) est : 116001621.0\n"
     ]
    }
   ],
   "source": [
    "#1 Dans Marital Status, remplacer \"Alone\" par \"Single\" et \"Absurd\" et \"YOLO\" par \"Other\"\n",
    "\n",
    "new_value = {\n",
    "    'Alone': 'Single',\n",
    "    'Absurd': 'Other',\n",
    "    'YOLO': 'Other'\n",
    "}\n",
    "df['Marital_Status'] = df['Marital_Status'].replace(new_value)\n",
    "print(\"Valeurs dans 'Marital_Status' remplacées avec succès.\")\n",
    "print(df['Marital_Status'].head())  \n",
    "df.head()\n",
    "\n",
    "print(\"\\n\" + \"=\"*80 + \"\\n\")\n",
    "\n",
    "# 1.5 Dans la colonne Income, change les , en .\n",
    "df['Income'] = df['Income'].astype(str).str.replace(',', '.').astype(float)\n",
    "print(\"Virgules dans 'Income' remplacées par des points avec succès.\")\n",
    "print(df['Income'].head())\n",
    "\n",
    "print(\"\\n\" + \"=\"*80 + \"\\n\")\n",
    "\n",
    "#2 Supprimer la ligne avec income = 666666\n",
    "\n",
    "df = df[df['Income'] != 666666]\n",
    "print(\"Ligne avec 'Income' = 666666 supprimée avec succès.\")\n",
    "# print(df['Income'].head())\n",
    "\n",
    "print(\"\\n\" + \"=\"*80 + \"\\n\")\n",
    "\n",
    "                                                \n",
    "\n",
    "\n",
    "\n",
    "#4 Supprimer les lignes si la somme des canaux de distrib (NumDealsPurchases + NumWebPurchases + NumCatalogPurchases + NumStorePurchases) = 0\n",
    "\n",
    "df['Total_Purchases'] = df['NumDealsPurchases'] + df['NumWebPurchases'] + df['NumCatalogPurchases'] + df['NumStorePurchases']\n",
    "df = df[df['Total_Purchases'] != 0]\n",
    "df = df.drop(columns=['Total_Purchases'])\n",
    "print(\"Lignes avec somme des canaux de distribution égale à 0 supprimées avec succès.\")\n",
    "# print(df.head())\n",
    "\n",
    "print(\"\\n\" + \"=\"*80 + \"\\n\")\n",
    "\n",
    "\n",
    "#5 Supprimer les lignes où la somme store/web/catalog < deals\n",
    "\n",
    "df['Sum_Other_Purchases'] = df['NumWebPurchases'] + df['NumCatalogPurchases'] + df['NumStorePurchases']\n",
    "df = df[df['Sum_Other_Purchases'] >= df['NumDealsPurchases']]\n",
    "df = df.drop(columns=['Sum_Other_Purchases'])\n",
    "print(\"Lignes où la somme store/web/catalog < deals supprimées avec succès.\")\n",
    "# print(df.head())   \n",
    "\n",
    "print(\"\\n\" + \"=\"*80 + \"\\n\")\n",
    "\n",
    "\n",
    "#6 Trier visuelement les campagnes Marketing dans le bon ordre\n",
    "# ID - Year_birth - Education - Marital_Status - Income - Kidhome - Teenhome - Dt_Customer - Recency - MntWines - MntFruits - MntMeatProducts - MntFishProducts - MntSweetProducts - MntGoldProds - NumDealsPurchases - NumWebPurchases - NumCatalogPurchases - NumStorePurchases - NumWebVisitsMonth - AcceptedCmp1 - AcceptedCmp2 - AcceptedCmp3 - AcceptedCmp4 - AcceptedCmp5 - Response - Complain\n",
    "# Suppresion des colonnes Z_CostContact et Z_Revenue car elles ne sont pas utiles pour l'analyse\n",
    "\n",
    "desired_order = [\n",
    "    'ID', 'Year_Birth', 'Education', 'Marital_Status', 'Income', \n",
    "    'Kidhome', 'Teenhome', 'Dt_Customer', 'Recency', \n",
    "    'MntWines', 'MntFruits', 'MntMeatProducts', 'MntFishProducts', \n",
    "    'MntSweetProducts', 'MntGoldProds', \n",
    "    'NumDealsPurchases', 'NumWebPurchases', 'NumCatalogPurchases', \n",
    "    'NumStorePurchases', 'NumWebVisitsMonth', \n",
    "    'AcceptedCmp1', 'AcceptedCmp2', 'AcceptedCmp3', \n",
    "    'AcceptedCmp4', 'AcceptedCmp5', 'Response', 'Complain'\n",
    "]\n",
    "df = df[desired_order]\n",
    "print(\"Colonnes triées dans l'ordre souhaité avec succès.\")\n",
    "\n",
    "# print(\"\\n\" + \"=\"*80 + \"\\n\")\n",
    "\n",
    "\n",
    "#7 Afficher la somme du total des income\n",
    "\n",
    "total_income = df['Income'].sum()\n",
    "print(f\"La somme totale des revenus (Income) est : {total_income}\")\n",
    "\n",
    "# Vérifier le nombre de valeurs manquantes avant\n",
    "print(f\"Nombre de valeurs manquantes dans Income avant : {df['Income'].isna().sum()}\")\n",
    "\n",
    "total_income = df['Income'].sum()\n",
    "print(f\"La somme totale des revenus (Income) est : {total_income}\")\n",
    "\n",
    "\n"
   ]
  },
  {
   "cell_type": "markdown",
   "id": "6674aa37",
   "metadata": {},
   "source": [
    "---\n",
    "## 4️) Feature Engineering\n",
    "\n",
    "Création de nouvelles variables pertinentes pour l'analyse"
   ]
  },
  {
   "cell_type": "code",
   "execution_count": 5,
   "id": "decdce07",
   "metadata": {},
   "outputs": [
    {
     "name": "stdout",
     "output_type": "stream",
     "text": [
      "Champ 'Age' ajouté avec succès.\n",
      "   Year_Birth  Age\n",
      "0        1985   29\n",
      "1        1961   53\n",
      "2        1975   39\n",
      "3        1947   67\n",
      "4        1971   43\n",
      "5        1965   49\n",
      "6        1976   38\n",
      "7        1960   54\n",
      "8        1958   56\n",
      "9        1987   27\n",
      "\n",
      "================================================================================\n",
      "\n",
      "Champ 'Total_Children' ajouté avec succès.\n",
      "   Kidhome  Teenhome  Total_Children\n",
      "0        0         0               0\n",
      "1        0         0               0\n",
      "2        1         1               2\n",
      "3        0         1               1\n",
      "4        0         1               1\n",
      "5        0         1               1\n",
      "6        1         0               1\n",
      "7        1         1               2\n",
      "8        0         1               1\n",
      "9        1         0               1\n",
      "\n",
      "================================================================================\n",
      "\n",
      "Champ 'Total_Purchases' ajouté avec succès.\n",
      "   MntWines  MntFruits  MntMeatProducts  MntFishProducts  MntSweetProducts  \\\n",
      "0       239         10              554              254                87   \n",
      "1       464          5               64                7                 0   \n",
      "2        57          0               27                0                 0   \n",
      "3        19          0                5                0                 0   \n",
      "4       637         47              237               12                19   \n",
      "5        43         12               23               29                15   \n",
      "6       185          2               88               15                 5   \n",
      "7        18          2               19                0                 2   \n",
      "8       460         35              422               33                12   \n",
      "9        32          1               64               16                12   \n",
      "\n",
      "   MntGoldProds  Total_Purchases  \n",
      "0            54             1198  \n",
      "1            37              577  \n",
      "2            36              120  \n",
      "3             8               32  \n",
      "4            76             1028  \n",
      "5            61              183  \n",
      "6            14              309  \n",
      "7             6               47  \n",
      "8           153             1115  \n",
      "9            85              210  \n",
      "\n",
      "================================================================================\n",
      "\n",
      "Caractère '$' ajouté aux champs Mnt avec succès.\n",
      "  MntWines MntFruits MntMeatProducts MntFishProducts MntSweetProducts  \\\n",
      "0  $239.00    $10.00         $554.00         $254.00           $87.00   \n",
      "1  $464.00     $5.00          $64.00           $7.00            $0.00   \n",
      "2   $57.00     $0.00          $27.00           $0.00            $0.00   \n",
      "3   $19.00     $0.00           $5.00           $0.00            $0.00   \n",
      "4  $637.00    $47.00         $237.00          $12.00           $19.00   \n",
      "\n",
      "  MntGoldProds Total_Purchases  \n",
      "0       $54.00        $1198.00  \n",
      "1       $37.00         $577.00  \n",
      "2       $36.00         $120.00  \n",
      "3        $8.00          $32.00  \n",
      "4       $76.00        $1028.00  \n",
      "  MntWines MntFruits MntMeatProducts MntFishProducts MntSweetProducts  \\\n",
      "0  $239.00    $10.00         $554.00         $254.00           $87.00   \n",
      "1  $464.00     $5.00          $64.00           $7.00            $0.00   \n",
      "2   $57.00     $0.00          $27.00           $0.00            $0.00   \n",
      "3   $19.00     $0.00           $5.00           $0.00            $0.00   \n",
      "4  $637.00    $47.00         $237.00          $12.00           $19.00   \n",
      "5   $43.00    $12.00          $23.00          $29.00           $15.00   \n",
      "6  $185.00     $2.00          $88.00          $15.00            $5.00   \n",
      "7   $18.00     $2.00          $19.00           $0.00            $2.00   \n",
      "8  $460.00    $35.00         $422.00          $33.00           $12.00   \n",
      "9   $32.00     $1.00          $64.00          $16.00           $12.00   \n",
      "\n",
      "  MntGoldProds Total_Purchases  \n",
      "0       $54.00        $1198.00  \n",
      "1       $37.00         $577.00  \n",
      "2       $36.00         $120.00  \n",
      "3        $8.00          $32.00  \n",
      "4       $76.00        $1028.00  \n",
      "5       $61.00         $183.00  \n",
      "6       $14.00         $309.00  \n",
      "7        $6.00          $47.00  \n",
      "8      $153.00        $1115.00  \n",
      "9       $85.00         $210.00  \n",
      "MntWines            object\n",
      "MntFruits           object\n",
      "MntMeatProducts     object\n",
      "MntFishProducts     object\n",
      "MntSweetProducts    object\n",
      "MntGoldProds        object\n",
      "Total_Purchases     object\n",
      "dtype: object\n",
      "\n",
      "================================================================================\n",
      "\n",
      "Champ 'Total_Num_Purchases' ajouté avec succès.\n",
      "   NumStorePurchases  NumWebPurchases  NumCatalogPurchases  \\\n",
      "0                  9                3                    4   \n",
      "1                  7                7                    3   \n",
      "2                  2                3                    2   \n",
      "3                  3                1                    0   \n",
      "4                  7                6                   11   \n",
      "5                  4                2                    1   \n",
      "6                  5                6                    1   \n",
      "7                  4                3                    0   \n",
      "8                  7                6                    6   \n",
      "9                  3                2                    2   \n",
      "\n",
      "   Total_Num_Purchases  \n",
      "0                   16  \n",
      "1                   17  \n",
      "2                    7  \n",
      "3                    4  \n",
      "4                   24  \n",
      "5                    7  \n",
      "6                   12  \n",
      "7                    7  \n",
      "8                   19  \n",
      "9                    7  \n",
      "\n",
      "================================================================================\n",
      "\n"
     ]
    }
   ],
   "source": [
    "#1 Ajout champ \"age\"\n",
    "\n",
    "actuel_year = 2014\n",
    "df['Age'] = actuel_year - df['Year_Birth']\n",
    "print(\"Champ 'Age' ajouté avec succès.\")\n",
    "print(df[['Year_Birth', 'Age']].head(10))\n",
    "\n",
    "print(\"\\n\" + \"=\"*80 + \"\\n\")\n",
    "\n",
    "#2 Ajout champ \"enfant totaux\"\n",
    "\n",
    "df['Total_Children'] = df['Kidhome'] + df['Teenhome']\n",
    "print(\"Champ 'Total_Children' ajouté avec succès.\")\n",
    "print(df[['Kidhome', 'Teenhome', 'Total_Children']].head(10))\n",
    "\n",
    "print(\"\\n\" + \"=\"*80 + \"\\n\")\n",
    "\n",
    "#3 Ajout champ \"achats totaux\"\n",
    "\n",
    "df['Total_Purchases'] = (df['MntWines'] + df['MntFruits'] + df['MntMeatProducts'] + \n",
    "                          df['MntFishProducts'] + df['MntSweetProducts'] + df['MntGoldProds'])\n",
    "print(\"Champ 'Total_Purchases' ajouté avec succès.\")\n",
    "print(df[['MntWines', 'MntFruits', 'MntMeatProducts', 'MntFishProducts', \n",
    "          'MntSweetProducts', 'MntGoldProds', 'Total_Purchases']].head(10))\n",
    "\n",
    "print(\"\\n\" + \"=\"*80 + \"\\n\")\n",
    "\n",
    "#4 Ajout du caractère $ dans les champs Mnt\n",
    "\n",
    "money_columns = ['MntWines', 'MntFruits', 'MntMeatProducts', 'MntFishProducts', 'MntSweetProducts', 'MntGoldProds', 'Total_Purchases']\n",
    "for col in money_columns:\n",
    "    df[col] = pd.to_numeric(df[col], errors='coerce')  \n",
    "    df[col] = df[col].apply(lambda x: f\"${x:.2f}\" if pd.notnull(x) else \"\")\n",
    "print(\"Caractère '$' ajouté aux champs Mnt avec succès.\")\n",
    "print(df[money_columns].head())\n",
    "\n",
    "print(df[money_columns].head(10))\n",
    "print(df[money_columns].dtypes)\n",
    "\n",
    "\n",
    "print(\"\\n\" + \"=\"*80 + \"\\n\")\n",
    "\n",
    "#5 Ajout champ somme store/web/catalog\n",
    "\n",
    "df['Total_Num_Purchases'] = df['NumStorePurchases'] + df['NumWebPurchases'] + df['NumCatalogPurchases']\n",
    "print(\"Champ 'Total_Num_Purchases' ajouté avec succès.\")\n",
    "print(df[['NumStorePurchases', 'NumWebPurchases', 'NumCatalogPurchases', 'Total_Num_Purchases']].head(10))\n",
    "\n",
    "print(\"\\n\" + \"=\"*80 + \"\\n\")\n",
    "\n",
    "#5. ajout statuts conjugal simple (vie seul ou pas) couple ou single\n",
    "#6. total aux foyer\n",
    "# nombre de jours depuis l'inscription (se basé sur 30 juin 2014)"
   ]
  },
  {
   "cell_type": "markdown",
   "id": "904a239d",
   "metadata": {},
   "source": [
    "---\n",
    "## 6️) Définition et Calcul des KPIs\n",
    "\n",
    "### KPIs Clés pour Évaluer l'Efficacité des Campagnes"
   ]
  },
  {
   "cell_type": "code",
   "execution_count": 6,
   "id": "ba7a4a5f",
   "metadata": {},
   "outputs": [
    {
     "name": "stdout",
     "output_type": "stream",
     "text": [
      "================================================================================\n",
      "📊 CALCUL DES KPIs - INDICATEURS DE PERFORMANCE CLÉS\n",
      "================================================================================\n",
      "\n",
      "1️⃣ TAUX DE RÉPONSE PAR CAMPAGNE\n",
      "--------------------------------------------------------------------------------\n",
      "   AcceptedCmp1         :  144 acceptations | Taux:   6.45%\n",
      "   AcceptedCmp2         :   30 acceptations | Taux:   1.34%\n",
      "   AcceptedCmp3         :  163 acceptations | Taux:   7.30%\n",
      "   AcceptedCmp4         :  167 acceptations | Taux:   7.48%\n",
      "   AcceptedCmp5         :  163 acceptations | Taux:   7.30%\n",
      "   Response             :  334 acceptations | Taux:  14.96%\n",
      "\n",
      "   📈 Meilleure campagne : Response avec 14.96%\n",
      "   📉 Moins bonne campagne : AcceptedCmp2 avec 1.34%\n",
      "\n",
      "================================================================================\n",
      "\n",
      "2️⃣ TAUX DE CONVERSION GLOBAL\n",
      "--------------------------------------------------------------------------------\n",
      "   Nombre total de clients : 2232\n",
      "   Clients ayant accepté au moins une campagne : 609\n",
      "   📊 TAUX DE CONVERSION GLOBAL : 27.28%\n",
      "\n",
      "================================================================================\n",
      "\n",
      "3️⃣ REVENU MOYEN PAR CLIENT (PANIER MOYEN)\n",
      "--------------------------------------------------------------------------------\n"
     ]
    },
    {
     "ename": "TypeError",
     "evalue": "Could not convert string '$1198.00$577.00$120.00$32.00$1028.00$183.00$309.00$47.00$1115.00$210.00$184.00$25.00$597.00$92.00$18.00$467.00$37.00$57.00$69.00$89.00$28.00$393.00$993.00$271.00$957.00$1323.00$46.00$1196.00$269.00$1443.00$331.00$973.00$397.00$16.00$41.00$246.00$315.00$1234.00$2089.00$48.00$1540.00$242.00$32.00$530.00$31.00$170.00$1082.00$1574.00$312.00$357.00$601.00$473.00$21.00$1215.00$145.00$1143.00$258.00$151.00$34.00$152.00$981.00$1157.00$76.00$1101.00$573.00$2088.00$41.00$315.00$275.00$496.00$497.00$377.00$504.00$20.00$577.00$290.00$1156.00$794.00$1804.00$61.00$441.00$727.00$632.00$1027.00$795.00$270.00$22.00$45.00$1135.00$209.00$36.00$1753.00$746.00$2157.00$1198.00$424.00$57.00$1941.00$53.00$30.00$581.00$74.00$96.00$1383.00$1662.00$778.00$125.00$976.00$708.00$906.00$1991.00$125.00$22.00$1812.00$677.00$15.00$521.00$480.00$343.00$797.00$35.00$43.00$610.00$1026.00$119.00$103.00$71.00$332.00$38.00$16.00$2047.00$1179.00$521.00$1103.00$442.00$976.00$52.00$2231.00$182.00$145.00$811.00$823.00$194.00$595.00$45.00$1071.00$27.00$32.00$21.00$292.00$641.00$1103.00$2077.00$1658.00$747.00$72.00$174.00$170.00$805.00$660.00$757.00$642.00$65.00$1178.00$458.00$96.00$11.00$594.00$147.00$312.00$84.00$362.00$31.00$48.00$25.00$87.00$311.00$299.00$393.00$133.00$210.00$41.00$102.00$240.00$860.00$590.00$691.00$515.00$187.00$264.00$414.00$112.00$414.00$1193.00$730.00$964.00$1021.00$78.00$884.00$55.00$1366.00$279.00$38.00$1062.00$424.00$596.00$279.00$178.00$65.00$1001.00$45.00$42.00$1918.00$1034.00$93.00$1020.00$1086.00$1019.00$173.00$1147.00$61.00$2053.00$12.00$685.00$1958.00$95.00$47.00$1379.00$1512.00$428.00$55.00$874.00$1853.00$144.00$49.00$653.00$496.00$1401.00$244.00$2034.00$2252.00$426.00$25.00$129.00$22.00$845.00$1829.00$936.00$1572.00$1495.00$1244.00$51.00$1371.00$84.00$903.00$1004.00$351.00$725.00$63.00$56.00$91.00$683.00$72.00$1795.00$586.00$148.00$1220.00$1562.00$1435.00$449.00$984.00$285.00$694.00$241.00$324.00$62.00$11.00$112.00$1515.00$1253.00$38.00$231.00$415.00$57.00$444.00$940.00$76.00$1149.00$1226.00$51.00$1060.00$1180.00$44.00$928.00$38.00$21.00$72.00$854.00$559.00$407.00$1717.00$52.00$107.00$140.00$523.00$1250.00$28.00$51.00$749.00$73.00$96.00$1104.00$396.00$1893.00$443.00$2283.00$1039.00$1736.00$17.00$482.00$1724.00$411.00$225.00$22.00$47.00$692.00$1588.00$49.00$789.00$960.00$424.00$1282.00$108.00$46.00$1643.00$48.00$49.00$1750.00$461.00$266.00$1482.00$279.00$48.00$273.00$81.00$1377.00$81.00$999.00$801.00$54.00$1313.00$114.00$2524.00$270.00$2043.00$57.00$74.00$680.00$38.00$1190.00$1232.00$133.00$67.00$141.00$83.00$1890.00$1336.00$85.00$37.00$93.00$25.00$1754.00$1477.00$1364.00$1507.00$437.00$102.00$71.00$690.00$83.00$18.00$1400.00$839.00$660.00$1603.00$1672.00$28.00$103.00$59.00$1797.00$96.00$893.00$972.00$19.00$84.00$1870.00$1168.00$75.00$1149.00$1388.00$401.00$49.00$99.00$114.00$1064.00$1047.00$1208.00$1631.00$17.00$34.00$1544.00$1315.00$66.00$622.00$1102.00$147.00$1307.00$694.00$31.00$2279.00$1482.00$44.00$41.00$77.00$561.00$23.00$32.00$27.00$1690.00$1280.00$2257.00$69.00$23.00$1826.00$1617.00$210.00$43.00$139.00$183.00$85.00$1455.00$21.00$42.00$16.00$311.00$868.00$133.00$28.00$335.00$114.00$24.00$825.00$30.00$770.00$330.00$96.00$635.00$1065.00$85.00$39.00$1244.00$1027.00$81.00$22.00$1635.00$275.00$102.00$257.00$519.00$1555.00$733.00$1097.00$953.00$1288.00$895.00$78.00$1338.00$67.00$1611.00$63.00$69.00$318.00$819.00$149.00$45.00$43.00$299.00$38.00$64.00$608.00$816.00$563.00$78.00$30.00$59.00$534.00$1651.00$188.00$844.00$48.00$92.00$70.00$27.00$446.00$29.00$1371.00$43.00$165.00$1334.00$46.00$815.00$1230.00$835.00$20.00$59.00$932.00$630.00$1910.00$1682.00$237.00$23.00$350.00$1149.00$500.00$69.00$68.00$59.00$44.00$907.00$1127.00$1143.00$241.00$209.00$461.00$910.00$26.00$24.00$415.00$31.00$715.00$180.00$19.00$409.00$1231.00$849.00$90.00$2126.00$1792.00$404.00$1034.00$13.00$1073.00$1240.00$961.00$120.00$1001.00$62.00$31.00$120.00$37.00$731.00$1179.00$19.00$1180.00$275.00$23.00$1052.00$57.00$502.00$32.00$906.00$541.00$414.00$995.00$1217.00$928.00$2013.00$195.00$45.00$1264.00$91.00$990.00$1374.00$990.00$137.00$1281.00$1192.00$23.00$871.00$1631.00$486.00$46.00$185.00$76.00$57.00$382.00$1440.00$72.00$902.00$1956.00$35.00$20.00$1084.00$1650.00$43.00$40.00$1766.00$2069.00$227.00$306.00$193.00$318.00$410.00$235.00$1150.00$231.00$43.00$1828.00$382.00$612.00$20.00$373.00$823.00$310.00$32.00$2006.00$350.00$24.00$450.00$22.00$45.00$44.00$663.00$1676.00$2052.00$89.00$17.00$39.00$1042.00$1957.00$1572.00$263.00$1230.00$670.00$1250.00$156.00$265.00$30.00$1117.00$960.00$1655.00$46.00$125.00$608.00$128.00$78.00$365.00$411.00$909.00$42.00$1152.00$94.00$211.00$89.00$542.00$165.00$2211.00$948.00$436.00$34.00$235.00$90.00$137.00$294.00$1533.00$2092.00$322.00$339.00$957.00$908.00$1376.00$1596.00$734.00$1598.00$981.00$1336.00$20.00$296.00$957.00$904.00$103.00$736.00$50.00$1526.00$1260.00$877.00$974.00$1575.00$160.00$161.00$50.00$1092.00$1073.00$167.00$17.00$38.00$967.00$55.00$79.00$64.00$198.00$57.00$1574.00$72.00$244.00$1101.00$236.00$1396.00$747.00$1138.00$606.00$1464.00$195.00$1152.00$45.00$80.00$145.00$578.00$36.00$928.00$70.00$165.00$1435.00$54.00$1757.00$779.00$656.00$2091.00$52.00$134.00$2130.00$94.00$81.00$1902.00$259.00$704.00$48.00$1688.00$17.00$860.00$103.00$1580.00$1155.00$925.00$835.00$1008.00$42.00$116.00$15.00$81.00$868.00$766.00$1327.00$29.00$459.00$861.00$88.00$270.00$43.00$964.00$162.00$1005.00$1095.00$73.00$1095.00$1006.00$48.00$63.00$106.00$37.00$769.00$1862.00$890.00$1931.00$205.00$916.00$662.00$608.00$930.00$943.00$1199.00$133.00$401.00$1779.00$444.00$1123.00$1226.00$115.00$20.00$180.00$544.00$127.00$64.00$811.00$404.00$46.00$1078.00$1215.00$873.00$60.00$155.00$436.00$289.00$467.00$187.00$44.00$62.00$23.00$425.00$1693.00$318.00$369.00$895.00$1529.00$725.00$119.00$1076.00$899.00$776.00$348.00$1348.00$433.00$130.00$55.00$265.00$76.00$354.00$25.00$275.00$468.00$1298.00$57.00$1474.00$87.00$55.00$58.00$373.00$2008.00$301.00$10.00$1315.00$158.00$341.00$1923.00$54.00$679.00$24.00$40.00$10.00$1825.00$59.00$137.00$1428.00$943.00$1291.00$684.00$55.00$16.00$1371.00$54.00$44.00$913.00$21.00$55.00$1574.00$134.00$1169.00$88.00$93.00$575.00$235.00$47.00$841.00$908.00$1501.00$1091.00$789.00$1471.00$38.00$1644.00$527.00$1365.00$51.00$137.00$260.00$546.00$177.00$61.00$372.00$37.00$140.00$57.00$2440.00$653.00$653.00$401.00$1228.00$95.00$1178.00$1598.00$1478.00$1250.00$833.00$1169.00$1930.00$257.00$1919.00$25.00$54.00$71.00$393.00$448.00$67.00$2486.00$266.00$2018.00$458.00$656.00$777.00$778.00$486.00$1724.00$277.00$1650.00$1079.00$176.00$978.00$189.00$1253.00$710.00$102.00$1241.00$1695.00$1092.00$310.00$1686.00$1633.00$586.00$71.00$390.00$410.00$1895.00$40.00$82.00$125.00$67.00$562.00$971.00$586.00$122.00$1168.00$169.00$1363.00$493.00$714.00$1109.00$1677.00$868.00$41.00$39.00$17.00$18.00$455.00$792.00$101.00$1305.00$15.00$833.00$46.00$1853.00$25.00$175.00$400.00$88.00$41.00$63.00$2074.00$732.00$68.00$1730.00$44.00$317.00$1727.00$777.00$1210.00$2059.00$265.00$61.00$1158.00$268.00$155.00$25.00$1392.00$62.00$869.00$69.00$1735.00$1033.00$34.00$928.00$34.00$162.00$135.00$14.00$1833.00$406.00$434.00$1638.00$131.00$46.00$611.00$39.00$191.00$1378.00$26.00$47.00$969.00$97.00$1258.00$47.00$1064.00$467.00$101.00$49.00$1702.00$965.00$576.00$1289.00$761.00$143.00$1348.00$798.00$43.00$1445.00$1424.00$47.00$1529.00$54.00$889.00$1053.00$53.00$396.00$149.00$24.00$23.00$892.00$731.00$1461.00$793.00$638.00$879.00$66.00$42.00$51.00$227.00$81.00$2194.00$63.00$45.00$1564.00$67.00$227.00$637.00$55.00$44.00$56.00$562.00$902.00$144.00$217.00$79.00$72.00$279.00$57.00$1586.00$70.00$1428.00$1113.00$33.00$44.00$444.00$84.00$171.00$422.00$11.00$1869.00$1066.00$59.00$1588.00$29.00$79.00$2525.00$413.00$91.00$1730.00$2302.00$347.00$42.00$38.00$1366.00$1085.00$16.00$156.00$183.00$684.00$388.00$2352.00$50.00$122.00$1174.00$223.00$319.00$23.00$441.00$518.00$40.00$37.00$797.00$1617.00$58.00$444.00$224.00$1957.00$1862.00$802.00$1490.00$988.00$1919.00$293.00$1685.00$735.00$1338.00$23.00$48.00$793.00$728.00$1282.00$36.00$316.00$51.00$463.00$1665.00$692.00$231.00$167.00$222.00$363.00$61.00$1701.00$493.00$30.00$1099.00$68.00$1633.00$32.00$120.00$1415.00$1566.00$116.00$60.00$37.00$91.00$2525.00$56.00$475.00$38.00$55.00$1189.00$380.00$763.00$209.00$72.00$446.00$1125.00$985.00$75.00$39.00$8.00$62.00$2114.00$1815.00$1263.00$65.00$494.00$832.00$13.00$882.00$2009.00$655.00$219.00$46.00$467.00$639.00$664.00$211.00$221.00$397.00$49.00$18.00$1171.00$218.00$48.00$764.00$122.00$237.00$192.00$1932.00$284.00$199.00$57.00$215.00$70.00$57.00$122.00$43.00$1576.00$266.00$384.00$937.00$72.00$2302.00$1924.00$1804.00$1513.00$1305.00$1314.00$1157.00$2087.00$1380.00$561.00$100.00$75.00$17.00$431.00$385.00$900.00$28.00$53.00$969.00$169.00$939.00$53.00$140.00$1670.00$57.00$901.00$49.00$1005.00$1734.00$80.00$39.00$79.00$31.00$499.00$37.00$189.00$971.00$416.00$507.00$1507.00$2217.00$775.00$334.00$507.00$1957.00$470.00$1573.00$106.00$63.00$1615.00$982.00$908.00$36.00$185.00$1822.00$981.00$813.00$1497.00$78.00$863.00$1366.00$1508.00$1146.00$48.00$26.00$1518.00$36.00$1319.00$47.00$45.00$491.00$80.00$297.00$545.00$121.00$54.00$46.00$1453.00$77.00$50.00$282.00$1427.00$1179.00$1564.00$2116.00$1270.00$49.00$1130.00$68.00$76.00$1102.00$858.00$902.00$57.00$946.00$121.00$59.00$99.00$433.00$78.00$56.00$50.00$18.00$606.00$1101.00$10.00$67.00$1612.00$976.00$1782.00$1319.00$79.00$612.00$981.00$682.00$1161.00$107.00$727.00$461.00$44.00$54.00$1117.00$102.00$22.00$1134.00$418.00$1194.00$1174.00$157.00$129.00$72.00$16.00$37.00$90.00$1068.00$103.00$685.00$492.00$1213.00$767.00$48.00$1538.00$54.00$11.00$1722.00$36.00$68.00$433.00$1187.00$809.00$369.00$16.00$1438.00$65.00$99.00$30.00$34.00$283.00$405.00$529.00$324.00$55.00$564.00$732.00$1004.00$1024.00$772.00$34.00$63.00$264.00$1062.00$2119.00$978.00$223.00$95.00$1375.00$54.00$26.00$11.00$1157.00$233.00$1497.00$1921.00$1581.00$45.00$1443.00$637.00$834.00$817.00$398.00$84.00$813.00$63.00$1363.00$93.00$211.00$1410.00$263.00$1485.00$55.00$401.00$66.00$1453.00$1021.00$1495.00$1335.00$1245.00$22.00$1064.00$1198.00$1242.00$353.00$1528.00$825.00$94.00$15.00$929.00$213.00$820.00$37.00$823.00$52.00$35.00$721.00$545.00$13.00$65.00$1283.00$1135.00$31.00$493.00$67.00$1782.00$38.00$124.00$606.00$612.00$137.00$318.00$17.00$1241.00$2153.00$131.00$1044.00$186.00$20.00$55.00$968.00$57.00$535.00$79.00$1565.00$1033.00$40.00$63.00$47.00$1072.00$1192.00$103.00$405.00$1438.00$62.00$302.00$576.00$573.00$1442.00$485.00$43.00$92.00$1597.00$688.00$233.00$267.00$17.00$186.00$35.00$369.00$198.00$1367.00$1820.00$165.00$29.00$1615.00$30.00$716.00$2008.00$488.00$97.00$570.00$1269.00$138.00$825.00$269.00$156.00$564.00$2209.00$46.00$177.00$45.00$1574.00$76.00$138.00$132.00$187.00$270.00$86.00$41.00$209.00$29.00$460.00$326.00$163.00$106.00$2086.00$76.00$31.00$989.00$805.00$49.00$28.00$787.00$78.00$191.00$258.00$1048.00$634.00$711.00$1440.00$641.00$745.00$1216.00$61.00$411.00$109.00$160.00$819.00$10.00$1672.00$25.00$800.00$429.00$728.00$369.00$662.00$818.00$65.00$1526.00$74.00$368.00$1052.00$926.00$1175.00$557.00$300.00$1677.00$1033.00$75.00$1680.00$22.00$103.00$2092.00$966.00$268.00$58.00$449.00$35.00$37.00$1370.00$1382.00$1901.00$1191.00$1151.00$460.00$17.00$112.00$1743.00$119.00$1313.00$55.00$463.00$1621.00$63.00$1092.00$264.00$55.00$22.00$34.00$55.00$1106.00$914.00$278.00$661.00$52.00$95.00$265.00$54.00$48.00$859.00$263.00$182.00$26.00$1908.00$137.00$310.00$177.00$121.00$1319.00$40.00$405.00$174.00$96.00$325.00$71.00$556.00$18.00$843.00$23.00$404.00$20.00$1711.00$122.00$71.00$1459.00$43.00$1772.00$23.00$1738.00$131.00$34.00$296.00$198.00$1919.00$28.00$1159.00$30.00$29.00$518.00$235.00$1511.00$34.00$794.00$305.00$86.00$44.00$61.00$64.00$1540.00$22.00$684.00$902.00$30.00$86.00$16.00$80.00$1608.00$28.00$367.00$1493.00$1366.00$20.00$60.00$101.00$395.00$992.00$1429.00$41.00$1789.00$42.00$46.00$680.00$236.00$9.00$751.00$1165.00$289.00$135.00$67.00$1395.00$1049.00$68.00$507.00$22.00$928.00$45.00$41.00$1662.00$42.00$317.00$1038.00$15.00$436.00$75.00$486.00$1385.00$240.00$66.00$22.00$1401.00$1835.00$1679.00$1853.00$46.00$174.00$1150.00$1461.00$43.00$1188.00$61.00$20.00$1196.00$322.00$137.00$172.00$507.00$454.00$450.00$274.00$153.00$902.00$371.00$48.00$564.00$123.00$44.00$1080.00$542.00$2126.00$497.00$152.00$272.00$968.00$654.00$1097.00$252.00$702.00$16.00$1128.00$1587.00$1012.00$1761.00$1531.00$66.00$730.00$203.00$859.00$35.00$49.00$1120.00$37.00$1141.00$530.00$69.00$24.00$1211.00$603.00$2346.00$61.00$1536.00$1867.00$1555.00$185.00$73.00$25.00$587.00$343.00$392.00$1065.00$1690.00$64.00$91.00$1478.00$62.00$1048.00$882.00$976.00$1029.00$47.00$1029.00$1121.00$1564.00$1678.00$15.00$358.00$551.00$44.00$1968.00$1139.00$18.00$126.00$526.00$1722.00$415.00$1001.00$1706.00$52.00$1638.00$1390.00$1213.00$18.00$907.00$747.00$63.00$15.00$1382.00$1798.00$32.00$1315.00$976.00$29.00$874.00$636.00$46.00$1131.00$995.00$316.00$568.00$1277.00$1274.00$1120.00$606.00$606.00$320.00$17.00$25.00$1383.00$172.00$131.00$46.00$900.00$605.00$1658.00$162.00$1443.00$20.00$544.00$401.00$68.00$637.00$199.00$66.00$1808.00$1149.00$1616.00$758.00$313.00$1008.00$434.00$1229.00$15.00$1627.00$17.00$22.00$15.00$1034.00$1674.00$159.00$106.00$1234.00$33.00$1574.00$664.00$725.00$1536.00$43.00$19.00$963.00$129.00$1338.00$253.00$68.00$361.00$77.00$69.00$65.00$726.00$542.00$733.00$312.00$184.00$94.00$1182.00$792.00$1016.00$12.00$81.00$615.00$80.00$96.00$100.00$114.00$1910.00$1307.00$1631.00$1198.00$269.00$795.00$1334.00$443.00$1173.00$660.00$1049.00$2114.00$78.00$587.00$19.00$1020.00$215.00$33.00$1091.00$1043.00$255.00$1013.00$122.00$54.00$92.00$216.00$1167.00$576.00$1600.00$1009.00$877.00$1105.00$134.00$769.00$14.00$424.00$447.00$162.00$506.00$46.00$490.00$70.00$734.00$724.00$54.00$860.00$1040.00$100.00$152.00$16.00$53.00$53.00$38.00$1127.00$1331.00$1088.00$64.00$13.00$58.00$50.00$1112.00$1067.00$1504.00$1293.00$882.00$1478.00$8.00$257.00$395.00$907.00$1456.00$2349.00$1727.00$20.00$689.00$576.00$42.00$1449.00$946.00$1237.00$274.00$1185.00$46.00$1323.00$1691.00$1538.00$22.00$416.00$1338.00$614.00$42.00$15.00$100.00$38.00$331.00$64.00$1381.00$14.00$75.00$756.00$28.00$35.00$311.00$53.00$31.00$66.00$42.00$602.00$926.00$882.00$60.00$525.00$359.00$254.00$1318.00$1286.00$304.00$207.00$497.00$222.00$1345.00$38.00$117.00$32.00$20.00$397.00$574.00$106.00$21.00$1093.00$30.00$1479.00$101.00$31.00$18.00$39.00$44.00$1089.00$222.00$1295.00$1472.00$22.00$729.00$377.00$25.00$60.00$1623.00$92.00$528.00$317.00$251.00$102.00$633.00$1511.00$990.00$1778.00$417.00$10.00$98.00$1001.00$797.00$71.00$1502.00$174.00$795.00$27.00$1156.00$46.00$77.00$960.00$367.00$358.00$20.00$1033.00$421.00$506.00$758.00$945.00$1483.00$201.00$69.00$37.00$156.00$88.00$62.00$30.00$1990.00$32.00$109.00$406.00$99.00$211.00$57.00$37.00$653.00$1289.00$1169.00$53.00$438.00$467.00$470.00$1416.00$1161.00$1173.00$917.00$70.00$889.00$21.00$43.00$92.00$1211.00$450.00$120.00$693.00$33.00$18.00$894.00$546.00$1586.00$26.00$1525.00$65.00$319.00$746.00$81.00$13.00$506.00$1346.00$1045.00$49.00$41.00$68.00$21.00$48.00$66.00$90.00$1376.00$263.00$60.00$146.00$467.00$973.00$68.00$29.00$484.00$629.00$45.00$396.00$46.00$820.00$326.00$1272.00$1341.00$1182.00$915.00$636.00$1174.00$252.00$425.00$1899.00$27.00$17.00$1003.00$599.00$1947.00$1958.00$306.00$1600.00$1722.00$99.00$704.00$473.00$939.00$1198.00$930.00$850.00$1148.00$92.00$50.00$22.00$34.00$44.00$938.00$138.00$16.00$40.00$311.00$661.00$1188.00$1923.00$1423.00$270.00$1053.00$21.00$1816.00$22.00$41.00$232.00$63.00$836.00$1477.00$84.00$70.00$424.00$13.00$315.00$411.00$495.00$32.00$69.00$89.00$139.00' to numeric",
     "output_type": "error",
     "traceback": [
      "\u001b[31m---------------------------------------------------------------------------\u001b[39m",
      "\u001b[31mTypeError\u001b[39m                                 Traceback (most recent call last)",
      "\u001b[36mCell\u001b[39m\u001b[36m \u001b[39m\u001b[32mIn[6]\u001b[39m\u001b[32m, line 49\u001b[39m\n\u001b[32m     45\u001b[39m \u001b[38;5;28;01mif\u001b[39;00m \u001b[33m'\u001b[39m\u001b[33mTotal_Purchases\u001b[39m\u001b[33m'\u001b[39m \u001b[38;5;129;01mnot\u001b[39;00m \u001b[38;5;129;01min\u001b[39;00m df.columns:\n\u001b[32m     46\u001b[39m     df[\u001b[33m'\u001b[39m\u001b[33mTotal_Purchases\u001b[39m\u001b[33m'\u001b[39m] = (df[\u001b[33m'\u001b[39m\u001b[33mMntWines\u001b[39m\u001b[33m'\u001b[39m] + df[\u001b[33m'\u001b[39m\u001b[33mMntFruits\u001b[39m\u001b[33m'\u001b[39m] + df[\u001b[33m'\u001b[39m\u001b[33mMntMeatProducts\u001b[39m\u001b[33m'\u001b[39m] + \n\u001b[32m     47\u001b[39m                               df[\u001b[33m'\u001b[39m\u001b[33mMntFishProducts\u001b[39m\u001b[33m'\u001b[39m] + df[\u001b[33m'\u001b[39m\u001b[33mMntSweetProducts\u001b[39m\u001b[33m'\u001b[39m] + df[\u001b[33m'\u001b[39m\u001b[33mMntGoldProds\u001b[39m\u001b[33m'\u001b[39m])\n\u001b[32m---> \u001b[39m\u001b[32m49\u001b[39m revenu_moyen = \u001b[43mdf\u001b[49m\u001b[43m[\u001b[49m\u001b[33;43m'\u001b[39;49m\u001b[33;43mTotal_Purchases\u001b[39;49m\u001b[33;43m'\u001b[39;49m\u001b[43m]\u001b[49m\u001b[43m.\u001b[49m\u001b[43mmean\u001b[49m\u001b[43m(\u001b[49m\u001b[43m)\u001b[49m\n\u001b[32m     50\u001b[39m revenu_median = df[\u001b[33m'\u001b[39m\u001b[33mTotal_Purchases\u001b[39m\u001b[33m'\u001b[39m].median()\n\u001b[32m     51\u001b[39m revenu_total = df[\u001b[33m'\u001b[39m\u001b[33mTotal_Purchases\u001b[39m\u001b[33m'\u001b[39m].sum()\n",
      "\u001b[36mFile \u001b[39m\u001b[32m~/Downloads/rush_4/Python/.venv/lib/python3.13/site-packages/pandas/core/series.py:6570\u001b[39m, in \u001b[36mSeries.mean\u001b[39m\u001b[34m(self, axis, skipna, numeric_only, **kwargs)\u001b[39m\n\u001b[32m   6562\u001b[39m \u001b[38;5;129m@doc\u001b[39m(make_doc(\u001b[33m\"\u001b[39m\u001b[33mmean\u001b[39m\u001b[33m\"\u001b[39m, ndim=\u001b[32m1\u001b[39m))\n\u001b[32m   6563\u001b[39m \u001b[38;5;28;01mdef\u001b[39;00m\u001b[38;5;250m \u001b[39m\u001b[34mmean\u001b[39m(\n\u001b[32m   6564\u001b[39m     \u001b[38;5;28mself\u001b[39m,\n\u001b[32m   (...)\u001b[39m\u001b[32m   6568\u001b[39m     **kwargs,\n\u001b[32m   6569\u001b[39m ):\n\u001b[32m-> \u001b[39m\u001b[32m6570\u001b[39m     \u001b[38;5;28;01mreturn\u001b[39;00m \u001b[43mNDFrame\u001b[49m\u001b[43m.\u001b[49m\u001b[43mmean\u001b[49m\u001b[43m(\u001b[49m\u001b[38;5;28;43mself\u001b[39;49m\u001b[43m,\u001b[49m\u001b[43m \u001b[49m\u001b[43maxis\u001b[49m\u001b[43m,\u001b[49m\u001b[43m \u001b[49m\u001b[43mskipna\u001b[49m\u001b[43m,\u001b[49m\u001b[43m \u001b[49m\u001b[43mnumeric_only\u001b[49m\u001b[43m,\u001b[49m\u001b[43m \u001b[49m\u001b[43m*\u001b[49m\u001b[43m*\u001b[49m\u001b[43mkwargs\u001b[49m\u001b[43m)\u001b[49m\n",
      "\u001b[36mFile \u001b[39m\u001b[32m~/Downloads/rush_4/Python/.venv/lib/python3.13/site-packages/pandas/core/generic.py:12485\u001b[39m, in \u001b[36mNDFrame.mean\u001b[39m\u001b[34m(self, axis, skipna, numeric_only, **kwargs)\u001b[39m\n\u001b[32m  12478\u001b[39m \u001b[38;5;28;01mdef\u001b[39;00m\u001b[38;5;250m \u001b[39m\u001b[34mmean\u001b[39m(\n\u001b[32m  12479\u001b[39m     \u001b[38;5;28mself\u001b[39m,\n\u001b[32m  12480\u001b[39m     axis: Axis | \u001b[38;5;28;01mNone\u001b[39;00m = \u001b[32m0\u001b[39m,\n\u001b[32m   (...)\u001b[39m\u001b[32m  12483\u001b[39m     **kwargs,\n\u001b[32m  12484\u001b[39m ) -> Series | \u001b[38;5;28mfloat\u001b[39m:\n\u001b[32m> \u001b[39m\u001b[32m12485\u001b[39m     \u001b[38;5;28;01mreturn\u001b[39;00m \u001b[38;5;28;43mself\u001b[39;49m\u001b[43m.\u001b[49m\u001b[43m_stat_function\u001b[49m\u001b[43m(\u001b[49m\n\u001b[32m  12486\u001b[39m \u001b[43m        \u001b[49m\u001b[33;43m\"\u001b[39;49m\u001b[33;43mmean\u001b[39;49m\u001b[33;43m\"\u001b[39;49m\u001b[43m,\u001b[49m\u001b[43m \u001b[49m\u001b[43mnanops\u001b[49m\u001b[43m.\u001b[49m\u001b[43mnanmean\u001b[49m\u001b[43m,\u001b[49m\u001b[43m \u001b[49m\u001b[43maxis\u001b[49m\u001b[43m,\u001b[49m\u001b[43m \u001b[49m\u001b[43mskipna\u001b[49m\u001b[43m,\u001b[49m\u001b[43m \u001b[49m\u001b[43mnumeric_only\u001b[49m\u001b[43m,\u001b[49m\u001b[43m \u001b[49m\u001b[43m*\u001b[49m\u001b[43m*\u001b[49m\u001b[43mkwargs\u001b[49m\n\u001b[32m  12487\u001b[39m \u001b[43m    \u001b[49m\u001b[43m)\u001b[49m\n",
      "\u001b[36mFile \u001b[39m\u001b[32m~/Downloads/rush_4/Python/.venv/lib/python3.13/site-packages/pandas/core/generic.py:12442\u001b[39m, in \u001b[36mNDFrame._stat_function\u001b[39m\u001b[34m(self, name, func, axis, skipna, numeric_only, **kwargs)\u001b[39m\n\u001b[32m  12438\u001b[39m nv.validate_func(name, (), kwargs)\n\u001b[32m  12440\u001b[39m validate_bool_kwarg(skipna, \u001b[33m\"\u001b[39m\u001b[33mskipna\u001b[39m\u001b[33m\"\u001b[39m, none_allowed=\u001b[38;5;28;01mFalse\u001b[39;00m)\n\u001b[32m> \u001b[39m\u001b[32m12442\u001b[39m \u001b[38;5;28;01mreturn\u001b[39;00m \u001b[38;5;28;43mself\u001b[39;49m\u001b[43m.\u001b[49m\u001b[43m_reduce\u001b[49m\u001b[43m(\u001b[49m\n\u001b[32m  12443\u001b[39m \u001b[43m    \u001b[49m\u001b[43mfunc\u001b[49m\u001b[43m,\u001b[49m\u001b[43m \u001b[49m\u001b[43mname\u001b[49m\u001b[43m=\u001b[49m\u001b[43mname\u001b[49m\u001b[43m,\u001b[49m\u001b[43m \u001b[49m\u001b[43maxis\u001b[49m\u001b[43m=\u001b[49m\u001b[43maxis\u001b[49m\u001b[43m,\u001b[49m\u001b[43m \u001b[49m\u001b[43mskipna\u001b[49m\u001b[43m=\u001b[49m\u001b[43mskipna\u001b[49m\u001b[43m,\u001b[49m\u001b[43m \u001b[49m\u001b[43mnumeric_only\u001b[49m\u001b[43m=\u001b[49m\u001b[43mnumeric_only\u001b[49m\n\u001b[32m  12444\u001b[39m \u001b[43m\u001b[49m\u001b[43m)\u001b[49m\n",
      "\u001b[36mFile \u001b[39m\u001b[32m~/Downloads/rush_4/Python/.venv/lib/python3.13/site-packages/pandas/core/series.py:6478\u001b[39m, in \u001b[36mSeries._reduce\u001b[39m\u001b[34m(self, op, name, axis, skipna, numeric_only, filter_type, **kwds)\u001b[39m\n\u001b[32m   6473\u001b[39m     \u001b[38;5;66;03m# GH#47500 - change to TypeError to match other methods\u001b[39;00m\n\u001b[32m   6474\u001b[39m     \u001b[38;5;28;01mraise\u001b[39;00m \u001b[38;5;167;01mTypeError\u001b[39;00m(\n\u001b[32m   6475\u001b[39m         \u001b[33mf\u001b[39m\u001b[33m\"\u001b[39m\u001b[33mSeries.\u001b[39m\u001b[38;5;132;01m{\u001b[39;00mname\u001b[38;5;132;01m}\u001b[39;00m\u001b[33m does not allow \u001b[39m\u001b[38;5;132;01m{\u001b[39;00mkwd_name\u001b[38;5;132;01m}\u001b[39;00m\u001b[33m=\u001b[39m\u001b[38;5;132;01m{\u001b[39;00mnumeric_only\u001b[38;5;132;01m}\u001b[39;00m\u001b[33m \u001b[39m\u001b[33m\"\u001b[39m\n\u001b[32m   6476\u001b[39m         \u001b[33m\"\u001b[39m\u001b[33mwith non-numeric dtypes.\u001b[39m\u001b[33m\"\u001b[39m\n\u001b[32m   6477\u001b[39m     )\n\u001b[32m-> \u001b[39m\u001b[32m6478\u001b[39m \u001b[38;5;28;01mreturn\u001b[39;00m \u001b[43mop\u001b[49m\u001b[43m(\u001b[49m\u001b[43mdelegate\u001b[49m\u001b[43m,\u001b[49m\u001b[43m \u001b[49m\u001b[43mskipna\u001b[49m\u001b[43m=\u001b[49m\u001b[43mskipna\u001b[49m\u001b[43m,\u001b[49m\u001b[43m \u001b[49m\u001b[43m*\u001b[49m\u001b[43m*\u001b[49m\u001b[43mkwds\u001b[49m\u001b[43m)\u001b[49m\n",
      "\u001b[36mFile \u001b[39m\u001b[32m~/Downloads/rush_4/Python/.venv/lib/python3.13/site-packages/pandas/core/nanops.py:147\u001b[39m, in \u001b[36mbottleneck_switch.__call__.<locals>.f\u001b[39m\u001b[34m(values, axis, skipna, **kwds)\u001b[39m\n\u001b[32m    145\u001b[39m         result = alt(values, axis=axis, skipna=skipna, **kwds)\n\u001b[32m    146\u001b[39m \u001b[38;5;28;01melse\u001b[39;00m:\n\u001b[32m--> \u001b[39m\u001b[32m147\u001b[39m     result = \u001b[43malt\u001b[49m\u001b[43m(\u001b[49m\u001b[43mvalues\u001b[49m\u001b[43m,\u001b[49m\u001b[43m \u001b[49m\u001b[43maxis\u001b[49m\u001b[43m=\u001b[49m\u001b[43maxis\u001b[49m\u001b[43m,\u001b[49m\u001b[43m \u001b[49m\u001b[43mskipna\u001b[49m\u001b[43m=\u001b[49m\u001b[43mskipna\u001b[49m\u001b[43m,\u001b[49m\u001b[43m \u001b[49m\u001b[43m*\u001b[49m\u001b[43m*\u001b[49m\u001b[43mkwds\u001b[49m\u001b[43m)\u001b[49m\n\u001b[32m    149\u001b[39m \u001b[38;5;28;01mreturn\u001b[39;00m result\n",
      "\u001b[36mFile \u001b[39m\u001b[32m~/Downloads/rush_4/Python/.venv/lib/python3.13/site-packages/pandas/core/nanops.py:404\u001b[39m, in \u001b[36m_datetimelike_compat.<locals>.new_func\u001b[39m\u001b[34m(values, axis, skipna, mask, **kwargs)\u001b[39m\n\u001b[32m    401\u001b[39m \u001b[38;5;28;01mif\u001b[39;00m datetimelike \u001b[38;5;129;01mand\u001b[39;00m mask \u001b[38;5;129;01mis\u001b[39;00m \u001b[38;5;28;01mNone\u001b[39;00m:\n\u001b[32m    402\u001b[39m     mask = isna(values)\n\u001b[32m--> \u001b[39m\u001b[32m404\u001b[39m result = \u001b[43mfunc\u001b[49m\u001b[43m(\u001b[49m\u001b[43mvalues\u001b[49m\u001b[43m,\u001b[49m\u001b[43m \u001b[49m\u001b[43maxis\u001b[49m\u001b[43m=\u001b[49m\u001b[43maxis\u001b[49m\u001b[43m,\u001b[49m\u001b[43m \u001b[49m\u001b[43mskipna\u001b[49m\u001b[43m=\u001b[49m\u001b[43mskipna\u001b[49m\u001b[43m,\u001b[49m\u001b[43m \u001b[49m\u001b[43mmask\u001b[49m\u001b[43m=\u001b[49m\u001b[43mmask\u001b[49m\u001b[43m,\u001b[49m\u001b[43m \u001b[49m\u001b[43m*\u001b[49m\u001b[43m*\u001b[49m\u001b[43mkwargs\u001b[49m\u001b[43m)\u001b[49m\n\u001b[32m    406\u001b[39m \u001b[38;5;28;01mif\u001b[39;00m datetimelike:\n\u001b[32m    407\u001b[39m     result = _wrap_results(result, orig_values.dtype, fill_value=iNaT)\n",
      "\u001b[36mFile \u001b[39m\u001b[32m~/Downloads/rush_4/Python/.venv/lib/python3.13/site-packages/pandas/core/nanops.py:720\u001b[39m, in \u001b[36mnanmean\u001b[39m\u001b[34m(values, axis, skipna, mask)\u001b[39m\n\u001b[32m    718\u001b[39m count = _get_counts(values.shape, mask, axis, dtype=dtype_count)\n\u001b[32m    719\u001b[39m the_sum = values.sum(axis, dtype=dtype_sum)\n\u001b[32m--> \u001b[39m\u001b[32m720\u001b[39m the_sum = \u001b[43m_ensure_numeric\u001b[49m\u001b[43m(\u001b[49m\u001b[43mthe_sum\u001b[49m\u001b[43m)\u001b[49m\n\u001b[32m    722\u001b[39m \u001b[38;5;28;01mif\u001b[39;00m axis \u001b[38;5;129;01mis\u001b[39;00m \u001b[38;5;129;01mnot\u001b[39;00m \u001b[38;5;28;01mNone\u001b[39;00m \u001b[38;5;129;01mand\u001b[39;00m \u001b[38;5;28mgetattr\u001b[39m(the_sum, \u001b[33m\"\u001b[39m\u001b[33mndim\u001b[39m\u001b[33m\"\u001b[39m, \u001b[38;5;28;01mFalse\u001b[39;00m):\n\u001b[32m    723\u001b[39m     count = cast(np.ndarray, count)\n",
      "\u001b[36mFile \u001b[39m\u001b[32m~/Downloads/rush_4/Python/.venv/lib/python3.13/site-packages/pandas/core/nanops.py:1701\u001b[39m, in \u001b[36m_ensure_numeric\u001b[39m\u001b[34m(x)\u001b[39m\n\u001b[32m   1698\u001b[39m \u001b[38;5;28;01melif\u001b[39;00m \u001b[38;5;129;01mnot\u001b[39;00m (is_float(x) \u001b[38;5;129;01mor\u001b[39;00m is_integer(x) \u001b[38;5;129;01mor\u001b[39;00m is_complex(x)):\n\u001b[32m   1699\u001b[39m     \u001b[38;5;28;01mif\u001b[39;00m \u001b[38;5;28misinstance\u001b[39m(x, \u001b[38;5;28mstr\u001b[39m):\n\u001b[32m   1700\u001b[39m         \u001b[38;5;66;03m# GH#44008, GH#36703 avoid casting e.g. strings to numeric\u001b[39;00m\n\u001b[32m-> \u001b[39m\u001b[32m1701\u001b[39m         \u001b[38;5;28;01mraise\u001b[39;00m \u001b[38;5;167;01mTypeError\u001b[39;00m(\u001b[33mf\u001b[39m\u001b[33m\"\u001b[39m\u001b[33mCould not convert string \u001b[39m\u001b[33m'\u001b[39m\u001b[38;5;132;01m{\u001b[39;00mx\u001b[38;5;132;01m}\u001b[39;00m\u001b[33m'\u001b[39m\u001b[33m to numeric\u001b[39m\u001b[33m\"\u001b[39m)\n\u001b[32m   1702\u001b[39m     \u001b[38;5;28;01mtry\u001b[39;00m:\n\u001b[32m   1703\u001b[39m         x = \u001b[38;5;28mfloat\u001b[39m(x)\n",
      "\u001b[31mTypeError\u001b[39m: Could not convert string '$1198.00$577.00$120.00$32.00$1028.00$183.00$309.00$47.00$1115.00$210.00$184.00$25.00$597.00$92.00$18.00$467.00$37.00$57.00$69.00$89.00$28.00$393.00$993.00$271.00$957.00$1323.00$46.00$1196.00$269.00$1443.00$331.00$973.00$397.00$16.00$41.00$246.00$315.00$1234.00$2089.00$48.00$1540.00$242.00$32.00$530.00$31.00$170.00$1082.00$1574.00$312.00$357.00$601.00$473.00$21.00$1215.00$145.00$1143.00$258.00$151.00$34.00$152.00$981.00$1157.00$76.00$1101.00$573.00$2088.00$41.00$315.00$275.00$496.00$497.00$377.00$504.00$20.00$577.00$290.00$1156.00$794.00$1804.00$61.00$441.00$727.00$632.00$1027.00$795.00$270.00$22.00$45.00$1135.00$209.00$36.00$1753.00$746.00$2157.00$1198.00$424.00$57.00$1941.00$53.00$30.00$581.00$74.00$96.00$1383.00$1662.00$778.00$125.00$976.00$708.00$906.00$1991.00$125.00$22.00$1812.00$677.00$15.00$521.00$480.00$343.00$797.00$35.00$43.00$610.00$1026.00$119.00$103.00$71.00$332.00$38.00$16.00$2047.00$1179.00$521.00$1103.00$442.00$976.00$52.00$2231.00$182.00$145.00$811.00$823.00$194.00$595.00$45.00$1071.00$27.00$32.00$21.00$292.00$641.00$1103.00$2077.00$1658.00$747.00$72.00$174.00$170.00$805.00$660.00$757.00$642.00$65.00$1178.00$458.00$96.00$11.00$594.00$147.00$312.00$84.00$362.00$31.00$48.00$25.00$87.00$311.00$299.00$393.00$133.00$210.00$41.00$102.00$240.00$860.00$590.00$691.00$515.00$187.00$264.00$414.00$112.00$414.00$1193.00$730.00$964.00$1021.00$78.00$884.00$55.00$1366.00$279.00$38.00$1062.00$424.00$596.00$279.00$178.00$65.00$1001.00$45.00$42.00$1918.00$1034.00$93.00$1020.00$1086.00$1019.00$173.00$1147.00$61.00$2053.00$12.00$685.00$1958.00$95.00$47.00$1379.00$1512.00$428.00$55.00$874.00$1853.00$144.00$49.00$653.00$496.00$1401.00$244.00$2034.00$2252.00$426.00$25.00$129.00$22.00$845.00$1829.00$936.00$1572.00$1495.00$1244.00$51.00$1371.00$84.00$903.00$1004.00$351.00$725.00$63.00$56.00$91.00$683.00$72.00$1795.00$586.00$148.00$1220.00$1562.00$1435.00$449.00$984.00$285.00$694.00$241.00$324.00$62.00$11.00$112.00$1515.00$1253.00$38.00$231.00$415.00$57.00$444.00$940.00$76.00$1149.00$1226.00$51.00$1060.00$1180.00$44.00$928.00$38.00$21.00$72.00$854.00$559.00$407.00$1717.00$52.00$107.00$140.00$523.00$1250.00$28.00$51.00$749.00$73.00$96.00$1104.00$396.00$1893.00$443.00$2283.00$1039.00$1736.00$17.00$482.00$1724.00$411.00$225.00$22.00$47.00$692.00$1588.00$49.00$789.00$960.00$424.00$1282.00$108.00$46.00$1643.00$48.00$49.00$1750.00$461.00$266.00$1482.00$279.00$48.00$273.00$81.00$1377.00$81.00$999.00$801.00$54.00$1313.00$114.00$2524.00$270.00$2043.00$57.00$74.00$680.00$38.00$1190.00$1232.00$133.00$67.00$141.00$83.00$1890.00$1336.00$85.00$37.00$93.00$25.00$1754.00$1477.00$1364.00$1507.00$437.00$102.00$71.00$690.00$83.00$18.00$1400.00$839.00$660.00$1603.00$1672.00$28.00$103.00$59.00$1797.00$96.00$893.00$972.00$19.00$84.00$1870.00$1168.00$75.00$1149.00$1388.00$401.00$49.00$99.00$114.00$1064.00$1047.00$1208.00$1631.00$17.00$34.00$1544.00$1315.00$66.00$622.00$1102.00$147.00$1307.00$694.00$31.00$2279.00$1482.00$44.00$41.00$77.00$561.00$23.00$32.00$27.00$1690.00$1280.00$2257.00$69.00$23.00$1826.00$1617.00$210.00$43.00$139.00$183.00$85.00$1455.00$21.00$42.00$16.00$311.00$868.00$133.00$28.00$335.00$114.00$24.00$825.00$30.00$770.00$330.00$96.00$635.00$1065.00$85.00$39.00$1244.00$1027.00$81.00$22.00$1635.00$275.00$102.00$257.00$519.00$1555.00$733.00$1097.00$953.00$1288.00$895.00$78.00$1338.00$67.00$1611.00$63.00$69.00$318.00$819.00$149.00$45.00$43.00$299.00$38.00$64.00$608.00$816.00$563.00$78.00$30.00$59.00$534.00$1651.00$188.00$844.00$48.00$92.00$70.00$27.00$446.00$29.00$1371.00$43.00$165.00$1334.00$46.00$815.00$1230.00$835.00$20.00$59.00$932.00$630.00$1910.00$1682.00$237.00$23.00$350.00$1149.00$500.00$69.00$68.00$59.00$44.00$907.00$1127.00$1143.00$241.00$209.00$461.00$910.00$26.00$24.00$415.00$31.00$715.00$180.00$19.00$409.00$1231.00$849.00$90.00$2126.00$1792.00$404.00$1034.00$13.00$1073.00$1240.00$961.00$120.00$1001.00$62.00$31.00$120.00$37.00$731.00$1179.00$19.00$1180.00$275.00$23.00$1052.00$57.00$502.00$32.00$906.00$541.00$414.00$995.00$1217.00$928.00$2013.00$195.00$45.00$1264.00$91.00$990.00$1374.00$990.00$137.00$1281.00$1192.00$23.00$871.00$1631.00$486.00$46.00$185.00$76.00$57.00$382.00$1440.00$72.00$902.00$1956.00$35.00$20.00$1084.00$1650.00$43.00$40.00$1766.00$2069.00$227.00$306.00$193.00$318.00$410.00$235.00$1150.00$231.00$43.00$1828.00$382.00$612.00$20.00$373.00$823.00$310.00$32.00$2006.00$350.00$24.00$450.00$22.00$45.00$44.00$663.00$1676.00$2052.00$89.00$17.00$39.00$1042.00$1957.00$1572.00$263.00$1230.00$670.00$1250.00$156.00$265.00$30.00$1117.00$960.00$1655.00$46.00$125.00$608.00$128.00$78.00$365.00$411.00$909.00$42.00$1152.00$94.00$211.00$89.00$542.00$165.00$2211.00$948.00$436.00$34.00$235.00$90.00$137.00$294.00$1533.00$2092.00$322.00$339.00$957.00$908.00$1376.00$1596.00$734.00$1598.00$981.00$1336.00$20.00$296.00$957.00$904.00$103.00$736.00$50.00$1526.00$1260.00$877.00$974.00$1575.00$160.00$161.00$50.00$1092.00$1073.00$167.00$17.00$38.00$967.00$55.00$79.00$64.00$198.00$57.00$1574.00$72.00$244.00$1101.00$236.00$1396.00$747.00$1138.00$606.00$1464.00$195.00$1152.00$45.00$80.00$145.00$578.00$36.00$928.00$70.00$165.00$1435.00$54.00$1757.00$779.00$656.00$2091.00$52.00$134.00$2130.00$94.00$81.00$1902.00$259.00$704.00$48.00$1688.00$17.00$860.00$103.00$1580.00$1155.00$925.00$835.00$1008.00$42.00$116.00$15.00$81.00$868.00$766.00$1327.00$29.00$459.00$861.00$88.00$270.00$43.00$964.00$162.00$1005.00$1095.00$73.00$1095.00$1006.00$48.00$63.00$106.00$37.00$769.00$1862.00$890.00$1931.00$205.00$916.00$662.00$608.00$930.00$943.00$1199.00$133.00$401.00$1779.00$444.00$1123.00$1226.00$115.00$20.00$180.00$544.00$127.00$64.00$811.00$404.00$46.00$1078.00$1215.00$873.00$60.00$155.00$436.00$289.00$467.00$187.00$44.00$62.00$23.00$425.00$1693.00$318.00$369.00$895.00$1529.00$725.00$119.00$1076.00$899.00$776.00$348.00$1348.00$433.00$130.00$55.00$265.00$76.00$354.00$25.00$275.00$468.00$1298.00$57.00$1474.00$87.00$55.00$58.00$373.00$2008.00$301.00$10.00$1315.00$158.00$341.00$1923.00$54.00$679.00$24.00$40.00$10.00$1825.00$59.00$137.00$1428.00$943.00$1291.00$684.00$55.00$16.00$1371.00$54.00$44.00$913.00$21.00$55.00$1574.00$134.00$1169.00$88.00$93.00$575.00$235.00$47.00$841.00$908.00$1501.00$1091.00$789.00$1471.00$38.00$1644.00$527.00$1365.00$51.00$137.00$260.00$546.00$177.00$61.00$372.00$37.00$140.00$57.00$2440.00$653.00$653.00$401.00$1228.00$95.00$1178.00$1598.00$1478.00$1250.00$833.00$1169.00$1930.00$257.00$1919.00$25.00$54.00$71.00$393.00$448.00$67.00$2486.00$266.00$2018.00$458.00$656.00$777.00$778.00$486.00$1724.00$277.00$1650.00$1079.00$176.00$978.00$189.00$1253.00$710.00$102.00$1241.00$1695.00$1092.00$310.00$1686.00$1633.00$586.00$71.00$390.00$410.00$1895.00$40.00$82.00$125.00$67.00$562.00$971.00$586.00$122.00$1168.00$169.00$1363.00$493.00$714.00$1109.00$1677.00$868.00$41.00$39.00$17.00$18.00$455.00$792.00$101.00$1305.00$15.00$833.00$46.00$1853.00$25.00$175.00$400.00$88.00$41.00$63.00$2074.00$732.00$68.00$1730.00$44.00$317.00$1727.00$777.00$1210.00$2059.00$265.00$61.00$1158.00$268.00$155.00$25.00$1392.00$62.00$869.00$69.00$1735.00$1033.00$34.00$928.00$34.00$162.00$135.00$14.00$1833.00$406.00$434.00$1638.00$131.00$46.00$611.00$39.00$191.00$1378.00$26.00$47.00$969.00$97.00$1258.00$47.00$1064.00$467.00$101.00$49.00$1702.00$965.00$576.00$1289.00$761.00$143.00$1348.00$798.00$43.00$1445.00$1424.00$47.00$1529.00$54.00$889.00$1053.00$53.00$396.00$149.00$24.00$23.00$892.00$731.00$1461.00$793.00$638.00$879.00$66.00$42.00$51.00$227.00$81.00$2194.00$63.00$45.00$1564.00$67.00$227.00$637.00$55.00$44.00$56.00$562.00$902.00$144.00$217.00$79.00$72.00$279.00$57.00$1586.00$70.00$1428.00$1113.00$33.00$44.00$444.00$84.00$171.00$422.00$11.00$1869.00$1066.00$59.00$1588.00$29.00$79.00$2525.00$413.00$91.00$1730.00$2302.00$347.00$42.00$38.00$1366.00$1085.00$16.00$156.00$183.00$684.00$388.00$2352.00$50.00$122.00$1174.00$223.00$319.00$23.00$441.00$518.00$40.00$37.00$797.00$1617.00$58.00$444.00$224.00$1957.00$1862.00$802.00$1490.00$988.00$1919.00$293.00$1685.00$735.00$1338.00$23.00$48.00$793.00$728.00$1282.00$36.00$316.00$51.00$463.00$1665.00$692.00$231.00$167.00$222.00$363.00$61.00$1701.00$493.00$30.00$1099.00$68.00$1633.00$32.00$120.00$1415.00$1566.00$116.00$60.00$37.00$91.00$2525.00$56.00$475.00$38.00$55.00$1189.00$380.00$763.00$209.00$72.00$446.00$1125.00$985.00$75.00$39.00$8.00$62.00$2114.00$1815.00$1263.00$65.00$494.00$832.00$13.00$882.00$2009.00$655.00$219.00$46.00$467.00$639.00$664.00$211.00$221.00$397.00$49.00$18.00$1171.00$218.00$48.00$764.00$122.00$237.00$192.00$1932.00$284.00$199.00$57.00$215.00$70.00$57.00$122.00$43.00$1576.00$266.00$384.00$937.00$72.00$2302.00$1924.00$1804.00$1513.00$1305.00$1314.00$1157.00$2087.00$1380.00$561.00$100.00$75.00$17.00$431.00$385.00$900.00$28.00$53.00$969.00$169.00$939.00$53.00$140.00$1670.00$57.00$901.00$49.00$1005.00$1734.00$80.00$39.00$79.00$31.00$499.00$37.00$189.00$971.00$416.00$507.00$1507.00$2217.00$775.00$334.00$507.00$1957.00$470.00$1573.00$106.00$63.00$1615.00$982.00$908.00$36.00$185.00$1822.00$981.00$813.00$1497.00$78.00$863.00$1366.00$1508.00$1146.00$48.00$26.00$1518.00$36.00$1319.00$47.00$45.00$491.00$80.00$297.00$545.00$121.00$54.00$46.00$1453.00$77.00$50.00$282.00$1427.00$1179.00$1564.00$2116.00$1270.00$49.00$1130.00$68.00$76.00$1102.00$858.00$902.00$57.00$946.00$121.00$59.00$99.00$433.00$78.00$56.00$50.00$18.00$606.00$1101.00$10.00$67.00$1612.00$976.00$1782.00$1319.00$79.00$612.00$981.00$682.00$1161.00$107.00$727.00$461.00$44.00$54.00$1117.00$102.00$22.00$1134.00$418.00$1194.00$1174.00$157.00$129.00$72.00$16.00$37.00$90.00$1068.00$103.00$685.00$492.00$1213.00$767.00$48.00$1538.00$54.00$11.00$1722.00$36.00$68.00$433.00$1187.00$809.00$369.00$16.00$1438.00$65.00$99.00$30.00$34.00$283.00$405.00$529.00$324.00$55.00$564.00$732.00$1004.00$1024.00$772.00$34.00$63.00$264.00$1062.00$2119.00$978.00$223.00$95.00$1375.00$54.00$26.00$11.00$1157.00$233.00$1497.00$1921.00$1581.00$45.00$1443.00$637.00$834.00$817.00$398.00$84.00$813.00$63.00$1363.00$93.00$211.00$1410.00$263.00$1485.00$55.00$401.00$66.00$1453.00$1021.00$1495.00$1335.00$1245.00$22.00$1064.00$1198.00$1242.00$353.00$1528.00$825.00$94.00$15.00$929.00$213.00$820.00$37.00$823.00$52.00$35.00$721.00$545.00$13.00$65.00$1283.00$1135.00$31.00$493.00$67.00$1782.00$38.00$124.00$606.00$612.00$137.00$318.00$17.00$1241.00$2153.00$131.00$1044.00$186.00$20.00$55.00$968.00$57.00$535.00$79.00$1565.00$1033.00$40.00$63.00$47.00$1072.00$1192.00$103.00$405.00$1438.00$62.00$302.00$576.00$573.00$1442.00$485.00$43.00$92.00$1597.00$688.00$233.00$267.00$17.00$186.00$35.00$369.00$198.00$1367.00$1820.00$165.00$29.00$1615.00$30.00$716.00$2008.00$488.00$97.00$570.00$1269.00$138.00$825.00$269.00$156.00$564.00$2209.00$46.00$177.00$45.00$1574.00$76.00$138.00$132.00$187.00$270.00$86.00$41.00$209.00$29.00$460.00$326.00$163.00$106.00$2086.00$76.00$31.00$989.00$805.00$49.00$28.00$787.00$78.00$191.00$258.00$1048.00$634.00$711.00$1440.00$641.00$745.00$1216.00$61.00$411.00$109.00$160.00$819.00$10.00$1672.00$25.00$800.00$429.00$728.00$369.00$662.00$818.00$65.00$1526.00$74.00$368.00$1052.00$926.00$1175.00$557.00$300.00$1677.00$1033.00$75.00$1680.00$22.00$103.00$2092.00$966.00$268.00$58.00$449.00$35.00$37.00$1370.00$1382.00$1901.00$1191.00$1151.00$460.00$17.00$112.00$1743.00$119.00$1313.00$55.00$463.00$1621.00$63.00$1092.00$264.00$55.00$22.00$34.00$55.00$1106.00$914.00$278.00$661.00$52.00$95.00$265.00$54.00$48.00$859.00$263.00$182.00$26.00$1908.00$137.00$310.00$177.00$121.00$1319.00$40.00$405.00$174.00$96.00$325.00$71.00$556.00$18.00$843.00$23.00$404.00$20.00$1711.00$122.00$71.00$1459.00$43.00$1772.00$23.00$1738.00$131.00$34.00$296.00$198.00$1919.00$28.00$1159.00$30.00$29.00$518.00$235.00$1511.00$34.00$794.00$305.00$86.00$44.00$61.00$64.00$1540.00$22.00$684.00$902.00$30.00$86.00$16.00$80.00$1608.00$28.00$367.00$1493.00$1366.00$20.00$60.00$101.00$395.00$992.00$1429.00$41.00$1789.00$42.00$46.00$680.00$236.00$9.00$751.00$1165.00$289.00$135.00$67.00$1395.00$1049.00$68.00$507.00$22.00$928.00$45.00$41.00$1662.00$42.00$317.00$1038.00$15.00$436.00$75.00$486.00$1385.00$240.00$66.00$22.00$1401.00$1835.00$1679.00$1853.00$46.00$174.00$1150.00$1461.00$43.00$1188.00$61.00$20.00$1196.00$322.00$137.00$172.00$507.00$454.00$450.00$274.00$153.00$902.00$371.00$48.00$564.00$123.00$44.00$1080.00$542.00$2126.00$497.00$152.00$272.00$968.00$654.00$1097.00$252.00$702.00$16.00$1128.00$1587.00$1012.00$1761.00$1531.00$66.00$730.00$203.00$859.00$35.00$49.00$1120.00$37.00$1141.00$530.00$69.00$24.00$1211.00$603.00$2346.00$61.00$1536.00$1867.00$1555.00$185.00$73.00$25.00$587.00$343.00$392.00$1065.00$1690.00$64.00$91.00$1478.00$62.00$1048.00$882.00$976.00$1029.00$47.00$1029.00$1121.00$1564.00$1678.00$15.00$358.00$551.00$44.00$1968.00$1139.00$18.00$126.00$526.00$1722.00$415.00$1001.00$1706.00$52.00$1638.00$1390.00$1213.00$18.00$907.00$747.00$63.00$15.00$1382.00$1798.00$32.00$1315.00$976.00$29.00$874.00$636.00$46.00$1131.00$995.00$316.00$568.00$1277.00$1274.00$1120.00$606.00$606.00$320.00$17.00$25.00$1383.00$172.00$131.00$46.00$900.00$605.00$1658.00$162.00$1443.00$20.00$544.00$401.00$68.00$637.00$199.00$66.00$1808.00$1149.00$1616.00$758.00$313.00$1008.00$434.00$1229.00$15.00$1627.00$17.00$22.00$15.00$1034.00$1674.00$159.00$106.00$1234.00$33.00$1574.00$664.00$725.00$1536.00$43.00$19.00$963.00$129.00$1338.00$253.00$68.00$361.00$77.00$69.00$65.00$726.00$542.00$733.00$312.00$184.00$94.00$1182.00$792.00$1016.00$12.00$81.00$615.00$80.00$96.00$100.00$114.00$1910.00$1307.00$1631.00$1198.00$269.00$795.00$1334.00$443.00$1173.00$660.00$1049.00$2114.00$78.00$587.00$19.00$1020.00$215.00$33.00$1091.00$1043.00$255.00$1013.00$122.00$54.00$92.00$216.00$1167.00$576.00$1600.00$1009.00$877.00$1105.00$134.00$769.00$14.00$424.00$447.00$162.00$506.00$46.00$490.00$70.00$734.00$724.00$54.00$860.00$1040.00$100.00$152.00$16.00$53.00$53.00$38.00$1127.00$1331.00$1088.00$64.00$13.00$58.00$50.00$1112.00$1067.00$1504.00$1293.00$882.00$1478.00$8.00$257.00$395.00$907.00$1456.00$2349.00$1727.00$20.00$689.00$576.00$42.00$1449.00$946.00$1237.00$274.00$1185.00$46.00$1323.00$1691.00$1538.00$22.00$416.00$1338.00$614.00$42.00$15.00$100.00$38.00$331.00$64.00$1381.00$14.00$75.00$756.00$28.00$35.00$311.00$53.00$31.00$66.00$42.00$602.00$926.00$882.00$60.00$525.00$359.00$254.00$1318.00$1286.00$304.00$207.00$497.00$222.00$1345.00$38.00$117.00$32.00$20.00$397.00$574.00$106.00$21.00$1093.00$30.00$1479.00$101.00$31.00$18.00$39.00$44.00$1089.00$222.00$1295.00$1472.00$22.00$729.00$377.00$25.00$60.00$1623.00$92.00$528.00$317.00$251.00$102.00$633.00$1511.00$990.00$1778.00$417.00$10.00$98.00$1001.00$797.00$71.00$1502.00$174.00$795.00$27.00$1156.00$46.00$77.00$960.00$367.00$358.00$20.00$1033.00$421.00$506.00$758.00$945.00$1483.00$201.00$69.00$37.00$156.00$88.00$62.00$30.00$1990.00$32.00$109.00$406.00$99.00$211.00$57.00$37.00$653.00$1289.00$1169.00$53.00$438.00$467.00$470.00$1416.00$1161.00$1173.00$917.00$70.00$889.00$21.00$43.00$92.00$1211.00$450.00$120.00$693.00$33.00$18.00$894.00$546.00$1586.00$26.00$1525.00$65.00$319.00$746.00$81.00$13.00$506.00$1346.00$1045.00$49.00$41.00$68.00$21.00$48.00$66.00$90.00$1376.00$263.00$60.00$146.00$467.00$973.00$68.00$29.00$484.00$629.00$45.00$396.00$46.00$820.00$326.00$1272.00$1341.00$1182.00$915.00$636.00$1174.00$252.00$425.00$1899.00$27.00$17.00$1003.00$599.00$1947.00$1958.00$306.00$1600.00$1722.00$99.00$704.00$473.00$939.00$1198.00$930.00$850.00$1148.00$92.00$50.00$22.00$34.00$44.00$938.00$138.00$16.00$40.00$311.00$661.00$1188.00$1923.00$1423.00$270.00$1053.00$21.00$1816.00$22.00$41.00$232.00$63.00$836.00$1477.00$84.00$70.00$424.00$13.00$315.00$411.00$495.00$32.00$69.00$89.00$139.00' to numeric"
     ]
    }
   ],
   "source": [
    "# ========== CALCUL DES KPIs PRINCIPAUX ==========\n",
    "\n",
    "print(\"=\"*80)\n",
    "print(\"📊 CALCUL DES KPIs - INDICATEURS DE PERFORMANCE CLÉS\")\n",
    "print(\"=\"*80 + \"\\n\")\n",
    "\n",
    "# ----- KPI 1 : TAUX DE RÉPONSE PAR CAMPAGNE -----\n",
    "print(\"1️⃣ TAUX DE RÉPONSE PAR CAMPAGNE\")\n",
    "print(\"-\" * 80)\n",
    "\n",
    "campagnes = ['AcceptedCmp1', 'AcceptedCmp2', 'AcceptedCmp3', 'AcceptedCmp4', 'AcceptedCmp5', 'Response']\n",
    "taux_reponse = {}\n",
    "\n",
    "for campagne in campagnes:\n",
    "    total_clients = len(df)\n",
    "    acceptations = df[campagne].sum()\n",
    "    taux = (acceptations / total_clients) * 100\n",
    "    taux_reponse[campagne] = taux\n",
    "    print(f\"   {campagne:20s} : {acceptations:4d} acceptations | Taux: {taux:6.2f}%\")\n",
    "\n",
    "print(f\"\\n   📈 Meilleure campagne : {max(taux_reponse, key=taux_reponse.get)} avec {max(taux_reponse.values()):.2f}%\")\n",
    "print(f\"   📉 Moins bonne campagne : {min(taux_reponse, key=taux_reponse.get)} avec {min(taux_reponse.values()):.2f}%\")\n",
    "\n",
    "print(\"\\n\" + \"=\"*80 + \"\\n\")\n",
    "\n",
    "# ----- KPI 2 : TAUX DE CONVERSION GLOBAL -----\n",
    "print(\"2️⃣ TAUX DE CONVERSION GLOBAL\")\n",
    "print(\"-\" * 80)\n",
    "\n",
    "df['Total_Acceptations'] = df[['AcceptedCmp1', 'AcceptedCmp2', 'AcceptedCmp3', 'AcceptedCmp4', 'AcceptedCmp5', 'Response']].sum(axis=1)\n",
    "clients_ayant_accepte = (df['Total_Acceptations'] > 0).sum()\n",
    "taux_conversion_global = (clients_ayant_accepte / len(df)) * 100\n",
    "\n",
    "print(f\"   Nombre total de clients : {len(df)}\")\n",
    "print(f\"   Clients ayant accepté au moins une campagne : {clients_ayant_accepte}\")\n",
    "print(f\"   📊 TAUX DE CONVERSION GLOBAL : {taux_conversion_global:.2f}%\")\n",
    "\n",
    "print(\"\\n\" + \"=\"*80 + \"\\n\")\n",
    "\n",
    "# ----- KPI 3 : REVENU MOYEN PAR CLIENT -----\n",
    "print(\"3️⃣ REVENU MOYEN PAR CLIENT (PANIER MOYEN)\")\n",
    "print(\"-\" * 80)\n",
    "\n",
    "# Calculer le total des achats par client si pas déjà fait\n",
    "if 'Total_Purchases' not in df.columns:\n",
    "    df['Total_Purchases'] = (df['MntWines'] + df['MntFruits'] + df['MntMeatProducts'] + \n",
    "                              df['MntFishProducts'] + df['MntSweetProducts'] + df['MntGoldProds'])\n",
    "\n",
    "revenu_moyen = df['Total_Purchases'].mean()\n",
    "revenu_median = df['Total_Purchases'].median()\n",
    "revenu_total = df['Total_Purchases'].sum()\n",
    "\n",
    "print(f\"   Revenu total généré : ${revenu_total:,.2f}\")\n",
    "print(f\"   📊 REVENU MOYEN par client : ${revenu_moyen:,.2f}\")\n",
    "print(f\"   📊 REVENU MÉDIAN par client : ${revenu_median:,.2f}\")\n",
    "\n",
    "print(\"\\n\" + \"=\"*80 + \"\\n\")\n",
    "\n",
    "# ----- KPI 4 : ANALYSE PRODUITS PREMIUM (VIN & VIANDE) -----\n",
    "print(\"4️⃣ 🍷🥩 PERFORMANCE PRODUITS PREMIUM (VIN & VIANDE)\")\n",
    "print(\"-\" * 80)\n",
    "print(\"   💡 Insight : Corrélation forte avec TotalMnt (0.89 vin / 0.84 viande)\")\n",
    "print()\n",
    "\n",
    "part_vin = (df['MntWines'].sum() / df['Total_Purchases'].sum()) * 100\n",
    "part_viande = (df['MntMeatProducts'].sum() / df['Total_Purchases'].sum()) * 100\n",
    "part_premium = part_vin + part_viande\n",
    "\n",
    "print(f\"   🍷 Part du VIN dans CA total : {part_vin:.1f}%\")\n",
    "print(f\"   🥩 Part de la VIANDE dans CA total : {part_viande:.1f}%\")\n",
    "print(f\"   ⭐ Part PRODUITS PREMIUM total : {part_premium:.1f}%\")\n",
    "\n",
    "# Identifier les clients \"Premium\" (gros acheteurs de vin/viande)\n",
    "df['Premium_Purchases'] = df['MntWines'] + df['MntMeatProducts']\n",
    "seuil_premium = df['Premium_Purchases'].quantile(0.75)\n",
    "clients_premium = (df['Premium_Purchases'] > seuil_premium).sum()\n",
    "pct_premium = (clients_premium / len(df)) * 100\n",
    "\n",
    "print(f\"\\n   👑 Clients PREMIUM (top 25% vin+viande) : {clients_premium} clients ({pct_premium:.1f}%)\")\n",
    "print(f\"   💰 Revenu moyen Premium : ${df[df['Premium_Purchases'] > seuil_premium]['Total_Purchases'].mean():,.2f}\")\n",
    "print(f\"   💡 STRATÉGIE : Cibler ces clients avec offres exclusives vin/viande\")\n",
    "\n",
    "print(\"\\n\" + \"=\"*80 + \"\\n\")\n",
    "\n",
    "# ----- KPI 5 : PERFORMANCE PAR CANAL (FOCUS CATALOGUE & MAGASIN) -----\n",
    "print(\"5️⃣ PERFORMANCE PAR CANAL DE DISTRIBUTION\")\n",
    "print(\"-\" * 80)\n",
    "print(\"   💡 Insight : Magasin = 82% volume | Catalogue = clients à forte valeur (0.78)\")\n",
    "print()\n",
    "\n",
    "achats_web = df['NumWebPurchases'].sum()\n",
    "achats_catalog = df['NumCatalogPurchases'].sum()\n",
    "achats_store = df['NumStorePurchases'].sum()\n",
    "achats_deals = df['NumDealsPurchases'].sum()\n",
    "total_achats = achats_web + achats_catalog + achats_store + achats_deals\n",
    "\n",
    "print(f\"   🌐 Web : {achats_web:5d} achats ({(achats_web/total_achats)*100:5.2f}%)\")\n",
    "print(f\"   📖 Catalogue : {achats_catalog:5d} achats ({(achats_catalog/total_achats)*100:5.2f}%)\")\n",
    "print(f\"   🏪 Magasin : {achats_store:5d} achats ({(achats_store/total_achats)*100:5.2f}%)\")\n",
    "print(f\"   💰 Promotions : {achats_deals:5d} achats ({(achats_deals/total_achats)*100:5.2f}%)\")\n",
    "print(f\"   📊 TOTAL : {total_achats} achats\")\n",
    "\n",
    "# Analyse clients catalogue (haute valeur)\n",
    "clients_catalogue = df[df['NumCatalogPurchases'] > 0]\n",
    "print(f\"\\n   📖 Clients achetant via CATALOGUE : {len(clients_catalogue)} ({len(clients_catalogue)/len(df)*100:.1f}%)\")\n",
    "print(f\"   💰 Revenu moyen Catalogue : ${clients_catalogue['Total_Purchases'].mean():,.2f}\")\n",
    "print(f\"   💰 Revenu moyen Autres : ${df[df['NumCatalogPurchases'] == 0]['Total_Purchases'].mean():,.2f}\")\n",
    "print(f\"   📈 Lift Catalogue : +{((clients_catalogue['Total_Purchases'].mean() / df[df['NumCatalogPurchases'] == 0]['Total_Purchases'].mean()) - 1) * 100:.1f}%\")\n",
    "print(f\"   💡 STRATÉGIE : Clients catalogue = haute valeur, investir dans ce canal\")\n",
    "\n",
    "print(\"\\n\" + \"=\"*80 + \"\\n\")\n",
    "\n",
    "# ----- KPI 6 : ROI PAR CAMPAGNE (Return On Investment) -----\n",
    "print(\"6️⃣ ROI - RETOUR SUR INVESTISSEMENT PAR CAMPAGNE\")\n",
    "print(\"-\" * 80)\n",
    "print(\"   💡 Insight : Faible corrélation inter-campagnes = profils clients différents\")\n",
    "print()\n",
    "\n",
    "# Revenu moyen des clients ayant accepté vs n'ayant pas accepté\n",
    "for campagne in campagnes:\n",
    "    revenu_accepte = df[df[campagne] == 1]['Total_Purchases'].mean()\n",
    "    revenu_refuse = df[df[campagne] == 0]['Total_Purchases'].mean()\n",
    "    diff = revenu_accepte - revenu_refuse\n",
    "    lift = ((revenu_accepte / revenu_refuse) - 1) * 100 if revenu_refuse > 0 else 0\n",
    "    \n",
    "    print(f\"   {campagne:20s}:\")\n",
    "    print(f\"      Revenu moyen (accepté) : ${revenu_accepte:,.2f}\")\n",
    "    print(f\"      Revenu moyen (refusé)  : ${revenu_refuse:,.2f}\")\n",
    "    print(f\"      📈 Lift : +{lift:.1f}% | Différence : ${diff:,.2f}\")\n",
    "    print()\n",
    "\n",
    "print(\"   💡 STRATÉGIE : Personnaliser chaque campagne selon le profil cible\")\n",
    "\n",
    "print(\"=\"*80 + \"\\n\")\n",
    "\n",
    "# ----- KPI 7 : RÉCENCE ET ACTIVITÉ CLIENT -----\n",
    "print(\"7️⃣ RÉCENCE ET ACTIVITÉ CLIENT\")\n",
    "print(\"-\" * 80)\n",
    "\n",
    "recence_moyenne = df['Recency'].mean()\n",
    "visites_web_moyennes = df['NumWebVisitsMonth'].mean()\n",
    "\n",
    "print(f\"   📅 Récence moyenne : {recence_moyenne:.1f} jours depuis le dernier achat\")\n",
    "print(f\"   🌐 Visites web moyennes : {visites_web_moyennes:.1f} visites/mois\")\n",
    "\n",
    "# Clients actifs (achat récent < 30 jours)\n",
    "clients_actifs = (df['Recency'] <= 30).sum()\n",
    "taux_clients_actifs = (clients_actifs / len(df)) * 100\n",
    "print(f\"   ✅ Clients actifs (<30j) : {clients_actifs} ({taux_clients_actifs:.2f}%)\")\n",
    "\n",
    "print(\"\\n\" + \"=\"*80 + \"\\n\")\n",
    "\n",
    "# ----- KPI 8 : SEGMENTATION PAR VALEUR CLIENT -----\n",
    "print(\"8️⃣ SEGMENTATION PAR VALEUR CLIENT\")\n",
    "print(\"-\" * 80)\n",
    "\n",
    "# Créer des segments basés sur les achats totaux\n",
    "df['Segment_Valeur'] = pd.cut(df['Total_Purchases'], \n",
    "                                bins=[0, 100, 500, 1000, float('inf')],\n",
    "                                labels=['Low Value', 'Medium Value', 'High Value', 'VIP'])\n",
    "\n",
    "segment_counts = df['Segment_Valeur'].value_counts()\n",
    "for segment in ['Low Value', 'Medium Value', 'High Value', 'VIP']:\n",
    "    if segment in segment_counts.index:\n",
    "        count = segment_counts[segment]\n",
    "        pct = (count / len(df)) * 100\n",
    "        avg_revenue = df[df['Segment_Valeur'] == segment]['Total_Purchases'].mean()\n",
    "        print(f\"   {segment:15s} : {count:4d} clients ({pct:5.2f}%) | Revenu moyen: ${avg_revenue:,.2f}\")\n",
    "\n",
    "print(\"\\n\" + \"=\"*80)\n",
    "print(\"✅ CALCUL DES KPIs TERMINÉ\")\n",
    "print(\"=\"*80 + \"\\n\")\n",
    "\n",
    "# ----- RÉSUMÉ STRATÉGIQUE BASÉ SUR LES CORRÉLATIONS -----\n",
    "print(\"=\"*80)\n",
    "print(\"🎯 RÉSUMÉ STRATÉGIQUE - INSIGHTS CORRÉLATIONS\")\n",
    "print(\"=\"*80)\n",
    "print()\n",
    "print(\"1️⃣  PRODUITS PREMIUM (Vin 0.89 / Viande 0.84)\")\n",
    "print(f\"    → Représentent {part_premium:.1f}% du CA\")\n",
    "print(f\"    → {clients_premium} clients Premium à cibler avec offres exclusives\")\n",
    "print()\n",
    "print(\"2️⃣  CANAL CATALOGUE (Corrélation 0.78)\")\n",
    "print(f\"    → Clients à haute valeur (+{((clients_catalogue['Total_Purchases'].mean() / df[df['NumCatalogPurchases'] == 0]['Total_Purchases'].mean()) - 1) * 100:.0f}% vs autres)\")\n",
    "print(f\"    → Investir davantage dans ce canal rentable\")\n",
    "print()\n",
    "print(\"3️⃣  CANAL MAGASIN (82% du volume)\")\n",
    "print(f\"    → Canal principal, optimiser l'expérience en magasin\")\n",
    "print()\n",
    "print(\"4️⃣  CAMPAGNES MARKETING (Corrélation inter-campagnes faible)\")\n",
    "print(f\"    → Chaque campagne attire un profil différent\")\n",
    "print(f\"    → Nécessité de PERSONNALISER chaque campagne\")\n",
    "print()\n",
    "print(\"=\"*80)"
   ]
  },
  {
   "cell_type": "code",
   "execution_count": null,
   "id": "502ea72c",
   "metadata": {},
   "outputs": [],
   "source": [
    "# ====== ANALYSE CROISÉE : CAMPAGNES x CANAUX DE DISTRIBUTION ======\n",
    "print(\"=\"*80)\n",
    "print(\"🔎 ANALYSE CROISÉE : PERFORMANCE DES CAMPAGNES PAR CANAL DE DISTRIBUTION\")\n",
    "print(\"=\"*80 + \"\\n\")\n",
    "\n",
    "# Pour chaque campagne, calculer le nombre moyen d'achats par canal pour les clients ayant accepté vs refusé\n",
    "campagnes = ['AcceptedCmp1', 'AcceptedCmp2', 'AcceptedCmp3', 'AcceptedCmp4', 'AcceptedCmp5', 'Response']\n",
    "canaux = ['NumWebPurchases', 'NumCatalogPurchases', 'NumStorePurchases', 'NumDealsPurchases']\n",
    "\n",
    "resultats = []\n",
    "for campagne in campagnes:\n",
    "    for canal in canaux:\n",
    "        mean_accepted = df[df[campagne] == 1][canal].mean()\n",
    "        mean_refused = df[df[campagne] == 0][canal].mean()\n",
    "        resultats.append({\n",
    "            'Campagne': campagne,\n",
    "            'Canal': canal,\n",
    "            'Moyenne_Accepté': mean_accepted,\n",
    "            'Moyenne_Refusé': mean_refused,\n",
    "            'Lift (%)': ((mean_accepted / mean_refused - 1) * 100) if mean_refused > 0 else None\n",
    "        })\n",
    "\n",
    "df_croise = pd.DataFrame(resultats)\n",
    "\n",
    "print(\"Tableau comparatif : Achats moyens par canal selon acceptation/refus de chaque campagne\\n\")\n",
    "display(df_croise.pivot(index='Campagne', columns='Canal', values=['Moyenne_Accepté', 'Moyenne_Refusé', 'Lift (%)']).round(2))\n",
    "\n",
    "print(\"\\nInterprétation :\")\n",
    "print(\"- Ce tableau permet d'identifier pour chaque campagne quels canaux sont les plus efficaces pour convertir les clients.\")\n",
    "print(\"- Un lift positif indique que les clients ayant accepté la campagne achètent plus via ce canal que ceux qui l'ont refusée.\")\n",
    "print(\"- Cela aide à adapter la stratégie de distribution pour chaque campagne.\")\n",
    "print(\"\\n\" + \"=\"*80 + \"\\n\")"
   ]
  },
  {
   "cell_type": "markdown",
   "id": "1151a66d",
   "metadata": {},
   "source": [
    "---\n",
    "## 5️) Réduction de la dimensionnalité (PCA) et Clustering\n",
    "\n",
    "### 5.1 Préparation des données et projection PCA (3D)"
   ]
  },
  {
   "cell_type": "code",
   "execution_count": 8,
   "id": "6b6cac5a",
   "metadata": {},
   "outputs": [
    {
     "name": "stdout",
     "output_type": "stream",
     "text": [
      "Variance expliquée par composante (PC1, PC2, PC3) : [0.3389 0.0988 0.0873]\n",
      "Variance expliquée cumulée (3D) : 0.525\n"
     ]
    },
    {
     "data": {
      "application/vnd.plotly.v1+json": {
       "config": {
        "plotlyServerURL": "https://plot.ly"
       },
       "data": [
        {
         "hovertemplate": "PC1=%{x}<br>PC2=%{y}<br>PC3=%{z}<br>color=%{marker.color}<extra></extra>",
         "legendgroup": "",
         "marker": {
          "color": {
           "bdata": "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",
           "dtype": "f8"
          },
          "coloraxis": "coloraxis",
          "opacity": 0.8,
          "size": 4,
          "symbol": "circle"
         },
         "mode": "markers",
         "name": "",
         "scene": "scene",
         "showlegend": false,
         "type": "scatter3d",
         "x": {
          "bdata": "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",
          "dtype": "f8"
         },
         "y": {
          "bdata": "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",
          "dtype": "f8"
         },
         "z": {
          "bdata": "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",
          "dtype": "f8"
         }
        }
       ],
       "layout": {
        "coloraxis": {
         "colorbar": {
          "title": {
           "text": "color"
          }
         },
         "colorscale": [
          [
           0,
           "#440154"
          ],
          [
           0.1111111111111111,
           "#482878"
          ],
          [
           0.2222222222222222,
           "#3e4989"
          ],
          [
           0.3333333333333333,
           "#31688e"
          ],
          [
           0.4444444444444444,
           "#26828e"
          ],
          [
           0.5555555555555556,
           "#1f9e89"
          ],
          [
           0.6666666666666666,
           "#35b779"
          ],
          [
           0.7777777777777778,
           "#6ece58"
          ],
          [
           0.8888888888888888,
           "#b5de2b"
          ],
          [
           1,
           "#fde725"
          ]
         ]
        },
        "legend": {
         "tracegroupgap": 0
        },
        "scene": {
         "domain": {
          "x": [
           0,
           1
          ],
          "y": [
           0,
           1
          ]
         },
         "xaxis": {
          "title": {
           "text": "PC1"
          }
         },
         "yaxis": {
          "title": {
           "text": "PC2"
          }
         },
         "zaxis": {
          "title": {
           "text": "PC3"
          }
         }
        },
        "template": {
         "data": {
          "bar": [
           {
            "error_x": {
             "color": "#2a3f5f"
            },
            "error_y": {
             "color": "#2a3f5f"
            },
            "marker": {
             "line": {
              "color": "#E5ECF6",
              "width": 0.5
             },
             "pattern": {
              "fillmode": "overlay",
              "size": 10,
              "solidity": 0.2
             }
            },
            "type": "bar"
           }
          ],
          "barpolar": [
           {
            "marker": {
             "line": {
              "color": "#E5ECF6",
              "width": 0.5
             },
             "pattern": {
              "fillmode": "overlay",
              "size": 10,
              "solidity": 0.2
             }
            },
            "type": "barpolar"
           }
          ],
          "carpet": [
           {
            "aaxis": {
             "endlinecolor": "#2a3f5f",
             "gridcolor": "white",
             "linecolor": "white",
             "minorgridcolor": "white",
             "startlinecolor": "#2a3f5f"
            },
            "baxis": {
             "endlinecolor": "#2a3f5f",
             "gridcolor": "white",
             "linecolor": "white",
             "minorgridcolor": "white",
             "startlinecolor": "#2a3f5f"
            },
            "type": "carpet"
           }
          ],
          "choropleth": [
           {
            "colorbar": {
             "outlinewidth": 0,
             "ticks": ""
            },
            "type": "choropleth"
           }
          ],
          "contour": [
           {
            "colorbar": {
             "outlinewidth": 0,
             "ticks": ""
            },
            "colorscale": [
             [
              0,
              "#0d0887"
             ],
             [
              0.1111111111111111,
              "#46039f"
             ],
             [
              0.2222222222222222,
              "#7201a8"
             ],
             [
              0.3333333333333333,
              "#9c179e"
             ],
             [
              0.4444444444444444,
              "#bd3786"
             ],
             [
              0.5555555555555556,
              "#d8576b"
             ],
             [
              0.6666666666666666,
              "#ed7953"
             ],
             [
              0.7777777777777778,
              "#fb9f3a"
             ],
             [
              0.8888888888888888,
              "#fdca26"
             ],
             [
              1,
              "#f0f921"
             ]
            ],
            "type": "contour"
           }
          ],
          "contourcarpet": [
           {
            "colorbar": {
             "outlinewidth": 0,
             "ticks": ""
            },
            "type": "contourcarpet"
           }
          ],
          "heatmap": [
           {
            "colorbar": {
             "outlinewidth": 0,
             "ticks": ""
            },
            "colorscale": [
             [
              0,
              "#0d0887"
             ],
             [
              0.1111111111111111,
              "#46039f"
             ],
             [
              0.2222222222222222,
              "#7201a8"
             ],
             [
              0.3333333333333333,
              "#9c179e"
             ],
             [
              0.4444444444444444,
              "#bd3786"
             ],
             [
              0.5555555555555556,
              "#d8576b"
             ],
             [
              0.6666666666666666,
              "#ed7953"
             ],
             [
              0.7777777777777778,
              "#fb9f3a"
             ],
             [
              0.8888888888888888,
              "#fdca26"
             ],
             [
              1,
              "#f0f921"
             ]
            ],
            "type": "heatmap"
           }
          ],
          "histogram": [
           {
            "marker": {
             "pattern": {
              "fillmode": "overlay",
              "size": 10,
              "solidity": 0.2
             }
            },
            "type": "histogram"
           }
          ],
          "histogram2d": [
           {
            "colorbar": {
             "outlinewidth": 0,
             "ticks": ""
            },
            "colorscale": [
             [
              0,
              "#0d0887"
             ],
             [
              0.1111111111111111,
              "#46039f"
             ],
             [
              0.2222222222222222,
              "#7201a8"
             ],
             [
              0.3333333333333333,
              "#9c179e"
             ],
             [
              0.4444444444444444,
              "#bd3786"
             ],
             [
              0.5555555555555556,
              "#d8576b"
             ],
             [
              0.6666666666666666,
              "#ed7953"
             ],
             [
              0.7777777777777778,
              "#fb9f3a"
             ],
             [
              0.8888888888888888,
              "#fdca26"
             ],
             [
              1,
              "#f0f921"
             ]
            ],
            "type": "histogram2d"
           }
          ],
          "histogram2dcontour": [
           {
            "colorbar": {
             "outlinewidth": 0,
             "ticks": ""
            },
            "colorscale": [
             [
              0,
              "#0d0887"
             ],
             [
              0.1111111111111111,
              "#46039f"
             ],
             [
              0.2222222222222222,
              "#7201a8"
             ],
             [
              0.3333333333333333,
              "#9c179e"
             ],
             [
              0.4444444444444444,
              "#bd3786"
             ],
             [
              0.5555555555555556,
              "#d8576b"
             ],
             [
              0.6666666666666666,
              "#ed7953"
             ],
             [
              0.7777777777777778,
              "#fb9f3a"
             ],
             [
              0.8888888888888888,
              "#fdca26"
             ],
             [
              1,
              "#f0f921"
             ]
            ],
            "type": "histogram2dcontour"
           }
          ],
          "mesh3d": [
           {
            "colorbar": {
             "outlinewidth": 0,
             "ticks": ""
            },
            "type": "mesh3d"
           }
          ],
          "parcoords": [
           {
            "line": {
             "colorbar": {
              "outlinewidth": 0,
              "ticks": ""
             }
            },
            "type": "parcoords"
           }
          ],
          "pie": [
           {
            "automargin": true,
            "type": "pie"
           }
          ],
          "scatter": [
           {
            "fillpattern": {
             "fillmode": "overlay",
             "size": 10,
             "solidity": 0.2
            },
            "type": "scatter"
           }
          ],
          "scatter3d": [
           {
            "line": {
             "colorbar": {
              "outlinewidth": 0,
              "ticks": ""
             }
            },
            "marker": {
             "colorbar": {
              "outlinewidth": 0,
              "ticks": ""
             }
            },
            "type": "scatter3d"
           }
          ],
          "scattercarpet": [
           {
            "marker": {
             "colorbar": {
              "outlinewidth": 0,
              "ticks": ""
             }
            },
            "type": "scattercarpet"
           }
          ],
          "scattergeo": [
           {
            "marker": {
             "colorbar": {
              "outlinewidth": 0,
              "ticks": ""
             }
            },
            "type": "scattergeo"
           }
          ],
          "scattergl": [
           {
            "marker": {
             "colorbar": {
              "outlinewidth": 0,
              "ticks": ""
             }
            },
            "type": "scattergl"
           }
          ],
          "scattermap": [
           {
            "marker": {
             "colorbar": {
              "outlinewidth": 0,
              "ticks": ""
             }
            },
            "type": "scattermap"
           }
          ],
          "scattermapbox": [
           {
            "marker": {
             "colorbar": {
              "outlinewidth": 0,
              "ticks": ""
             }
            },
            "type": "scattermapbox"
           }
          ],
          "scatterpolar": [
           {
            "marker": {
             "colorbar": {
              "outlinewidth": 0,
              "ticks": ""
             }
            },
            "type": "scatterpolar"
           }
          ],
          "scatterpolargl": [
           {
            "marker": {
             "colorbar": {
              "outlinewidth": 0,
              "ticks": ""
             }
            },
            "type": "scatterpolargl"
           }
          ],
          "scatterternary": [
           {
            "marker": {
             "colorbar": {
              "outlinewidth": 0,
              "ticks": ""
             }
            },
            "type": "scatterternary"
           }
          ],
          "surface": [
           {
            "colorbar": {
             "outlinewidth": 0,
             "ticks": ""
            },
            "colorscale": [
             [
              0,
              "#0d0887"
             ],
             [
              0.1111111111111111,
              "#46039f"
             ],
             [
              0.2222222222222222,
              "#7201a8"
             ],
             [
              0.3333333333333333,
              "#9c179e"
             ],
             [
              0.4444444444444444,
              "#bd3786"
             ],
             [
              0.5555555555555556,
              "#d8576b"
             ],
             [
              0.6666666666666666,
              "#ed7953"
             ],
             [
              0.7777777777777778,
              "#fb9f3a"
             ],
             [
              0.8888888888888888,
              "#fdca26"
             ],
             [
              1,
              "#f0f921"
             ]
            ],
            "type": "surface"
           }
          ],
          "table": [
           {
            "cells": {
             "fill": {
              "color": "#EBF0F8"
             },
             "line": {
              "color": "white"
             }
            },
            "header": {
             "fill": {
              "color": "#C8D4E3"
             },
             "line": {
              "color": "white"
             }
            },
            "type": "table"
           }
          ]
         },
         "layout": {
          "annotationdefaults": {
           "arrowcolor": "#2a3f5f",
           "arrowhead": 0,
           "arrowwidth": 1
          },
          "autotypenumbers": "strict",
          "coloraxis": {
           "colorbar": {
            "outlinewidth": 0,
            "ticks": ""
           }
          },
          "colorscale": {
           "diverging": [
            [
             0,
             "#8e0152"
            ],
            [
             0.1,
             "#c51b7d"
            ],
            [
             0.2,
             "#de77ae"
            ],
            [
             0.3,
             "#f1b6da"
            ],
            [
             0.4,
             "#fde0ef"
            ],
            [
             0.5,
             "#f7f7f7"
            ],
            [
             0.6,
             "#e6f5d0"
            ],
            [
             0.7,
             "#b8e186"
            ],
            [
             0.8,
             "#7fbc41"
            ],
            [
             0.9,
             "#4d9221"
            ],
            [
             1,
             "#276419"
            ]
           ],
           "sequential": [
            [
             0,
             "#0d0887"
            ],
            [
             0.1111111111111111,
             "#46039f"
            ],
            [
             0.2222222222222222,
             "#7201a8"
            ],
            [
             0.3333333333333333,
             "#9c179e"
            ],
            [
             0.4444444444444444,
             "#bd3786"
            ],
            [
             0.5555555555555556,
             "#d8576b"
            ],
            [
             0.6666666666666666,
             "#ed7953"
            ],
            [
             0.7777777777777778,
             "#fb9f3a"
            ],
            [
             0.8888888888888888,
             "#fdca26"
            ],
            [
             1,
             "#f0f921"
            ]
           ],
           "sequentialminus": [
            [
             0,
             "#0d0887"
            ],
            [
             0.1111111111111111,
             "#46039f"
            ],
            [
             0.2222222222222222,
             "#7201a8"
            ],
            [
             0.3333333333333333,
             "#9c179e"
            ],
            [
             0.4444444444444444,
             "#bd3786"
            ],
            [
             0.5555555555555556,
             "#d8576b"
            ],
            [
             0.6666666666666666,
             "#ed7953"
            ],
            [
             0.7777777777777778,
             "#fb9f3a"
            ],
            [
             0.8888888888888888,
             "#fdca26"
            ],
            [
             1,
             "#f0f921"
            ]
           ]
          },
          "colorway": [
           "#636efa",
           "#EF553B",
           "#00cc96",
           "#ab63fa",
           "#FFA15A",
           "#19d3f3",
           "#FF6692",
           "#B6E880",
           "#FF97FF",
           "#FECB52"
          ],
          "font": {
           "color": "#2a3f5f"
          },
          "geo": {
           "bgcolor": "white",
           "lakecolor": "white",
           "landcolor": "#E5ECF6",
           "showlakes": true,
           "showland": true,
           "subunitcolor": "white"
          },
          "hoverlabel": {
           "align": "left"
          },
          "hovermode": "closest",
          "mapbox": {
           "style": "light"
          },
          "paper_bgcolor": "white",
          "plot_bgcolor": "#E5ECF6",
          "polar": {
           "angularaxis": {
            "gridcolor": "white",
            "linecolor": "white",
            "ticks": ""
           },
           "bgcolor": "#E5ECF6",
           "radialaxis": {
            "gridcolor": "white",
            "linecolor": "white",
            "ticks": ""
           }
          },
          "scene": {
           "xaxis": {
            "backgroundcolor": "#E5ECF6",
            "gridcolor": "white",
            "gridwidth": 2,
            "linecolor": "white",
            "showbackground": true,
            "ticks": "",
            "zerolinecolor": "white"
           },
           "yaxis": {
            "backgroundcolor": "#E5ECF6",
            "gridcolor": "white",
            "gridwidth": 2,
            "linecolor": "white",
            "showbackground": true,
            "ticks": "",
            "zerolinecolor": "white"
           },
           "zaxis": {
            "backgroundcolor": "#E5ECF6",
            "gridcolor": "white",
            "gridwidth": 2,
            "linecolor": "white",
            "showbackground": true,
            "ticks": "",
            "zerolinecolor": "white"
           }
          },
          "shapedefaults": {
           "line": {
            "color": "#2a3f5f"
           }
          },
          "ternary": {
           "aaxis": {
            "gridcolor": "white",
            "linecolor": "white",
            "ticks": ""
           },
           "baxis": {
            "gridcolor": "white",
            "linecolor": "white",
            "ticks": ""
           },
           "bgcolor": "#E5ECF6",
           "caxis": {
            "gridcolor": "white",
            "linecolor": "white",
            "ticks": ""
           }
          },
          "title": {
           "x": 0.05
          },
          "xaxis": {
           "automargin": true,
           "gridcolor": "white",
           "linecolor": "white",
           "ticks": "",
           "title": {
            "standoff": 15
           },
           "zerolinecolor": "white",
           "zerolinewidth": 2
          },
          "yaxis": {
           "automargin": true,
           "gridcolor": "white",
           "linecolor": "white",
           "ticks": "",
           "title": {
            "standoff": 15
           },
           "zerolinecolor": "white",
           "zerolinewidth": 2
          }
         }
        },
        "title": {
         "text": "Projection PCA (3D)"
        }
       }
      }
     },
     "metadata": {},
     "output_type": "display_data"
    }
   ],
   "source": [
    "# 5.1 Préparation des données et PCA (3D)\n",
    "import numpy as np\n",
    "import pandas as pd\n",
    "from sklearn.preprocessing import StandardScaler\n",
    "from sklearn.decomposition import PCA\n",
    "import plotly.express as px\n",
    "import plotly.graph_objects as go\n",
    "\n",
    "# S'assurer que le DataFrame df est chargé (fallback au CSV brut si besoin)\n",
    "if 'df' not in globals():\n",
    "    df = pd.read_csv('Campagne_Market.csv', sep=';')\n",
    "    print(\"⚠️ df n'était pas en mémoire; chargement direct depuis le CSV.\")\n",
    "\n",
    "# 1) Sélection des colonnes numériques uniquement\n",
    "X_num = df.select_dtypes(include=[np.number]).copy()\n",
    "\n",
    "# 2) Retirer les identifiants et variables à forte fuite potentielle (optionnel)\n",
    "drop_cols = [col for col in ['ID'] if col in X_num.columns]\n",
    "X_num = X_num.drop(columns=drop_cols, errors='ignore')\n",
    "\n",
    "# 3) Imputation simple (médiane) pour valeurs manquantes\n",
    "for c in X_num.columns:\n",
    "    if X_num[c].isna().any():\n",
    "        X_num[c] = X_num[c].fillna(X_num[c].median())\n",
    "\n",
    "# 4) Standardisation\n",
    "scaler = StandardScaler()\n",
    "X_scaled = scaler.fit_transform(X_num)\n",
    "\n",
    "# 5) PCA en 3 composantes\n",
    "pca = PCA(n_components=3, random_state=42)\n",
    "X_pca = pca.fit_transform(X_scaled)\n",
    "df_pca = pd.DataFrame(X_pca, columns=['PC1','PC2','PC3'])\n",
    "\n",
    "explained = pca.explained_variance_ratio_\n",
    "print(\"Variance expliquée par composante (PC1, PC2, PC3) :\", np.round(explained, 4))\n",
    "print(f\"Variance expliquée cumulée (3D) : {explained.cumsum()[-1]:.3f}\")\n",
    "\n",
    "# 6) Visualisation 3D de la projection PCA\n",
    "# Couleur informative si dispo: préférer Total_Purchases, sinon Income, sinon aucune couleur\n",
    "color_col = None\n",
    "for cand in ['Total_Purchases','Income']:\n",
    "    if cand in df.columns:\n",
    "        color_col = cand\n",
    "        break\n",
    "\n",
    "if color_col is not None:\n",
    "    fig = px.scatter_3d(df_pca, x='PC1', y='PC2', z='PC3',\n",
    "                        color=df[color_col],\n",
    "                        color_continuous_scale='Viridis',\n",
    "                        title='Projection PCA (3D)')\n",
    "else:\n",
    "    fig = px.scatter_3d(df_pca, x='PC1', y='PC2', z='PC3', title='Projection PCA (3D)')\n",
    "fig.update_traces(marker=dict(size=4, opacity=0.8))\n",
    "fig.show()"
   ]
  },
  {
   "cell_type": "markdown",
   "id": "24d6fa30",
   "metadata": {},
   "source": [
    "### 5.2 Détermination du nombre optimal de clusters et choix de méthode (Silhouette)"
   ]
  },
  {
   "cell_type": "code",
   "execution_count": 9,
   "id": "7412a100",
   "metadata": {},
   "outputs": [
    {
     "name": "stdout",
     "output_type": "stream",
     "text": [
      "Scores de silhouette par méthode et k :\n",
      " method  Agglomerative  KMeans\n",
      "k                            \n",
      "2               0.438   0.469\n",
      "3               0.312   0.440\n",
      "4               0.340   0.400\n",
      "5               0.348   0.352\n",
      "6               0.330   0.353\n",
      "7               0.255   0.336\n",
      "8               0.240   0.341\n",
      "9               0.271   0.341\n",
      "10              0.289   0.351\n",
      "\n",
      "✅ Meilleur choix: KMeans avec k=2 (silhouette=0.469)\n"
     ]
    },
    {
     "data": {
      "image/png": "[encoded data removed]",
      "text/plain": [
       "<Figure size 700x400 with 1 Axes>"
      ]
     },
     "metadata": {},
     "output_type": "display_data"
    }
   ],
   "source": [
    "# 5.2 Choix du nombre de clusters et de la méthode (Silhouette)\n",
    "from sklearn.cluster import KMeans, AgglomerativeClustering\n",
    "from sklearn.metrics import silhouette_score\n",
    "import matplotlib.pyplot as plt\n",
    "import pandas as pd\n",
    "import numpy as np\n",
    "\n",
    "# Vérifier que X_pca existe (sinon relancer 5.1)\n",
    "if 'X_pca' not in globals():\n",
    "    raise RuntimeError(\"X_pca introuvable. Exécutez d'abord la cellule 5.1 (PCA).\")\n",
    "\n",
    "n_samples = X_pca.shape[0]\n",
    "k_max_possible = max(2, min(10, n_samples - 1))\n",
    "k_values = list(range(2, k_max_possible + 1))\n",
    "\n",
    "results = []\n",
    "for k in k_values:\n",
    "    # KMeans\n",
    "    km = KMeans(n_clusters=k, random_state=42, n_init=10)\n",
    "    labels_km = km.fit_predict(X_pca)\n",
    "    sil_km = silhouette_score(X_pca, labels_km)\n",
    "    results.append({'method':'KMeans','k':k,'silhouette':sil_km})\n",
    "    \n",
    "    # Agglomerative (Ward)\n",
    "    ag = AgglomerativeClustering(n_clusters=k, linkage='ward')\n",
    "    labels_ag = ag.fit_predict(X_pca)\n",
    "    sil_ag = silhouette_score(X_pca, labels_ag)\n",
    "    results.append({'method':'Agglomerative','k':k,'silhouette':sil_ag})\n",
    "\n",
    "df_scores = pd.DataFrame(results)\n",
    "best_row = df_scores.loc[df_scores['silhouette'].idxmax()]\n",
    "best_method = best_row['method']\n",
    "best_k = int(best_row['k'])\n",
    "best_score = best_row['silhouette']\n",
    "\n",
    "print(\"Scores de silhouette par méthode et k :\\n\", df_scores.pivot(index='k', columns='method', values='silhouette').round(3))\n",
    "print()\n",
    "print(f\"✅ Meilleur choix: {best_method} avec k={best_k} (silhouette={best_score:.3f})\")\n",
    "\n",
    "# Visualisation des scores\n",
    "plt.figure(figsize=(7,4))\n",
    "for method in ['KMeans','Agglomerative']:\n",
    "    subset = df_scores[df_scores['method']==method]\n",
    "    plt.plot(subset['k'], subset['silhouette'], marker='o', label=method)\n",
    "plt.title('Silhouette vs k (PCA 3D)')\n",
    "plt.xlabel('k')\n",
    "plt.ylabel('Score de silhouette')\n",
    "plt.grid(True, alpha=0.3)\n",
    "plt.legend()\n",
    "plt.show()\n",
    "\n",
    "# Conserver le meilleur choix en variables globales\n",
    "best_model_name = best_method\n",
    "best_n_clusters = best_k"
   ]
  },
  {
   "cell_type": "markdown",
   "id": "07eb7b24",
   "metadata": {},
   "source": [
    "### 5.3 Application du clustering sur l'espace PCA et visualisation 3D"
   ]
  },
  {
   "cell_type": "code",
   "execution_count": 10,
   "id": "23476a88",
   "metadata": {},
   "outputs": [
    {
     "name": "stdout",
     "output_type": "stream",
     "text": [
      "Clusters obtenus: [1328  904] (k=2)\n",
      "Score de silhouette final: 0.469\n"
     ]
    },
    {
     "data": {
      "application/vnd.plotly.v1+json": {
       "config": {
        "plotlyServerURL": "https://plot.ly"
       },
       "data": [
        {
         "hovertemplate": "Cluster=1<br>PC1=%{x}<br>PC2=%{y}<br>PC3=%{z}<extra></extra>",
         "legendgroup": "1",
         "marker": {
          "color": "#636efa",
          "opacity": 0.85,
          "size": 4,
          "symbol": "circle"
         },
         "mode": "markers",
         "name": "1",
         "scene": "scene",
         "showlegend": true,
         "type": "scatter3d",
         "x": {
          "bdata": "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",
          "dtype": "f8"
         },
         "y": {
          "bdata": "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",
          "dtype": "f8"
         },
         "z": {
          "bdata": "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",
          "dtype": "f8"
         }
        },
        {
         "hovertemplate": "Cluster=0<br>PC1=%{x}<br>PC2=%{y}<br>PC3=%{z}<extra></extra>",
         "legendgroup": "0",
         "marker": {
          "color": "#EF553B",
          "opacity": 0.85,
          "size": 4,
          "symbol": "circle"
         },
         "mode": "markers",
         "name": "0",
         "scene": "scene",
         "showlegend": true,
         "type": "scatter3d",
         "x": {
          "bdata": "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",
          "dtype": "f8"
         },
         "y": {
          "bdata": "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",
          "dtype": "f8"
         },
         "z": {
          "bdata": "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",
          "dtype": "f8"
         }
        }
       ],
       "layout": {
        "legend": {
         "title": {
          "text": "Cluster"
         },
         "tracegroupgap": 0
        },
        "scene": {
         "domain": {
          "x": [
           0,
           1
          ],
          "y": [
           0,
           1
          ]
         },
         "xaxis": {
          "title": {
           "text": "PC1"
          }
         },
         "yaxis": {
          "title": {
           "text": "PC2"
          }
         },
         "zaxis": {
          "title": {
           "text": "PC3"
          }
         }
        },
        "template": {
         "data": {
          "bar": [
           {
            "error_x": {
             "color": "#2a3f5f"
            },
            "error_y": {
             "color": "#2a3f5f"
            },
            "marker": {
             "line": {
              "color": "#E5ECF6",
              "width": 0.5
             },
             "pattern": {
              "fillmode": "overlay",
              "size": 10,
              "solidity": 0.2
             }
            },
            "type": "bar"
           }
          ],
          "barpolar": [
           {
            "marker": {
             "line": {
              "color": "#E5ECF6",
              "width": 0.5
             },
             "pattern": {
              "fillmode": "overlay",
              "size": 10,
              "solidity": 0.2
             }
            },
            "type": "barpolar"
           }
          ],
          "carpet": [
           {
            "aaxis": {
             "endlinecolor": "#2a3f5f",
             "gridcolor": "white",
             "linecolor": "white",
             "minorgridcolor": "white",
             "startlinecolor": "#2a3f5f"
            },
            "baxis": {
             "endlinecolor": "#2a3f5f",
             "gridcolor": "white",
             "linecolor": "white",
             "minorgridcolor": "white",
             "startlinecolor": "#2a3f5f"
            },
            "type": "carpet"
           }
          ],
          "choropleth": [
           {
            "colorbar": {
             "outlinewidth": 0,
             "ticks": ""
            },
            "type": "choropleth"
           }
          ],
          "contour": [
           {
            "colorbar": {
             "outlinewidth": 0,
             "ticks": ""
            },
            "colorscale": [
             [
              0,
              "#0d0887"
             ],
             [
              0.1111111111111111,
              "#46039f"
             ],
             [
              0.2222222222222222,
              "#7201a8"
             ],
             [
              0.3333333333333333,
              "#9c179e"
             ],
             [
              0.4444444444444444,
              "#bd3786"
             ],
             [
              0.5555555555555556,
              "#d8576b"
             ],
             [
              0.6666666666666666,
              "#ed7953"
             ],
             [
              0.7777777777777778,
              "#fb9f3a"
             ],
             [
              0.8888888888888888,
              "#fdca26"
             ],
             [
              1,
              "#f0f921"
             ]
            ],
            "type": "contour"
           }
          ],
          "contourcarpet": [
           {
            "colorbar": {
             "outlinewidth": 0,
             "ticks": ""
            },
            "type": "contourcarpet"
           }
          ],
          "heatmap": [
           {
            "colorbar": {
             "outlinewidth": 0,
             "ticks": ""
            },
            "colorscale": [
             [
              0,
              "#0d0887"
             ],
             [
              0.1111111111111111,
              "#46039f"
             ],
             [
              0.2222222222222222,
              "#7201a8"
             ],
             [
              0.3333333333333333,
              "#9c179e"
             ],
             [
              0.4444444444444444,
              "#bd3786"
             ],
             [
              0.5555555555555556,
              "#d8576b"
             ],
             [
              0.6666666666666666,
              "#ed7953"
             ],
             [
              0.7777777777777778,
              "#fb9f3a"
             ],
             [
              0.8888888888888888,
              "#fdca26"
             ],
             [
              1,
              "#f0f921"
             ]
            ],
            "type": "heatmap"
           }
          ],
          "histogram": [
           {
            "marker": {
             "pattern": {
              "fillmode": "overlay",
              "size": 10,
              "solidity": 0.2
             }
            },
            "type": "histogram"
           }
          ],
          "histogram2d": [
           {
            "colorbar": {
             "outlinewidth": 0,
             "ticks": ""
            },
            "colorscale": [
             [
              0,
              "#0d0887"
             ],
             [
              0.1111111111111111,
              "#46039f"
             ],
             [
              0.2222222222222222,
              "#7201a8"
             ],
             [
              0.3333333333333333,
              "#9c179e"
             ],
             [
              0.4444444444444444,
              "#bd3786"
             ],
             [
              0.5555555555555556,
              "#d8576b"
             ],
             [
              0.6666666666666666,
              "#ed7953"
             ],
             [
              0.7777777777777778,
              "#fb9f3a"
             ],
             [
              0.8888888888888888,
              "#fdca26"
             ],
             [
              1,
              "#f0f921"
             ]
            ],
            "type": "histogram2d"
           }
          ],
          "histogram2dcontour": [
           {
            "colorbar": {
             "outlinewidth": 0,
             "ticks": ""
            },
            "colorscale": [
             [
              0,
              "#0d0887"
             ],
             [
              0.1111111111111111,
              "#46039f"
             ],
             [
              0.2222222222222222,
              "#7201a8"
             ],
             [
              0.3333333333333333,
              "#9c179e"
             ],
             [
              0.4444444444444444,
              "#bd3786"
             ],
             [
              0.5555555555555556,
              "#d8576b"
             ],
             [
              0.6666666666666666,
              "#ed7953"
             ],
             [
              0.7777777777777778,
              "#fb9f3a"
             ],
             [
              0.8888888888888888,
              "#fdca26"
             ],
             [
              1,
              "#f0f921"
             ]
            ],
            "type": "histogram2dcontour"
           }
          ],
          "mesh3d": [
           {
            "colorbar": {
             "outlinewidth": 0,
             "ticks": ""
            },
            "type": "mesh3d"
           }
          ],
          "parcoords": [
           {
            "line": {
             "colorbar": {
              "outlinewidth": 0,
              "ticks": ""
             }
            },
            "type": "parcoords"
           }
          ],
          "pie": [
           {
            "automargin": true,
            "type": "pie"
           }
          ],
          "scatter": [
           {
            "fillpattern": {
             "fillmode": "overlay",
             "size": 10,
             "solidity": 0.2
            },
            "type": "scatter"
           }
          ],
          "scatter3d": [
           {
            "line": {
             "colorbar": {
              "outlinewidth": 0,
              "ticks": ""
             }
            },
            "marker": {
             "colorbar": {
              "outlinewidth": 0,
              "ticks": ""
             }
            },
            "type": "scatter3d"
           }
          ],
          "scattercarpet": [
           {
            "marker": {
             "colorbar": {
              "outlinewidth": 0,
              "ticks": ""
             }
            },
            "type": "scattercarpet"
           }
          ],
          "scattergeo": [
           {
            "marker": {
             "colorbar": {
              "outlinewidth": 0,
              "ticks": ""
             }
            },
            "type": "scattergeo"
           }
          ],
          "scattergl": [
           {
            "marker": {
             "colorbar": {
              "outlinewidth": 0,
              "ticks": ""
             }
            },
            "type": "scattergl"
           }
          ],
          "scattermap": [
           {
            "marker": {
             "colorbar": {
              "outlinewidth": 0,
              "ticks": ""
             }
            },
            "type": "scattermap"
           }
          ],
          "scattermapbox": [
           {
            "marker": {
             "colorbar": {
              "outlinewidth": 0,
              "ticks": ""
             }
            },
            "type": "scattermapbox"
           }
          ],
          "scatterpolar": [
           {
            "marker": {
             "colorbar": {
              "outlinewidth": 0,
              "ticks": ""
             }
            },
            "type": "scatterpolar"
           }
          ],
          "scatterpolargl": [
           {
            "marker": {
             "colorbar": {
              "outlinewidth": 0,
              "ticks": ""
             }
            },
            "type": "scatterpolargl"
           }
          ],
          "scatterternary": [
           {
            "marker": {
             "colorbar": {
              "outlinewidth": 0,
              "ticks": ""
             }
            },
            "type": "scatterternary"
           }
          ],
          "surface": [
           {
            "colorbar": {
             "outlinewidth": 0,
             "ticks": ""
            },
            "colorscale": [
             [
              0,
              "#0d0887"
             ],
             [
              0.1111111111111111,
              "#46039f"
             ],
             [
              0.2222222222222222,
              "#7201a8"
             ],
             [
              0.3333333333333333,
              "#9c179e"
             ],
             [
              0.4444444444444444,
              "#bd3786"
             ],
             [
              0.5555555555555556,
              "#d8576b"
             ],
             [
              0.6666666666666666,
              "#ed7953"
             ],
             [
              0.7777777777777778,
              "#fb9f3a"
             ],
             [
              0.8888888888888888,
              "#fdca26"
             ],
             [
              1,
              "#f0f921"
             ]
            ],
            "type": "surface"
           }
          ],
          "table": [
           {
            "cells": {
             "fill": {
              "color": "#EBF0F8"
             },
             "line": {
              "color": "white"
             }
            },
            "header": {
             "fill": {
              "color": "#C8D4E3"
             },
             "line": {
              "color": "white"
             }
            },
            "type": "table"
           }
          ]
         },
         "layout": {
          "annotationdefaults": {
           "arrowcolor": "#2a3f5f",
           "arrowhead": 0,
           "arrowwidth": 1
          },
          "autotypenumbers": "strict",
          "coloraxis": {
           "colorbar": {
            "outlinewidth": 0,
            "ticks": ""
           }
          },
          "colorscale": {
           "diverging": [
            [
             0,
             "#8e0152"
            ],
            [
             0.1,
             "#c51b7d"
            ],
            [
             0.2,
             "#de77ae"
            ],
            [
             0.3,
             "#f1b6da"
            ],
            [
             0.4,
             "#fde0ef"
            ],
            [
             0.5,
             "#f7f7f7"
            ],
            [
             0.6,
             "#e6f5d0"
            ],
            [
             0.7,
             "#b8e186"
            ],
            [
             0.8,
             "#7fbc41"
            ],
            [
             0.9,
             "#4d9221"
            ],
            [
             1,
             "#276419"
            ]
           ],
           "sequential": [
            [
             0,
             "#0d0887"
            ],
            [
             0.1111111111111111,
             "#46039f"
            ],
            [
             0.2222222222222222,
             "#7201a8"
            ],
            [
             0.3333333333333333,
             "#9c179e"
            ],
            [
             0.4444444444444444,
             "#bd3786"
            ],
            [
             0.5555555555555556,
             "#d8576b"
            ],
            [
             0.6666666666666666,
             "#ed7953"
            ],
            [
             0.7777777777777778,
             "#fb9f3a"
            ],
            [
             0.8888888888888888,
             "#fdca26"
            ],
            [
             1,
             "#f0f921"
            ]
           ],
           "sequentialminus": [
            [
             0,
             "#0d0887"
            ],
            [
             0.1111111111111111,
             "#46039f"
            ],
            [
             0.2222222222222222,
             "#7201a8"
            ],
            [
             0.3333333333333333,
             "#9c179e"
            ],
            [
             0.4444444444444444,
             "#bd3786"
            ],
            [
             0.5555555555555556,
             "#d8576b"
            ],
            [
             0.6666666666666666,
             "#ed7953"
            ],
            [
             0.7777777777777778,
             "#fb9f3a"
            ],
            [
             0.8888888888888888,
             "#fdca26"
            ],
            [
             1,
             "#f0f921"
            ]
           ]
          },
          "colorway": [
           "#636efa",
           "#EF553B",
           "#00cc96",
           "#ab63fa",
           "#FFA15A",
           "#19d3f3",
           "#FF6692",
           "#B6E880",
           "#FF97FF",
           "#FECB52"
          ],
          "font": {
           "color": "#2a3f5f"
          },
          "geo": {
           "bgcolor": "white",
           "lakecolor": "white",
           "landcolor": "#E5ECF6",
           "showlakes": true,
           "showland": true,
           "subunitcolor": "white"
          },
          "hoverlabel": {
           "align": "left"
          },
          "hovermode": "closest",
          "mapbox": {
           "style": "light"
          },
          "paper_bgcolor": "white",
          "plot_bgcolor": "#E5ECF6",
          "polar": {
           "angularaxis": {
            "gridcolor": "white",
            "linecolor": "white",
            "ticks": ""
           },
           "bgcolor": "#E5ECF6",
           "radialaxis": {
            "gridcolor": "white",
            "linecolor": "white",
            "ticks": ""
           }
          },
          "scene": {
           "xaxis": {
            "backgroundcolor": "#E5ECF6",
            "gridcolor": "white",
            "gridwidth": 2,
            "linecolor": "white",
            "showbackground": true,
            "ticks": "",
            "zerolinecolor": "white"
           },
           "yaxis": {
            "backgroundcolor": "#E5ECF6",
            "gridcolor": "white",
            "gridwidth": 2,
            "linecolor": "white",
            "showbackground": true,
            "ticks": "",
            "zerolinecolor": "white"
           },
           "zaxis": {
            "backgroundcolor": "#E5ECF6",
            "gridcolor": "white",
            "gridwidth": 2,
            "linecolor": "white",
            "showbackground": true,
            "ticks": "",
            "zerolinecolor": "white"
           }
          },
          "shapedefaults": {
           "line": {
            "color": "#2a3f5f"
           }
          },
          "ternary": {
           "aaxis": {
            "gridcolor": "white",
            "linecolor": "white",
            "ticks": ""
           },
           "baxis": {
            "gridcolor": "white",
            "linecolor": "white",
            "ticks": ""
           },
           "bgcolor": "#E5ECF6",
           "caxis": {
            "gridcolor": "white",
            "linecolor": "white",
            "ticks": ""
           }
          },
          "title": {
           "x": 0.05
          },
          "xaxis": {
           "automargin": true,
           "gridcolor": "white",
           "linecolor": "white",
           "ticks": "",
           "title": {
            "standoff": 15
           },
           "zerolinecolor": "white",
           "zerolinewidth": 2
          },
          "yaxis": {
           "automargin": true,
           "gridcolor": "white",
           "linecolor": "white",
           "ticks": "",
           "title": {
            "standoff": 15
           },
           "zerolinecolor": "white",
           "zerolinewidth": 2
          }
         }
        },
        "title": {
         "text": "Clustering KMeans sur PCA (k=2)"
        }
       }
      }
     },
     "metadata": {},
     "output_type": "display_data"
    },
    {
     "data": {
      "application/vnd.plotly.v1+json": {
       "config": {
        "plotlyServerURL": "https://plot.ly"
       },
       "data": [
        {
         "hovertemplate": "color=1<br>PC1=%{x}<br>PC2=%{y}<br>PC3=%{z}<extra></extra>",
         "legendgroup": "1",
         "marker": {
          "color": "#636efa",
          "symbol": "circle"
         },
         "mode": "markers",
         "name": "1",
         "scene": "scene",
         "showlegend": true,
         "type": "scatter3d",
         "x": {
          "bdata": "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",
          "dtype": "f8"
         },
         "y": {
          "bdata": "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",
          "dtype": "f8"
         },
         "z": {
          "bdata": "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",
          "dtype": "f8"
         }
        },
        {
         "hovertemplate": "color=0<br>PC1=%{x}<br>PC2=%{y}<br>PC3=%{z}<extra></extra>",
         "legendgroup": "0",
         "marker": {
          "color": "#EF553B",
          "symbol": "circle"
         },
         "mode": "markers",
         "name": "0",
         "scene": "scene",
         "showlegend": true,
         "type": "scatter3d",
         "x": {
          "bdata": "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",
          "dtype": "f8"
         },
         "y": {
          "bdata": "xtYcQ9qt3z/N6+l2j2j3P/ANljfRZ+M/4b8gehxo27/o4IrhCnD4P+e6WR5nLgXAsleihTIX1z8G833B367yv7mnT0Et4wBAx5OGeTGx1T8mB2BFC9sBQJd8kecFivG/7lmW+djj8L/MAvWqyZL5v2w54EFtdPG/VVvMy88U+b8uCVe/IX71P3PwAt0KJfM/Ssr8UlJQ+j9x0jF4nJDJv4DVwelg8+y/MKl8X1p5qz9gYjea3McFQAH7xOnIUQ/AJVN7a+jN2j93oC3jMjcBwEwq+AXDquO/bjdzoO9W8T/TL+Osyw37P4wjE3SrZvM/c+YJSyD8C8C0ZidqQSr9P30jP1xpbwBA+f8ntg4C5r9aMmqutYz4P9wqG5UtJvc/hXc4hBkn1790KluAAAm/P3IBATVapNQ/m4qzE9bavj9XcSX6PUT/P/PRceafOPS/2xbeb3Kp9j/Ee2ge8GfAv1PO09KQQ/A/RzJeDOfi8D/HynnbIabdvzDsf8v8iOc/ci6jcEheBUACvSzuseq+PyKV4WGeQ8U/Lr4HvsnA3T+8OeAIoXf5vwHRfXdJxeE/wMDYOSB1wb8pP4lo6ukGQCaV4VLRivU/YastR4G9AsBHN6EegznxP619DD9PX+0/EExXIAfI/b/PCuvPuZzyP4uDT2kAfuy/p3PAJZ8f/L8ULF17aQP1vzlu82w3COW/ZQf3JDmsAMAg8nr0nwDtv4Dp0ss9FwDAjHzARQKM4b+293QbgmrVv3WMUfDd08Y/70wOIiT6BEDt/9OeFL8JQEVimI7pc4A/OaqVFPVCEcCtn1YOmjHzP9lxs12ObQVAojgVA1yb4r+GJctQmHL1vzdDYUOvOgPAtSN+R9Ur8j/HTgIZVzTwPx16fBp7EPE/cJAIrPBm7j+MDrl/wy3rvxxWYYRXJPq/Oef9YEc0tT+sQXXCJzAKwIK4IF1Ra+E/tYgdt8d0/T9EvBV2BRX0vxsPyFlxMAHAj/XGRRDl6z+ikGuWNbW7P8DvY+3pmvc/WUKMqehQ+D9Vb/K1fIHTP0WRIOl0LO+/qTsAc4ZGAkA+5i9Qr6fXP0TK0wEVHQNAIPJ69J8A7b8Z/ckLIqLyP/1uj1MGSw9A8IjLiNL9+L8Wo2eUTpzqvzIrACOblfa/I1+suaDc7T/FkoDVlBK7P1ptTNqoHPW/csq34B2L+r9zUqOQDjP2vyfFanbPCfa/+/FEdXOk/b9KHSwVld/xP86kYf/lUeQ/JpCbBEMKxD+I5Qj2sf3uv/Pwikj+Ltq/6kao4ju0tT9bZp6IAaLsPyWHRgftks2/78NfRCrQAEDzbrhS99kBQJU4cFekGvK/PLZEER1OAMAp2ovsGXi1P/v2LS0Brek/xLmJ/p+Z4j9lfA/lRgXiP2jWuVvYS8Y/qH+RUBkn7z8SYAjbeBz8v3Vq+Fhg4sI/CSM2wrx80r90acn0jzTyvzxH6h0Z3uA/iaII5qW/EUAj5GJT0s/9v7AlOKbfOQNAmZgn8xRG/79h5ccbd5bVP+jgiuEKcPg/1o7Gj9x/AEBoJp6IyPTvv1qQf7Qt/9w/pbHRx3ab4T9kAgbAB90HQAtBAUfBsd6/m2aEVd2DC8CstnilJJD1vzBxqxLjavE/iC1QGqWv8z/WmsfcC7gHwLUOh9xRbPO/vQzosKjn2L8h4ukid/S+v5fmlWOPReu/nAeeGoTM+79Ujcu5ffTzv+uDyR/zIAFA+LhhRhAS5L8q4gF3f1vev8a4kWze6/k/dS9IcNqJAcBnhisSqSj5vzj/otlbnwrAAp39C/Aynj+VOHBXpBryv/Hck23NSsa/0Mgea/S8zD/dywQtz6T5Px/4b4RgmP+/G2Uktg2eB0CK7SZKbav6P/OqXiqkgf8/N7eNFrOs9r+AIYifeb3kPxcfNXV7/OU/iPB3bDob5z9VzFJ4ihz/PxxWYYRXJPq/zu8FkOuXyb/5zmP7sn3kv6L7eBPPj+G/aM7BSc4F7b/Q0rbJ5dECQD1C1tgz/eW/R7WNmMm7zD/IkYvkm9UCQNImXFCHetm/BbE9FNh4BsCXFGTPCHzSPyVRCrCtfQJAVH5ad9PT9T8eDSKK2UHyv3m4ZZheWfW/zY6yDmev/7959kR2BMPJP4m7iNP0mvc/rlGZJXAO8b/C6tJf5N/4v5k83HnPA/e/Gokx9isr5j/Rl1C+c4ngP/41HBDRc7O/Z6IDPwHy9b/vwLw1mZD1v786tYc14QnAaiDcJIiJ8D/izQJF4HLCP02S6RLQDf+/lZXjtDTH0b9vfP5cxer7v76crE+4Vv2/DwSZHfGV8r+0MwAqc4nqv3dTWfCqdPa/4UyBDJAC87/UpXYNvsvYP1MuA+qVVQTAHL/Z+N94AMBRAFxV1cHwP4AKxk6ejo4/J8Zb+9n+A0CcYHqKtiLUP/gOWmxziOk/cfF+DQzj/b8nfh4Ibu0BwJkRa3pZ/f0/xE5DsWOL8r+5aAxe74XAP1Hebf27uP+/ppvJ3ss+wz+rm9KBcgf/v7UOh9xRbPO/aXr38DbR/r/cfnGTZ6zpP5Z9fZRQuO+/V3b6DAdD4D+MbCPq05n2P1SgvyHNi+2/iFrUg+bW9r/+McRT0cDiP9NAdbkFfAPA5ON6Hs2Y8r/fvrkBle3SPy4cVvYCSfg/Iy0tYKLe3j/ff5GCxT7jP/pW3it2pO8/hU8CX7YI8z8D+21X8kHcv1mPqcC0m9i/JpCbBEMKxD/V+N8Z5X3gv7s/pFNV5OQ/8A2WN9Fn4z9TLgPqlVUEwFZJIHrF4re/Bz0TD/hIAMAqIld+a/zyv3hodTcGd/Q/9rJVL9MJ+r83BtBqGp8AwCe4nUUOLPw/vjDLX9dE7D+xGM8Flqn/vzucdet5kAPAenWeEM1T/D/dXZ5gz6vkPyWDef+o8PY/Uy4D6pVVBMDyTs90IVHjv7A8diS41vM/l12q893f0z90sI91kwPtP8t40+SdLvc/nGB6irYi1D93p5UProXkP6MkYxblHAVAt+80Mpo5BEC1V/zAwUvlvxxoS6uXZQPAvFswBpaV8r8sWx6vIqz1v8l/IGgaeb0/HV9AHEuA3z+vXXE9VWTYvyNzX9w/UPQ/S85/dodE0L+/AaQt7V7zvxH01Mhilfg/O/1On9Db+D+QnDjpwRXZP94BRrRqCwTAGYntMF8ACcBt95u+bIT2Py9miW/VMfW/l2leWrRY9T/0AXcSgbjivzM6iYSWHP6/JaJ5lnA3BEAzdS7uuDMAwJTGKVFL6t+/SFwoBwkY+j8H2wlVCEkDwKqsGujVTPC/5TvPxl0C7b+RRQY5r/oHQGNG99ETnfA/kl+0jVruAsBpKfL10cj6PxJFIPXQ/uo/tvr4ruDiAsBNgnkes8ToP44xKdnsDnQ/SwZ7nM6n8D/igAnV5kn8P27C4MppF/m/Noac8c6D9L8xIjvkkpGzP1i+LYV+A+Q/e4Wcf1KM+L/HBPZ6SIa6vx/nCacfqf6/9edyFPIl5r8riKAhHhH4P4aQ6Vu8vvo/uQxqwYms6D9BabLOIJ/fvwEUtz2VouY/e4Wcf1KM+L/1+j/RISjtv2j/qsmK4+A/xfoMqMcV87+TYC55taztv+W1S57hK/+/GatU+hlK5j8UuA3e0RfzP6UMIS6EDALAxwx+9aJjAUALkvnLddYDQCb+g0hGnO8/GLI8C7Z37z9x/y4KKDrHv26xPLki0+I/brE8uSLT4j+9UM0khcf3v1Pz0iInCP6/Tykto4tf0z/aN/Yf6Xj1v0QbL38sbvY/P5Ij889b8b+WjxCiSGvtvwTK34mUj/y/NzAk3+R/AMCB8DaioBv7P9KJYYaRBti/8YjED2cn9r+RFn3yehTcPxJv4XCGmeg/SOoaNB6X+T/oEPcBLTDzv74ax4cXcdW/+edY9yh/8b/J+oixX1T4P8lCItjzzcc/41vpapSUBMCpUAs632Hjv8Ycc8mZbfU/K3M6sT9F+b8wWcl58avzP6RldECBIvQ/D6vhwf22/b+qAJIEMjnSP1lXBhikXfq/6huWTNKuAUDtryFKoaf6v7EYWwuXdf2/SwZ7nM6n8D9oGJ5XSUL1P8mMabu4re0/2KVAx2+A9b9tZ7zVRCbnv+V/i3DxK/e/ltI7BUaDBsB7cifaHQXyv6LQt/taxeC/jHzARQKM4b/K5F+tDi31P9d5ze/xmey/kkj4otd8879gRPXrf078P5BR4EvogAJASvl0OPNG478zH8qo6Rj7P4wk24X5LvY/VVvMy88U+b/0bXGqoIoEQBWP1OhMU/O/B808Ie036b+IWtSD5tb2v8lhl0fFZ+G/hTW7bQql+D8AcLKpkuECwInozXUXGfk/fzoHJyyN9j/3PBD9/p78v8QcWLISrAhAO7skV94U8r+gltFXXB/zPygfOKnZocI/lFfZevh96r/DchWqTOv5P91XLILtNeg/KxN6R6KV/79utPwM/Vb6v/vXgbV1Jrm/ZOr7AoZP1T+2y5g2oETlPx2I78lRLvO/PwFmFuRH/L/lpkbk0Cj3P6ALQl6i9vy/WUKMqehQ+D9bSaLMiSC6vwvD4iTk4f0/9kwljn7fCEDJCzhz/2fzP0jZDWr5/+y/2U3SywOu/r/FZ+CQGCXzv/3JSuIraP4/ZaSAbA8z8783i2+Dk9r8v8D+lk/Gnve/iN4jppy28L/QB+6KNJPuP1XmXWs2suM/aX2eiUqX9D9KrjGb9wYLwGfiLNX+jQTA+DbrBpqP3r9IkilwEZTQP0uHn/dDBQHAH5YWzmiA/L/2yvCHYHXyv69grypBtfI/TWhGvds07z+azousUg3mP1wC4cj1Pvm/4wSI03WbB0DRyu/qV734P0Mc/xJUzOk/7YM+7gaOzj/1W1n4Yhrhv2d/+6ZMzQTA/JY8kjef/L8L0Oqd1zAPwPCzIIi6I/6/nesmQHmZAMDIoE4AZjjaPy4qR+IpzNE/O/1On9Db+D8uTg0nRr3Iv4dDZ2GyyPU/t8oAlGHsBEDylwjULin6v1HF57s2dfe/J1SD0/1X2L+Ko5H9LFECQIhXlF5ciuS/2hMjJmiSAcBPSDx42hLcv7rZO59XofW/Ky3w3t5w4b/tMjaXS6zoP4PwyRUtjvY/UwfAkbwz/j/+V1pD/hHoPyWHRgftks2/fSDXZqAnwz/2kKh6m+Xzv1mPqcC0m9i/7K02W/O3CUC+GseHF3HVv/eJuO0c2tq/t/Xdw/te/r8wB7d+GiYFQDWlk9EyffQ/2QPwGMBr8j9bfxWWZPfZv20vCXZ11f0/iu0mSm2r+j8m+MZJ9SzmP67++oWLssI/kOC767G2sz8OQQTFTJL+Px/4b4RgmP+/I61GHefxsD/tJnHmGCLkPxV2lDj4//W/znbUMm02AcDBiYVm91XtP6OX+DkJ//+/YlffIb+H7z+kvrhaVibrvxnjVUXPn+g/jZquQ/St9b/QPGSp8zvov+Lh+16vuPW/GYntMF8ACcB3qVkTpNTQP8mgIg+I8dm/dGo6Knmd/L9N8lvDtEv+vwQyHfYc3PA/K8VENU2RBsCjurRRs9DaPwA1UZwdjcI/WxzLYs3p9L95WE2adbbwP74nzLa2AwPAy32xcXMbtj/cwsswrQn2PxvnxreecPW/P8X0YPKC6T+F6FDJNVfcP4PwVp4iOvK/vVDNJIXH97+uNauHMiP1P3o0N2V4e+8/BhBo2BSW7T+9y6qe++3xv+UvPedMaOi/XuWqS2DwAsDMfqOQ6QzkP34DJanNSfC/3LoVDRc7AEBQ9xcidET0P5Y0QBVEZvu/VYvVo3on+T8i1lncckvpP88EQ7yhL+O/WOWOhGw3xT+MM+mqDgAAwD9iByPnXPg/zmaWybSt7b+BGVcuxHbyP0TK0wEVHQNA/BVArT389z8QzsXrFHDqv/mgBX7KXOe/A2uKDaRZ979XN1SR0M7zv/SGErbb09A/iWcllBtyBUAughDi5GkFwEltHkD1K/U/+edY9yh/8b9jAXfclrnDP2eA1mr5owTA0sHLj/GO9b+ZkP/gJBj2P/r2/ftgLeO/64PJH/MgAUDpRT0WgZ/ZP+gcHcFGBO8/EWtlnEot8D/IwddF7UDjv21i89V2//E/3dWvIQOs4b8YFYvqM1vXv1FSeA7cgPI/EUJyDK/f9L/jUvcxO3P7vz6mwbq+EwLA91glztkC8b8A/mjAXKblv4xADmUuhN0/FmcsqT1S6T+JLBvfs0Pav6idWRS/esG/LcUA0KMH3792eMGmmCm3v0jQXip7WfA/y/E/J8DXAUBL7F2F6uvmvwLUbxdZTfg/7TI2l0us6D8G833B367yv8j7z/QG0/0/Ul5NDixTAMCbb7vs4nIAwOFRcdHxRwLA4YA37ItR77+HLIkHBC72vwjzbT3uM7U/XHL1xfRm8r+JCaO+zgbsPz0R+k7hpOa/enwPsT5U9L/Soslm7CnkP/9Q94IHlum/DqzCiR2F8b9r8RT1ynABwBmRdLXptOY/knxyjkLW0j86xtqPgh7yP9W7vYntmf6/ln19lFC477+WJ9tmR1vIP+7CYTg7gPI/CB/+s4yS9r8P15gub+7wvx/roDBfhwjAS6C7ElYY5z+MKs4xlX7jP/X5MYG9yf6//W6gu0HyBsCFVQe53NMBQLB0bupgQwJAMC7Qong14D9wMAG4f0u0P7dU8frggeU/Em/hcIaZ6D/Bhgp84cTeP5a8zz3zewdAdIB0MqrU8z8UAD1dcZLrv1aI8FOwFQJARrKoMGZo9r8WU9w1Zv3wv68wCAt+jO4/cF31IGPC+z/R8PA26XDQP2f/kXJMh/2/XD8Vit1e5b9V7UAWCfvFv0OeFo12jPo/vmKfkvqo/L+N0GYHid3xv94AM+O/VvO/b39CA5dQ2D8bZSS2DZ4HQJ14a6msKva/Gbdq8XWb2r8f8EexfcrOv+KiE6tGrPM/zWsZwMeW679mGK8fSfr2vx3kdnkprua/AWw32ZP+67/3etXf9w0QwKE2Ek/aUP4/e/5BVCox+L9PqiamGLq8v1k26ZiSKQDA5X+LcPEr97/9cm+bU7b6Px0SqMGVhA5A5j8SJg3X9D8oo7TWD6b2v2ET2fZW++C//FW32yA5zL+QiR6Lqn8CQMwAhKUTUva/eDNXmAPz3z9yU6rfIuThP5EWffJ6FNw/7lmW+djj8L+T0OLq1OP/v7fKAJRh7ARA7jRXhAQ1678qQgFN2In8P5GD3rf11/2/jN/wkNmZAMCeZ2BBUibgP+BjRFWGCdQ/hv5KnSx+BMAzDyXO/+a7P2zAD3U88Og/G58MydSh9r88KGgF1V7vvy+4fUp4tfI/9jMJpPj/0j+88p2PpkL6P5vq/LtvlP6/jFNecd9myj8k9S0A+vEBwIhLsiA709i/XzSCnErUzr8f+yEIEib0vyeBV6aJF/6/ASL5AXzVwD9jAiAz2Pztv585XLDI2/O/ywQLad5k+b9z7dLF2uzMP/cPl9er+96/eFOp46Mp/L+QuaKRfnn9v/GKM6InCvS/KBYzK3ZWuT9vUbg4M5W9v8aUGrC3pfc/i5T/3l5E8b/pmxaBgt0AQAoOVxjFQ/i/XAxZ9ubm4L9AgmumTbH5v7Ph4jhFxOK/jCTbhfku9j/YXcf3wS/ev7RjZh7JS/W/vfmVHn+wtD+1J6EJxMbwP5yNb1eCddI/pnBINbr08L+K+chybtjnP9Uf0ztGJ9k/ow3liQTv278ObrliCpkOQPaLqzju1PU/ps7xSoTb+L8Uv9Yin3LTP2aaFeWO+/k/9FFPFE4w5b+xw51iKX3iPzVWpWtJLwHAqc/LPsq+AEAGOmu/9jvzP1bCjftLvgjAKGQPGUsICUCY8CJRteXWP/LgFAX3SpM/SyWIMW6S2j8Ek+aAPyzhP7e8pi+MKca/r5nMNP6A9L9qfttiXT7jP3PWfbd8Lfi/1JhLTW9z+7/MfqOQ6QzkPylcKvwKB+8/A3VuW8e7tL9h06CIS/33v/nLVwmLofa/+IYyMwuY+r/N7JFodv71v1Fb5yirWOs/aP+qyYrj4D87BR0+uQjxP0MD1m05MAJAJjOYkqnq/D/c7n7tYEvlPyVDKKx0BeM/fZONaDav+j/HgfBoK/XxP2Zk66UJmQnAoY2yjD8w/z+JbPyOp5H3v6tuNVXhG/Q/o7tB1tYL/r8ktfsHcgf8v5QNlkP2OAfA4o9mxRsQqr9l8d6QZJD+P3XoirT6YwLA/aL3hjHBAECQnMkcH5e8vxLBj0L50Og/vdz0ZEy89D/Sb/93oSznv7BLogBONOm/XfeQfEcz8r/KMu/qmu0CQNAyNj8cGvm/UhMlj0dM5D/wqYoFXg/9v/ZauW3Yg/i/B7/+3BcQ7T8zKVtWdwDwvz3GjZQtG+w/FuOzDMey/T90m6xa+n7/vwCaH/IzLfi/A4BBS2iB9L9cEaT/X5QDwLGWbTRTwP6/zWL/CCLs8L+htXw8aLT7v+yf/z3hKfo//rBdzVT1+7+MI6CJaJDvP6/FdJVwyuE/9g5AOPlGz79JtfwtIXb3v0v5vnjGhfY/j9hakya1AMBoBqffBKzeP3lcGPuYk/M/fxzbKHtY5r9xzzgO3UH/v97tnh4rsPG/ZcAbs5cF9b96BhRCWSjuPys02G3Jm/w/xo5cURXJ2b8jnRt7sKP+v8nAImJwK/s/U004qxQW+b+ARHxvYSb9PyRNkmzFxQ7ANaWT0TJ99D9iAsU9yz7sP7qmIlX8TfI/mCa9UK3+AMDY8qCYiir8v3yfw8VE5wHAFbivQElrvD88+pOWp6f1P/mLxXbX4OU/z9QfRAGqwj9jludvHXDjP2dHeerh7fa/5+L0kTxo+j/hUXHR8UcCwIkfoANEE/O/OTkurKLV/T+NJMvw9bf1P/ykiWOCzvG/Pl98HkXp8D8PPmjc1Tz5v7ju7KkV1/S/wJnRI9We7b81XYQyIzb4P0Ld6VlHvQRAPx/xVXug+T+0jEwlwqADwPsbiLCC0d2/ft7rP3+/5b/xFD56XpD2P7cV34vT1gNAtKIF4DUh9r/4cFZKvxTQv1uO/WFPUAjAJVLxI30AAcAebf87Gr39PyuP1PPnafA/mpPQOfNB2L8evCc0LZ8CwCeBV6aJF/6/XGapt7dy0b8ddrQm8wLivwyg0vdd6PI/PuYvUK+n1z8tc3iQ3qzYv3NFVJbP3uQ/V+UyS6Zsh79ae9S1yDjwvzB/lowxZgBAcBK4Rf99+z/93LkRoPXhP0I/MD3TFdm/yX8gaBp5vT9DnD16UrDav8HiZa7DFdw/j6e/Ten4xr/0S0qJ374AQMeNyEr1kOi/xmPSlVaq5b9zsUj1HXYDwL1e6Xi1yP+/mMcdf1pjdb/bV7p4ogXzPzjczsIAkPu/gDtZrrvC/D/7kRdVUvD3vwKAn7i0IwNAE0zQT43n6z/OijOYIDrsv3rtDL4HM/E/8YjED2cn9r9SzMDDhLm6vz3UhYMtBAZAeG5Zg4aE+z/z+mBD26DHv22WSdMpB+A/oy8VWn8h5z+LiNfbqVLkv7VMUM6llu+/6KfsLEXL6T8Vj9ToTFPzv0co3gcPjwHA0EbNYgGTyj/zQ/EKRPjzP0vxJb0LaPI/RBb2vU3P/j9/mbvnvcwCQJ5HEWDhrP0/5+L0kTxo+j9vYRDLeH/qP6xP0t0AdP0/sRhbC5d1/b+/fduv8Rzdv0QW9r1Nz/4/enw7KVl/yb8a5VK9pkj0P2DRMd3RSPw//RO6CSK4C8Atci/o/tb3v619DD9PX+0/qFBSyWDDA8DbClGHpgjev3Jnx39iC9O/6QoqEuLp5z9bLE1KYbgAwHfDBOm5qu6/LSvJkIGkz7/NjrIOZ6//v1DoqCOjYwHAiWz8jqeR97+Ehi37MuGoP3QqW4AACb8/vVCk+ePGDsC0xjO335IBQCgb6jgGqvC/wnctU2SD9r+CmuzyfzsAwL9OB7eOEN0/I6m7v5N58T9iAsU9yz7sP1cNKpmVZQ5AsPcS0NKm5D8CqVIfpwnbPzhDVywLxe8/R0vvxCeG67+azv/C2NzUv5CnVod81QDA00ZM3ErF3r9oo+CLsi78v73J7Clpuvw/FKUco+x09b9K48RTIgPNP+s5/DsE4u8/QeWBJCYnoz8p6KrZV6nzPxypidsxgPq/tDiVcdJG07/NF7zGuYzfP8iUcuos/dU/gh51IeHj9b89fKOgFgUDwDycgGC78QDA/qeT2mqe7z/b+7rmxdbmP2TPCpZ0efM/4kJYTk/5AMBDezAIZ07ov1qVLT47sxDAoTH7AabU0L8yCJ+0YXbwP62Rk2M3ZgHAgMCLWY0p6j9A8iJMgiPVvwBwsqmS4QLAeGK8CQGFAkBtB3IiXXXtvys14w3Jb/O//81+l3/k5j9UJ5qxYhvxP3OAfjE1Wdg/4n0bmp7AAMA9xc00EmXyP0fELU0eSvq/I4CVel+9CsAh7/RWdgn2v7iONEyGLPo/37nGZG+Mzj+fZ/4NcQKpvzdDYUOvOgPAlMYpUUvq37/9bqC7QfIGwMHiZa7DFdw/xR6drZ7gBsCoPBiWglsEwOin7CxFy+k/SBB6u7g6A8AULF17aQP1v1wC4cj1Pvm/rQBjk+JM+D/aB8hNDGT0P+Zo8KeicuE/OENNNZ1D2T9DgZfUxojoP1nCwJsDtvm/1uS3UpZj8T8aRYDOiDzwv9PZFbs/stw/HRKowZWEDkCqligwutv7vyoxHcfqwQXAFjqI+kfN4j9un9R9AD8EwG3DjojvI/E/f5oEWCbyxj98hyPRIxD3v8/JGeWxZ9u/1bu9ie2Z/r+qc8lkV7L9P6uSHYaYbP+/ILov0wgs4j//ReSc9yX4v0HO5Hx3zeG/cmijcLjo2z8iYbr4DlwEQFMHwJG8M/4/aiEpQlwA8T9X5TJLpmyHv/0ukT0KFuY/09kVuz+y3D+6OOGUUtHvv4RcdT4ghfA/PedhDeyk279I0F4qe1nwP2UfD+kvk8u/B808Ie036b/Ln2Rx51D2vxCd62CnFN4/TRhoG190A0DwilbYPUX9v7b3dBuCatW/oFWj5th2+b/yCeoL4On1P0NYyWNEjeC/bUc9pDqx/r//zIUxxGjev8djPwTkYdA/Qj8wPdMV2b/4XtUru8sJwEMD1m05MAJAxUCmbkQkA0BvAoy28R8CQJBNNUpPqPS/QMuXNPTX9r8f19fshmD7Pwy++uBvkve/0lcU722MBUB3rs794vTwv9++uQGV7dI/p1uhgmd56T/AI2K1KYT0v1BYUjEe9fU/l1sxLi6P7D8i30KGcDL4PwILVEFHrfE/CPhPkwDN87/FUpwv/Vf6v8C2SLw4W+E/fazQx2ki6D/7kdv/6izrP7/Mp8ugurK/tU0ROgGz9j+/RuQAYw/Ov6o87LDFxwLAm9TS42vCDUA0rL26sNnXP1QCvZyTjuu/irsiYJNS0z+r2KiDtU4CwJWNLigG0v4/QhOTUv1QAEAL6/pIatj3P4TmRWgGN/I/ARS3PZWi5j+lMBbigP/0Pwfqs01NXvO/kZdiow6F/L/Yis4qWPLAvwmgqFtrvcY/6nOt74Ry6z8EpCdAJjb/P9awZJByw/I/zlCN1xqd5b/MA1ZVQOwIwNk4lCyuC+M/4AIi8SvQBMACS32SXJPaP8k2F+HZqvG/166A/ScByL/zP41AcbH4P4tud6IH6Oo/LXkigM2u9r/Wsaa3iar5P9axpreJqvk/kHmxLp9P5D8NjYzOt7H0v3LKt+Adi/q/roP0/Jr/5z+LhsQGHxr/v60pVG28JfW/aHZ7s8gF9z/1W1n4Yhrhv6fhp4e2Lf+/iqOR/SxRAkAaBH6iJmXxvx8AwcI+7Oi/no1C85rJ/b++QHdJJq32v4Xos8vWo/G/YMgDsRxa3z9hcplwieP8v+wt2ShxMgPAJVLxI30AAcB0qSwmOYIDwMVytpUCS/K/+YVWY+oL9T8NnXVKYhH7v7Xh8A9pewPAF4WBQmNqu79U0Cza7uT9v9ZyZ182N/M/O5tDPQ2L0L8VJQJ8ERX/PxWkVmVO5+i/2ViQJCuV87+lAm172mbYP3Vez7YScw1As2BD4tVJ97+Wbiu9cvXxv9nUzN9G2O2/jOph99Yn6r/uZPIaaUTTvxC3OMW7cwdAbp/UfQA/BMA3HYLYxWm4vy+GI174bv2/UDX/3TXr4j/YrlzKCdDrv9SEwZRMB/w/GWe+Iqoh8r+fhl0T0dQAQF0AFz9hrfW/4V5JndKm9D/FO2fsa4fqv3m1RTqlQ/Q/lTiTEcnRC8DJwCJicCv7P8eThnkxsdU/l8VJFGHW/b80mm/onpT5P2l9nolKl/Q/NFTo8aQRBMB59kR2BMPJP0rRkdinGvs/FjWONvFQ1L+eSe70mYXzP9o39h/pePW/nNW12b8OBkDcTmw91JDxv77EMQhhVwPA4IbCXgMS97+RGxNahorpP4H0oiBZ0bm/vD570ee02T8Fr/IxkTnpv585XLDI2/O/GkWAzog88L+MjIeh2NvavziwJGoahgnASu2s8LGJ7b+vppHFuEO+v1WL1aN6J/k/YguUNOvy8T8LEkjPqdrnvxNM0E+N5+s/9icXlUOF879LEcbEhArtP4tud6IH6Oo/LC9MhEKt4D+OoQijqH2cP/qv0PMzdwLA41L3MTtz+78vhiNe+G79vyjHcNIyY/O/OcWrG3oZ8z92LvFd9tbxv32Tq83Fg/y/ZMsG9ZzY5D8PEkOIYyjFP32s0MdpIug/eGh1NwZ39D9Yr49LthLrv3PmCUsg/AvAZkTNj4jW978s4ceo9lHYPyst8N7ecOG/vYCj6p98CkCuIKu0umjxP4VLelYKkP4/NG51+vWl+j8BT7nDq8PSv5ApopzNiOQ/PoLUJDay+D9eq8c7UZjBvwDYKC9IyOk/msdxc+LM4r9KZ93Eyff7P6kYScd+KgpA4SRn6ZlG7r8qUSLQgu7nvy5JzAVWUd8/mVZs92jd+r+Hqp0hsNr8v2imtjMLf/q/FRQsm+oK3T8043Bi1bXyvzf/b3dm4/Q/L5kYRdHM9r8sT8qkF6TyP67++oWLssI/bMm9MUcm5j9/726mHFH2v1z2DQvzOOU/TQQFAeBd8j/WYbdNprzxv2jxbIn02gJAvgf9HuUP8D+yv/pVO/zsP+RyNJsyxva/MJQNxvhsur9RaKZkym/1P1lo7i2/5eW/sY9FF014EMDSb/93oSznv5yDHGIKeOU/puKhV8ravz9WdRFrasDnP7y9jEqjw/u/OK+EhPYr1T+jIr5wBA/gP6XD/LttywPAyEO5DoK+5D/lf4tw8Sv3v6URHHVcR+M/zlO4sMM6+D98n8PFROcBwFmOYw6969k/fduPsbcJ5r+F7e06pHoAQN6NEXlYues/C2Ux17NOvb9e5apLYPACwAldII04LPO/VgliF66K+j9paLxmzmoDQPVfWpIRv8U/ZF8wdaxf/b8e3SJEOhPUP+Fh7UfgOeQ/saZM1wq0+r89mVAEnNjnv8bWHEPard8/oJKHf3LZ+L9Q10BaEKPsv6jAjM0nQsC/DqzCiR2F8b9SCaCMKtb2P5CJHouqfwJABDX9bENu7r/YXU0borzvv55J7vSZhfM/nBaWjnNQAcANX/5dFNvTP1ITJY9HTOQ/qcE8yedrAcCmcEg1uvTwv2PYe9ZKrf+/hMxsKZXd9L+nU+cQZCHsPyst8N7ecOG/7WuE08gz7z+MAJm3kjnfPwe6HaPiawLA25FS6I/WzL+u+37ilPLnP7o13VZKHeK/m4V/1cF61z+NFwSkJGJ2Pzwz0hSsmee/KgcGw8m1+D8CC1RBR63xP+ytNlvztwlAHehY5O5/D8BinCNtGYeXP5k1ZZ/L3cc/CVVS/Qg27T9m1pSMytP8v7uyDqReR/q/ObIZGI3m+L/C6RMvOTETQHTrxBVEh+6/tEymNf0T+L/Gp2lrwXHzP/9vq8n94wLAAVbjwdJO9z+H6dMjoUrWPyNQZB0sfQZAc0wdSs+P3j+JJIH8620AwGR5ZkKZuPQ/u8C0iwGs6z8c3zaaJW/7PyaMNFomKsk/+FrbbJgu4r+FYe9BXNbwv2jWuVvYS8Y/z1/ErI/u9r/ArJdZs3n2PyVRCrCtfQJAz3UgTpvn7j8pMTyDb5nxv8Ez32KLZvO/aBieV0lC9T+gw68XkoAAwA==",
          "dtype": "f8"
         },
         "z": {
          "bdata": "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",
          "dtype": "f8"
         }
        },
        {
         "marker": {
          "color": "black",
          "size": 8,
          "symbol": "x"
         },
         "mode": "markers",
         "name": "Centroids",
         "type": "scatter3d",
         "x": {
          "bdata": "ZAITno03AsAmRAmAos8KQA==",
          "dtype": "f8"
         },
         "y": {
          "bdata": "/dgJa2pPwL/tUu2PNgHIPw==",
          "dtype": "f8"
         },
         "z": {
          "bdata": "5n1Nmni2vD/9iq1OESHFvw==",
          "dtype": "f8"
         }
        }
       ],
       "layout": {
        "legend": {
         "title": {
          "text": "color"
         },
         "tracegroupgap": 0
        },
        "scene": {
         "domain": {
          "x": [
           0,
           1
          ],
          "y": [
           0,
           1
          ]
         },
         "xaxis": {
          "title": {
           "text": "PC1"
          }
         },
         "yaxis": {
          "title": {
           "text": "PC2"
          }
         },
         "zaxis": {
          "title": {
           "text": "PC3"
          }
         }
        },
        "template": {
         "data": {
          "bar": [
           {
            "error_x": {
             "color": "#2a3f5f"
            },
            "error_y": {
             "color": "#2a3f5f"
            },
            "marker": {
             "line": {
              "color": "#E5ECF6",
              "width": 0.5
             },
             "pattern": {
              "fillmode": "overlay",
              "size": 10,
              "solidity": 0.2
             }
            },
            "type": "bar"
           }
          ],
          "barpolar": [
           {
            "marker": {
             "line": {
              "color": "#E5ECF6",
              "width": 0.5
             },
             "pattern": {
              "fillmode": "overlay",
              "size": 10,
              "solidity": 0.2
             }
            },
            "type": "barpolar"
           }
          ],
          "carpet": [
           {
            "aaxis": {
             "endlinecolor": "#2a3f5f",
             "gridcolor": "white",
             "linecolor": "white",
             "minorgridcolor": "white",
             "startlinecolor": "#2a3f5f"
            },
            "baxis": {
             "endlinecolor": "#2a3f5f",
             "gridcolor": "white",
             "linecolor": "white",
             "minorgridcolor": "white",
             "startlinecolor": "#2a3f5f"
            },
            "type": "carpet"
           }
          ],
          "choropleth": [
           {
            "colorbar": {
             "outlinewidth": 0,
             "ticks": ""
            },
            "type": "choropleth"
           }
          ],
          "contour": [
           {
            "colorbar": {
             "outlinewidth": 0,
             "ticks": ""
            },
            "colorscale": [
             [
              0,
              "#0d0887"
             ],
             [
              0.1111111111111111,
              "#46039f"
             ],
             [
              0.2222222222222222,
              "#7201a8"
             ],
             [
              0.3333333333333333,
              "#9c179e"
             ],
             [
              0.4444444444444444,
              "#bd3786"
             ],
             [
              0.5555555555555556,
              "#d8576b"
             ],
             [
              0.6666666666666666,
              "#ed7953"
             ],
             [
              0.7777777777777778,
              "#fb9f3a"
             ],
             [
              0.8888888888888888,
              "#fdca26"
             ],
             [
              1,
              "#f0f921"
             ]
            ],
            "type": "contour"
           }
          ],
          "contourcarpet": [
           {
            "colorbar": {
             "outlinewidth": 0,
             "ticks": ""
            },
            "type": "contourcarpet"
           }
          ],
          "heatmap": [
           {
            "colorbar": {
             "outlinewidth": 0,
             "ticks": ""
            },
            "colorscale": [
             [
              0,
              "#0d0887"
             ],
             [
              0.1111111111111111,
              "#46039f"
             ],
             [
              0.2222222222222222,
              "#7201a8"
             ],
             [
              0.3333333333333333,
              "#9c179e"
             ],
             [
              0.4444444444444444,
              "#bd3786"
             ],
             [
              0.5555555555555556,
              "#d8576b"
             ],
             [
              0.6666666666666666,
              "#ed7953"
             ],
             [
              0.7777777777777778,
              "#fb9f3a"
             ],
             [
              0.8888888888888888,
              "#fdca26"
             ],
             [
              1,
              "#f0f921"
             ]
            ],
            "type": "heatmap"
           }
          ],
          "histogram": [
           {
            "marker": {
             "pattern": {
              "fillmode": "overlay",
              "size": 10,
              "solidity": 0.2
             }
            },
            "type": "histogram"
           }
          ],
          "histogram2d": [
           {
            "colorbar": {
             "outlinewidth": 0,
             "ticks": ""
            },
            "colorscale": [
             [
              0,
              "#0d0887"
             ],
             [
              0.1111111111111111,
              "#46039f"
             ],
             [
              0.2222222222222222,
              "#7201a8"
             ],
             [
              0.3333333333333333,
              "#9c179e"
             ],
             [
              0.4444444444444444,
              "#bd3786"
             ],
             [
              0.5555555555555556,
              "#d8576b"
             ],
             [
              0.6666666666666666,
              "#ed7953"
             ],
             [
              0.7777777777777778,
              "#fb9f3a"
             ],
             [
              0.8888888888888888,
              "#fdca26"
             ],
             [
              1,
              "#f0f921"
             ]
            ],
            "type": "histogram2d"
           }
          ],
          "histogram2dcontour": [
           {
            "colorbar": {
             "outlinewidth": 0,
             "ticks": ""
            },
            "colorscale": [
             [
              0,
              "#0d0887"
             ],
             [
              0.1111111111111111,
              "#46039f"
             ],
             [
              0.2222222222222222,
              "#7201a8"
             ],
             [
              0.3333333333333333,
              "#9c179e"
             ],
             [
              0.4444444444444444,
              "#bd3786"
             ],
             [
              0.5555555555555556,
              "#d8576b"
             ],
             [
              0.6666666666666666,
              "#ed7953"
             ],
             [
              0.7777777777777778,
              "#fb9f3a"
             ],
             [
              0.8888888888888888,
              "#fdca26"
             ],
             [
              1,
              "#f0f921"
             ]
            ],
            "type": "histogram2dcontour"
           }
          ],
          "mesh3d": [
           {
            "colorbar": {
             "outlinewidth": 0,
             "ticks": ""
            },
            "type": "mesh3d"
           }
          ],
          "parcoords": [
           {
            "line": {
             "colorbar": {
              "outlinewidth": 0,
              "ticks": ""
             }
            },
            "type": "parcoords"
           }
          ],
          "pie": [
           {
            "automargin": true,
            "type": "pie"
           }
          ],
          "scatter": [
           {
            "fillpattern": {
             "fillmode": "overlay",
             "size": 10,
             "solidity": 0.2
            },
            "type": "scatter"
           }
          ],
          "scatter3d": [
           {
            "line": {
             "colorbar": {
              "outlinewidth": 0,
              "ticks": ""
             }
            },
            "marker": {
             "colorbar": {
              "outlinewidth": 0,
              "ticks": ""
             }
            },
            "type": "scatter3d"
           }
          ],
          "scattercarpet": [
           {
            "marker": {
             "colorbar": {
              "outlinewidth": 0,
              "ticks": ""
             }
            },
            "type": "scattercarpet"
           }
          ],
          "scattergeo": [
           {
            "marker": {
             "colorbar": {
              "outlinewidth": 0,
              "ticks": ""
             }
            },
            "type": "scattergeo"
           }
          ],
          "scattergl": [
           {
            "marker": {
             "colorbar": {
              "outlinewidth": 0,
              "ticks": ""
             }
            },
            "type": "scattergl"
           }
          ],
          "scattermap": [
           {
            "marker": {
             "colorbar": {
              "outlinewidth": 0,
              "ticks": ""
             }
            },
            "type": "scattermap"
           }
          ],
          "scattermapbox": [
           {
            "marker": {
             "colorbar": {
              "outlinewidth": 0,
              "ticks": ""
             }
            },
            "type": "scattermapbox"
           }
          ],
          "scatterpolar": [
           {
            "marker": {
             "colorbar": {
              "outlinewidth": 0,
              "ticks": ""
             }
            },
            "type": "scatterpolar"
           }
          ],
          "scatterpolargl": [
           {
            "marker": {
             "colorbar": {
              "outlinewidth": 0,
              "ticks": ""
             }
            },
            "type": "scatterpolargl"
           }
          ],
          "scatterternary": [
           {
            "marker": {
             "colorbar": {
              "outlinewidth": 0,
              "ticks": ""
             }
            },
            "type": "scatterternary"
           }
          ],
          "surface": [
           {
            "colorbar": {
             "outlinewidth": 0,
             "ticks": ""
            },
            "colorscale": [
             [
              0,
              "#0d0887"
             ],
             [
              0.1111111111111111,
              "#46039f"
             ],
             [
              0.2222222222222222,
              "#7201a8"
             ],
             [
              0.3333333333333333,
              "#9c179e"
             ],
             [
              0.4444444444444444,
              "#bd3786"
             ],
             [
              0.5555555555555556,
              "#d8576b"
             ],
             [
              0.6666666666666666,
              "#ed7953"
             ],
             [
              0.7777777777777778,
              "#fb9f3a"
             ],
             [
              0.8888888888888888,
              "#fdca26"
             ],
             [
              1,
              "#f0f921"
             ]
            ],
            "type": "surface"
           }
          ],
          "table": [
           {
            "cells": {
             "fill": {
              "color": "#EBF0F8"
             },
             "line": {
              "color": "white"
             }
            },
            "header": {
             "fill": {
              "color": "#C8D4E3"
             },
             "line": {
              "color": "white"
             }
            },
            "type": "table"
           }
          ]
         },
         "layout": {
          "annotationdefaults": {
           "arrowcolor": "#2a3f5f",
           "arrowhead": 0,
           "arrowwidth": 1
          },
          "autotypenumbers": "strict",
          "coloraxis": {
           "colorbar": {
            "outlinewidth": 0,
            "ticks": ""
           }
          },
          "colorscale": {
           "diverging": [
            [
             0,
             "#8e0152"
            ],
            [
             0.1,
             "#c51b7d"
            ],
            [
             0.2,
             "#de77ae"
            ],
            [
             0.3,
             "#f1b6da"
            ],
            [
             0.4,
             "#fde0ef"
            ],
            [
             0.5,
             "#f7f7f7"
            ],
            [
             0.6,
             "#e6f5d0"
            ],
            [
             0.7,
             "#b8e186"
            ],
            [
             0.8,
             "#7fbc41"
            ],
            [
             0.9,
             "#4d9221"
            ],
            [
             1,
             "#276419"
            ]
           ],
           "sequential": [
            [
             0,
             "#0d0887"
            ],
            [
             0.1111111111111111,
             "#46039f"
            ],
            [
             0.2222222222222222,
             "#7201a8"
            ],
            [
             0.3333333333333333,
             "#9c179e"
            ],
            [
             0.4444444444444444,
             "#bd3786"
            ],
            [
             0.5555555555555556,
             "#d8576b"
            ],
            [
             0.6666666666666666,
             "#ed7953"
            ],
            [
             0.7777777777777778,
             "#fb9f3a"
            ],
            [
             0.8888888888888888,
             "#fdca26"
            ],
            [
             1,
             "#f0f921"
            ]
           ],
           "sequentialminus": [
            [
             0,
             "#0d0887"
            ],
            [
             0.1111111111111111,
             "#46039f"
            ],
            [
             0.2222222222222222,
             "#7201a8"
            ],
            [
             0.3333333333333333,
             "#9c179e"
            ],
            [
             0.4444444444444444,
             "#bd3786"
            ],
            [
             0.5555555555555556,
             "#d8576b"
            ],
            [
             0.6666666666666666,
             "#ed7953"
            ],
            [
             0.7777777777777778,
             "#fb9f3a"
            ],
            [
             0.8888888888888888,
             "#fdca26"
            ],
            [
             1,
             "#f0f921"
            ]
           ]
          },
          "colorway": [
           "#636efa",
           "#EF553B",
           "#00cc96",
           "#ab63fa",
           "#FFA15A",
           "#19d3f3",
           "#FF6692",
           "#B6E880",
           "#FF97FF",
           "#FECB52"
          ],
          "font": {
           "color": "#2a3f5f"
          },
          "geo": {
           "bgcolor": "white",
           "lakecolor": "white",
           "landcolor": "#E5ECF6",
           "showlakes": true,
           "showland": true,
           "subunitcolor": "white"
          },
          "hoverlabel": {
           "align": "left"
          },
          "hovermode": "closest",
          "mapbox": {
           "style": "light"
          },
          "paper_bgcolor": "white",
          "plot_bgcolor": "#E5ECF6",
          "polar": {
           "angularaxis": {
            "gridcolor": "white",
            "linecolor": "white",
            "ticks": ""
           },
           "bgcolor": "#E5ECF6",
           "radialaxis": {
            "gridcolor": "white",
            "linecolor": "white",
            "ticks": ""
           }
          },
          "scene": {
           "xaxis": {
            "backgroundcolor": "#E5ECF6",
            "gridcolor": "white",
            "gridwidth": 2,
            "linecolor": "white",
            "showbackground": true,
            "ticks": "",
            "zerolinecolor": "white"
           },
           "yaxis": {
            "backgroundcolor": "#E5ECF6",
            "gridcolor": "white",
            "gridwidth": 2,
            "linecolor": "white",
            "showbackground": true,
            "ticks": "",
            "zerolinecolor": "white"
           },
           "zaxis": {
            "backgroundcolor": "#E5ECF6",
            "gridcolor": "white",
            "gridwidth": 2,
            "linecolor": "white",
            "showbackground": true,
            "ticks": "",
            "zerolinecolor": "white"
           }
          },
          "shapedefaults": {
           "line": {
            "color": "#2a3f5f"
           }
          },
          "ternary": {
           "aaxis": {
            "gridcolor": "white",
            "linecolor": "white",
            "ticks": ""
           },
           "baxis": {
            "gridcolor": "white",
            "linecolor": "white",
            "ticks": ""
           },
           "bgcolor": "#E5ECF6",
           "caxis": {
            "gridcolor": "white",
            "linecolor": "white",
            "ticks": ""
           }
          },
          "title": {
           "x": 0.05
          },
          "xaxis": {
           "automargin": true,
           "gridcolor": "white",
           "linecolor": "white",
           "ticks": "",
           "title": {
            "standoff": 15
           },
           "zerolinecolor": "white",
           "zerolinewidth": 2
          },
          "yaxis": {
           "automargin": true,
           "gridcolor": "white",
           "linecolor": "white",
           "ticks": "",
           "title": {
            "standoff": 15
           },
           "zerolinecolor": "white",
           "zerolinewidth": 2
          }
         }
        },
        "title": {
         "text": "Clusters + Centroides (KMeans, k=2)"
        }
       }
      }
     },
     "metadata": {},
     "output_type": "display_data"
    }
   ],
   "source": [
    "# 5.3 Application du clustering choisi et 3D-plot\n",
    "from sklearn.cluster import KMeans, AgglomerativeClustering\n",
    "from sklearn.metrics import silhouette_score\n",
    "import plotly.express as px\n",
    "import numpy as np\n",
    "import pandas as pd\n",
    "\n",
    "# Sécuriser les prérequis\n",
    "if 'X_pca' not in globals():\n",
    "    raise RuntimeError(\"X_pca introuvable. Exécutez d'abord la cellule 5.1 (PCA).\")\n",
    "if 'best_model_name' not in globals() or 'best_n_clusters' not in globals():\n",
    "    raise RuntimeError(\"Meilleur modèle non défini. Exécutez d'abord la cellule 5.2.\")\n",
    "\n",
    "# Fit final du meilleur modèle\n",
    "if best_model_name == 'KMeans':\n",
    "    model = KMeans(n_clusters=best_n_clusters, random_state=42, n_init=10)\n",
    "elif best_model_name == 'Agglomerative':\n",
    "    model = AgglomerativeClustering(n_clusters=best_n_clusters, linkage='ward')\n",
    "else:\n",
    "    raise ValueError(f\"Méthode non reconnue: {best_model_name}\")\n",
    "\n",
    "labels = model.fit_predict(X_pca)\n",
    "sil = silhouette_score(X_pca, labels)\n",
    "\n",
    "# Ajouter les labels au df et à df_pca\n",
    "df['Cluster'] = labels\n",
    "df_pca['Cluster'] = labels\n",
    "\n",
    "print(f\"Clusters obtenus: {np.bincount(labels)} (k={best_n_clusters})\")\n",
    "print(f\"Score de silhouette final: {sil:.3f}\")\n",
    "\n",
    "# Visualisation 3D des clusters sur l'espace PCA\n",
    "fig = px.scatter_3d(df_pca, x='PC1', y='PC2', z='PC3',\n",
    "                    color=df_pca['Cluster'].astype(str),\n",
    "                    title=f'Clustering {best_model_name} sur PCA (k={best_n_clusters})',\n",
    "                    labels={'color':'Cluster'})\n",
    "fig.update_traces(marker=dict(size=4, opacity=0.85))\n",
    "fig.show()\n",
    "\n",
    "# Optionnel: centroids en 3D (pour KMeans)\n",
    "try:\n",
    "    centers = model.cluster_centers_  # disponible pour KMeans\n",
    "    centers_df = pd.DataFrame(centers, columns=['PC1','PC2','PC3'])\n",
    "    import plotly.graph_objects as go\n",
    "    fig_centers = px.scatter_3d(df_pca, x='PC1', y='PC2', z='PC3', color=df_pca['Cluster'].astype(str),\n",
    "                                title=f'Clusters + Centroides (KMeans, k={best_n_clusters})')\n",
    "    fig_centers.add_trace(go.Scatter3d(x=centers_df['PC1'], y=centers_df['PC2'], z=centers_df['PC3'],\n",
    "                                       mode='markers', marker=dict(size=8, color='black', symbol='x'),\n",
    "                                       name='Centroids'))\n",
    "    fig_centers.show()\n",
    "except Exception:\n",
    "    pass"
   ]
  },
  {
   "cell_type": "markdown",
   "id": "dc23e364",
   "metadata": {},
   "source": [
    "---\n",
    "## 8️) Modélisation Prédictive\n",
    "\n",
    "### 8.1 Préparation des données pour la prédiction"
   ]
  },
  {
   "cell_type": "code",
   "execution_count": null,
   "id": "0d6bcef0",
   "metadata": {},
   "outputs": [],
   "source": []
  },
  {
   "cell_type": "markdown",
   "id": "9adebde3",
   "metadata": {},
   "source": [
    "### 8.2 Entraînement de plusieurs modèles"
   ]
  },
  {
   "cell_type": "code",
   "execution_count": null,
   "id": "87d1dd60",
   "metadata": {},
   "outputs": [],
   "source": []
  },
  {
   "cell_type": "markdown",
   "id": "ce613e25",
   "metadata": {},
   "source": [
    "### 8.3 Comparaison des performances"
   ]
  },
  {
   "cell_type": "code",
   "execution_count": null,
   "id": "2b28a638",
   "metadata": {},
   "outputs": [],
   "source": []
  },
  {
   "cell_type": "markdown",
   "id": "990ae85f",
   "metadata": {},
   "source": [
    "### 8.4 Analyse détaillée du meilleur modèle"
   ]
  },
  {
   "cell_type": "code",
   "execution_count": null,
   "id": "5e5397df",
   "metadata": {},
   "outputs": [],
   "source": []
  },
  {
   "cell_type": "markdown",
   "id": "b5f2e79e",
   "metadata": {},
   "source": [
    "---\n",
    "## 9️) Conclusions et Recommandations\n",
    "\n",
    "### 9.1 Synthèse des Résultats"
   ]
  },
  {
   "cell_type": "markdown",
   "id": "1bd19647",
   "metadata": {},
   "source": [
    "### 9.2 Recommandations Stratégiques"
   ]
  },
  {
   "cell_type": "markdown",
   "id": "32abb92f",
   "metadata": {},
   "source": [
    "---\n",
    "\n",
    "## Conclusion Finale\n",
    "\n",
    "Cette analyse complète a permis de :\n",
    "\n",
    "\n",
    "### Points Forts de l'Analyse\n"
   ]
  }
 ],
 "metadata": {
  "kernelspec": {
   "display_name": "base",
   "language": "python",
   "name": "python3"
  },
  "language_info": {
   "codemirror_mode": {
    "name": "ipython",
    "version": 3
   },
   "file_extension": ".py",
   "mimetype": "text/x-python",
   "name": "python",
   "nbconvert_exporter": "python",
   "pygments_lexer": "ipython3",
   "version": "3.12.7"
  }
 },
 "nbformat": 4,
 "nbformat_minor": 5
}
