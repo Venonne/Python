{
 "cells": [
  {
   "cell_type": "markdown",
   "id": "9e8ec887",
   "metadata": {},
   "source": [
    "# Analyse de Campagne Marketing - Grande Distribution\n",
    "\n",
    "---\n",
    "\n",
    "## Contexte et Objectifs\n",
    "\n",
    "**Client :** Direction Marketing d'une multinationale de la grande distribution\n",
    "\n",
    "### Objectifs Principaux\n",
    "1. **Analyser, visualiser et interpréter** les données de campagne marketing\n",
    "2. **Définir les KPIs pertinents** pour évaluer l'efficacité des campagnes\n",
    "3. **Prédire la réponse client** aux futures campagnes\n",
    "\n",
    "### Objectifs Finaux\n",
    "- Chiffrer l'efficacité des campagnes marketing\n",
    "- Réaliser des KPIs et fournir des chiffres clés\n",
    "- Cerner la cible client et comprendre le public ciblé\n",
    "\n",
    "### Livrables\n",
    "- Analyses exploratoires complètes\n",
    "- Modèles prédictifs de réponse client\n",
    "- Segmentation client (clustering)\n",
    "- Justification du feature engineering"
   ]
  },
  {
   "cell_type": "markdown",
   "id": "d06c55b5",
   "metadata": {},
   "source": [
    "## Table des Matières\n",
    "\n",
    "1. **Importation des Bibliothèques**\n",
    "2. **Chargement et Découverte des Données**\n",
    "3. **Nettoyage et Prétraitement des Données**\n",
    "4. **Feature Engineering**\n",
    "5. **Définition et Calcul des KPIs**\n",
    "6. **Segmentation Client (Clustering)**\n",
    "7. **Modélisation Prédictive**\n",
    "8. **Conclusions et Recommandations**"
   ]
  },
  {
   "cell_type": "markdown",
   "id": "c9679aba",
   "metadata": {},
   "source": [
    "---\n",
    "## 1) Importation des Bibliothèques"
   ]
  },
  {
   "cell_type": "code",
   "execution_count": 25,
   "id": "c692e748",
   "metadata": {},
   "outputs": [
    {
     "name": "stdout",
     "output_type": "stream",
     "text": [
      "✅ Toutes les bibliothèques ont été importées avec succès !\n"
     ]
    }
   ],
   "source": [
    "import pandas as pd\n",
    "import numpy as np\n",
    "\n",
    "# Visualisation\n",
    "import matplotlib.pyplot as plt\n",
    "import seaborn as sns\n",
    "import plotly.express as px\n",
    "import plotly.graph_objects as go\n",
    "from plotly.subplots import make_subplots\n",
    "\n",
    "# Machine Learning - Preprocessing\n",
    "from sklearn.preprocessing import StandardScaler, LabelEncoder\n",
    "\n",
    "# Machine Learning - Clustering\n",
    "from sklearn.cluster import KMeans\n",
    "from sklearn.decomposition import PCA\n",
    "\n",
    "# Machine Learning - Modélisation\n",
    "from sklearn.model_selection import train_test_split\n",
    "from sklearn.linear_model import LogisticRegression\n",
    "from sklearn.ensemble import RandomForestClassifier, GradientBoostingClassifier\n",
    "from sklearn.tree import DecisionTreeClassifier\n",
    "\n",
    "# Machine Learning - Évaluation\n",
    "from sklearn.metrics import (\n",
    "    classification_report, confusion_matrix, \n",
    "    accuracy_score, precision_score, recall_score, f1_score,\n",
    "    roc_auc_score, roc_curve, precision_recall_curve\n",
    ")\n",
    "\n",
    "# Ignorer les warnings\n",
    "import warnings \n",
    "warnings.filterwarnings('ignore')\n",
    "\n",
    "# Configuration des graphiques\n",
    "plt.style.use('seaborn-v0_8-darkgrid')\n",
    "sns.set_palette(\"husl\")\n",
    "pd.set_option('display.max_columns', None)\n",
    "pd.set_option('display.max_rows', 100)\n",
    "\n",
    "print(\"✅ Toutes les bibliothèques ont été importées avec succès !\")"
   ]
  },
  {
   "cell_type": "markdown",
   "id": "333de1be",
   "metadata": {},
   "source": [
    "---\n",
    "## 2️) Chargement et Découverte des Données"
   ]
  },
  {
   "cell_type": "code",
   "execution_count": 26,
   "id": "360ebe4f",
   "metadata": {},
   "outputs": [
    {
     "name": "stdout",
     "output_type": "stream",
     "text": [
      "📊 Dimensions du dataset :\n",
      "   Nombre de lignes : 2240\n",
      "   Nombre de colonnes : 29\n",
      "\n",
      "================================================================================\n",
      "\n",
      "📋 Aperçu des données :\n"
     ]
    },
    {
     "data": {
      "application/vnd.microsoft.datawrangler.viewer.v0+json": {
       "columns": [
        {
         "name": "index",
         "rawType": "int64",
         "type": "integer"
        },
        {
         "name": "ID",
         "rawType": "int64",
         "type": "integer"
        },
        {
         "name": "Year_Birth",
         "rawType": "int64",
         "type": "integer"
        },
        {
         "name": "Education",
         "rawType": "object",
         "type": "string"
        },
        {
         "name": "Marital_Status",
         "rawType": "object",
         "type": "string"
        },
        {
         "name": "Income",
         "rawType": "object",
         "type": "string"
        },
        {
         "name": "Kidhome",
         "rawType": "int64",
         "type": "integer"
        },
        {
         "name": "Teenhome",
         "rawType": "int64",
         "type": "integer"
        },
        {
         "name": "Dt_Customer",
         "rawType": "object",
         "type": "string"
        },
        {
         "name": "Recency",
         "rawType": "int64",
         "type": "integer"
        },
        {
         "name": "MntWines",
         "rawType": "int64",
         "type": "integer"
        },
        {
         "name": "MntFruits",
         "rawType": "int64",
         "type": "integer"
        },
        {
         "name": "MntMeatProducts",
         "rawType": "int64",
         "type": "integer"
        },
        {
         "name": "MntFishProducts",
         "rawType": "int64",
         "type": "integer"
        },
        {
         "name": "MntSweetProducts",
         "rawType": "int64",
         "type": "integer"
        },
        {
         "name": "MntGoldProds",
         "rawType": "int64",
         "type": "integer"
        },
        {
         "name": "NumDealsPurchases",
         "rawType": "int64",
         "type": "integer"
        },
        {
         "name": "NumWebPurchases",
         "rawType": "int64",
         "type": "integer"
        },
        {
         "name": "NumCatalogPurchases",
         "rawType": "int64",
         "type": "integer"
        },
        {
         "name": "NumStorePurchases",
         "rawType": "int64",
         "type": "integer"
        },
        {
         "name": "NumWebVisitsMonth",
         "rawType": "int64",
         "type": "integer"
        },
        {
         "name": "AcceptedCmp3",
         "rawType": "int64",
         "type": "integer"
        },
        {
         "name": "AcceptedCmp4",
         "rawType": "int64",
         "type": "integer"
        },
        {
         "name": "AcceptedCmp5",
         "rawType": "int64",
         "type": "integer"
        },
        {
         "name": "AcceptedCmp1",
         "rawType": "int64",
         "type": "integer"
        },
        {
         "name": "AcceptedCmp2",
         "rawType": "int64",
         "type": "integer"
        },
        {
         "name": "Complain",
         "rawType": "int64",
         "type": "integer"
        },
        {
         "name": "Z_CostContact",
         "rawType": "int64",
         "type": "integer"
        },
        {
         "name": "Z_Revenue",
         "rawType": "int64",
         "type": "integer"
        },
        {
         "name": "Response",
         "rawType": "int64",
         "type": "integer"
        }
       ],
       "ref": "2f554945-6982-44b1-bdbd-ee18797654ec",
       "rows": [
        [
         "0",
         "0",
         "1985",
         "Graduation",
         "Married",
         "70951",
         "0",
         "0",
         "04/05/2013",
         "66",
         "239",
         "10",
         "554",
         "254",
         "87",
         "54",
         "1",
         "3",
         "4",
         "9",
         "1",
         "0",
         "0",
         "0",
         "0",
         "0",
         "0",
         "3",
         "11",
         "0"
        ],
        [
         "1",
         "1",
         "1961",
         "Graduation",
         "Single",
         "57091",
         "0",
         "0",
         "15/06/2014",
         "0",
         "464",
         "5",
         "64",
         "7",
         "0",
         "37",
         "1",
         "7",
         "3",
         "7",
         "5",
         "0",
         "0",
         "0",
         "0",
         "1",
         "0",
         "3",
         "11",
         "1"
        ],
        [
         "2",
         "9",
         "1975",
         "Master",
         "Single",
         "46098",
         "1",
         "1",
         "18/08/2012",
         "86",
         "57",
         "0",
         "27",
         "0",
         "0",
         "36",
         "4",
         "3",
         "2",
         "2",
         "8",
         "0",
         "0",
         "0",
         "0",
         "0",
         "0",
         "3",
         "11",
         "0"
        ],
        [
         "3",
         "13",
         "1947",
         "PhD",
         "Widow",
         "25358",
         "0",
         "1",
         "22/07/2013",
         "57",
         "19",
         "0",
         "5",
         "0",
         "0",
         "8",
         "2",
         "1",
         "0",
         "3",
         "6",
         "0",
         "0",
         "0",
         "0",
         "0",
         "0",
         "3",
         "11",
         "0"
        ],
        [
         "4",
         "17",
         "1971",
         "PhD",
         "Married",
         "60491",
         "0",
         "1",
         "06/09/2013",
         "81",
         "637",
         "47",
         "237",
         "12",
         "19",
         "76",
         "4",
         "6",
         "11",
         "7",
         "5",
         "0",
         "0",
         "0",
         "0",
         "0",
         "0",
         "3",
         "11",
         "0"
        ],
        [
         "5",
         "20",
         "1965",
         "2n Cycle",
         "Married",
         "46891",
         "0",
         "1",
         "01/09/2013",
         "91",
         "43",
         "12",
         "23",
         "29",
         "15",
         "61",
         "1",
         "2",
         "1",
         "4",
         "4",
         "0",
         "0",
         "0",
         "0",
         "0",
         "0",
         "3",
         "11",
         "0"
        ],
        [
         "6",
         "22",
         "1976",
         "Graduation",
         "Divorced",
         "46310",
         "1",
         "0",
         "03/12/2012",
         "99",
         "185",
         "2",
         "88",
         "15",
         "5",
         "14",
         "2",
         "6",
         "1",
         "5",
         "8",
         "0",
         "0",
         "0",
         "0",
         "0",
         "0",
         "3",
         "11",
         "0"
        ],
        [
         "7",
         "24",
         "1960",
         "Master",
         "Together",
         "17144",
         "1",
         "1",
         "15/02/2014",
         "96",
         "18",
         "2",
         "19",
         "0",
         "2",
         "6",
         "5",
         "3",
         "0",
         "4",
         "7",
         "0",
         "0",
         "0",
         "0",
         "0",
         "0",
         "3",
         "11",
         "0"
        ],
        [
         "8",
         "25",
         "1958",
         "Graduation",
         "Married",
         "65148",
         "0",
         "1",
         "16/11/2012",
         "9",
         "460",
         "35",
         "422",
         "33",
         "12",
         "153",
         "2",
         "6",
         "6",
         "7",
         "4",
         "0",
         "0",
         "0",
         "0",
         "0",
         "0",
         "3",
         "11",
         "0"
        ],
        [
         "9",
         "35",
         "1987",
         "Graduation",
         "Married",
         "25545",
         "1",
         "0",
         "08/09/2012",
         "35",
         "32",
         "1",
         "64",
         "16",
         "12",
         "85",
         "3",
         "2",
         "2",
         "3",
         "6",
         "0",
         "0",
         "0",
         "0",
         "0",
         "0",
         "3",
         "11",
         "1"
        ]
       ],
       "shape": {
        "columns": 29,
        "rows": 10
       }
      },
      "text/html": [
       "<div>\n",
       "<style scoped>\n",
       "    .dataframe tbody tr th:only-of-type {\n",
       "        vertical-align: middle;\n",
       "    }\n",
       "\n",
       "    .dataframe tbody tr th {\n",
       "        vertical-align: top;\n",
       "    }\n",
       "\n",
       "    .dataframe thead th {\n",
       "        text-align: right;\n",
       "    }\n",
       "</style>\n",
       "<table border=\"1\" class=\"dataframe\">\n",
       "  <thead>\n",
       "    <tr style=\"text-align: right;\">\n",
       "      <th></th>\n",
       "      <th>ID</th>\n",
       "      <th>Year_Birth</th>\n",
       "      <th>Education</th>\n",
       "      <th>Marital_Status</th>\n",
       "      <th>Income</th>\n",
       "      <th>Kidhome</th>\n",
       "      <th>Teenhome</th>\n",
       "      <th>Dt_Customer</th>\n",
       "      <th>Recency</th>\n",
       "      <th>MntWines</th>\n",
       "      <th>MntFruits</th>\n",
       "      <th>MntMeatProducts</th>\n",
       "      <th>MntFishProducts</th>\n",
       "      <th>MntSweetProducts</th>\n",
       "      <th>MntGoldProds</th>\n",
       "      <th>NumDealsPurchases</th>\n",
       "      <th>NumWebPurchases</th>\n",
       "      <th>NumCatalogPurchases</th>\n",
       "      <th>NumStorePurchases</th>\n",
       "      <th>NumWebVisitsMonth</th>\n",
       "      <th>AcceptedCmp3</th>\n",
       "      <th>AcceptedCmp4</th>\n",
       "      <th>AcceptedCmp5</th>\n",
       "      <th>AcceptedCmp1</th>\n",
       "      <th>AcceptedCmp2</th>\n",
       "      <th>Complain</th>\n",
       "      <th>Z_CostContact</th>\n",
       "      <th>Z_Revenue</th>\n",
       "      <th>Response</th>\n",
       "    </tr>\n",
       "  </thead>\n",
       "  <tbody>\n",
       "    <tr>\n",
       "      <th>0</th>\n",
       "      <td>0</td>\n",
       "      <td>1985</td>\n",
       "      <td>Graduation</td>\n",
       "      <td>Married</td>\n",
       "      <td>70951</td>\n",
       "      <td>0</td>\n",
       "      <td>0</td>\n",
       "      <td>04/05/2013</td>\n",
       "      <td>66</td>\n",
       "      <td>239</td>\n",
       "      <td>10</td>\n",
       "      <td>554</td>\n",
       "      <td>254</td>\n",
       "      <td>87</td>\n",
       "      <td>54</td>\n",
       "      <td>1</td>\n",
       "      <td>3</td>\n",
       "      <td>4</td>\n",
       "      <td>9</td>\n",
       "      <td>1</td>\n",
       "      <td>0</td>\n",
       "      <td>0</td>\n",
       "      <td>0</td>\n",
       "      <td>0</td>\n",
       "      <td>0</td>\n",
       "      <td>0</td>\n",
       "      <td>3</td>\n",
       "      <td>11</td>\n",
       "      <td>0</td>\n",
       "    </tr>\n",
       "    <tr>\n",
       "      <th>1</th>\n",
       "      <td>1</td>\n",
       "      <td>1961</td>\n",
       "      <td>Graduation</td>\n",
       "      <td>Single</td>\n",
       "      <td>57091</td>\n",
       "      <td>0</td>\n",
       "      <td>0</td>\n",
       "      <td>15/06/2014</td>\n",
       "      <td>0</td>\n",
       "      <td>464</td>\n",
       "      <td>5</td>\n",
       "      <td>64</td>\n",
       "      <td>7</td>\n",
       "      <td>0</td>\n",
       "      <td>37</td>\n",
       "      <td>1</td>\n",
       "      <td>7</td>\n",
       "      <td>3</td>\n",
       "      <td>7</td>\n",
       "      <td>5</td>\n",
       "      <td>0</td>\n",
       "      <td>0</td>\n",
       "      <td>0</td>\n",
       "      <td>0</td>\n",
       "      <td>1</td>\n",
       "      <td>0</td>\n",
       "      <td>3</td>\n",
       "      <td>11</td>\n",
       "      <td>1</td>\n",
       "    </tr>\n",
       "    <tr>\n",
       "      <th>2</th>\n",
       "      <td>9</td>\n",
       "      <td>1975</td>\n",
       "      <td>Master</td>\n",
       "      <td>Single</td>\n",
       "      <td>46098</td>\n",
       "      <td>1</td>\n",
       "      <td>1</td>\n",
       "      <td>18/08/2012</td>\n",
       "      <td>86</td>\n",
       "      <td>57</td>\n",
       "      <td>0</td>\n",
       "      <td>27</td>\n",
       "      <td>0</td>\n",
       "      <td>0</td>\n",
       "      <td>36</td>\n",
       "      <td>4</td>\n",
       "      <td>3</td>\n",
       "      <td>2</td>\n",
       "      <td>2</td>\n",
       "      <td>8</td>\n",
       "      <td>0</td>\n",
       "      <td>0</td>\n",
       "      <td>0</td>\n",
       "      <td>0</td>\n",
       "      <td>0</td>\n",
       "      <td>0</td>\n",
       "      <td>3</td>\n",
       "      <td>11</td>\n",
       "      <td>0</td>\n",
       "    </tr>\n",
       "    <tr>\n",
       "      <th>3</th>\n",
       "      <td>13</td>\n",
       "      <td>1947</td>\n",
       "      <td>PhD</td>\n",
       "      <td>Widow</td>\n",
       "      <td>25358</td>\n",
       "      <td>0</td>\n",
       "      <td>1</td>\n",
       "      <td>22/07/2013</td>\n",
       "      <td>57</td>\n",
       "      <td>19</td>\n",
       "      <td>0</td>\n",
       "      <td>5</td>\n",
       "      <td>0</td>\n",
       "      <td>0</td>\n",
       "      <td>8</td>\n",
       "      <td>2</td>\n",
       "      <td>1</td>\n",
       "      <td>0</td>\n",
       "      <td>3</td>\n",
       "      <td>6</td>\n",
       "      <td>0</td>\n",
       "      <td>0</td>\n",
       "      <td>0</td>\n",
       "      <td>0</td>\n",
       "      <td>0</td>\n",
       "      <td>0</td>\n",
       "      <td>3</td>\n",
       "      <td>11</td>\n",
       "      <td>0</td>\n",
       "    </tr>\n",
       "    <tr>\n",
       "      <th>4</th>\n",
       "      <td>17</td>\n",
       "      <td>1971</td>\n",
       "      <td>PhD</td>\n",
       "      <td>Married</td>\n",
       "      <td>60491</td>\n",
       "      <td>0</td>\n",
       "      <td>1</td>\n",
       "      <td>06/09/2013</td>\n",
       "      <td>81</td>\n",
       "      <td>637</td>\n",
       "      <td>47</td>\n",
       "      <td>237</td>\n",
       "      <td>12</td>\n",
       "      <td>19</td>\n",
       "      <td>76</td>\n",
       "      <td>4</td>\n",
       "      <td>6</td>\n",
       "      <td>11</td>\n",
       "      <td>7</td>\n",
       "      <td>5</td>\n",
       "      <td>0</td>\n",
       "      <td>0</td>\n",
       "      <td>0</td>\n",
       "      <td>0</td>\n",
       "      <td>0</td>\n",
       "      <td>0</td>\n",
       "      <td>3</td>\n",
       "      <td>11</td>\n",
       "      <td>0</td>\n",
       "    </tr>\n",
       "    <tr>\n",
       "      <th>5</th>\n",
       "      <td>20</td>\n",
       "      <td>1965</td>\n",
       "      <td>2n Cycle</td>\n",
       "      <td>Married</td>\n",
       "      <td>46891</td>\n",
       "      <td>0</td>\n",
       "      <td>1</td>\n",
       "      <td>01/09/2013</td>\n",
       "      <td>91</td>\n",
       "      <td>43</td>\n",
       "      <td>12</td>\n",
       "      <td>23</td>\n",
       "      <td>29</td>\n",
       "      <td>15</td>\n",
       "      <td>61</td>\n",
       "      <td>1</td>\n",
       "      <td>2</td>\n",
       "      <td>1</td>\n",
       "      <td>4</td>\n",
       "      <td>4</td>\n",
       "      <td>0</td>\n",
       "      <td>0</td>\n",
       "      <td>0</td>\n",
       "      <td>0</td>\n",
       "      <td>0</td>\n",
       "      <td>0</td>\n",
       "      <td>3</td>\n",
       "      <td>11</td>\n",
       "      <td>0</td>\n",
       "    </tr>\n",
       "    <tr>\n",
       "      <th>6</th>\n",
       "      <td>22</td>\n",
       "      <td>1976</td>\n",
       "      <td>Graduation</td>\n",
       "      <td>Divorced</td>\n",
       "      <td>46310</td>\n",
       "      <td>1</td>\n",
       "      <td>0</td>\n",
       "      <td>03/12/2012</td>\n",
       "      <td>99</td>\n",
       "      <td>185</td>\n",
       "      <td>2</td>\n",
       "      <td>88</td>\n",
       "      <td>15</td>\n",
       "      <td>5</td>\n",
       "      <td>14</td>\n",
       "      <td>2</td>\n",
       "      <td>6</td>\n",
       "      <td>1</td>\n",
       "      <td>5</td>\n",
       "      <td>8</td>\n",
       "      <td>0</td>\n",
       "      <td>0</td>\n",
       "      <td>0</td>\n",
       "      <td>0</td>\n",
       "      <td>0</td>\n",
       "      <td>0</td>\n",
       "      <td>3</td>\n",
       "      <td>11</td>\n",
       "      <td>0</td>\n",
       "    </tr>\n",
       "    <tr>\n",
       "      <th>7</th>\n",
       "      <td>24</td>\n",
       "      <td>1960</td>\n",
       "      <td>Master</td>\n",
       "      <td>Together</td>\n",
       "      <td>17144</td>\n",
       "      <td>1</td>\n",
       "      <td>1</td>\n",
       "      <td>15/02/2014</td>\n",
       "      <td>96</td>\n",
       "      <td>18</td>\n",
       "      <td>2</td>\n",
       "      <td>19</td>\n",
       "      <td>0</td>\n",
       "      <td>2</td>\n",
       "      <td>6</td>\n",
       "      <td>5</td>\n",
       "      <td>3</td>\n",
       "      <td>0</td>\n",
       "      <td>4</td>\n",
       "      <td>7</td>\n",
       "      <td>0</td>\n",
       "      <td>0</td>\n",
       "      <td>0</td>\n",
       "      <td>0</td>\n",
       "      <td>0</td>\n",
       "      <td>0</td>\n",
       "      <td>3</td>\n",
       "      <td>11</td>\n",
       "      <td>0</td>\n",
       "    </tr>\n",
       "    <tr>\n",
       "      <th>8</th>\n",
       "      <td>25</td>\n",
       "      <td>1958</td>\n",
       "      <td>Graduation</td>\n",
       "      <td>Married</td>\n",
       "      <td>65148</td>\n",
       "      <td>0</td>\n",
       "      <td>1</td>\n",
       "      <td>16/11/2012</td>\n",
       "      <td>9</td>\n",
       "      <td>460</td>\n",
       "      <td>35</td>\n",
       "      <td>422</td>\n",
       "      <td>33</td>\n",
       "      <td>12</td>\n",
       "      <td>153</td>\n",
       "      <td>2</td>\n",
       "      <td>6</td>\n",
       "      <td>6</td>\n",
       "      <td>7</td>\n",
       "      <td>4</td>\n",
       "      <td>0</td>\n",
       "      <td>0</td>\n",
       "      <td>0</td>\n",
       "      <td>0</td>\n",
       "      <td>0</td>\n",
       "      <td>0</td>\n",
       "      <td>3</td>\n",
       "      <td>11</td>\n",
       "      <td>0</td>\n",
       "    </tr>\n",
       "    <tr>\n",
       "      <th>9</th>\n",
       "      <td>35</td>\n",
       "      <td>1987</td>\n",
       "      <td>Graduation</td>\n",
       "      <td>Married</td>\n",
       "      <td>25545</td>\n",
       "      <td>1</td>\n",
       "      <td>0</td>\n",
       "      <td>08/09/2012</td>\n",
       "      <td>35</td>\n",
       "      <td>32</td>\n",
       "      <td>1</td>\n",
       "      <td>64</td>\n",
       "      <td>16</td>\n",
       "      <td>12</td>\n",
       "      <td>85</td>\n",
       "      <td>3</td>\n",
       "      <td>2</td>\n",
       "      <td>2</td>\n",
       "      <td>3</td>\n",
       "      <td>6</td>\n",
       "      <td>0</td>\n",
       "      <td>0</td>\n",
       "      <td>0</td>\n",
       "      <td>0</td>\n",
       "      <td>0</td>\n",
       "      <td>0</td>\n",
       "      <td>3</td>\n",
       "      <td>11</td>\n",
       "      <td>1</td>\n",
       "    </tr>\n",
       "  </tbody>\n",
       "</table>\n",
       "</div>"
      ],
      "text/plain": [
       "   ID  Year_Birth   Education Marital_Status Income  Kidhome  Teenhome  \\\n",
       "0   0        1985  Graduation        Married  70951        0         0   \n",
       "1   1        1961  Graduation         Single  57091        0         0   \n",
       "2   9        1975      Master         Single  46098        1         1   \n",
       "3  13        1947         PhD          Widow  25358        0         1   \n",
       "4  17        1971         PhD        Married  60491        0         1   \n",
       "5  20        1965    2n Cycle        Married  46891        0         1   \n",
       "6  22        1976  Graduation       Divorced  46310        1         0   \n",
       "7  24        1960      Master       Together  17144        1         1   \n",
       "8  25        1958  Graduation        Married  65148        0         1   \n",
       "9  35        1987  Graduation        Married  25545        1         0   \n",
       "\n",
       "  Dt_Customer  Recency  MntWines  MntFruits  MntMeatProducts  MntFishProducts  \\\n",
       "0  04/05/2013       66       239         10              554              254   \n",
       "1  15/06/2014        0       464          5               64                7   \n",
       "2  18/08/2012       86        57          0               27                0   \n",
       "3  22/07/2013       57        19          0                5                0   \n",
       "4  06/09/2013       81       637         47              237               12   \n",
       "5  01/09/2013       91        43         12               23               29   \n",
       "6  03/12/2012       99       185          2               88               15   \n",
       "7  15/02/2014       96        18          2               19                0   \n",
       "8  16/11/2012        9       460         35              422               33   \n",
       "9  08/09/2012       35        32          1               64               16   \n",
       "\n",
       "   MntSweetProducts  MntGoldProds  NumDealsPurchases  NumWebPurchases  \\\n",
       "0                87            54                  1                3   \n",
       "1                 0            37                  1                7   \n",
       "2                 0            36                  4                3   \n",
       "3                 0             8                  2                1   \n",
       "4                19            76                  4                6   \n",
       "5                15            61                  1                2   \n",
       "6                 5            14                  2                6   \n",
       "7                 2             6                  5                3   \n",
       "8                12           153                  2                6   \n",
       "9                12            85                  3                2   \n",
       "\n",
       "   NumCatalogPurchases  NumStorePurchases  NumWebVisitsMonth  AcceptedCmp3  \\\n",
       "0                    4                  9                  1             0   \n",
       "1                    3                  7                  5             0   \n",
       "2                    2                  2                  8             0   \n",
       "3                    0                  3                  6             0   \n",
       "4                   11                  7                  5             0   \n",
       "5                    1                  4                  4             0   \n",
       "6                    1                  5                  8             0   \n",
       "7                    0                  4                  7             0   \n",
       "8                    6                  7                  4             0   \n",
       "9                    2                  3                  6             0   \n",
       "\n",
       "   AcceptedCmp4  AcceptedCmp5  AcceptedCmp1  AcceptedCmp2  Complain  \\\n",
       "0             0             0             0             0         0   \n",
       "1             0             0             0             1         0   \n",
       "2             0             0             0             0         0   \n",
       "3             0             0             0             0         0   \n",
       "4             0             0             0             0         0   \n",
       "5             0             0             0             0         0   \n",
       "6             0             0             0             0         0   \n",
       "7             0             0             0             0         0   \n",
       "8             0             0             0             0         0   \n",
       "9             0             0             0             0         0   \n",
       "\n",
       "   Z_CostContact  Z_Revenue  Response  \n",
       "0              3         11         0  \n",
       "1              3         11         1  \n",
       "2              3         11         0  \n",
       "3              3         11         0  \n",
       "4              3         11         0  \n",
       "5              3         11         0  \n",
       "6              3         11         0  \n",
       "7              3         11         0  \n",
       "8              3         11         0  \n",
       "9              3         11         1  "
      ]
     },
     "execution_count": 26,
     "metadata": {},
     "output_type": "execute_result"
    }
   ],
   "source": [
    "# Chargement des données\n",
    "df = pd.read_csv('Camp_Market.csv', sep=';')\n",
    "\n",
    "print(\"📊 Dimensions du dataset :\")\n",
    "print(f\"   Nombre de lignes : {df.shape[0]}\")\n",
    "print(f\"   Nombre de colonnes : {df.shape[1]}\")\n",
    "print(\"\\n\" + \"=\"*80 + \"\\n\")\n",
    "\n",
    "# Affichage des premières lignes\n",
    "print(\"📋 Aperçu des données :\")\n",
    "df.head(10)"
   ]
  },
  {
   "cell_type": "code",
   "execution_count": 27,
   "id": "9f531e9d",
   "metadata": {},
   "outputs": [
    {
     "name": "stdout",
     "output_type": "stream",
     "text": [
      "ℹ️ Informations sur le dataset :\n",
      "<class 'pandas.core.frame.DataFrame'>\n",
      "RangeIndex: 2240 entries, 0 to 2239\n",
      "Data columns (total 29 columns):\n",
      " #   Column               Non-Null Count  Dtype \n",
      "---  ------               --------------  ----- \n",
      " 0   ID                   2240 non-null   int64 \n",
      " 1   Year_Birth           2240 non-null   int64 \n",
      " 2   Education            2240 non-null   object\n",
      " 3   Marital_Status       2240 non-null   object\n",
      " 4   Income               2240 non-null   object\n",
      " 5   Kidhome              2240 non-null   int64 \n",
      " 6   Teenhome             2240 non-null   int64 \n",
      " 7   Dt_Customer          2240 non-null   object\n",
      " 8   Recency              2240 non-null   int64 \n",
      " 9   MntWines             2240 non-null   int64 \n",
      " 10  MntFruits            2240 non-null   int64 \n",
      " 11  MntMeatProducts      2240 non-null   int64 \n",
      " 12  MntFishProducts      2240 non-null   int64 \n",
      " 13  MntSweetProducts     2240 non-null   int64 \n",
      " 14  MntGoldProds         2240 non-null   int64 \n",
      " 15  NumDealsPurchases    2240 non-null   int64 \n",
      " 16  NumWebPurchases      2240 non-null   int64 \n",
      " 17  NumCatalogPurchases  2240 non-null   int64 \n",
      " 18  NumStorePurchases    2240 non-null   int64 \n",
      " 19  NumWebVisitsMonth    2240 non-null   int64 \n",
      " 20  AcceptedCmp3         2240 non-null   int64 \n",
      " 21  AcceptedCmp4         2240 non-null   int64 \n",
      " 22  AcceptedCmp5         2240 non-null   int64 \n",
      " 23  AcceptedCmp1         2240 non-null   int64 \n",
      " 24  AcceptedCmp2         2240 non-null   int64 \n",
      " 25  Complain             2240 non-null   int64 \n",
      " 26  Z_CostContact        2240 non-null   int64 \n",
      " 27  Z_Revenue            2240 non-null   int64 \n",
      " 28  Response             2240 non-null   int64 \n",
      "dtypes: int64(25), object(4)\n",
      "memory usage: 507.6+ KB\n",
      "None\n",
      "\n",
      "================================================================================\n",
      "\n",
      "Statistiques descriptives :\n"
     ]
    },
    {
     "data": {
      "application/vnd.microsoft.datawrangler.viewer.v0+json": {
       "columns": [
        {
         "name": "index",
         "rawType": "object",
         "type": "string"
        },
        {
         "name": "ID",
         "rawType": "float64",
         "type": "float"
        },
        {
         "name": "Year_Birth",
         "rawType": "float64",
         "type": "float"
        },
        {
         "name": "Kidhome",
         "rawType": "float64",
         "type": "float"
        },
        {
         "name": "Teenhome",
         "rawType": "float64",
         "type": "float"
        },
        {
         "name": "Recency",
         "rawType": "float64",
         "type": "float"
        },
        {
         "name": "MntWines",
         "rawType": "float64",
         "type": "float"
        },
        {
         "name": "MntFruits",
         "rawType": "float64",
         "type": "float"
        },
        {
         "name": "MntMeatProducts",
         "rawType": "float64",
         "type": "float"
        },
        {
         "name": "MntFishProducts",
         "rawType": "float64",
         "type": "float"
        },
        {
         "name": "MntSweetProducts",
         "rawType": "float64",
         "type": "float"
        },
        {
         "name": "MntGoldProds",
         "rawType": "float64",
         "type": "float"
        },
        {
         "name": "NumDealsPurchases",
         "rawType": "float64",
         "type": "float"
        },
        {
         "name": "NumWebPurchases",
         "rawType": "float64",
         "type": "float"
        },
        {
         "name": "NumCatalogPurchases",
         "rawType": "float64",
         "type": "float"
        },
        {
         "name": "NumStorePurchases",
         "rawType": "float64",
         "type": "float"
        },
        {
         "name": "NumWebVisitsMonth",
         "rawType": "float64",
         "type": "float"
        },
        {
         "name": "AcceptedCmp3",
         "rawType": "float64",
         "type": "float"
        },
        {
         "name": "AcceptedCmp4",
         "rawType": "float64",
         "type": "float"
        },
        {
         "name": "AcceptedCmp5",
         "rawType": "float64",
         "type": "float"
        },
        {
         "name": "AcceptedCmp1",
         "rawType": "float64",
         "type": "float"
        },
        {
         "name": "AcceptedCmp2",
         "rawType": "float64",
         "type": "float"
        },
        {
         "name": "Complain",
         "rawType": "float64",
         "type": "float"
        },
        {
         "name": "Z_CostContact",
         "rawType": "float64",
         "type": "float"
        },
        {
         "name": "Z_Revenue",
         "rawType": "float64",
         "type": "float"
        },
        {
         "name": "Response",
         "rawType": "float64",
         "type": "float"
        }
       ],
       "ref": "d9b8dd5b-d3f0-4a47-a67c-5f507be8f1ac",
       "rows": [
        [
         "count",
         "2240.0",
         "2240.0",
         "2240.0",
         "2240.0",
         "2240.0",
         "2240.0",
         "2240.0",
         "2240.0",
         "2240.0",
         "2240.0",
         "2240.0",
         "2240.0",
         "2240.0",
         "2240.0",
         "2240.0",
         "2240.0",
         "2240.0",
         "2240.0",
         "2240.0",
         "2240.0",
         "2240.0",
         "2240.0",
         "2240.0",
         "2240.0",
         "2240.0"
        ],
        [
         "mean",
         "5592.159821428571",
         "1968.8058035714287",
         "0.44419642857142855",
         "0.50625",
         "49.109375",
         "303.9357142857143",
         "26.302232142857143",
         "166.95",
         "37.52544642857143",
         "27.06294642857143",
         "44.021875",
         "2.325",
         "4.084821428571429",
         "2.6620535714285714",
         "5.790178571428571",
         "5.316517857142857",
         "0.07276785714285715",
         "0.07455357142857143",
         "0.07276785714285715",
         "0.06428571428571428",
         "0.013392857142857142",
         "0.009375",
         "3.0",
         "11.0",
         "0.14910714285714285"
        ],
        [
         "std",
         "3246.662197564339",
         "11.98406945688584",
         "0.5383980977345884",
         "0.5445382307698755",
         "28.962452808378206",
         "336.5973926053715",
         "39.773433764578705",
         "225.71537251175442",
         "54.62897940287766",
         "41.280498487854786",
         "52.16743891499717",
         "1.9322375008559605",
         "2.778714147388105",
         "2.923100655539723",
         "3.250958145674417",
         "2.4266450095472827",
         "0.259813069921891",
         "0.2627282848535635",
         "0.2598130699218913",
         "0.24531597433400942",
         "0.11497560625547984",
         "0.09639116794449806",
         "0.0",
         "0.0",
         "0.35627358640848433"
        ],
        [
         "min",
         "0.0",
         "1893.0",
         "0.0",
         "0.0",
         "0.0",
         "0.0",
         "0.0",
         "0.0",
         "0.0",
         "0.0",
         "0.0",
         "0.0",
         "0.0",
         "0.0",
         "0.0",
         "0.0",
         "0.0",
         "0.0",
         "0.0",
         "0.0",
         "0.0",
         "0.0",
         "3.0",
         "11.0",
         "0.0"
        ],
        [
         "25%",
         "2828.25",
         "1959.0",
         "0.0",
         "0.0",
         "24.0",
         "23.75",
         "1.0",
         "16.0",
         "3.0",
         "1.0",
         "9.0",
         "1.0",
         "2.0",
         "0.0",
         "3.0",
         "3.0",
         "0.0",
         "0.0",
         "0.0",
         "0.0",
         "0.0",
         "0.0",
         "3.0",
         "11.0",
         "0.0"
        ],
        [
         "50%",
         "5458.5",
         "1970.0",
         "0.0",
         "0.0",
         "49.0",
         "173.5",
         "8.0",
         "67.0",
         "12.0",
         "8.0",
         "24.0",
         "2.0",
         "4.0",
         "2.0",
         "5.0",
         "6.0",
         "0.0",
         "0.0",
         "0.0",
         "0.0",
         "0.0",
         "0.0",
         "3.0",
         "11.0",
         "0.0"
        ],
        [
         "75%",
         "8427.75",
         "1977.0",
         "1.0",
         "1.0",
         "74.0",
         "504.25",
         "33.0",
         "232.0",
         "50.0",
         "33.0",
         "56.0",
         "3.0",
         "6.0",
         "4.0",
         "8.0",
         "7.0",
         "0.0",
         "0.0",
         "0.0",
         "0.0",
         "0.0",
         "0.0",
         "3.0",
         "11.0",
         "0.0"
        ],
        [
         "max",
         "11191.0",
         "1996.0",
         "2.0",
         "2.0",
         "99.0",
         "1493.0",
         "199.0",
         "1725.0",
         "259.0",
         "263.0",
         "362.0",
         "15.0",
         "27.0",
         "28.0",
         "13.0",
         "20.0",
         "1.0",
         "1.0",
         "1.0",
         "1.0",
         "1.0",
         "1.0",
         "3.0",
         "11.0",
         "1.0"
        ]
       ],
       "shape": {
        "columns": 25,
        "rows": 8
       }
      },
      "text/html": [
       "<div>\n",
       "<style scoped>\n",
       "    .dataframe tbody tr th:only-of-type {\n",
       "        vertical-align: middle;\n",
       "    }\n",
       "\n",
       "    .dataframe tbody tr th {\n",
       "        vertical-align: top;\n",
       "    }\n",
       "\n",
       "    .dataframe thead th {\n",
       "        text-align: right;\n",
       "    }\n",
       "</style>\n",
       "<table border=\"1\" class=\"dataframe\">\n",
       "  <thead>\n",
       "    <tr style=\"text-align: right;\">\n",
       "      <th></th>\n",
       "      <th>ID</th>\n",
       "      <th>Year_Birth</th>\n",
       "      <th>Kidhome</th>\n",
       "      <th>Teenhome</th>\n",
       "      <th>Recency</th>\n",
       "      <th>MntWines</th>\n",
       "      <th>MntFruits</th>\n",
       "      <th>MntMeatProducts</th>\n",
       "      <th>MntFishProducts</th>\n",
       "      <th>MntSweetProducts</th>\n",
       "      <th>MntGoldProds</th>\n",
       "      <th>NumDealsPurchases</th>\n",
       "      <th>NumWebPurchases</th>\n",
       "      <th>NumCatalogPurchases</th>\n",
       "      <th>NumStorePurchases</th>\n",
       "      <th>NumWebVisitsMonth</th>\n",
       "      <th>AcceptedCmp3</th>\n",
       "      <th>AcceptedCmp4</th>\n",
       "      <th>AcceptedCmp5</th>\n",
       "      <th>AcceptedCmp1</th>\n",
       "      <th>AcceptedCmp2</th>\n",
       "      <th>Complain</th>\n",
       "      <th>Z_CostContact</th>\n",
       "      <th>Z_Revenue</th>\n",
       "      <th>Response</th>\n",
       "    </tr>\n",
       "  </thead>\n",
       "  <tbody>\n",
       "    <tr>\n",
       "      <th>count</th>\n",
       "      <td>2240.000000</td>\n",
       "      <td>2240.000000</td>\n",
       "      <td>2240.000000</td>\n",
       "      <td>2240.000000</td>\n",
       "      <td>2240.000000</td>\n",
       "      <td>2240.000000</td>\n",
       "      <td>2240.000000</td>\n",
       "      <td>2240.000000</td>\n",
       "      <td>2240.000000</td>\n",
       "      <td>2240.000000</td>\n",
       "      <td>2240.000000</td>\n",
       "      <td>2240.000000</td>\n",
       "      <td>2240.000000</td>\n",
       "      <td>2240.000000</td>\n",
       "      <td>2240.000000</td>\n",
       "      <td>2240.000000</td>\n",
       "      <td>2240.000000</td>\n",
       "      <td>2240.000000</td>\n",
       "      <td>2240.000000</td>\n",
       "      <td>2240.000000</td>\n",
       "      <td>2240.000000</td>\n",
       "      <td>2240.000000</td>\n",
       "      <td>2240.0</td>\n",
       "      <td>2240.0</td>\n",
       "      <td>2240.000000</td>\n",
       "    </tr>\n",
       "    <tr>\n",
       "      <th>mean</th>\n",
       "      <td>5592.159821</td>\n",
       "      <td>1968.805804</td>\n",
       "      <td>0.444196</td>\n",
       "      <td>0.506250</td>\n",
       "      <td>49.109375</td>\n",
       "      <td>303.935714</td>\n",
       "      <td>26.302232</td>\n",
       "      <td>166.950000</td>\n",
       "      <td>37.525446</td>\n",
       "      <td>27.062946</td>\n",
       "      <td>44.021875</td>\n",
       "      <td>2.325000</td>\n",
       "      <td>4.084821</td>\n",
       "      <td>2.662054</td>\n",
       "      <td>5.790179</td>\n",
       "      <td>5.316518</td>\n",
       "      <td>0.072768</td>\n",
       "      <td>0.074554</td>\n",
       "      <td>0.072768</td>\n",
       "      <td>0.064286</td>\n",
       "      <td>0.013393</td>\n",
       "      <td>0.009375</td>\n",
       "      <td>3.0</td>\n",
       "      <td>11.0</td>\n",
       "      <td>0.149107</td>\n",
       "    </tr>\n",
       "    <tr>\n",
       "      <th>std</th>\n",
       "      <td>3246.662198</td>\n",
       "      <td>11.984069</td>\n",
       "      <td>0.538398</td>\n",
       "      <td>0.544538</td>\n",
       "      <td>28.962453</td>\n",
       "      <td>336.597393</td>\n",
       "      <td>39.773434</td>\n",
       "      <td>225.715373</td>\n",
       "      <td>54.628979</td>\n",
       "      <td>41.280498</td>\n",
       "      <td>52.167439</td>\n",
       "      <td>1.932238</td>\n",
       "      <td>2.778714</td>\n",
       "      <td>2.923101</td>\n",
       "      <td>3.250958</td>\n",
       "      <td>2.426645</td>\n",
       "      <td>0.259813</td>\n",
       "      <td>0.262728</td>\n",
       "      <td>0.259813</td>\n",
       "      <td>0.245316</td>\n",
       "      <td>0.114976</td>\n",
       "      <td>0.096391</td>\n",
       "      <td>0.0</td>\n",
       "      <td>0.0</td>\n",
       "      <td>0.356274</td>\n",
       "    </tr>\n",
       "    <tr>\n",
       "      <th>min</th>\n",
       "      <td>0.000000</td>\n",
       "      <td>1893.000000</td>\n",
       "      <td>0.000000</td>\n",
       "      <td>0.000000</td>\n",
       "      <td>0.000000</td>\n",
       "      <td>0.000000</td>\n",
       "      <td>0.000000</td>\n",
       "      <td>0.000000</td>\n",
       "      <td>0.000000</td>\n",
       "      <td>0.000000</td>\n",
       "      <td>0.000000</td>\n",
       "      <td>0.000000</td>\n",
       "      <td>0.000000</td>\n",
       "      <td>0.000000</td>\n",
       "      <td>0.000000</td>\n",
       "      <td>0.000000</td>\n",
       "      <td>0.000000</td>\n",
       "      <td>0.000000</td>\n",
       "      <td>0.000000</td>\n",
       "      <td>0.000000</td>\n",
       "      <td>0.000000</td>\n",
       "      <td>0.000000</td>\n",
       "      <td>3.0</td>\n",
       "      <td>11.0</td>\n",
       "      <td>0.000000</td>\n",
       "    </tr>\n",
       "    <tr>\n",
       "      <th>25%</th>\n",
       "      <td>2828.250000</td>\n",
       "      <td>1959.000000</td>\n",
       "      <td>0.000000</td>\n",
       "      <td>0.000000</td>\n",
       "      <td>24.000000</td>\n",
       "      <td>23.750000</td>\n",
       "      <td>1.000000</td>\n",
       "      <td>16.000000</td>\n",
       "      <td>3.000000</td>\n",
       "      <td>1.000000</td>\n",
       "      <td>9.000000</td>\n",
       "      <td>1.000000</td>\n",
       "      <td>2.000000</td>\n",
       "      <td>0.000000</td>\n",
       "      <td>3.000000</td>\n",
       "      <td>3.000000</td>\n",
       "      <td>0.000000</td>\n",
       "      <td>0.000000</td>\n",
       "      <td>0.000000</td>\n",
       "      <td>0.000000</td>\n",
       "      <td>0.000000</td>\n",
       "      <td>0.000000</td>\n",
       "      <td>3.0</td>\n",
       "      <td>11.0</td>\n",
       "      <td>0.000000</td>\n",
       "    </tr>\n",
       "    <tr>\n",
       "      <th>50%</th>\n",
       "      <td>5458.500000</td>\n",
       "      <td>1970.000000</td>\n",
       "      <td>0.000000</td>\n",
       "      <td>0.000000</td>\n",
       "      <td>49.000000</td>\n",
       "      <td>173.500000</td>\n",
       "      <td>8.000000</td>\n",
       "      <td>67.000000</td>\n",
       "      <td>12.000000</td>\n",
       "      <td>8.000000</td>\n",
       "      <td>24.000000</td>\n",
       "      <td>2.000000</td>\n",
       "      <td>4.000000</td>\n",
       "      <td>2.000000</td>\n",
       "      <td>5.000000</td>\n",
       "      <td>6.000000</td>\n",
       "      <td>0.000000</td>\n",
       "      <td>0.000000</td>\n",
       "      <td>0.000000</td>\n",
       "      <td>0.000000</td>\n",
       "      <td>0.000000</td>\n",
       "      <td>0.000000</td>\n",
       "      <td>3.0</td>\n",
       "      <td>11.0</td>\n",
       "      <td>0.000000</td>\n",
       "    </tr>\n",
       "    <tr>\n",
       "      <th>75%</th>\n",
       "      <td>8427.750000</td>\n",
       "      <td>1977.000000</td>\n",
       "      <td>1.000000</td>\n",
       "      <td>1.000000</td>\n",
       "      <td>74.000000</td>\n",
       "      <td>504.250000</td>\n",
       "      <td>33.000000</td>\n",
       "      <td>232.000000</td>\n",
       "      <td>50.000000</td>\n",
       "      <td>33.000000</td>\n",
       "      <td>56.000000</td>\n",
       "      <td>3.000000</td>\n",
       "      <td>6.000000</td>\n",
       "      <td>4.000000</td>\n",
       "      <td>8.000000</td>\n",
       "      <td>7.000000</td>\n",
       "      <td>0.000000</td>\n",
       "      <td>0.000000</td>\n",
       "      <td>0.000000</td>\n",
       "      <td>0.000000</td>\n",
       "      <td>0.000000</td>\n",
       "      <td>0.000000</td>\n",
       "      <td>3.0</td>\n",
       "      <td>11.0</td>\n",
       "      <td>0.000000</td>\n",
       "    </tr>\n",
       "    <tr>\n",
       "      <th>max</th>\n",
       "      <td>11191.000000</td>\n",
       "      <td>1996.000000</td>\n",
       "      <td>2.000000</td>\n",
       "      <td>2.000000</td>\n",
       "      <td>99.000000</td>\n",
       "      <td>1493.000000</td>\n",
       "      <td>199.000000</td>\n",
       "      <td>1725.000000</td>\n",
       "      <td>259.000000</td>\n",
       "      <td>263.000000</td>\n",
       "      <td>362.000000</td>\n",
       "      <td>15.000000</td>\n",
       "      <td>27.000000</td>\n",
       "      <td>28.000000</td>\n",
       "      <td>13.000000</td>\n",
       "      <td>20.000000</td>\n",
       "      <td>1.000000</td>\n",
       "      <td>1.000000</td>\n",
       "      <td>1.000000</td>\n",
       "      <td>1.000000</td>\n",
       "      <td>1.000000</td>\n",
       "      <td>1.000000</td>\n",
       "      <td>3.0</td>\n",
       "      <td>11.0</td>\n",
       "      <td>1.000000</td>\n",
       "    </tr>\n",
       "  </tbody>\n",
       "</table>\n",
       "</div>"
      ],
      "text/plain": [
       "                 ID   Year_Birth      Kidhome     Teenhome      Recency  \\\n",
       "count   2240.000000  2240.000000  2240.000000  2240.000000  2240.000000   \n",
       "mean    5592.159821  1968.805804     0.444196     0.506250    49.109375   \n",
       "std     3246.662198    11.984069     0.538398     0.544538    28.962453   \n",
       "min        0.000000  1893.000000     0.000000     0.000000     0.000000   \n",
       "25%     2828.250000  1959.000000     0.000000     0.000000    24.000000   \n",
       "50%     5458.500000  1970.000000     0.000000     0.000000    49.000000   \n",
       "75%     8427.750000  1977.000000     1.000000     1.000000    74.000000   \n",
       "max    11191.000000  1996.000000     2.000000     2.000000    99.000000   \n",
       "\n",
       "          MntWines    MntFruits  MntMeatProducts  MntFishProducts  \\\n",
       "count  2240.000000  2240.000000      2240.000000      2240.000000   \n",
       "mean    303.935714    26.302232       166.950000        37.525446   \n",
       "std     336.597393    39.773434       225.715373        54.628979   \n",
       "min       0.000000     0.000000         0.000000         0.000000   \n",
       "25%      23.750000     1.000000        16.000000         3.000000   \n",
       "50%     173.500000     8.000000        67.000000        12.000000   \n",
       "75%     504.250000    33.000000       232.000000        50.000000   \n",
       "max    1493.000000   199.000000      1725.000000       259.000000   \n",
       "\n",
       "       MntSweetProducts  MntGoldProds  NumDealsPurchases  NumWebPurchases  \\\n",
       "count       2240.000000   2240.000000        2240.000000      2240.000000   \n",
       "mean          27.062946     44.021875           2.325000         4.084821   \n",
       "std           41.280498     52.167439           1.932238         2.778714   \n",
       "min            0.000000      0.000000           0.000000         0.000000   \n",
       "25%            1.000000      9.000000           1.000000         2.000000   \n",
       "50%            8.000000     24.000000           2.000000         4.000000   \n",
       "75%           33.000000     56.000000           3.000000         6.000000   \n",
       "max          263.000000    362.000000          15.000000        27.000000   \n",
       "\n",
       "       NumCatalogPurchases  NumStorePurchases  NumWebVisitsMonth  \\\n",
       "count          2240.000000        2240.000000        2240.000000   \n",
       "mean              2.662054           5.790179           5.316518   \n",
       "std               2.923101           3.250958           2.426645   \n",
       "min               0.000000           0.000000           0.000000   \n",
       "25%               0.000000           3.000000           3.000000   \n",
       "50%               2.000000           5.000000           6.000000   \n",
       "75%               4.000000           8.000000           7.000000   \n",
       "max              28.000000          13.000000          20.000000   \n",
       "\n",
       "       AcceptedCmp3  AcceptedCmp4  AcceptedCmp5  AcceptedCmp1  AcceptedCmp2  \\\n",
       "count   2240.000000   2240.000000   2240.000000   2240.000000   2240.000000   \n",
       "mean       0.072768      0.074554      0.072768      0.064286      0.013393   \n",
       "std        0.259813      0.262728      0.259813      0.245316      0.114976   \n",
       "min        0.000000      0.000000      0.000000      0.000000      0.000000   \n",
       "25%        0.000000      0.000000      0.000000      0.000000      0.000000   \n",
       "50%        0.000000      0.000000      0.000000      0.000000      0.000000   \n",
       "75%        0.000000      0.000000      0.000000      0.000000      0.000000   \n",
       "max        1.000000      1.000000      1.000000      1.000000      1.000000   \n",
       "\n",
       "          Complain  Z_CostContact  Z_Revenue     Response  \n",
       "count  2240.000000         2240.0     2240.0  2240.000000  \n",
       "mean      0.009375            3.0       11.0     0.149107  \n",
       "std       0.096391            0.0        0.0     0.356274  \n",
       "min       0.000000            3.0       11.0     0.000000  \n",
       "25%       0.000000            3.0       11.0     0.000000  \n",
       "50%       0.000000            3.0       11.0     0.000000  \n",
       "75%       0.000000            3.0       11.0     0.000000  \n",
       "max       1.000000            3.0       11.0     1.000000  "
      ]
     },
     "execution_count": 27,
     "metadata": {},
     "output_type": "execute_result"
    }
   ],
   "source": [
    "# Informations générales sur le dataset\n",
    "print(\"ℹ️ Informations sur le dataset :\")\n",
    "print(df.info())\n",
    "print(\"\\n\" + \"=\"*80 + \"\\n\")\n",
    "\n",
    "# Statistiques descriptives\n",
    "print(\"Statistiques descriptives :\")\n",
    "df.describe()"
   ]
  },
  {
   "cell_type": "markdown",
   "id": "71dcd399",
   "metadata": {},
   "source": [
    "---\n",
    "## 3️) Nettoyage et Prétraitement des Données"
   ]
  },
  {
   "cell_type": "code",
   "execution_count": 31,
   "id": "9f211a90",
   "metadata": {},
   "outputs": [
    {
     "name": "stdout",
     "output_type": "stream",
     "text": [
      "Valeurs dans 'Marital_Status' remplacées avec succès.\n",
      "0    Married\n",
      "1     Single\n",
      "2     Single\n",
      "3      Widow\n",
      "4    Married\n",
      "Name: Marital_Status, dtype: object\n",
      "\n",
      "================================================================================\n",
      "\n",
      "Virgules dans 'Income' remplacées par des points avec succès.\n",
      "0    70951.0\n",
      "1    57091.0\n",
      "2    46098.0\n",
      "3    25358.0\n",
      "4    60491.0\n",
      "Name: Income, dtype: float64\n",
      "\n",
      "================================================================================\n",
      "\n",
      "Ligne avec 'Income' = 666666 supprimée avec succès.\n",
      "0    70951.0\n",
      "1    57091.0\n",
      "2    46098.0\n",
      "3    25358.0\n",
      "4    60491.0\n",
      "Name: Income, dtype: float64\n",
      "\n",
      "================================================================================\n",
      "\n",
      "Lignes avec somme des canaux de distribution égale à 0 supprimées avec succès.\n",
      "   ID  Year_Birth   Education Marital_Status   Income  Kidhome  Teenhome  \\\n",
      "0   0        1985  Graduation        Married  70951.0        0         0   \n",
      "1   1        1961  Graduation         Single  57091.0        0         0   \n",
      "2   9        1975      Master         Single  46098.0        1         1   \n",
      "3  13        1947         PhD          Widow  25358.0        0         1   \n",
      "4  17        1971         PhD        Married  60491.0        0         1   \n",
      "\n",
      "  Dt_Customer  Recency MntWines MntFruits MntMeatProducts MntFishProducts  \\\n",
      "0  04/05/2013       66  $239.00    $10.00         $554.00         $254.00   \n",
      "1  15/06/2014        0  $464.00     $5.00          $64.00           $7.00   \n",
      "2  18/08/2012       86   $57.00     $0.00          $27.00           $0.00   \n",
      "3  22/07/2013       57   $19.00     $0.00           $5.00           $0.00   \n",
      "4  06/09/2013       81  $637.00    $47.00         $237.00          $12.00   \n",
      "\n",
      "  MntSweetProducts MntGoldProds  NumDealsPurchases  NumWebPurchases  \\\n",
      "0           $87.00       $54.00                  1                3   \n",
      "1            $0.00       $37.00                  1                7   \n",
      "2            $0.00       $36.00                  4                3   \n",
      "3            $0.00        $8.00                  2                1   \n",
      "4           $19.00       $76.00                  4                6   \n",
      "\n",
      "   NumCatalogPurchases  NumStorePurchases  NumWebVisitsMonth  AcceptedCmp1  \\\n",
      "0                    4                  9                  1             0   \n",
      "1                    3                  7                  5             0   \n",
      "2                    2                  2                  8             0   \n",
      "3                    0                  3                  6             0   \n",
      "4                   11                  7                  5             0   \n",
      "\n",
      "   AcceptedCmp2  AcceptedCmp3  AcceptedCmp4  AcceptedCmp5  Response  Complain  \n",
      "0             0             0             0             0         0         0  \n",
      "1             1             0             0             0         1         0  \n",
      "2             0             0             0             0         0         0  \n",
      "3             0             0             0             0         0         0  \n",
      "4             0             0             0             0         0         0  \n",
      "\n",
      "================================================================================\n",
      "\n",
      "Lignes où la somme store/web/catalog < deals supprimées avec succès.\n",
      "   ID  Year_Birth   Education Marital_Status   Income  Kidhome  Teenhome  \\\n",
      "0   0        1985  Graduation        Married  70951.0        0         0   \n",
      "1   1        1961  Graduation         Single  57091.0        0         0   \n",
      "2   9        1975      Master         Single  46098.0        1         1   \n",
      "3  13        1947         PhD          Widow  25358.0        0         1   \n",
      "4  17        1971         PhD        Married  60491.0        0         1   \n",
      "\n",
      "  Dt_Customer  Recency MntWines MntFruits MntMeatProducts MntFishProducts  \\\n",
      "0  04/05/2013       66  $239.00    $10.00         $554.00         $254.00   \n",
      "1  15/06/2014        0  $464.00     $5.00          $64.00           $7.00   \n",
      "2  18/08/2012       86   $57.00     $0.00          $27.00           $0.00   \n",
      "3  22/07/2013       57   $19.00     $0.00           $5.00           $0.00   \n",
      "4  06/09/2013       81  $637.00    $47.00         $237.00          $12.00   \n",
      "\n",
      "  MntSweetProducts MntGoldProds  NumDealsPurchases  NumWebPurchases  \\\n",
      "0           $87.00       $54.00                  1                3   \n",
      "1            $0.00       $37.00                  1                7   \n",
      "2            $0.00       $36.00                  4                3   \n",
      "3            $0.00        $8.00                  2                1   \n",
      "4           $19.00       $76.00                  4                6   \n",
      "\n",
      "   NumCatalogPurchases  NumStorePurchases  NumWebVisitsMonth  AcceptedCmp1  \\\n",
      "0                    4                  9                  1             0   \n",
      "1                    3                  7                  5             0   \n",
      "2                    2                  2                  8             0   \n",
      "3                    0                  3                  6             0   \n",
      "4                   11                  7                  5             0   \n",
      "\n",
      "   AcceptedCmp2  AcceptedCmp3  AcceptedCmp4  AcceptedCmp5  Response  Complain  \n",
      "0             0             0             0             0         0         0  \n",
      "1             1             0             0             0         1         0  \n",
      "2             0             0             0             0         0         0  \n",
      "3             0             0             0             0         0         0  \n",
      "4             0             0             0             0         0         0  \n",
      "\n",
      "================================================================================\n",
      "\n",
      "Colonnes triées dans l'ordre souhaité avec succès.\n",
      "\n",
      "================================================================================\n",
      "\n",
      "La somme totale des revenus (Income) est : 116001621.0\n",
      "\n",
      "================================================================================\n",
      "\n"
     ]
    }
   ],
   "source": [
    "#1 Dans Marital Status, remplacer \"Alone\" par \"Single\" et \"Absurd\" et \"YOLO\" par \"Other\"\n",
    "\n",
    "new_value = {\n",
    "    'Alone': 'Single',\n",
    "    'Absurd': 'Other',\n",
    "    'YOLO': 'Other'\n",
    "}\n",
    "df['Marital_Status'] = df['Marital_Status'].replace(new_value)\n",
    "print(\"Valeurs dans 'Marital_Status' remplacées avec succès.\")\n",
    "print(df['Marital_Status'].head())  \n",
    "df.head()\n",
    "\n",
    "print(\"\\n\" + \"=\"*80 + \"\\n\")\n",
    "\n",
    "# 1.5 Dans la colonne Income, change les , en .\n",
    "df['Income'] = df['Income'].astype(str).str.replace(',', '.').astype(float)\n",
    "print(\"Virgules dans 'Income' remplacées par des points avec succès.\")\n",
    "print(df['Income'].head())\n",
    "\n",
    "print(\"\\n\" + \"=\"*80 + \"\\n\")\n",
    "\n",
    "#2 Supprimer la ligne avec income = 666666\n",
    "\n",
    "df = df[df['Income'] != 666666]\n",
    "print(\"Ligne avec 'Income' = 666666 supprimée avec succès.\")\n",
    "# print(df['Income'].head())\n",
    "\n",
    "print(\"\\n\" + \"=\"*80 + \"\\n\")\n",
    "\n",
    "                                                \n",
    "\n",
    "\n",
    "\n",
    "#4 Supprimer les lignes si la somme des canaux de distrib (NumDealsPurchases + NumWebPurchases + NumCatalogPurchases + NumStorePurchases) = 0\n",
    "\n",
    "df['Total_Purchases'] = df['NumDealsPurchases'] + df['NumWebPurchases'] + df['NumCatalogPurchases'] + df['NumStorePurchases']\n",
    "df = df[df['Total_Purchases'] != 0]\n",
    "df = df.drop(columns=['Total_Purchases'])\n",
    "print(\"Lignes avec somme des canaux de distribution égale à 0 supprimées avec succès.\")\n",
    "# print(df.head())\n",
    "\n",
    "print(\"\\n\" + \"=\"*80 + \"\\n\")\n",
    "\n",
    "\n",
    "#5 Supprimer les lignes où la somme store/web/catalog < deals\n",
    "\n",
    "df['Sum_Other_Purchases'] = df['NumWebPurchases'] + df['NumCatalogPurchases'] + df['NumStorePurchases']\n",
    "df = df[df['Sum_Other_Purchases'] >= df['NumDealsPurchases']]\n",
    "df = df.drop(columns=['Sum_Other_Purchases'])\n",
    "print(\"Lignes où la somme store/web/catalog < deals supprimées avec succès.\")\n",
    "# print(df.head())   \n",
    "\n",
    "print(\"\\n\" + \"=\"*80 + \"\\n\")\n",
    "\n",
    "\n",
    "#6 Trier visuelement les campagnes Marketing dans le bon ordre\n",
    "# ID - Year_birth - Education - Marital_Status - Income - Kidhome - Teenhome - Dt_Customer - Recency - MntWines - MntFruits - MntMeatProducts - MntFishProducts - MntSweetProducts - MntGoldProds - NumDealsPurchases - NumWebPurchases - NumCatalogPurchases - NumStorePurchases - NumWebVisitsMonth - AcceptedCmp1 - AcceptedCmp2 - AcceptedCmp3 - AcceptedCmp4 - AcceptedCmp5 - Response - Complain\n",
    "# Suppresion des colonnes Z_CostContact et Z_Revenue car elles ne sont pas utiles pour l'analyse\n",
    "\n",
    "desired_order = [\n",
    "    'ID', 'Year_Birth', 'Education', 'Marital_Status', 'Income', \n",
    "    'Kidhome', 'Teenhome', 'Dt_Customer', 'Recency', \n",
    "    'MntWines', 'MntFruits', 'MntMeatProducts', 'MntFishProducts', \n",
    "    'MntSweetProducts', 'MntGoldProds', \n",
    "    'NumDealsPurchases', 'NumWebPurchases', 'NumCatalogPurchases', \n",
    "    'NumStorePurchases', 'NumWebVisitsMonth', \n",
    "    'AcceptedCmp1', 'AcceptedCmp2', 'AcceptedCmp3', \n",
    "    'AcceptedCmp4', 'AcceptedCmp5', 'Response', 'Complain'\n",
    "]\n",
    "df = df[desired_order]\n",
    "print(\"Colonnes triées dans l'ordre souhaité avec succès.\")\n",
    "\n",
    "# print(\"\\n\" + \"=\"*80 + \"\\n\")\n",
    "\n",
    "\n",
    "#7 Afficher la somme du total des income\n",
    "\n",
    "total_income = df['Income'].sum()\n",
    "print(f\"La somme totale des revenus (Income) est : {total_income}\")\n",
    "\n",
    "# Vérifier le nombre de valeurs manquantes avant\n",
    "print(f\"Nombre de valeurs manquantes dans Income avant : {df['Income'].isna().sum()}\")\n",
    "\n",
    "total_income = df['Income'].sum()\n",
    "print(f\"La somme totale des revenus (Income) est : {total_income}\")\n",
    "\n",
    "\n"
   ]
  },
  {
   "cell_type": "markdown",
   "id": "6674aa37",
   "metadata": {},
   "source": [
    "---\n",
    "## 4️) Feature Engineering\n",
    "\n",
    "Création de nouvelles variables pertinentes pour l'analyse"
   ]
  },
  {
   "cell_type": "code",
   "execution_count": 29,
   "id": "decdce07",
   "metadata": {},
   "outputs": [
    {
     "name": "stdout",
     "output_type": "stream",
     "text": [
      "Champ 'Age' ajouté avec succès.\n",
      "   Year_Birth  Age\n",
      "0        1985   29\n",
      "1        1961   53\n",
      "2        1975   39\n",
      "3        1947   67\n",
      "4        1971   43\n",
      "5        1965   49\n",
      "6        1976   38\n",
      "7        1960   54\n",
      "8        1958   56\n",
      "9        1987   27\n",
      "\n",
      "================================================================================\n",
      "\n",
      "Champ 'Total_Children' ajouté avec succès.\n",
      "   Kidhome  Teenhome  Total_Children\n",
      "0        0         0               0\n",
      "1        0         0               0\n",
      "2        1         1               2\n",
      "3        0         1               1\n",
      "4        0         1               1\n",
      "5        0         1               1\n",
      "6        1         0               1\n",
      "7        1         1               2\n",
      "8        0         1               1\n",
      "9        1         0               1\n",
      "\n",
      "================================================================================\n",
      "\n",
      "Champ 'Total_Purchases' ajouté avec succès.\n",
      "   MntWines  MntFruits  MntMeatProducts  MntFishProducts  MntSweetProducts  \\\n",
      "0       239         10              554              254                87   \n",
      "1       464          5               64                7                 0   \n",
      "2        57          0               27                0                 0   \n",
      "3        19          0                5                0                 0   \n",
      "4       637         47              237               12                19   \n",
      "5        43         12               23               29                15   \n",
      "6       185          2               88               15                 5   \n",
      "7        18          2               19                0                 2   \n",
      "8       460         35              422               33                12   \n",
      "9        32          1               64               16                12   \n",
      "\n",
      "   MntGoldProds  Total_Purchases  \n",
      "0            54             1198  \n",
      "1            37              577  \n",
      "2            36              120  \n",
      "3             8               32  \n",
      "4            76             1028  \n",
      "5            61              183  \n",
      "6            14              309  \n",
      "7             6               47  \n",
      "8           153             1115  \n",
      "9            85              210  \n",
      "\n",
      "================================================================================\n",
      "\n",
      "Caractère '$' ajouté aux champs Mnt avec succès.\n",
      "  MntWines MntFruits MntMeatProducts MntFishProducts MntSweetProducts  \\\n",
      "0  $239.00    $10.00         $554.00         $254.00           $87.00   \n",
      "1  $464.00     $5.00          $64.00           $7.00            $0.00   \n",
      "2   $57.00     $0.00          $27.00           $0.00            $0.00   \n",
      "3   $19.00     $0.00           $5.00           $0.00            $0.00   \n",
      "4  $637.00    $47.00         $237.00          $12.00           $19.00   \n",
      "\n",
      "  MntGoldProds Total_Purchases  \n",
      "0       $54.00        $1198.00  \n",
      "1       $37.00         $577.00  \n",
      "2       $36.00         $120.00  \n",
      "3        $8.00          $32.00  \n",
      "4       $76.00        $1028.00  \n",
      "  MntWines MntFruits MntMeatProducts MntFishProducts MntSweetProducts  \\\n",
      "0  $239.00    $10.00         $554.00         $254.00           $87.00   \n",
      "1  $464.00     $5.00          $64.00           $7.00            $0.00   \n",
      "2   $57.00     $0.00          $27.00           $0.00            $0.00   \n",
      "3   $19.00     $0.00           $5.00           $0.00            $0.00   \n",
      "4  $637.00    $47.00         $237.00          $12.00           $19.00   \n",
      "5   $43.00    $12.00          $23.00          $29.00           $15.00   \n",
      "6  $185.00     $2.00          $88.00          $15.00            $5.00   \n",
      "7   $18.00     $2.00          $19.00           $0.00            $2.00   \n",
      "8  $460.00    $35.00         $422.00          $33.00           $12.00   \n",
      "9   $32.00     $1.00          $64.00          $16.00           $12.00   \n",
      "\n",
      "  MntGoldProds Total_Purchases  \n",
      "0       $54.00        $1198.00  \n",
      "1       $37.00         $577.00  \n",
      "2       $36.00         $120.00  \n",
      "3        $8.00          $32.00  \n",
      "4       $76.00        $1028.00  \n",
      "5       $61.00         $183.00  \n",
      "6       $14.00         $309.00  \n",
      "7        $6.00          $47.00  \n",
      "8      $153.00        $1115.00  \n",
      "9       $85.00         $210.00  \n",
      "MntWines            object\n",
      "MntFruits           object\n",
      "MntMeatProducts     object\n",
      "MntFishProducts     object\n",
      "MntSweetProducts    object\n",
      "MntGoldProds        object\n",
      "Total_Purchases     object\n",
      "dtype: object\n",
      "\n",
      "================================================================================\n",
      "\n",
      "Champ 'Total_Num_Purchases' ajouté avec succès.\n",
      "   NumStorePurchases  NumWebPurchases  NumCatalogPurchases  \\\n",
      "0                  9                3                    4   \n",
      "1                  7                7                    3   \n",
      "2                  2                3                    2   \n",
      "3                  3                1                    0   \n",
      "4                  7                6                   11   \n",
      "5                  4                2                    1   \n",
      "6                  5                6                    1   \n",
      "7                  4                3                    0   \n",
      "8                  7                6                    6   \n",
      "9                  3                2                    2   \n",
      "\n",
      "   Total_Num_Purchases  \n",
      "0                   16  \n",
      "1                   17  \n",
      "2                    7  \n",
      "3                    4  \n",
      "4                   24  \n",
      "5                    7  \n",
      "6                   12  \n",
      "7                    7  \n",
      "8                   19  \n",
      "9                    7  \n",
      "\n",
      "================================================================================\n",
      "\n"
     ]
    }
   ],
   "source": [
    "#1 Ajout champ \"age\"\n",
    "\n",
    "actuel_year = 2014\n",
    "df['Age'] = actuel_year - df['Year_Birth']\n",
    "print(\"Champ 'Age' ajouté avec succès.\")\n",
    "print(df[['Year_Birth', 'Age']].head(10))\n",
    "\n",
    "print(\"\\n\" + \"=\"*80 + \"\\n\")\n",
    "\n",
    "#2 Ajout champ \"enfant totaux\"\n",
    "\n",
    "df['Total_Children'] = df['Kidhome'] + df['Teenhome']\n",
    "print(\"Champ 'Total_Children' ajouté avec succès.\")\n",
    "print(df[['Kidhome', 'Teenhome', 'Total_Children']].head(10))\n",
    "\n",
    "print(\"\\n\" + \"=\"*80 + \"\\n\")\n",
    "\n",
    "#3 Ajout champ \"achats totaux\"\n",
    "\n",
    "df['Total_Purchases'] = (df['MntWines'] + df['MntFruits'] + df['MntMeatProducts'] + \n",
    "                          df['MntFishProducts'] + df['MntSweetProducts'] + df['MntGoldProds'])\n",
    "print(\"Champ 'Total_Purchases' ajouté avec succès.\")\n",
    "print(df[['MntWines', 'MntFruits', 'MntMeatProducts', 'MntFishProducts', \n",
    "          'MntSweetProducts', 'MntGoldProds', 'Total_Purchases']].head(10))\n",
    "\n",
    "print(\"\\n\" + \"=\"*80 + \"\\n\")\n",
    "\n",
    "#4 Ajout du caractère $ dans les champs Mnt\n",
    "\n",
    "money_columns = ['MntWines', 'MntFruits', 'MntMeatProducts', 'MntFishProducts', 'MntSweetProducts', 'MntGoldProds', 'Total_Purchases']\n",
    "for col in money_columns:\n",
    "    df[col] = pd.to_numeric(df[col], errors='coerce')  \n",
    "    df[col] = df[col].apply(lambda x: f\"${x:.2f}\" if pd.notnull(x) else \"\")\n",
    "print(\"Caractère '$' ajouté aux champs Mnt avec succès.\")\n",
    "print(df[money_columns].head())\n",
    "\n",
    "print(df[money_columns].head(10))\n",
    "print(df[money_columns].dtypes)\n",
    "\n",
    "\n",
    "print(\"\\n\" + \"=\"*80 + \"\\n\")\n",
    "\n",
    "#5 Ajout champ somme store/web/catalog\n",
    "\n",
    "df['Total_Num_Purchases'] = df['NumStorePurchases'] + df['NumWebPurchases'] + df['NumCatalogPurchases']\n",
    "print(\"Champ 'Total_Num_Purchases' ajouté avec succès.\")\n",
    "print(df[['NumStorePurchases', 'NumWebPurchases', 'NumCatalogPurchases', 'Total_Num_Purchases']].head(10))\n",
    "\n",
    "print(\"\\n\" + \"=\"*80 + \"\\n\")\n",
    "\n",
    "#5. ajout statuts conjugal simple (vie seul ou pas) couple ou single\n",
    "#6. total aux foyer\n",
    "# nombre de jours depuis l'inscription (se basé sur 30 juin 2014)"
   ]
  },
  {
   "cell_type": "markdown",
   "id": "904a239d",
   "metadata": {},
   "source": [
    "---\n",
    "## 6️) Définition et Calcul des KPIs\n",
    "\n",
    "### KPIs Clés pour Évaluer l'Efficacité des Campagnes"
   ]
  },
  {
   "cell_type": "code",
   "execution_count": 13,
   "id": "ba7a4a5f",
   "metadata": {},
   "outputs": [
    {
     "name": "stdout",
     "output_type": "stream",
     "text": [
      "================================================================================\n",
      "📊 CALCUL DES KPIs - INDICATEURS DE PERFORMANCE CLÉS\n",
      "================================================================================\n",
      "\n",
      "1️⃣ TAUX DE RÉPONSE PAR CAMPAGNE\n",
      "--------------------------------------------------------------------------------\n",
      "   AcceptedCmp1         :  144 acceptations | Taux:   6.45%\n",
      "   AcceptedCmp2         :   30 acceptations | Taux:   1.34%\n",
      "   AcceptedCmp3         :  163 acceptations | Taux:   7.30%\n",
      "   AcceptedCmp4         :  167 acceptations | Taux:   7.48%\n",
      "   AcceptedCmp5         :  163 acceptations | Taux:   7.30%\n",
      "   Response             :  334 acceptations | Taux:  14.96%\n",
      "\n",
      "   📈 Meilleure campagne : Response avec 14.96%\n",
      "   📉 Moins bonne campagne : AcceptedCmp2 avec 1.34%\n",
      "\n",
      "================================================================================\n",
      "\n",
      "2️⃣ TAUX DE CONVERSION GLOBAL\n",
      "--------------------------------------------------------------------------------\n",
      "   Nombre total de clients : 2232\n",
      "   Clients ayant accepté au moins une campagne : 609\n",
      "   📊 TAUX DE CONVERSION GLOBAL : 27.28%\n",
      "\n",
      "================================================================================\n",
      "\n",
      "3️⃣ REVENU MOYEN PAR CLIENT (PANIER MOYEN)\n",
      "--------------------------------------------------------------------------------\n",
      "   Revenu total généré : $1,356,706.00\n",
      "   📊 REVENU MOYEN par client : $607.84\n",
      "   📊 REVENU MÉDIAN par client : $397.50\n",
      "\n",
      "================================================================================\n",
      "\n",
      "4️⃣ 🍷🥩 PERFORMANCE PRODUITS PREMIUM (VIN & VIANDE)\n",
      "--------------------------------------------------------------------------------\n",
      "   💡 Insight : Corrélation forte avec TotalMnt (0.89 vin / 0.84 viande)\n",
      "\n",
      "   🍷 Part du VIN dans CA total : 50.2%\n",
      "   🥩 Part de la VIANDE dans CA total : 27.6%\n",
      "   ⭐ Part PRODUITS PREMIUM total : 77.7%\n",
      "\n",
      "   👑 Clients PREMIUM (top 25% vin+viande) : 558 clients (25.0%)\n",
      "   💰 Revenu moyen Premium : $1,474.03\n",
      "   💡 STRATÉGIE : Cibler ces clients avec offres exclusives vin/viande\n",
      "\n",
      "================================================================================\n",
      "\n",
      "5️⃣ PERFORMANCE PAR CANAL DE DISTRIBUTION\n",
      "--------------------------------------------------------------------------------\n",
      "   💡 Insight : Magasin = 82% volume | Catalogue = clients à forte valeur (0.78)\n",
      "\n",
      "   🌐 Web :  9147 achats (27.52%)\n",
      "   📖 Catalogue :  5961 achats (17.94%)\n",
      "   🏪 Magasin : 12967 achats (39.02%)\n",
      "   💰 Promotions :  5159 achats (15.52%)\n",
      "   📊 TOTAL : 33234 achats\n",
      "\n",
      "   📖 Clients achetant via CATALOGUE : 1652 (74.0%)\n",
      "   💰 Revenu moyen Catalogue : $801.10\n",
      "   💰 Revenu moyen Autres : $57.41\n",
      "   📈 Lift Catalogue : +1295.5%\n",
      "   💡 STRATÉGIE : Clients catalogue = haute valeur, investir dans ce canal\n",
      "\n",
      "================================================================================\n",
      "\n",
      "6️⃣ ROI - RETOUR SUR INVESTISSEMENT PAR CAMPAGNE\n",
      "--------------------------------------------------------------------------------\n",
      "   💡 Insight : Faible corrélation inter-campagnes = profils clients différents\n",
      "\n",
      "   AcceptedCmp1        :\n",
      "      Revenu moyen (accepté) : $1,482.22\n",
      "      Revenu moyen (refusé)  : $547.54\n",
      "      📈 Lift : +170.7% | Différence : $934.68\n",
      "\n",
      "   AcceptedCmp2        :\n",
      "      Revenu moyen (accepté) : $1,307.67\n",
      "      Revenu moyen (refusé)  : $598.31\n",
      "      📈 Lift : +118.6% | Différence : $709.36\n",
      "\n",
      "   AcceptedCmp3        :\n",
      "      Revenu moyen (accepté) : $720.54\n",
      "      Revenu moyen (refusé)  : $598.96\n",
      "      📈 Lift : +20.3% | Différence : $121.58\n",
      "\n",
      "   AcceptedCmp4        :\n",
      "      Revenu moyen (accepté) : $1,143.13\n",
      "      Revenu moyen (refusé)  : $564.55\n",
      "      📈 Lift : +102.5% | Différence : $578.57\n",
      "\n",
      "   AcceptedCmp5        :\n",
      "      Revenu moyen (accepté) : $1,616.11\n",
      "      Revenu moyen (refusé)  : $528.41\n",
      "      📈 Lift : +205.8% | Différence : $1,087.70\n",
      "\n",
      "   Response            :\n",
      "      Revenu moyen (accepté) : $987.39\n",
      "      Revenu moyen (refusé)  : $541.05\n",
      "      📈 Lift : +82.5% | Différence : $446.34\n",
      "\n",
      "   💡 STRATÉGIE : Personnaliser chaque campagne selon le profil cible\n",
      "================================================================================\n",
      "\n",
      "7️⃣ RÉCENCE ET ACTIVITÉ CLIENT\n",
      "--------------------------------------------------------------------------------\n",
      "   📅 Récence moyenne : 49.1 jours depuis le dernier achat\n",
      "   🌐 Visites web moyennes : 5.3 visites/mois\n",
      "   ✅ Clients actifs (<30j) : 721 (32.30%)\n",
      "\n",
      "================================================================================\n",
      "\n",
      "8️⃣ SEGMENTATION PAR VALEUR CLIENT\n",
      "--------------------------------------------------------------------------------\n",
      "   Low Value       :  707 clients (31.68%) | Revenu moyen: $48.95\n",
      "   Medium Value    :  531 clients (23.79%) | Revenu moyen: $275.07\n",
      "   High Value      :  392 clients (17.56%) | Revenu moyen: $761.36\n",
      "   VIP             :  602 clients (26.97%) | Revenu moyen: $1,457.77\n",
      "\n",
      "================================================================================\n",
      "✅ CALCUL DES KPIs TERMINÉ\n",
      "================================================================================\n",
      "\n",
      "================================================================================\n",
      "🎯 RÉSUMÉ STRATÉGIQUE - INSIGHTS CORRÉLATIONS\n",
      "================================================================================\n",
      "\n",
      "1️⃣  PRODUITS PREMIUM (Vin 0.89 / Viande 0.84)\n",
      "    → Représentent 77.7% du CA\n",
      "    → 558 clients Premium à cibler avec offres exclusives\n",
      "\n",
      "2️⃣  CANAL CATALOGUE (Corrélation 0.78)\n",
      "    → Clients à haute valeur (+1295% vs autres)\n",
      "    → Investir davantage dans ce canal rentable\n",
      "\n",
      "3️⃣  CANAL MAGASIN (82% du volume)\n",
      "    → Canal principal, optimiser l'expérience en magasin\n",
      "\n",
      "4️⃣  CAMPAGNES MARKETING (Corrélation inter-campagnes faible)\n",
      "    → Chaque campagne attire un profil différent\n",
      "    → Nécessité de PERSONNALISER chaque campagne\n",
      "\n",
      "================================================================================\n"
     ]
    }
   ],
   "source": [
    "# ========== CALCUL DES KPIs PRINCIPAUX ==========\n",
    "\n",
    "print(\"=\"*80)\n",
    "print(\"📊 CALCUL DES KPIs - INDICATEURS DE PERFORMANCE CLÉS\")\n",
    "print(\"=\"*80 + \"\\n\")\n",
    "\n",
    "# ----- KPI 1 : TAUX DE RÉPONSE PAR CAMPAGNE -----\n",
    "print(\"1️⃣ TAUX DE RÉPONSE PAR CAMPAGNE\")\n",
    "print(\"-\" * 80)\n",
    "\n",
    "campagnes = ['AcceptedCmp1', 'AcceptedCmp2', 'AcceptedCmp3', 'AcceptedCmp4', 'AcceptedCmp5', 'Response']\n",
    "taux_reponse = {}\n",
    "\n",
    "for campagne in campagnes:\n",
    "    total_clients = len(df)\n",
    "    acceptations = df[campagne].sum()\n",
    "    taux = (acceptations / total_clients) * 100\n",
    "    taux_reponse[campagne] = taux\n",
    "    print(f\"   {campagne:20s} : {acceptations:4d} acceptations | Taux: {taux:6.2f}%\")\n",
    "\n",
    "print(f\"\\n   📈 Meilleure campagne : {max(taux_reponse, key=taux_reponse.get)} avec {max(taux_reponse.values()):.2f}%\")\n",
    "print(f\"   📉 Moins bonne campagne : {min(taux_reponse, key=taux_reponse.get)} avec {min(taux_reponse.values()):.2f}%\")\n",
    "\n",
    "print(\"\\n\" + \"=\"*80 + \"\\n\")\n",
    "\n",
    "# ----- KPI 2 : TAUX DE CONVERSION GLOBAL -----\n",
    "print(\"2️⃣ TAUX DE CONVERSION GLOBAL\")\n",
    "print(\"-\" * 80)\n",
    "\n",
    "df['Total_Acceptations'] = df[['AcceptedCmp1', 'AcceptedCmp2', 'AcceptedCmp3', 'AcceptedCmp4', 'AcceptedCmp5', 'Response']].sum(axis=1)\n",
    "clients_ayant_accepte = (df['Total_Acceptations'] > 0).sum()\n",
    "taux_conversion_global = (clients_ayant_accepte / len(df)) * 100\n",
    "\n",
    "print(f\"   Nombre total de clients : {len(df)}\")\n",
    "print(f\"   Clients ayant accepté au moins une campagne : {clients_ayant_accepte}\")\n",
    "print(f\"   📊 TAUX DE CONVERSION GLOBAL : {taux_conversion_global:.2f}%\")\n",
    "\n",
    "print(\"\\n\" + \"=\"*80 + \"\\n\")\n",
    "\n",
    "# ----- KPI 3 : REVENU MOYEN PAR CLIENT -----\n",
    "print(\"3️⃣ REVENU MOYEN PAR CLIENT (PANIER MOYEN)\")\n",
    "print(\"-\" * 80)\n",
    "\n",
    "# Calculer le total des achats par client si pas déjà fait\n",
    "if 'Total_Purchases' not in df.columns:\n",
    "    df['Total_Purchases'] = (df['MntWines'] + df['MntFruits'] + df['MntMeatProducts'] + \n",
    "                              df['MntFishProducts'] + df['MntSweetProducts'] + df['MntGoldProds'])\n",
    "\n",
    "revenu_moyen = df['Total_Purchases'].mean()\n",
    "revenu_median = df['Total_Purchases'].median()\n",
    "revenu_total = df['Total_Purchases'].sum()\n",
    "\n",
    "print(f\"   Revenu total généré : ${revenu_total:,.2f}\")\n",
    "print(f\"   📊 REVENU MOYEN par client : ${revenu_moyen:,.2f}\")\n",
    "print(f\"   📊 REVENU MÉDIAN par client : ${revenu_median:,.2f}\")\n",
    "\n",
    "print(\"\\n\" + \"=\"*80 + \"\\n\")\n",
    "\n",
    "# ----- KPI 4 : ANALYSE PRODUITS PREMIUM (VIN & VIANDE) -----\n",
    "print(\"4️⃣ 🍷🥩 PERFORMANCE PRODUITS PREMIUM (VIN & VIANDE)\")\n",
    "print(\"-\" * 80)\n",
    "print(\"   💡 Insight : Corrélation forte avec TotalMnt (0.89 vin / 0.84 viande)\")\n",
    "print()\n",
    "\n",
    "part_vin = (df['MntWines'].sum() / df['Total_Purchases'].sum()) * 100\n",
    "part_viande = (df['MntMeatProducts'].sum() / df['Total_Purchases'].sum()) * 100\n",
    "part_premium = part_vin + part_viande\n",
    "\n",
    "print(f\"   🍷 Part du VIN dans CA total : {part_vin:.1f}%\")\n",
    "print(f\"   🥩 Part de la VIANDE dans CA total : {part_viande:.1f}%\")\n",
    "print(f\"   ⭐ Part PRODUITS PREMIUM total : {part_premium:.1f}%\")\n",
    "\n",
    "# Identifier les clients \"Premium\" (gros acheteurs de vin/viande)\n",
    "df['Premium_Purchases'] = df['MntWines'] + df['MntMeatProducts']\n",
    "seuil_premium = df['Premium_Purchases'].quantile(0.75)\n",
    "clients_premium = (df['Premium_Purchases'] > seuil_premium).sum()\n",
    "pct_premium = (clients_premium / len(df)) * 100\n",
    "\n",
    "print(f\"\\n   👑 Clients PREMIUM (top 25% vin+viande) : {clients_premium} clients ({pct_premium:.1f}%)\")\n",
    "print(f\"   💰 Revenu moyen Premium : ${df[df['Premium_Purchases'] > seuil_premium]['Total_Purchases'].mean():,.2f}\")\n",
    "print(f\"   💡 STRATÉGIE : Cibler ces clients avec offres exclusives vin/viande\")\n",
    "\n",
    "print(\"\\n\" + \"=\"*80 + \"\\n\")\n",
    "\n",
    "# ----- KPI 5 : PERFORMANCE PAR CANAL (FOCUS CATALOGUE & MAGASIN) -----\n",
    "print(\"5️⃣ PERFORMANCE PAR CANAL DE DISTRIBUTION\")\n",
    "print(\"-\" * 80)\n",
    "print(\"   💡 Insight : Magasin = 82% volume | Catalogue = clients à forte valeur (0.78)\")\n",
    "print()\n",
    "\n",
    "achats_web = df['NumWebPurchases'].sum()\n",
    "achats_catalog = df['NumCatalogPurchases'].sum()\n",
    "achats_store = df['NumStorePurchases'].sum()\n",
    "achats_deals = df['NumDealsPurchases'].sum()\n",
    "total_achats = achats_web + achats_catalog + achats_store + achats_deals\n",
    "\n",
    "print(f\"   🌐 Web : {achats_web:5d} achats ({(achats_web/total_achats)*100:5.2f}%)\")\n",
    "print(f\"   📖 Catalogue : {achats_catalog:5d} achats ({(achats_catalog/total_achats)*100:5.2f}%)\")\n",
    "print(f\"   🏪 Magasin : {achats_store:5d} achats ({(achats_store/total_achats)*100:5.2f}%)\")\n",
    "print(f\"   💰 Promotions : {achats_deals:5d} achats ({(achats_deals/total_achats)*100:5.2f}%)\")\n",
    "print(f\"   📊 TOTAL : {total_achats} achats\")\n",
    "\n",
    "# Analyse clients catalogue (haute valeur)\n",
    "clients_catalogue = df[df['NumCatalogPurchases'] > 0]\n",
    "print(f\"\\n   📖 Clients achetant via CATALOGUE : {len(clients_catalogue)} ({len(clients_catalogue)/len(df)*100:.1f}%)\")\n",
    "print(f\"   💰 Revenu moyen Catalogue : ${clients_catalogue['Total_Purchases'].mean():,.2f}\")\n",
    "print(f\"   💰 Revenu moyen Autres : ${df[df['NumCatalogPurchases'] == 0]['Total_Purchases'].mean():,.2f}\")\n",
    "print(f\"   📈 Lift Catalogue : +{((clients_catalogue['Total_Purchases'].mean() / df[df['NumCatalogPurchases'] == 0]['Total_Purchases'].mean()) - 1) * 100:.1f}%\")\n",
    "print(f\"   💡 STRATÉGIE : Clients catalogue = haute valeur, investir dans ce canal\")\n",
    "\n",
    "print(\"\\n\" + \"=\"*80 + \"\\n\")\n",
    "\n",
    "# ----- KPI 6 : ROI PAR CAMPAGNE (Return On Investment) -----\n",
    "print(\"6️⃣ ROI - RETOUR SUR INVESTISSEMENT PAR CAMPAGNE\")\n",
    "print(\"-\" * 80)\n",
    "print(\"   💡 Insight : Faible corrélation inter-campagnes = profils clients différents\")\n",
    "print()\n",
    "\n",
    "# Revenu moyen des clients ayant accepté vs n'ayant pas accepté\n",
    "for campagne in campagnes:\n",
    "    revenu_accepte = df[df[campagne] == 1]['Total_Purchases'].mean()\n",
    "    revenu_refuse = df[df[campagne] == 0]['Total_Purchases'].mean()\n",
    "    diff = revenu_accepte - revenu_refuse\n",
    "    lift = ((revenu_accepte / revenu_refuse) - 1) * 100 if revenu_refuse > 0 else 0\n",
    "    \n",
    "    print(f\"   {campagne:20s}:\")\n",
    "    print(f\"      Revenu moyen (accepté) : ${revenu_accepte:,.2f}\")\n",
    "    print(f\"      Revenu moyen (refusé)  : ${revenu_refuse:,.2f}\")\n",
    "    print(f\"      📈 Lift : +{lift:.1f}% | Différence : ${diff:,.2f}\")\n",
    "    print()\n",
    "\n",
    "print(\"   💡 STRATÉGIE : Personnaliser chaque campagne selon le profil cible\")\n",
    "\n",
    "print(\"=\"*80 + \"\\n\")\n",
    "\n",
    "# ----- KPI 7 : RÉCENCE ET ACTIVITÉ CLIENT -----\n",
    "print(\"7️⃣ RÉCENCE ET ACTIVITÉ CLIENT\")\n",
    "print(\"-\" * 80)\n",
    "\n",
    "recence_moyenne = df['Recency'].mean()\n",
    "visites_web_moyennes = df['NumWebVisitsMonth'].mean()\n",
    "\n",
    "print(f\"   📅 Récence moyenne : {recence_moyenne:.1f} jours depuis le dernier achat\")\n",
    "print(f\"   🌐 Visites web moyennes : {visites_web_moyennes:.1f} visites/mois\")\n",
    "\n",
    "# Clients actifs (achat récent < 30 jours)\n",
    "clients_actifs = (df['Recency'] <= 30).sum()\n",
    "taux_clients_actifs = (clients_actifs / len(df)) * 100\n",
    "print(f\"   ✅ Clients actifs (<30j) : {clients_actifs} ({taux_clients_actifs:.2f}%)\")\n",
    "\n",
    "print(\"\\n\" + \"=\"*80 + \"\\n\")\n",
    "\n",
    "# ----- KPI 8 : SEGMENTATION PAR VALEUR CLIENT -----\n",
    "print(\"8️⃣ SEGMENTATION PAR VALEUR CLIENT\")\n",
    "print(\"-\" * 80)\n",
    "\n",
    "# Créer des segments basés sur les achats totaux\n",
    "df['Segment_Valeur'] = pd.cut(df['Total_Purchases'], \n",
    "                                bins=[0, 100, 500, 1000, float('inf')],\n",
    "                                labels=['Low Value', 'Medium Value', 'High Value', 'VIP'])\n",
    "\n",
    "segment_counts = df['Segment_Valeur'].value_counts()\n",
    "for segment in ['Low Value', 'Medium Value', 'High Value', 'VIP']:\n",
    "    if segment in segment_counts.index:\n",
    "        count = segment_counts[segment]\n",
    "        pct = (count / len(df)) * 100\n",
    "        avg_revenue = df[df['Segment_Valeur'] == segment]['Total_Purchases'].mean()\n",
    "        print(f\"   {segment:15s} : {count:4d} clients ({pct:5.2f}%) | Revenu moyen: ${avg_revenue:,.2f}\")\n",
    "\n",
    "print(\"\\n\" + \"=\"*80)\n",
    "print(\"✅ CALCUL DES KPIs TERMINÉ\")\n",
    "print(\"=\"*80 + \"\\n\")\n",
    "\n",
    "# ----- RÉSUMÉ STRATÉGIQUE BASÉ SUR LES CORRÉLATIONS -----\n",
    "print(\"=\"*80)\n",
    "print(\"🎯 RÉSUMÉ STRATÉGIQUE - INSIGHTS CORRÉLATIONS\")\n",
    "print(\"=\"*80)\n",
    "print()\n",
    "print(\"1️⃣  PRODUITS PREMIUM (Vin 0.89 / Viande 0.84)\")\n",
    "print(f\"    → Représentent {part_premium:.1f}% du CA\")\n",
    "print(f\"    → {clients_premium} clients Premium à cibler avec offres exclusives\")\n",
    "print()\n",
    "print(\"2️⃣  CANAL CATALOGUE (Corrélation 0.78)\")\n",
    "print(f\"    → Clients à haute valeur (+{((clients_catalogue['Total_Purchases'].mean() / df[df['NumCatalogPurchases'] == 0]['Total_Purchases'].mean()) - 1) * 100:.0f}% vs autres)\")\n",
    "print(f\"    → Investir davantage dans ce canal rentable\")\n",
    "print()\n",
    "print(\"3️⃣  CANAL MAGASIN (82% du volume)\")\n",
    "print(f\"    → Canal principal, optimiser l'expérience en magasin\")\n",
    "print()\n",
    "print(\"4️⃣  CAMPAGNES MARKETING (Corrélation inter-campagnes faible)\")\n",
    "print(f\"    → Chaque campagne attire un profil différent\")\n",
    "print(f\"    → Nécessité de PERSONNALISER chaque campagne\")\n",
    "print()\n",
    "print(\"=\"*80)"
   ]
  },
  {
   "cell_type": "code",
   "execution_count": 10,
   "id": "502ea72c",
   "metadata": {},
   "outputs": [
    {
     "name": "stdout",
     "output_type": "stream",
     "text": [
      "================================================================================\n",
      "🔎 ANALYSE CROISÉE : PERFORMANCE DES CAMPAGNES PAR CANAL DE DISTRIBUTION\n",
      "================================================================================\n",
      "\n",
      "Tableau comparatif : Achats moyens par canal selon acceptation/refus de chaque campagne\n",
      "\n"
     ]
    },
    {
     "data": {
      "application/vnd.microsoft.datawrangler.viewer.v0+json": {
       "columns": [
        {
         "name": "Campagne",
         "rawType": "object",
         "type": "string"
        },
        {
         "name": "('Moyenne_Accepté', 'NumCatalogPurchases')",
         "rawType": "float64",
         "type": "float"
        },
        {
         "name": "('Moyenne_Accepté', 'NumDealsPurchases')",
         "rawType": "float64",
         "type": "float"
        },
        {
         "name": "('Moyenne_Accepté', 'NumStorePurchases')",
         "rawType": "float64",
         "type": "float"
        },
        {
         "name": "('Moyenne_Accepté', 'NumWebPurchases')",
         "rawType": "float64",
         "type": "float"
        },
        {
         "name": "('Moyenne_Refusé', 'NumCatalogPurchases')",
         "rawType": "float64",
         "type": "float"
        },
        {
         "name": "('Moyenne_Refusé', 'NumDealsPurchases')",
         "rawType": "float64",
         "type": "float"
        },
        {
         "name": "('Moyenne_Refusé', 'NumStorePurchases')",
         "rawType": "float64",
         "type": "float"
        },
        {
         "name": "('Moyenne_Refusé', 'NumWebPurchases')",
         "rawType": "float64",
         "type": "float"
        },
        {
         "name": "('Lift (%)', 'NumCatalogPurchases')",
         "rawType": "float64",
         "type": "float"
        },
        {
         "name": "('Lift (%)', 'NumDealsPurchases')",
         "rawType": "float64",
         "type": "float"
        },
        {
         "name": "('Lift (%)', 'NumStorePurchases')",
         "rawType": "float64",
         "type": "float"
        },
        {
         "name": "('Lift (%)', 'NumWebPurchases')",
         "rawType": "float64",
         "type": "float"
        }
       ],
       "ref": "192c7042-22b9-4186-811b-1783ef41bfe6",
       "rows": [
        [
         "AcceptedCmp1",
         "6.1",
         "1.42",
         "8.06",
         "5.73",
         "2.43",
         "2.37",
         "5.65",
         "3.99",
         "150.46",
         "-40.3",
         "42.59",
         "43.75"
        ],
        [
         "AcceptedCmp2",
         "5.17",
         "1.7",
         "8.17",
         "4.9",
         "2.64",
         "2.32",
         "5.78",
         "4.09",
         "95.95",
         "-26.71",
         "41.35",
         "19.89"
        ],
        [
         "AcceptedCmp3",
         "3.75",
         "2.17",
         "5.01",
         "4.5",
         "2.59",
         "2.32",
         "5.87",
         "4.07",
         "45.23",
         "-6.77",
         "-14.76",
         "10.74"
        ],
        [
         "AcceptedCmp4",
         "4.1",
         "2.43",
         "7.84",
         "5.61",
         "2.56",
         "2.3",
         "5.65",
         "3.98",
         "60.28",
         "5.62",
         "38.96",
         "41.12"
        ],
        [
         "AcceptedCmp5",
         "6.02",
         "1.06",
         "8.28",
         "5.46",
         "2.41",
         "2.41",
         "5.61",
         "3.99",
         "150.35",
         "-55.96",
         "47.51",
         "36.82"
        ],
        [
         "Response",
         "4.2",
         "2.34",
         "6.1",
         "5.07",
         "2.4",
         "2.31",
         "5.76",
         "3.93",
         "75.08",
         "1.22",
         "5.84",
         "29.16"
        ]
       ],
       "shape": {
        "columns": 12,
        "rows": 6
       }
      },
      "text/html": [
       "<div>\n",
       "<style scoped>\n",
       "    .dataframe tbody tr th:only-of-type {\n",
       "        vertical-align: middle;\n",
       "    }\n",
       "\n",
       "    .dataframe tbody tr th {\n",
       "        vertical-align: top;\n",
       "    }\n",
       "\n",
       "    .dataframe thead tr th {\n",
       "        text-align: left;\n",
       "    }\n",
       "\n",
       "    .dataframe thead tr:last-of-type th {\n",
       "        text-align: right;\n",
       "    }\n",
       "</style>\n",
       "<table border=\"1\" class=\"dataframe\">\n",
       "  <thead>\n",
       "    <tr>\n",
       "      <th></th>\n",
       "      <th colspan=\"4\" halign=\"left\">Moyenne_Accepté</th>\n",
       "      <th colspan=\"4\" halign=\"left\">Moyenne_Refusé</th>\n",
       "      <th colspan=\"4\" halign=\"left\">Lift (%)</th>\n",
       "    </tr>\n",
       "    <tr>\n",
       "      <th>Canal</th>\n",
       "      <th>NumCatalogPurchases</th>\n",
       "      <th>NumDealsPurchases</th>\n",
       "      <th>NumStorePurchases</th>\n",
       "      <th>NumWebPurchases</th>\n",
       "      <th>NumCatalogPurchases</th>\n",
       "      <th>NumDealsPurchases</th>\n",
       "      <th>NumStorePurchases</th>\n",
       "      <th>NumWebPurchases</th>\n",
       "      <th>NumCatalogPurchases</th>\n",
       "      <th>NumDealsPurchases</th>\n",
       "      <th>NumStorePurchases</th>\n",
       "      <th>NumWebPurchases</th>\n",
       "    </tr>\n",
       "    <tr>\n",
       "      <th>Campagne</th>\n",
       "      <th></th>\n",
       "      <th></th>\n",
       "      <th></th>\n",
       "      <th></th>\n",
       "      <th></th>\n",
       "      <th></th>\n",
       "      <th></th>\n",
       "      <th></th>\n",
       "      <th></th>\n",
       "      <th></th>\n",
       "      <th></th>\n",
       "      <th></th>\n",
       "    </tr>\n",
       "  </thead>\n",
       "  <tbody>\n",
       "    <tr>\n",
       "      <th>AcceptedCmp1</th>\n",
       "      <td>6.10</td>\n",
       "      <td>1.42</td>\n",
       "      <td>8.06</td>\n",
       "      <td>5.73</td>\n",
       "      <td>2.43</td>\n",
       "      <td>2.37</td>\n",
       "      <td>5.65</td>\n",
       "      <td>3.99</td>\n",
       "      <td>150.46</td>\n",
       "      <td>-40.30</td>\n",
       "      <td>42.59</td>\n",
       "      <td>43.75</td>\n",
       "    </tr>\n",
       "    <tr>\n",
       "      <th>AcceptedCmp2</th>\n",
       "      <td>5.17</td>\n",
       "      <td>1.70</td>\n",
       "      <td>8.17</td>\n",
       "      <td>4.90</td>\n",
       "      <td>2.64</td>\n",
       "      <td>2.32</td>\n",
       "      <td>5.78</td>\n",
       "      <td>4.09</td>\n",
       "      <td>95.95</td>\n",
       "      <td>-26.71</td>\n",
       "      <td>41.35</td>\n",
       "      <td>19.89</td>\n",
       "    </tr>\n",
       "    <tr>\n",
       "      <th>AcceptedCmp3</th>\n",
       "      <td>3.75</td>\n",
       "      <td>2.17</td>\n",
       "      <td>5.01</td>\n",
       "      <td>4.50</td>\n",
       "      <td>2.59</td>\n",
       "      <td>2.32</td>\n",
       "      <td>5.87</td>\n",
       "      <td>4.07</td>\n",
       "      <td>45.23</td>\n",
       "      <td>-6.77</td>\n",
       "      <td>-14.76</td>\n",
       "      <td>10.74</td>\n",
       "    </tr>\n",
       "    <tr>\n",
       "      <th>AcceptedCmp4</th>\n",
       "      <td>4.10</td>\n",
       "      <td>2.43</td>\n",
       "      <td>7.84</td>\n",
       "      <td>5.61</td>\n",
       "      <td>2.56</td>\n",
       "      <td>2.30</td>\n",
       "      <td>5.65</td>\n",
       "      <td>3.98</td>\n",
       "      <td>60.28</td>\n",
       "      <td>5.62</td>\n",
       "      <td>38.96</td>\n",
       "      <td>41.12</td>\n",
       "    </tr>\n",
       "    <tr>\n",
       "      <th>AcceptedCmp5</th>\n",
       "      <td>6.02</td>\n",
       "      <td>1.06</td>\n",
       "      <td>8.28</td>\n",
       "      <td>5.46</td>\n",
       "      <td>2.41</td>\n",
       "      <td>2.41</td>\n",
       "      <td>5.61</td>\n",
       "      <td>3.99</td>\n",
       "      <td>150.35</td>\n",
       "      <td>-55.96</td>\n",
       "      <td>47.51</td>\n",
       "      <td>36.82</td>\n",
       "    </tr>\n",
       "    <tr>\n",
       "      <th>Response</th>\n",
       "      <td>4.20</td>\n",
       "      <td>2.34</td>\n",
       "      <td>6.10</td>\n",
       "      <td>5.07</td>\n",
       "      <td>2.40</td>\n",
       "      <td>2.31</td>\n",
       "      <td>5.76</td>\n",
       "      <td>3.93</td>\n",
       "      <td>75.08</td>\n",
       "      <td>1.22</td>\n",
       "      <td>5.84</td>\n",
       "      <td>29.16</td>\n",
       "    </tr>\n",
       "  </tbody>\n",
       "</table>\n",
       "</div>"
      ],
      "text/plain": [
       "                 Moyenne_Accepté                                      \\\n",
       "Canal        NumCatalogPurchases NumDealsPurchases NumStorePurchases   \n",
       "Campagne                                                               \n",
       "AcceptedCmp1                6.10              1.42              8.06   \n",
       "AcceptedCmp2                5.17              1.70              8.17   \n",
       "AcceptedCmp3                3.75              2.17              5.01   \n",
       "AcceptedCmp4                4.10              2.43              7.84   \n",
       "AcceptedCmp5                6.02              1.06              8.28   \n",
       "Response                    4.20              2.34              6.10   \n",
       "\n",
       "                                  Moyenne_Refusé                    \\\n",
       "Canal        NumWebPurchases NumCatalogPurchases NumDealsPurchases   \n",
       "Campagne                                                             \n",
       "AcceptedCmp1            5.73                2.43              2.37   \n",
       "AcceptedCmp2            4.90                2.64              2.32   \n",
       "AcceptedCmp3            4.50                2.59              2.32   \n",
       "AcceptedCmp4            5.61                2.56              2.30   \n",
       "AcceptedCmp5            5.46                2.41              2.41   \n",
       "Response                5.07                2.40              2.31   \n",
       "\n",
       "                                                          Lift (%)  \\\n",
       "Canal        NumStorePurchases NumWebPurchases NumCatalogPurchases   \n",
       "Campagne                                                             \n",
       "AcceptedCmp1              5.65            3.99              150.46   \n",
       "AcceptedCmp2              5.78            4.09               95.95   \n",
       "AcceptedCmp3              5.87            4.07               45.23   \n",
       "AcceptedCmp4              5.65            3.98               60.28   \n",
       "AcceptedCmp5              5.61            3.99              150.35   \n",
       "Response                  5.76            3.93               75.08   \n",
       "\n",
       "                                                                  \n",
       "Canal        NumDealsPurchases NumStorePurchases NumWebPurchases  \n",
       "Campagne                                                          \n",
       "AcceptedCmp1            -40.30             42.59           43.75  \n",
       "AcceptedCmp2            -26.71             41.35           19.89  \n",
       "AcceptedCmp3             -6.77            -14.76           10.74  \n",
       "AcceptedCmp4              5.62             38.96           41.12  \n",
       "AcceptedCmp5            -55.96             47.51           36.82  \n",
       "Response                  1.22              5.84           29.16  "
      ]
     },
     "metadata": {},
     "output_type": "display_data"
    },
    {
     "name": "stdout",
     "output_type": "stream",
     "text": [
      "\n",
      "Interprétation :\n",
      "- Ce tableau permet d'identifier pour chaque campagne quels canaux sont les plus efficaces pour convertir les clients.\n",
      "- Un lift positif indique que les clients ayant accepté la campagne achètent plus via ce canal que ceux qui l'ont refusée.\n",
      "- Cela aide à adapter la stratégie de distribution pour chaque campagne.\n",
      "\n",
      "================================================================================\n",
      "\n"
     ]
    }
   ],
   "source": [
    "# ====== ANALYSE CROISÉE : CAMPAGNES x CANAUX DE DISTRIBUTION ======\n",
    "print(\"=\"*80)\n",
    "print(\"🔎 ANALYSE CROISÉE : PERFORMANCE DES CAMPAGNES PAR CANAL DE DISTRIBUTION\")\n",
    "print(\"=\"*80 + \"\\n\")\n",
    "\n",
    "# Pour chaque campagne, calculer le nombre moyen d'achats par canal pour les clients ayant accepté vs refusé\n",
    "campagnes = ['AcceptedCmp1', 'AcceptedCmp2', 'AcceptedCmp3', 'AcceptedCmp4', 'AcceptedCmp5', 'Response']\n",
    "canaux = ['NumWebPurchases', 'NumCatalogPurchases', 'NumStorePurchases', 'NumDealsPurchases']\n",
    "\n",
    "resultats = []\n",
    "for campagne in campagnes:\n",
    "    for canal in canaux:\n",
    "        mean_accepted = df[df[campagne] == 1][canal].mean()\n",
    "        mean_refused = df[df[campagne] == 0][canal].mean()\n",
    "        resultats.append({\n",
    "            'Campagne': campagne,\n",
    "            'Canal': canal,\n",
    "            'Moyenne_Accepté': mean_accepted,\n",
    "            'Moyenne_Refusé': mean_refused,\n",
    "            'Lift (%)': ((mean_accepted / mean_refused - 1) * 100) if mean_refused > 0 else None\n",
    "        })\n",
    "\n",
    "df_croise = pd.DataFrame(resultats)\n",
    "\n",
    "print(\"Tableau comparatif : Achats moyens par canal selon acceptation/refus de chaque campagne\\n\")\n",
    "display(df_croise.pivot(index='Campagne', columns='Canal', values=['Moyenne_Accepté', 'Moyenne_Refusé', 'Lift (%)']).round(2))\n",
    "\n",
    "print(\"\\nInterprétation :\")\n",
    "print(\"- Ce tableau permet d'identifier pour chaque campagne quels canaux sont les plus efficaces pour convertir les clients.\")\n",
    "print(\"- Un lift positif indique que les clients ayant accepté la campagne achètent plus via ce canal que ceux qui l'ont refusée.\")\n",
    "print(\"- Cela aide à adapter la stratégie de distribution pour chaque campagne.\")\n",
    "print(\"\\n\" + \"=\"*80 + \"\\n\")"
   ]
  },
  {
   "cell_type": "markdown",
   "id": "1151a66d",
   "metadata": {},
   "source": [
    "---\n",
    "## 5️) Réduction de la dimensionnalité (PCA) et Clustering\n",
    "\n",
    "### 5.1 Préparation des données et projection PCA (3D)"
   ]
  },
  {
   "cell_type": "code",
   "execution_count": 14,
   "id": "6b6cac5a",
   "metadata": {},
   "outputs": [
    {
     "name": "stdout",
     "output_type": "stream",
     "text": [
      "Variance expliquée par composante (PC1, PC2, PC3) : [0.3493 0.1039 0.0819]\n",
      "Variance expliquée cumulée (3D) : 0.535\n"
     ]
    },
    {
     "data": {
      "application/vnd.plotly.v1+json": {
       "config": {
        "plotlyServerURL": "https://plot.ly"
       },
       "data": [
        {
         "hovertemplate": "PC1=%{x}<br>PC2=%{y}<br>PC3=%{z}<br>color=%{marker.color}<extra></extra>",
         "legendgroup": "",
         "marker": {
          "color": {
           "bdata": "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",
           "dtype": "i2"
          },
          "coloraxis": "coloraxis",
          "opacity": 0.8,
          "size": 4,
          "symbol": "circle"
         },
         "mode": "markers",
         "name": "",
         "scene": "scene",
         "showlegend": false,
         "type": "scatter3d",
         "x": {
          "bdata": "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",
          "dtype": "f8"
         },
         "y": {
          "bdata": "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",
          "dtype": "f8"
         },
         "z": {
          "bdata": "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",
          "dtype": "f8"
         }
        }
       ],
       "layout": {
        "coloraxis": {
         "colorbar": {
          "title": {
           "text": "color"
          }
         },
         "colorscale": [
          [
           0,
           "#440154"
          ],
          [
           0.1111111111111111,
           "#482878"
          ],
          [
           0.2222222222222222,
           "#3e4989"
          ],
          [
           0.3333333333333333,
           "#31688e"
          ],
          [
           0.4444444444444444,
           "#26828e"
          ],
          [
           0.5555555555555556,
           "#1f9e89"
          ],
          [
           0.6666666666666666,
           "#35b779"
          ],
          [
           0.7777777777777778,
           "#6ece58"
          ],
          [
           0.8888888888888888,
           "#b5de2b"
          ],
          [
           1,
           "#fde725"
          ]
         ]
        },
        "legend": {
         "tracegroupgap": 0
        },
        "scene": {
         "domain": {
          "x": [
           0,
           1
          ],
          "y": [
           0,
           1
          ]
         },
         "xaxis": {
          "title": {
           "text": "PC1"
          }
         },
         "yaxis": {
          "title": {
           "text": "PC2"
          }
         },
         "zaxis": {
          "title": {
           "text": "PC3"
          }
         }
        },
        "template": {
         "data": {
          "bar": [
           {
            "error_x": {
             "color": "#2a3f5f"
            },
            "error_y": {
             "color": "#2a3f5f"
            },
            "marker": {
             "line": {
              "color": "#E5ECF6",
              "width": 0.5
             },
             "pattern": {
              "fillmode": "overlay",
              "size": 10,
              "solidity": 0.2
             }
            },
            "type": "bar"
           }
          ],
          "barpolar": [
           {
            "marker": {
             "line": {
              "color": "#E5ECF6",
              "width": 0.5
             },
             "pattern": {
              "fillmode": "overlay",
              "size": 10,
              "solidity": 0.2
             }
            },
            "type": "barpolar"
           }
          ],
          "carpet": [
           {
            "aaxis": {
             "endlinecolor": "#2a3f5f",
             "gridcolor": "white",
             "linecolor": "white",
             "minorgridcolor": "white",
             "startlinecolor": "#2a3f5f"
            },
            "baxis": {
             "endlinecolor": "#2a3f5f",
             "gridcolor": "white",
             "linecolor": "white",
             "minorgridcolor": "white",
             "startlinecolor": "#2a3f5f"
            },
            "type": "carpet"
           }
          ],
          "choropleth": [
           {
            "colorbar": {
             "outlinewidth": 0,
             "ticks": ""
            },
            "type": "choropleth"
           }
          ],
          "contour": [
           {
            "colorbar": {
             "outlinewidth": 0,
             "ticks": ""
            },
            "colorscale": [
             [
              0,
              "#0d0887"
             ],
             [
              0.1111111111111111,
              "#46039f"
             ],
             [
              0.2222222222222222,
              "#7201a8"
             ],
             [
              0.3333333333333333,
              "#9c179e"
             ],
             [
              0.4444444444444444,
              "#bd3786"
             ],
             [
              0.5555555555555556,
              "#d8576b"
             ],
             [
              0.6666666666666666,
              "#ed7953"
             ],
             [
              0.7777777777777778,
              "#fb9f3a"
             ],
             [
              0.8888888888888888,
              "#fdca26"
             ],
             [
              1,
              "#f0f921"
             ]
            ],
            "type": "contour"
           }
          ],
          "contourcarpet": [
           {
            "colorbar": {
             "outlinewidth": 0,
             "ticks": ""
            },
            "type": "contourcarpet"
           }
          ],
          "heatmap": [
           {
            "colorbar": {
             "outlinewidth": 0,
             "ticks": ""
            },
            "colorscale": [
             [
              0,
              "#0d0887"
             ],
             [
              0.1111111111111111,
              "#46039f"
             ],
             [
              0.2222222222222222,
              "#7201a8"
             ],
             [
              0.3333333333333333,
              "#9c179e"
             ],
             [
              0.4444444444444444,
              "#bd3786"
             ],
             [
              0.5555555555555556,
              "#d8576b"
             ],
             [
              0.6666666666666666,
              "#ed7953"
             ],
             [
              0.7777777777777778,
              "#fb9f3a"
             ],
             [
              0.8888888888888888,
              "#fdca26"
             ],
             [
              1,
              "#f0f921"
             ]
            ],
            "type": "heatmap"
           }
          ],
          "histogram": [
           {
            "marker": {
             "pattern": {
              "fillmode": "overlay",
              "size": 10,
              "solidity": 0.2
             }
            },
            "type": "histogram"
           }
          ],
          "histogram2d": [
           {
            "colorbar": {
             "outlinewidth": 0,
             "ticks": ""
            },
            "colorscale": [
             [
              0,
              "#0d0887"
             ],
             [
              0.1111111111111111,
              "#46039f"
             ],
             [
              0.2222222222222222,
              "#7201a8"
             ],
             [
              0.3333333333333333,
              "#9c179e"
             ],
             [
              0.4444444444444444,
              "#bd3786"
             ],
             [
              0.5555555555555556,
              "#d8576b"
             ],
             [
              0.6666666666666666,
              "#ed7953"
             ],
             [
              0.7777777777777778,
              "#fb9f3a"
             ],
             [
              0.8888888888888888,
              "#fdca26"
             ],
             [
              1,
              "#f0f921"
             ]
            ],
            "type": "histogram2d"
           }
          ],
          "histogram2dcontour": [
           {
            "colorbar": {
             "outlinewidth": 0,
             "ticks": ""
            },
            "colorscale": [
             [
              0,
              "#0d0887"
             ],
             [
              0.1111111111111111,
              "#46039f"
             ],
             [
              0.2222222222222222,
              "#7201a8"
             ],
             [
              0.3333333333333333,
              "#9c179e"
             ],
             [
              0.4444444444444444,
              "#bd3786"
             ],
             [
              0.5555555555555556,
              "#d8576b"
             ],
             [
              0.6666666666666666,
              "#ed7953"
             ],
             [
              0.7777777777777778,
              "#fb9f3a"
             ],
             [
              0.8888888888888888,
              "#fdca26"
             ],
             [
              1,
              "#f0f921"
             ]
            ],
            "type": "histogram2dcontour"
           }
          ],
          "mesh3d": [
           {
            "colorbar": {
             "outlinewidth": 0,
             "ticks": ""
            },
            "type": "mesh3d"
           }
          ],
          "parcoords": [
           {
            "line": {
             "colorbar": {
              "outlinewidth": 0,
              "ticks": ""
             }
            },
            "type": "parcoords"
           }
          ],
          "pie": [
           {
            "automargin": true,
            "type": "pie"
           }
          ],
          "scatter": [
           {
            "fillpattern": {
             "fillmode": "overlay",
             "size": 10,
             "solidity": 0.2
            },
            "type": "scatter"
           }
          ],
          "scatter3d": [
           {
            "line": {
             "colorbar": {
              "outlinewidth": 0,
              "ticks": ""
             }
            },
            "marker": {
             "colorbar": {
              "outlinewidth": 0,
              "ticks": ""
             }
            },
            "type": "scatter3d"
           }
          ],
          "scattercarpet": [
           {
            "marker": {
             "colorbar": {
              "outlinewidth": 0,
              "ticks": ""
             }
            },
            "type": "scattercarpet"
           }
          ],
          "scattergeo": [
           {
            "marker": {
             "colorbar": {
              "outlinewidth": 0,
              "ticks": ""
             }
            },
            "type": "scattergeo"
           }
          ],
          "scattergl": [
           {
            "marker": {
             "colorbar": {
              "outlinewidth": 0,
              "ticks": ""
             }
            },
            "type": "scattergl"
           }
          ],
          "scattermap": [
           {
            "marker": {
             "colorbar": {
              "outlinewidth": 0,
              "ticks": ""
             }
            },
            "type": "scattermap"
           }
          ],
          "scattermapbox": [
           {
            "marker": {
             "colorbar": {
              "outlinewidth": 0,
              "ticks": ""
             }
            },
            "type": "scattermapbox"
           }
          ],
          "scatterpolar": [
           {
            "marker": {
             "colorbar": {
              "outlinewidth": 0,
              "ticks": ""
             }
            },
            "type": "scatterpolar"
           }
          ],
          "scatterpolargl": [
           {
            "marker": {
             "colorbar": {
              "outlinewidth": 0,
              "ticks": ""
             }
            },
            "type": "scatterpolargl"
           }
          ],
          "scatterternary": [
           {
            "marker": {
             "colorbar": {
              "outlinewidth": 0,
              "ticks": ""
             }
            },
            "type": "scatterternary"
           }
          ],
          "surface": [
           {
            "colorbar": {
             "outlinewidth": 0,
             "ticks": ""
            },
            "colorscale": [
             [
              0,
              "#0d0887"
             ],
             [
              0.1111111111111111,
              "#46039f"
             ],
             [
              0.2222222222222222,
              "#7201a8"
             ],
             [
              0.3333333333333333,
              "#9c179e"
             ],
             [
              0.4444444444444444,
              "#bd3786"
             ],
             [
              0.5555555555555556,
              "#d8576b"
             ],
             [
              0.6666666666666666,
              "#ed7953"
             ],
             [
              0.7777777777777778,
              "#fb9f3a"
             ],
             [
              0.8888888888888888,
              "#fdca26"
             ],
             [
              1,
              "#f0f921"
             ]
            ],
            "type": "surface"
           }
          ],
          "table": [
           {
            "cells": {
             "fill": {
              "color": "#EBF0F8"
             },
             "line": {
              "color": "white"
             }
            },
            "header": {
             "fill": {
              "color": "#C8D4E3"
             },
             "line": {
              "color": "white"
             }
            },
            "type": "table"
           }
          ]
         },
         "layout": {
          "annotationdefaults": {
           "arrowcolor": "#2a3f5f",
           "arrowhead": 0,
           "arrowwidth": 1
          },
          "autotypenumbers": "strict",
          "coloraxis": {
           "colorbar": {
            "outlinewidth": 0,
            "ticks": ""
           }
          },
          "colorscale": {
           "diverging": [
            [
             0,
             "#8e0152"
            ],
            [
             0.1,
             "#c51b7d"
            ],
            [
             0.2,
             "#de77ae"
            ],
            [
             0.3,
             "#f1b6da"
            ],
            [
             0.4,
             "#fde0ef"
            ],
            [
             0.5,
             "#f7f7f7"
            ],
            [
             0.6,
             "#e6f5d0"
            ],
            [
             0.7,
             "#b8e186"
            ],
            [
             0.8,
             "#7fbc41"
            ],
            [
             0.9,
             "#4d9221"
            ],
            [
             1,
             "#276419"
            ]
           ],
           "sequential": [
            [
             0,
             "#0d0887"
            ],
            [
             0.1111111111111111,
             "#46039f"
            ],
            [
             0.2222222222222222,
             "#7201a8"
            ],
            [
             0.3333333333333333,
             "#9c179e"
            ],
            [
             0.4444444444444444,
             "#bd3786"
            ],
            [
             0.5555555555555556,
             "#d8576b"
            ],
            [
             0.6666666666666666,
             "#ed7953"
            ],
            [
             0.7777777777777778,
             "#fb9f3a"
            ],
            [
             0.8888888888888888,
             "#fdca26"
            ],
            [
             1,
             "#f0f921"
            ]
           ],
           "sequentialminus": [
            [
             0,
             "#0d0887"
            ],
            [
             0.1111111111111111,
             "#46039f"
            ],
            [
             0.2222222222222222,
             "#7201a8"
            ],
            [
             0.3333333333333333,
             "#9c179e"
            ],
            [
             0.4444444444444444,
             "#bd3786"
            ],
            [
             0.5555555555555556,
             "#d8576b"
            ],
            [
             0.6666666666666666,
             "#ed7953"
            ],
            [
             0.7777777777777778,
             "#fb9f3a"
            ],
            [
             0.8888888888888888,
             "#fdca26"
            ],
            [
             1,
             "#f0f921"
            ]
           ]
          },
          "colorway": [
           "#636efa",
           "#EF553B",
           "#00cc96",
           "#ab63fa",
           "#FFA15A",
           "#19d3f3",
           "#FF6692",
           "#B6E880",
           "#FF97FF",
           "#FECB52"
          ],
          "font": {
           "color": "#2a3f5f"
          },
          "geo": {
           "bgcolor": "white",
           "lakecolor": "white",
           "landcolor": "#E5ECF6",
           "showlakes": true,
           "showland": true,
           "subunitcolor": "white"
          },
          "hoverlabel": {
           "align": "left"
          },
          "hovermode": "closest",
          "mapbox": {
           "style": "light"
          },
          "paper_bgcolor": "white",
          "plot_bgcolor": "#E5ECF6",
          "polar": {
           "angularaxis": {
            "gridcolor": "white",
            "linecolor": "white",
            "ticks": ""
           },
           "bgcolor": "#E5ECF6",
           "radialaxis": {
            "gridcolor": "white",
            "linecolor": "white",
            "ticks": ""
           }
          },
          "scene": {
           "xaxis": {
            "backgroundcolor": "#E5ECF6",
            "gridcolor": "white",
            "gridwidth": 2,
            "linecolor": "white",
            "showbackground": true,
            "ticks": "",
            "zerolinecolor": "white"
           },
           "yaxis": {
            "backgroundcolor": "#E5ECF6",
            "gridcolor": "white",
            "gridwidth": 2,
            "linecolor": "white",
            "showbackground": true,
            "ticks": "",
            "zerolinecolor": "white"
           },
           "zaxis": {
            "backgroundcolor": "#E5ECF6",
            "gridcolor": "white",
            "gridwidth": 2,
            "linecolor": "white",
            "showbackground": true,
            "ticks": "",
            "zerolinecolor": "white"
           }
          },
          "shapedefaults": {
           "line": {
            "color": "#2a3f5f"
           }
          },
          "ternary": {
           "aaxis": {
            "gridcolor": "white",
            "linecolor": "white",
            "ticks": ""
           },
           "baxis": {
            "gridcolor": "white",
            "linecolor": "white",
            "ticks": ""
           },
           "bgcolor": "#E5ECF6",
           "caxis": {
            "gridcolor": "white",
            "linecolor": "white",
            "ticks": ""
           }
          },
          "title": {
           "x": 0.05
          },
          "xaxis": {
           "automargin": true,
           "gridcolor": "white",
           "linecolor": "white",
           "ticks": "",
           "title": {
            "standoff": 15
           },
           "zerolinecolor": "white",
           "zerolinewidth": 2
          },
          "yaxis": {
           "automargin": true,
           "gridcolor": "white",
           "linecolor": "white",
           "ticks": "",
           "title": {
            "standoff": 15
           },
           "zerolinecolor": "white",
           "zerolinewidth": 2
          }
         }
        },
        "title": {
         "text": "Projection PCA (3D)"
        }
       }
      }
     },
     "metadata": {},
     "output_type": "display_data"
    }
   ],
   "source": [
    "# 5.1 Préparation des données et PCA (3D)\n",
    "import numpy as np\n",
    "import pandas as pd\n",
    "from sklearn.preprocessing import StandardScaler\n",
    "from sklearn.decomposition import PCA\n",
    "import plotly.express as px\n",
    "import plotly.graph_objects as go\n",
    "\n",
    "# S'assurer que le DataFrame df est chargé (fallback au CSV brut si besoin)\n",
    "if 'df' not in globals():\n",
    "    df = pd.read_csv('Campagne_Market.csv', sep=';')\n",
    "    print(\"⚠️ df n'était pas en mémoire; chargement direct depuis le CSV.\")\n",
    "\n",
    "# 1) Sélection des colonnes numériques uniquement\n",
    "X_num = df.select_dtypes(include=[np.number]).copy()\n",
    "\n",
    "# 2) Retirer les identifiants et variables à forte fuite potentielle (optionnel)\n",
    "drop_cols = [col for col in ['ID'] if col in X_num.columns]\n",
    "X_num = X_num.drop(columns=drop_cols, errors='ignore')\n",
    "\n",
    "# 3) Imputation simple (médiane) pour valeurs manquantes\n",
    "for c in X_num.columns:\n",
    "    if X_num[c].isna().any():\n",
    "        X_num[c] = X_num[c].fillna(X_num[c].median())\n",
    "\n",
    "# 4) Standardisation\n",
    "scaler = StandardScaler()\n",
    "X_scaled = scaler.fit_transform(X_num)\n",
    "\n",
    "# 5) PCA en 3 composantes\n",
    "pca = PCA(n_components=3, random_state=42)\n",
    "X_pca = pca.fit_transform(X_scaled)\n",
    "df_pca = pd.DataFrame(X_pca, columns=['PC1','PC2','PC3'])\n",
    "\n",
    "explained = pca.explained_variance_ratio_\n",
    "print(\"Variance expliquée par composante (PC1, PC2, PC3) :\", np.round(explained, 4))\n",
    "print(f\"Variance expliquée cumulée (3D) : {explained.cumsum()[-1]:.3f}\")\n",
    "\n",
    "# 6) Visualisation 3D de la projection PCA\n",
    "# Couleur informative si dispo: préférer Total_Purchases, sinon Income, sinon aucune couleur\n",
    "color_col = None\n",
    "for cand in ['Total_Purchases','Income']:\n",
    "    if cand in df.columns:\n",
    "        color_col = cand\n",
    "        break\n",
    "\n",
    "if color_col is not None:\n",
    "    fig = px.scatter_3d(df_pca, x='PC1', y='PC2', z='PC3',\n",
    "                        color=df[color_col],\n",
    "                        color_continuous_scale='Viridis',\n",
    "                        title='Projection PCA (3D)')\n",
    "else:\n",
    "    fig = px.scatter_3d(df_pca, x='PC1', y='PC2', z='PC3', title='Projection PCA (3D)')\n",
    "fig.update_traces(marker=dict(size=4, opacity=0.8))\n",
    "fig.show()"
   ]
  },
  {
   "cell_type": "markdown",
   "id": "24d6fa30",
   "metadata": {},
   "source": [
    "### 5.2 Détermination du nombre optimal de clusters et choix de méthode (Silhouette)"
   ]
  },
  {
   "cell_type": "code",
   "execution_count": 15,
   "id": "7412a100",
   "metadata": {},
   "outputs": [
    {
     "name": "stdout",
     "output_type": "stream",
     "text": [
      "Scores de silhouette par méthode et k :\n",
      " method  Agglomerative  KMeans\n",
      "k                            \n",
      "2               0.466   0.485\n",
      "3               0.411   0.473\n",
      "4               0.426   0.436\n",
      "5               0.286   0.353\n",
      "6               0.295   0.355\n",
      "7               0.291   0.329\n",
      "8               0.278   0.357\n",
      "9               0.290   0.331\n",
      "10              0.283   0.345\n",
      "\n",
      "✅ Meilleur choix: KMeans avec k=2 (silhouette=0.485)\n"
     ]
    },
    {
     "data": {
      "image/png": "[encoded data removed]",
      "text/plain": [
       "<Figure size 700x400 with 1 Axes>"
      ]
     },
     "metadata": {},
     "output_type": "display_data"
    }
   ],
   "source": [
    "# 5.2 Choix du nombre de clusters et de la méthode (Silhouette)\n",
    "from sklearn.cluster import KMeans, AgglomerativeClustering\n",
    "from sklearn.metrics import silhouette_score\n",
    "import matplotlib.pyplot as plt\n",
    "import pandas as pd\n",
    "import numpy as np\n",
    "\n",
    "# Vérifier que X_pca existe (sinon relancer 5.1)\n",
    "if 'X_pca' not in globals():\n",
    "    raise RuntimeError(\"X_pca introuvable. Exécutez d'abord la cellule 5.1 (PCA).\")\n",
    "\n",
    "n_samples = X_pca.shape[0]\n",
    "k_max_possible = max(2, min(10, n_samples - 1))\n",
    "k_values = list(range(2, k_max_possible + 1))\n",
    "\n",
    "results = []\n",
    "for k in k_values:\n",
    "    # KMeans\n",
    "    km = KMeans(n_clusters=k, random_state=42, n_init=10)\n",
    "    labels_km = km.fit_predict(X_pca)\n",
    "    sil_km = silhouette_score(X_pca, labels_km)\n",
    "    results.append({'method':'KMeans','k':k,'silhouette':sil_km})\n",
    "    \n",
    "    # Agglomerative (Ward)\n",
    "    ag = AgglomerativeClustering(n_clusters=k, linkage='ward')\n",
    "    labels_ag = ag.fit_predict(X_pca)\n",
    "    sil_ag = silhouette_score(X_pca, labels_ag)\n",
    "    results.append({'method':'Agglomerative','k':k,'silhouette':sil_ag})\n",
    "\n",
    "df_scores = pd.DataFrame(results)\n",
    "best_row = df_scores.loc[df_scores['silhouette'].idxmax()]\n",
    "best_method = best_row['method']\n",
    "best_k = int(best_row['k'])\n",
    "best_score = best_row['silhouette']\n",
    "\n",
    "print(\"Scores de silhouette par méthode et k :\\n\", df_scores.pivot(index='k', columns='method', values='silhouette').round(3))\n",
    "print()\n",
    "print(f\"✅ Meilleur choix: {best_method} avec k={best_k} (silhouette={best_score:.3f})\")\n",
    "\n",
    "# Visualisation des scores\n",
    "plt.figure(figsize=(7,4))\n",
    "for method in ['KMeans','Agglomerative']:\n",
    "    subset = df_scores[df_scores['method']==method]\n",
    "    plt.plot(subset['k'], subset['silhouette'], marker='o', label=method)\n",
    "plt.title('Silhouette vs k (PCA 3D)')\n",
    "plt.xlabel('k')\n",
    "plt.ylabel('Score de silhouette')\n",
    "plt.grid(True, alpha=0.3)\n",
    "plt.legend()\n",
    "plt.show()\n",
    "\n",
    "# Conserver le meilleur choix en variables globales\n",
    "best_model_name = best_method\n",
    "best_n_clusters = best_k"
   ]
  },
  {
   "cell_type": "markdown",
   "id": "07eb7b24",
   "metadata": {},
   "source": [
    "### 5.3 Application du clustering sur l'espace PCA et visualisation 3D"
   ]
  },
  {
   "cell_type": "code",
   "execution_count": 16,
   "id": "23476a88",
   "metadata": {},
   "outputs": [
    {
     "name": "stdout",
     "output_type": "stream",
     "text": [
      "Clusters obtenus: [1347  885] (k=2)\n",
      "Score de silhouette final: 0.485\n"
     ]
    },
    {
     "data": {
      "application/vnd.plotly.v1+json": {
       "config": {
        "plotlyServerURL": "https://plot.ly"
       },
       "data": [
        {
         "hovertemplate": "Cluster=1<br>PC1=%{x}<br>PC2=%{y}<br>PC3=%{z}<extra></extra>",
         "legendgroup": "1",
         "marker": {
          "color": "#636efa",
          "opacity": 0.85,
          "size": 4,
          "symbol": "circle"
         },
         "mode": "markers",
         "name": "1",
         "scene": "scene",
         "showlegend": true,
         "type": "scatter3d",
         "x": {
          "bdata": "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",
          "dtype": "f8"
         },
         "y": {
          "bdata": "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",
          "dtype": "f8"
         },
         "z": {
          "bdata": "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",
          "dtype": "f8"
         }
        },
        {
         "hovertemplate": "Cluster=0<br>PC1=%{x}<br>PC2=%{y}<br>PC3=%{z}<extra></extra>",
         "legendgroup": "0",
         "marker": {
          "color": "#EF553B",
          "opacity": 0.85,
          "size": 4,
          "symbol": "circle"
         },
         "mode": "markers",
         "name": "0",
         "scene": "scene",
         "showlegend": true,
         "type": "scatter3d",
         "x": {
          "bdata": "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",
          "dtype": "f8"
         },
         "y": {
          "bdata": "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",
          "dtype": "f8"
         },
         "z": {
          "bdata": "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",
          "dtype": "f8"
         }
        }
       ],
       "layout": {
        "legend": {
         "title": {
          "text": "Cluster"
         },
         "tracegroupgap": 0
        },
        "scene": {
         "domain": {
          "x": [
           0,
           1
          ],
          "y": [
           0,
           1
          ]
         },
         "xaxis": {
          "title": {
           "text": "PC1"
          }
         },
         "yaxis": {
          "title": {
           "text": "PC2"
          }
         },
         "zaxis": {
          "title": {
           "text": "PC3"
          }
         }
        },
        "template": {
         "data": {
          "bar": [
           {
            "error_x": {
             "color": "#2a3f5f"
            },
            "error_y": {
             "color": "#2a3f5f"
            },
            "marker": {
             "line": {
              "color": "#E5ECF6",
              "width": 0.5
             },
             "pattern": {
              "fillmode": "overlay",
              "size": 10,
              "solidity": 0.2
             }
            },
            "type": "bar"
           }
          ],
          "barpolar": [
           {
            "marker": {
             "line": {
              "color": "#E5ECF6",
              "width": 0.5
             },
             "pattern": {
              "fillmode": "overlay",
              "size": 10,
              "solidity": 0.2
             }
            },
            "type": "barpolar"
           }
          ],
          "carpet": [
           {
            "aaxis": {
             "endlinecolor": "#2a3f5f",
             "gridcolor": "white",
             "linecolor": "white",
             "minorgridcolor": "white",
             "startlinecolor": "#2a3f5f"
            },
            "baxis": {
             "endlinecolor": "#2a3f5f",
             "gridcolor": "white",
             "linecolor": "white",
             "minorgridcolor": "white",
             "startlinecolor": "#2a3f5f"
            },
            "type": "carpet"
           }
          ],
          "choropleth": [
           {
            "colorbar": {
             "outlinewidth": 0,
             "ticks": ""
            },
            "type": "choropleth"
           }
          ],
          "contour": [
           {
            "colorbar": {
             "outlinewidth": 0,
             "ticks": ""
            },
            "colorscale": [
             [
              0,
              "#0d0887"
             ],
             [
              0.1111111111111111,
              "#46039f"
             ],
             [
              0.2222222222222222,
              "#7201a8"
             ],
             [
              0.3333333333333333,
              "#9c179e"
             ],
             [
              0.4444444444444444,
              "#bd3786"
             ],
             [
              0.5555555555555556,
              "#d8576b"
             ],
             [
              0.6666666666666666,
              "#ed7953"
             ],
             [
              0.7777777777777778,
              "#fb9f3a"
             ],
             [
              0.8888888888888888,
              "#fdca26"
             ],
             [
              1,
              "#f0f921"
             ]
            ],
            "type": "contour"
           }
          ],
          "contourcarpet": [
           {
            "colorbar": {
             "outlinewidth": 0,
             "ticks": ""
            },
            "type": "contourcarpet"
           }
          ],
          "heatmap": [
           {
            "colorbar": {
             "outlinewidth": 0,
             "ticks": ""
            },
            "colorscale": [
             [
              0,
              "#0d0887"
             ],
             [
              0.1111111111111111,
              "#46039f"
             ],
             [
              0.2222222222222222,
              "#7201a8"
             ],
             [
              0.3333333333333333,
              "#9c179e"
             ],
             [
              0.4444444444444444,
              "#bd3786"
             ],
             [
              0.5555555555555556,
              "#d8576b"
             ],
             [
              0.6666666666666666,
              "#ed7953"
             ],
             [
              0.7777777777777778,
              "#fb9f3a"
             ],
             [
              0.8888888888888888,
              "#fdca26"
             ],
             [
              1,
              "#f0f921"
             ]
            ],
            "type": "heatmap"
           }
          ],
          "histogram": [
           {
            "marker": {
             "pattern": {
              "fillmode": "overlay",
              "size": 10,
              "solidity": 0.2
             }
            },
            "type": "histogram"
           }
          ],
          "histogram2d": [
           {
            "colorbar": {
             "outlinewidth": 0,
             "ticks": ""
            },
            "colorscale": [
             [
              0,
              "#0d0887"
             ],
             [
              0.1111111111111111,
              "#46039f"
             ],
             [
              0.2222222222222222,
              "#7201a8"
             ],
             [
              0.3333333333333333,
              "#9c179e"
             ],
             [
              0.4444444444444444,
              "#bd3786"
             ],
             [
              0.5555555555555556,
              "#d8576b"
             ],
             [
              0.6666666666666666,
              "#ed7953"
             ],
             [
              0.7777777777777778,
              "#fb9f3a"
             ],
             [
              0.8888888888888888,
              "#fdca26"
             ],
             [
              1,
              "#f0f921"
             ]
            ],
            "type": "histogram2d"
           }
          ],
          "histogram2dcontour": [
           {
            "colorbar": {
             "outlinewidth": 0,
             "ticks": ""
            },
            "colorscale": [
             [
              0,
              "#0d0887"
             ],
             [
              0.1111111111111111,
              "#46039f"
             ],
             [
              0.2222222222222222,
              "#7201a8"
             ],
             [
              0.3333333333333333,
              "#9c179e"
             ],
             [
              0.4444444444444444,
              "#bd3786"
             ],
             [
              0.5555555555555556,
              "#d8576b"
             ],
             [
              0.6666666666666666,
              "#ed7953"
             ],
             [
              0.7777777777777778,
              "#fb9f3a"
             ],
             [
              0.8888888888888888,
              "#fdca26"
             ],
             [
              1,
              "#f0f921"
             ]
            ],
            "type": "histogram2dcontour"
           }
          ],
          "mesh3d": [
           {
            "colorbar": {
             "outlinewidth": 0,
             "ticks": ""
            },
            "type": "mesh3d"
           }
          ],
          "parcoords": [
           {
            "line": {
             "colorbar": {
              "outlinewidth": 0,
              "ticks": ""
             }
            },
            "type": "parcoords"
           }
          ],
          "pie": [
           {
            "automargin": true,
            "type": "pie"
           }
          ],
          "scatter": [
           {
            "fillpattern": {
             "fillmode": "overlay",
             "size": 10,
             "solidity": 0.2
            },
            "type": "scatter"
           }
          ],
          "scatter3d": [
           {
            "line": {
             "colorbar": {
              "outlinewidth": 0,
              "ticks": ""
             }
            },
            "marker": {
             "colorbar": {
              "outlinewidth": 0,
              "ticks": ""
             }
            },
            "type": "scatter3d"
           }
          ],
          "scattercarpet": [
           {
            "marker": {
             "colorbar": {
              "outlinewidth": 0,
              "ticks": ""
             }
            },
            "type": "scattercarpet"
           }
          ],
          "scattergeo": [
           {
            "marker": {
             "colorbar": {
              "outlinewidth": 0,
              "ticks": ""
             }
            },
            "type": "scattergeo"
           }
          ],
          "scattergl": [
           {
            "marker": {
             "colorbar": {
              "outlinewidth": 0,
              "ticks": ""
             }
            },
            "type": "scattergl"
           }
          ],
          "scattermap": [
           {
            "marker": {
             "colorbar": {
              "outlinewidth": 0,
              "ticks": ""
             }
            },
            "type": "scattermap"
           }
          ],
          "scattermapbox": [
           {
            "marker": {
             "colorbar": {
              "outlinewidth": 0,
              "ticks": ""
             }
            },
            "type": "scattermapbox"
           }
          ],
          "scatterpolar": [
           {
            "marker": {
             "colorbar": {
              "outlinewidth": 0,
              "ticks": ""
             }
            },
            "type": "scatterpolar"
           }
          ],
          "scatterpolargl": [
           {
            "marker": {
             "colorbar": {
              "outlinewidth": 0,
              "ticks": ""
             }
            },
            "type": "scatterpolargl"
           }
          ],
          "scatterternary": [
           {
            "marker": {
             "colorbar": {
              "outlinewidth": 0,
              "ticks": ""
             }
            },
            "type": "scatterternary"
           }
          ],
          "surface": [
           {
            "colorbar": {
             "outlinewidth": 0,
             "ticks": ""
            },
            "colorscale": [
             [
              0,
              "#0d0887"
             ],
             [
              0.1111111111111111,
              "#46039f"
             ],
             [
              0.2222222222222222,
              "#7201a8"
             ],
             [
              0.3333333333333333,
              "#9c179e"
             ],
             [
              0.4444444444444444,
              "#bd3786"
             ],
             [
              0.5555555555555556,
              "#d8576b"
             ],
             [
              0.6666666666666666,
              "#ed7953"
             ],
             [
              0.7777777777777778,
              "#fb9f3a"
             ],
             [
              0.8888888888888888,
              "#fdca26"
             ],
             [
              1,
              "#f0f921"
             ]
            ],
            "type": "surface"
           }
          ],
          "table": [
           {
            "cells": {
             "fill": {
              "color": "#EBF0F8"
             },
             "line": {
              "color": "white"
             }
            },
            "header": {
             "fill": {
              "color": "#C8D4E3"
             },
             "line": {
              "color": "white"
             }
            },
            "type": "table"
           }
          ]
         },
         "layout": {
          "annotationdefaults": {
           "arrowcolor": "#2a3f5f",
           "arrowhead": 0,
           "arrowwidth": 1
          },
          "autotypenumbers": "strict",
          "coloraxis": {
           "colorbar": {
            "outlinewidth": 0,
            "ticks": ""
           }
          },
          "colorscale": {
           "diverging": [
            [
             0,
             "#8e0152"
            ],
            [
             0.1,
             "#c51b7d"
            ],
            [
             0.2,
             "#de77ae"
            ],
            [
             0.3,
             "#f1b6da"
            ],
            [
             0.4,
             "#fde0ef"
            ],
            [
             0.5,
             "#f7f7f7"
            ],
            [
             0.6,
             "#e6f5d0"
            ],
            [
             0.7,
             "#b8e186"
            ],
            [
             0.8,
             "#7fbc41"
            ],
            [
             0.9,
             "#4d9221"
            ],
            [
             1,
             "#276419"
            ]
           ],
           "sequential": [
            [
             0,
             "#0d0887"
            ],
            [
             0.1111111111111111,
             "#46039f"
            ],
            [
             0.2222222222222222,
             "#7201a8"
            ],
            [
             0.3333333333333333,
             "#9c179e"
            ],
            [
             0.4444444444444444,
             "#bd3786"
            ],
            [
             0.5555555555555556,
             "#d8576b"
            ],
            [
             0.6666666666666666,
             "#ed7953"
            ],
            [
             0.7777777777777778,
             "#fb9f3a"
            ],
            [
             0.8888888888888888,
             "#fdca26"
            ],
            [
             1,
             "#f0f921"
            ]
           ],
           "sequentialminus": [
            [
             0,
             "#0d0887"
            ],
            [
             0.1111111111111111,
             "#46039f"
            ],
            [
             0.2222222222222222,
             "#7201a8"
            ],
            [
             0.3333333333333333,
             "#9c179e"
            ],
            [
             0.4444444444444444,
             "#bd3786"
            ],
            [
             0.5555555555555556,
             "#d8576b"
            ],
            [
             0.6666666666666666,
             "#ed7953"
            ],
            [
             0.7777777777777778,
             "#fb9f3a"
            ],
            [
             0.8888888888888888,
             "#fdca26"
            ],
            [
             1,
             "#f0f921"
            ]
           ]
          },
          "colorway": [
           "#636efa",
           "#EF553B",
           "#00cc96",
           "#ab63fa",
           "#FFA15A",
           "#19d3f3",
           "#FF6692",
           "#B6E880",
           "#FF97FF",
           "#FECB52"
          ],
          "font": {
           "color": "#2a3f5f"
          },
          "geo": {
           "bgcolor": "white",
           "lakecolor": "white",
           "landcolor": "#E5ECF6",
           "showlakes": true,
           "showland": true,
           "subunitcolor": "white"
          },
          "hoverlabel": {
           "align": "left"
          },
          "hovermode": "closest",
          "mapbox": {
           "style": "light"
          },
          "paper_bgcolor": "white",
          "plot_bgcolor": "#E5ECF6",
          "polar": {
           "angularaxis": {
            "gridcolor": "white",
            "linecolor": "white",
            "ticks": ""
           },
           "bgcolor": "#E5ECF6",
           "radialaxis": {
            "gridcolor": "white",
            "linecolor": "white",
            "ticks": ""
           }
          },
          "scene": {
           "xaxis": {
            "backgroundcolor": "#E5ECF6",
            "gridcolor": "white",
            "gridwidth": 2,
            "linecolor": "white",
            "showbackground": true,
            "ticks": "",
            "zerolinecolor": "white"
           },
           "yaxis": {
            "backgroundcolor": "#E5ECF6",
            "gridcolor": "white",
            "gridwidth": 2,
            "linecolor": "white",
            "showbackground": true,
            "ticks": "",
            "zerolinecolor": "white"
           },
           "zaxis": {
            "backgroundcolor": "#E5ECF6",
            "gridcolor": "white",
            "gridwidth": 2,
            "linecolor": "white",
            "showbackground": true,
            "ticks": "",
            "zerolinecolor": "white"
           }
          },
          "shapedefaults": {
           "line": {
            "color": "#2a3f5f"
           }
          },
          "ternary": {
           "aaxis": {
            "gridcolor": "white",
            "linecolor": "white",
            "ticks": ""
           },
           "baxis": {
            "gridcolor": "white",
            "linecolor": "white",
            "ticks": ""
           },
           "bgcolor": "#E5ECF6",
           "caxis": {
            "gridcolor": "white",
            "linecolor": "white",
            "ticks": ""
           }
          },
          "title": {
           "x": 0.05
          },
          "xaxis": {
           "automargin": true,
           "gridcolor": "white",
           "linecolor": "white",
           "ticks": "",
           "title": {
            "standoff": 15
           },
           "zerolinecolor": "white",
           "zerolinewidth": 2
          },
          "yaxis": {
           "automargin": true,
           "gridcolor": "white",
           "linecolor": "white",
           "ticks": "",
           "title": {
            "standoff": 15
           },
           "zerolinecolor": "white",
           "zerolinewidth": 2
          }
         }
        },
        "title": {
         "text": "Clustering KMeans sur PCA (k=2)"
        }
       }
      }
     },
     "metadata": {},
     "output_type": "display_data"
    },
    {
     "data": {
      "application/vnd.plotly.v1+json": {
       "config": {
        "plotlyServerURL": "https://plot.ly"
       },
       "data": [
        {
         "hovertemplate": "color=1<br>PC1=%{x}<br>PC2=%{y}<br>PC3=%{z}<extra></extra>",
         "legendgroup": "1",
         "marker": {
          "color": "#636efa",
          "symbol": "circle"
         },
         "mode": "markers",
         "name": "1",
         "scene": "scene",
         "showlegend": true,
         "type": "scatter3d",
         "x": {
          "bdata": "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",
          "dtype": "f8"
         },
         "y": {
          "bdata": "eIh5ANMD17+MhNMONsf2vxHgAUjSFfG/Lf4K42sBA8DZtH0g2MsKQJju6E8vVdq/Cbkadmua8b8PJ/C/DRDuP4S4keGL7f6/Ycd+pnip2r8M1qxHrOv1v45DGs58tPa/eYrDCkpC+j+2Fuj34wABwIAHtoyRmQXAJCMrr/Eq9r/fVe+tRUj4v0Sh1Tx6ngDAUmgf0qR3AkCVZBh7yb/cP0tvXMW+gdG/xNWbhPgGDUDCghpF+Vf2v5hBnNGz4/q/e+hKNCdNB0AaX0nj8qH5v3XJ6G9qlfi/93OS+qh2+7+dOQGtFDUBwPaTiQeQu8I/SJtqGBuk8D8D2exdKiwGQCbLC9ZO/vm/r/XE0Nnk4b/sBE0qWgT2v3w0UT0Nn9m/7ojsqnA/CMAMEQM9MLv6v3Y935w0N7W/O/0sigDmAsB0wzBr72X6vx2HBKvI0f6/u+/7sgyTB0A0iwbSVmYNQEF0JPmnX/U/4d/A0MwN/b9wYh1iBwQTQJtEEAXmxPm/oSHJsk7N5L+rPX35Fx34v8iv6QpGBf6/Cblr7ObX1z9hyVrTS9v6v3Ii42EMnfE/AAuyaa/1/r8ZLNHR7jTzv3ohwdLdM/S/NkJ6CS7FD0Bm3dH/g6IAwFt6aZHysPG/FwU9EiJy6r+C7mhZeOICwO2Fq096jc4/pCiOndEdAsC0PA/QalL9v5kMT9hkjwdAfDRRPQ2f2b/gcjyVQQD7v0MSyfzHzfq/8LmW/QSaAcBxCFJ2s/bxv5Jowh2dwdK/0DBSV+jsAcDv45W/MHwEwEpUl63EK/u/+pgnhKPkEkBGpl8e+pD3P5+2MmI3Q/m/8hHilSLFAMAPma4lH+P8P1HO00AQmuy/Zi5xE5IX9b9aU7oUFBD1v63T5L1Czve//cuWe1gn7L+pF4PjVnL7v3unNz2liX2/1M3h1x+4+b8v3mJuwEH1v9pl2+6SWe2/Kxh+T2jLAcCJ/rE4mV7wP3czSEROa/W/DYivVU9fGEDss+iTsoL9vxAJXXfyPgHAvrgeqobL/r8q7kMb9oQbQEbet9P0lfO/4KYVMu3u6T/EypwnnxH4vwWmpRKzZfO/u8rhbnggAcAw8WkL1oHRP/gsPYj9o/W/azA8egq+6r/8ZwFSaIT8v8sbH+76QP8/MsxyB0uQ8798Tku5QqcCwIgXJqJ+dwHAIVMwWC6yBMAYoaiKo57hvzMIO3mVHw5A1HZ1rKhr8L8E53rF3KfhPzHy2YpUt/C/6Bz9gzrT8r++wcLeHH/FP0O8Qm1omPo/rroMx11w979Y9iuaLxoCQDkRcStbxPa/EFpC9BSM9r+vSvPNxQXzv82z8ywgueQ/+BWnEMmpA8AjCM6d+mwTQOpu5BCAxfw/6yKh7NJ787/TUIR1AMr8v5YldPNMGRBAUFJSeRuCA8B9qT9xxTbsv5a1z0S0fPq/oR+kd5jr+T9D98Olb1TmP413j+/3a/m/KnYnlr7d5b8czBURfIz9vyswFM3JIPK/ntQIxxPH+r+qRDXL7xj1v59WTaA5EwDACEgLlXSRAcD64tV25A/iPxknCI2NhvO/IzEHPTW2AcBdAqgRq8fxvz1zZtUPvdm/i/H+BmX2/r8inuuz/tD4v4vDwAtOtvS/uQNA0IIO+r90MLSvnfX5v6m720GipdQ/yCU6AxXG+b87wL3gSPr9v0uw1mhuNB1AE9wpORqqBEDEowdMmJIMQKOozKcN1ao/c92fEILmAUClqlv9+DcIQJSOZYSAwgHAilVGA3/CIUC5CuEcDrMBwJx0cpclZP6/pYJgnkhA9b+vM8pEtAHgP6BhSk/FJ/y/ktuo9czi878UBekWj3Pyv5NxBQLU7QJANTCeQBYxAcBvqZ1sWrUEQLfzmMheLwbABaalErNl879qD/Cmqdb0v0408rd7FBBAoRG1MlOMBcBPy/iQ1ZsFQOTg4m4sNf+/KanMmdv5+b/e9CVWU3vcvykWqew6NuG/S527Aad+8r+ugP57GT79vyOHdhV7wdK/GxkTAY506j9ANHLf0Mr2v8tHVlahU+2/0aNT35SJ/L8gf2nZxEH4v8ptcwc6Yua/w5ne1Yd0878229xlUHcCwAwZYX9mHADArjo2H6ZrAMBPN8weQJ3+v+WUjRQXGOC/33NvIgfD9793qtX58z/0v55NW04KNvk/E96xHFqy0z/s2D4BakoDQBDZX887hPO/MxZRMGQJ+7+B8HZxlFH+v8dIouz2x/w/6/t4bN+WEUC5nnBo3dv4v3c0PHMS7Mu/dReTUhp05r8bi0YLcmL2v5e8kQlpWeG/WJ0ADZXNIECQqpQX4iIDwFI5sc4ITPq/VmsTzBiJBcCufQb7qvjyv943deidMB1A5eCPFVbzE0DqCvL4vXr8v2ToveiVOARAcuFsLPQtB8DGCS5xWu34v8QSNX5nRv6/eMyaujZYwD8piBmRhUWwv4KVkTRBWQBA5x6F1Q05qj+5tmCrJi4EwFWzgha8osu/e1TGdE1t8L+WGP5Pxizzv1ZrE8wYiQXAjldNenMSzb+Yr0Or5BkBwC5xhZ5o+rS/N26Vf01KxL8jMQc9NbYBwEFBClBsavi/9Gu88/mB8782c6cbXEcJQHEpWxty2wBANYzlWz3N+7/qi7wUO6jYv56vsN+Uqv2/2+uPecm1AsDA3ZKjsncCwJ0It2lTO/+/ll28xLbkAcAD4UXtI2H7v6Bcpi4b3gJAHjPvApOT+r9jN8Vlm8T1v/UPHOmxofO/3qEFFemcBcDMHOSoZ5b1v0HhqtYFYfm/MEIXpAyI678oWXtZsh4BwBxS64H0SQFAJnZZXCtp9L/zqHuvYp30v7Aeka/35fC/1t6/iRqetD+qwX3T2Kn1v8OWuumZRdg/Oepog559F0ChH6R3mOv5PykjoQ8vv9s/0sSl4SOo9r/93dGgbyn/vwZHs1ZW9/c/sr9k4qz/AcD5cEWsnfTovy4lcngB/PK/oIc0GhoJCMA9FryIWZbavwi3JZaeVwTANygnb9jy2D+tRz+/g7ERQGg45T15IRRAQxT9hwjOA8BqjOol0xj+v9a/vYtXDvS/iGNXHPiJnj9nop6TMprTv4DvKSv63Py/QidytPDF/T9NujiHTIP8v8DdkqOydwLAi2dzEPnkE0DitZGycBv9v+8WasEKvvy/2AI47IK15z/4bICuYEDqvxO7ba0oQP6//gExwTpS/r/iKT1sAoD9v5fmhzS6cADAw8zYZyYC+789rfxK65wBwMIScCciHfS/X0MKLsLuAsAXMeNEhjoAwGFh3igyvv0/oM0X8nh7AcCuC2w6V2EVQBsgyOKV//i/eD57Ls2q9b91a9Y/GQ0CwH/0hNu/EQTAwWBwXEDdGUDGD3LX1XXkP32OhKL+HALAmcYsvFz6+L9DT+9wyVD+v4fVvz1VBwPA5xB6YNTe77+Q+jPFh30OQAcU8EaopxBAWJ0ADZXNIEAgUSUcKMYBwFk+qjfsbQFATOcJsizY+7/DjAH1SU8GwEZ771F+WwDAVFajqwpb4T8vbgXOMA37v0fZB59sWxdA39v42KK49b8M52nhmG7yv8wSEqo7r+A/q6S2u26NBsAX0KxEcXjiP9mOjm8pFBFA0v8aUOdutj/LMhU0uRvyv5BInMX0XARAM5f0+kXSAcAwQhekDIjrv8c+0Taz4wPA+5h8KvM/8b+lvRh2Y7H/v3mKwwpKQvo/NW4U9CCQ87+s7a4KJZutP+jR04qHZAjAylLhJPzQ/r+e8oxbG9L4v5EYQEHJsATAqND03q0KAEDRCSrRZcP7v1GFn7DM3vC//Ex1qthm4T/Cpd8p8on6P2tVHKBe1Py/4w5zvO4+8r/r+3hs35YRQL6GSNIvMse/OAad+0AJ/r9y1N+wBvHjv8JDsMr4bde/nT0I6wNW47+L8f4GZfb+v9RmD6moF/W//Wv76oEx9b8RKo54h8jiP/4BMcE6Uv6/7LDdoSqq97/RtliYa1HZP/vH3odce/e/Bri/0Fu+4r9kJOQboe78vzr/0t8H2/G/Qu4KruFI+T8rL/2x9kESQOXVDerqqglA93hXCwrF+b93ZcRbynTpv0w5CjtqMbK/J4N1CKnS+r+kQ54QvG4DwCGFPMms6wDAIU/q/pzeC0DiuM+6nT4AwLGw3GemcALAddsytQbt/b+5Ms/d//PQv5Xq1obbLLA/SlSXrcQr+78RE81eJioDQKfA/4RErPe/fGBvegO0EkDeUtPlbmwCwFmLgM+mliBAtCOhpwT/97875FL+W+LiPzttxLbvsOE/AmQpVbPEDkDZErg0hboQQOeCw4Ue4hBAaWKiVmuq+j9fyr+xIOT+v2einpMymtO/CUxH+/7KBUAtEio0ZKjhv1KvkI58y9c/ylWW9/oP/b+enKwIrrH+v4BocaLvzfU/VbIyLEMI7L9Q44fv/e33v6/1xNDZ5OG/cQp1VOGsrr8Odg9t2+uoPw9cdihI/QLA/dtrUrNX2D8tEio0ZKjhv40E8PSVcf+/IdilwDJI9L9ujyhoLDb4v3sXaU6Uufq/LFN9Qo2s8D/gAhzIYwfSv0qIkFoGu9c/+6qcXnWwBUCAO9d1j0UAwNTP1MLewPa/SpQo97DrAsAFNFtfwFb2v2nnFe93ZPC/8lts8G6J/D/byL0owTT+v6eSol+iuL4/zkvg/tT5+j9/VR5h8ifsv+EvsspNOCBAewd5xLMC4L8Ix0hw4QzDP3eq1fnzP/S/RwAXcn2i87/0V7qqf/T4vzjOtH0x3/W/I8LDfrPMDkDs5O6vst6nv7w6zH4/eP2/haKbWYoUAkDqi7wUO6jYv/8zQGaFUQNAuKkNmew6978EOArEYYT0v1AM2okEQKW/EFIt97St5T969zomU17pv9ovLKEV9BRAGMVtpimwzr/h38DQzA39vyFE2HlG6ALAYP3HAnX+97/8b+QNfcoBwLhFIvxOUfU/ovalzBc+AcDDfdYtmhP3v4CIWvupvQHAgW+rc+8M9r9Go7eyuZAAwAtaY+1tzv6/tzn5RqP/8r8rS/QrW7/iv2ODLUdOvgVAXq/8wzQT4D/j0zWA4p/Rv3zvgW1EwQ1AMsxyB0uQ87/PoqC+K+32P5n7YWzxRvK/zxJI94UHCMDVkscsllIAwBLt0rwG8Pe/Ycd+pnip2r8h9dAJW2oBwGvJhlSGGcu/0r2UGEO7zj+Lw8ALTrb0v+0ktfeIEce/WjJGpw0k9r8wTpFFwUHlP03Jr10fGvS/m/SGkDwxEkBAHu8Z62Ptv2S5TMRqm/W/YnZ8fVeX4D8EwvF80MYPQJhGVcqFtNa/IAg4QSvf7T9msm06DEz/v/UPHOmxofO/M3r4CSi24j+cBPsxFsQCwC7oiVH29NE/kSXNHI1bAEBkuOC+Q3z2PyPCw36zzA5AEOf/5oX2978rv6jFaEnnPy198UNb8/2/QnJyUcN76D8BDecp40GRP/hzquBxv+o/JzDMj+nnEUDgIDslzkUOQNoXt+06N/u/HE+JLD8d0j+gdb078LjmPysv/bH2QRJAtcsN8ZMH2b+wByQW123wv3SaaIWQ3P8/TmX0jb7LIUAB9Noa+Mr7v5LEMT5Nmva/Jfyo+TPT/r9Mr6ogxesFwGy+quDUeQDAeomOAIPn6b+G2sqOdMH2v1OLqAftxfY/Yx72L8F18z9yAY45+aUIwAmWLahI3BdA2c2x4nSN/r9YgFqNW3IFQAjuMXQ1Pus/GMVtpimwzr+Gjou9HYP7v9xAvUQ6uMw/CatfVmY7AUDo2dCHP4QDwCU8d3ae7Pm/6fFTVMVdA8CZyF8IYNr4v9MV0z7/EOK/6PhA4jq19L9rKoX0ybv5P+K1kbJwG/2/Cm6u1UXe9L8yzHIHS5Dzv+cQemDU3u+/evFn/G9O/b/mWTqfL5X1vw2Ir1VPXxhA/lJrRuN77T8j300suBEBwPri1XbkD+I/nUV1JDCx9j9kVDDMWgP0P3xQqqpKX7Y/zldPRSYOAMAhDDSiAofgP6gtqi6rhPi/nYuC1Vlf879SxIFOKjcBwI+RAtR2Dc6/UOOH7/3t9785mDIVEkESQCTDVKssetc/AZ4g5J0Q+r/PWiZ6JA/6v2einpMymtO/ZNfsi3yF/L/G4BOMZxkHQDdC1LlU+ve/Jfyo+TPT/r/zPYPh+zjRP6uktrtujQbAxgkucVrt+L9RHX0SPTIEwJQnV4Bx1/u/3Fh2i/L7+L8xr5u/UnXTvzJeT+YF8tM/nJZ5BJ/nD0Ah+awOFc0HwBSzZPYTPwRAE8znUnxU/L8fvPDYPX/4v41KK42a6wRA4sLhsRSD8D95tPBUhRPuv3reUWOJ6wTA6ESyV6179b/iuM+6nT4AwJ/XvdNrCgPAmC7lUmnFAcBMAdam/8Pwv/2RKOXTH8K/f3tczsuABcDoupTkjyUHwOLEMj9p0Q1ALamtrFJZ4D+dAo4jGkr2v6+EKm9jVbA/y7mREdlf8T/VFyiYMCbxv2jC+G2q2/m/LhXnJTKxAsDx+Rpch7/3v0tuxH2NL/e/dFkeNsE9AMAOdg9t2+uoP56vsN+Uqv2/s5K47Qla/r/oTl0/khUFwCQF2nayYcU/vFlhkG2J/r9sD4Fy+uLzv9m0fSDYywpA8Ic9QnzY8D96UsnUdEz+P1PzBC0Mjfe/hXk8E/XS+r8rL/EVge2MP+E++0htM8+/NX5MJ7kPAcCNhMnl0Uj4v+FZH/h2Eve/rx7b7yct3T/4Z6Xva3X8v9NQhHUAyvy/+dXWQ6Xh+T/ts2zYmbH8v7RS+fPIdve/NTCeQBYxAcD1KpO4PQH5vxzMVgHfPva/2+uPecm1AsCKOzHTwmMBwBwFF/2DKhpA11OOsqJO9b+9eDxUibLXP9ZUnypwG8M/asagk4XRer+PANMv4p/4v90Ou1iJm/2/gP3td30DDUCvrWpm+Vb4vx5SevN6F/m/e1TGdE1t8L8gCDhBK9/tPze+g6OXAATAkcderz91AEDnHoXVDTmqP3Z7oX0t5wTAmZlEhHGT0r++UWAWuuvSPzSiLG0gRhZAthEJTMni+78MGWF/ZhwAwGH4pjOn+fS/K69HJF/CAsCH4C+Oa6zrP2NuKIMHPArA/KKmiOnkAMC9zP0V+sHXP0vodFf5hPa/5yY2z9ddH0Czl370X6kTQPaGnQKL7ue/nVelcSS697/pWkqGGc/8P31+udK8YxRAtqO4Z/lGEkDYiskENWLQv2jC+G2q2/m/skO1uopbCMA0Gorcso7tv3zD836b3/6/M5+IPyn1979BusLWD6WAP7EKRwZ7Kte/FUZZHJf9A8DgcjyVQQD7vwWVAxTQBAHALp/P8LOSCkB7QKE40JcDQHH6k5pZyvm/ss0uhIYtAcCZjMg+TBj3v4JcsA4lZgDA2c2x4nSN/r8h2KXAMkj0vwGQxlIxdwHAT3MH64tq+b/Hqp20sJ/6v08EsbNaS/a/LKtympsoAcAdhwSryNH+v3tyE/hGleC/HmiefVda2D/XU46yok71v7B2+b9XJQTAtHl9wYRvy7/oRLJXrXv1vxt531Vdn9y/PGc7ko5ojb/n1c+qkNDwvzRMWq3UZOE/nayoksi5v78s+aY7nIkEwCvEDTuGLMs/WJCgCuOE1r9CORjvpwLEP8BQOugUswHA94v+qxSMAMBbwRCOAbW2vzL+XhXdpADAqQ0Tri0x+L/UwRpWI70CwABW6VOwjNq/LKER0IxKE0BR/WAQS7/6v0dQS+ZGuBZAAlY71cKcCkBhhbh5Q436v8oQYBjKaNA/FQRfxR233j9jM0VigqIBQOm9FHk7u/6/FGTjmGTE8L+QVmAFMRr2vwmrX1ZmOwFAiCv7FjS8EEDmw2VmZo8HwHU5/kPMoZc/8PzwDyrq9b9rJPa65vf3vyC5yF9Zm/K/y7q8KcAA1z9hP5XOhXHAv7L07wL8tPM/RaLaMzxg+b8QCV138j4BwIb43TjrOgNAyfRDuEYKBUBsfBkcCaH7vzkDfNxVhpo/jLKsGO88AcBrVRygXtT8v5YwO0JTUve/St1/BO3EBcDd5pukYuqav7Gw3GemcALANuP9GDKtC0AIB/2CvYTxv2Ulze13ghVAgCmEQ7hvCMDzJmP3OTQgQKlaRHE9WNe/ejZ2Wu4YAcCWJXTzTBkQQE3MdUoGW/a/CkdV/zsAnj/uRfHJP3YDwF3bq0aA8uU/YJbk6SBZFkCRVbZeEb0FwIAVRdSYVP+/4j+FM3Vl57/UQWYuSVMAwMETkQXG2vW/NlDYjX/SAMCWlMywhhznPx4JDaBOPPm/SzbmVc1n+T80DE7ggBICwJcmtj9c8R1AzTGBfk+zBsBrlkSrYIz7v5rkxfnHRAHAtC5W3bpS8T/oXpkYXgwBQNThGnPz0eE/PcUko23V+r9ANmHDz5PcP7CWPHg37Pw/SiK6+fx79j98HKlCjlX5P9WrY3updxRAznsAcsIrAECgcOcfwjMDwEYRASrRkvS/UvqpDedSAMDeu4kdAvERQB3rFzmOTwDAqG/KBMBJs7/8Y2usa+z0v7SqPTpDpwDAGx6TytUbAEAcVvube/v7P1CLcA/w6fm/aL9pK3+qAcD6GpIbY7f+v7yUT5nOp/y/3WMcNgNc4r+ewYqu7ZL0v9fn5WcA4wHArFN+yb4C/D+HWRGQm2+Pv+40JKI+vf6/NS3SXO6b+L8NsaxLy2f1v7OSuO0JWv6/Uu/Lf/HX9r/imyI3aa33v6gtqi6rhPi/nq+w35Sq/b8Q2Bw/vef/v1XpHZ4slPC/qNdZ2jZSBMBKiJBaBrvXP9nk1T47sf6/IW+unQCX6D8fvPDYPX/4v7BaWhmhGtI/ktuo9czi87+xFdllZBr0v9MCzlqXC9u/ZaJuJ/vxBEAbHpPK1RsAQDqT5RgZvgjAVxYEB8DTDkC7Y/b4lgkQQNGjU9+Uify/f7KFH9F/AEAjVMZxqj0AQAbHIVHxwfM/kbGGkeRC5T8XKA2Id1v3v0GqMtgiCf2/SpKoDm18/r+4D8BEJCkDwJv0hpA8MRJA6NwWTKlfAUANuKEjWRHqP245l1RNRQFAy7r26ZeWAMD6YNKpsX4CQMXauWK8jwBAWCrlVrwQt79OJ2yj7APjP8nh9vidSJ6/CtRtbIWf6L8s+aY7nIkEwLpY8Rj6vyBAe9B5R5UmAUByn6HXTLUbQIJlYzWkwwTAxGRsXhj0+7/YNklgFpoDQPSH3nuyEglADGnXQO39AsBhT+wzlNTYv6Cjm5V3h7K/KD/6WRc0y7/Luvbpl5YAwNQLrFA11t+/dVug1uNHAUDmaz/336r0P7kTQvPeyPG/uITagEHAAsAhty/MnjD8vyUXjP76kfu/5ou3h5Xm9b/oupTkjyUHwMTVm4T4Bg1A0m1LC9mi5T8liq3ssZPuPxDr14Msn+e/2hQs74ye/L/0QaiCspbmP3Nnae2vEfu/",
          "dtype": "f8"
         },
         "z": {
          "bdata": "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",
          "dtype": "f8"
         }
        },
        {
         "hovertemplate": "color=0<br>PC1=%{x}<br>PC2=%{y}<br>PC3=%{z}<extra></extra>",
         "legendgroup": "0",
         "marker": {
          "color": "#EF553B",
          "symbol": "circle"
         },
         "mode": "markers",
         "name": "0",
         "scene": "scene",
         "showlegend": true,
         "type": "scatter3d",
         "x": {
          "bdata": "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",
          "dtype": "f8"
         },
         "y": {
          "bdata": "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",
          "dtype": "f8"
         },
         "z": {
          "bdata": "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",
          "dtype": "f8"
         }
        },
        {
         "marker": {
          "color": "black",
          "size": 8,
          "symbol": "x"
         },
         "mode": "markers",
         "name": "Centroids",
         "type": "scatter3d",
         "x": {
          "bdata": "Kjh1CjPKAMBmq95RAY4JQA==",
          "dtype": "f8"
         },
         "y": {
          "bdata": "omI703UiyD+ukp246V3Svw==",
          "dtype": "f8"
         },
         "z": {
          "bdata": "Lt3yZEfFfr/KmngkvmqHPw==",
          "dtype": "f8"
         }
        }
       ],
       "layout": {
        "legend": {
         "title": {
          "text": "color"
         },
         "tracegroupgap": 0
        },
        "scene": {
         "domain": {
          "x": [
           0,
           1
          ],
          "y": [
           0,
           1
          ]
         },
         "xaxis": {
          "title": {
           "text": "PC1"
          }
         },
         "yaxis": {
          "title": {
           "text": "PC2"
          }
         },
         "zaxis": {
          "title": {
           "text": "PC3"
          }
         }
        },
        "template": {
         "data": {
          "bar": [
           {
            "error_x": {
             "color": "#2a3f5f"
            },
            "error_y": {
             "color": "#2a3f5f"
            },
            "marker": {
             "line": {
              "color": "#E5ECF6",
              "width": 0.5
             },
             "pattern": {
              "fillmode": "overlay",
              "size": 10,
              "solidity": 0.2
             }
            },
            "type": "bar"
           }
          ],
          "barpolar": [
           {
            "marker": {
             "line": {
              "color": "#E5ECF6",
              "width": 0.5
             },
             "pattern": {
              "fillmode": "overlay",
              "size": 10,
              "solidity": 0.2
             }
            },
            "type": "barpolar"
           }
          ],
          "carpet": [
           {
            "aaxis": {
             "endlinecolor": "#2a3f5f",
             "gridcolor": "white",
             "linecolor": "white",
             "minorgridcolor": "white",
             "startlinecolor": "#2a3f5f"
            },
            "baxis": {
             "endlinecolor": "#2a3f5f",
             "gridcolor": "white",
             "linecolor": "white",
             "minorgridcolor": "white",
             "startlinecolor": "#2a3f5f"
            },
            "type": "carpet"
           }
          ],
          "choropleth": [
           {
            "colorbar": {
             "outlinewidth": 0,
             "ticks": ""
            },
            "type": "choropleth"
           }
          ],
          "contour": [
           {
            "colorbar": {
             "outlinewidth": 0,
             "ticks": ""
            },
            "colorscale": [
             [
              0,
              "#0d0887"
             ],
             [
              0.1111111111111111,
              "#46039f"
             ],
             [
              0.2222222222222222,
              "#7201a8"
             ],
             [
              0.3333333333333333,
              "#9c179e"
             ],
             [
              0.4444444444444444,
              "#bd3786"
             ],
             [
              0.5555555555555556,
              "#d8576b"
             ],
             [
              0.6666666666666666,
              "#ed7953"
             ],
             [
              0.7777777777777778,
              "#fb9f3a"
             ],
             [
              0.8888888888888888,
              "#fdca26"
             ],
             [
              1,
              "#f0f921"
             ]
            ],
            "type": "contour"
           }
          ],
          "contourcarpet": [
           {
            "colorbar": {
             "outlinewidth": 0,
             "ticks": ""
            },
            "type": "contourcarpet"
           }
          ],
          "heatmap": [
           {
            "colorbar": {
             "outlinewidth": 0,
             "ticks": ""
            },
            "colorscale": [
             [
              0,
              "#0d0887"
             ],
             [
              0.1111111111111111,
              "#46039f"
             ],
             [
              0.2222222222222222,
              "#7201a8"
             ],
             [
              0.3333333333333333,
              "#9c179e"
             ],
             [
              0.4444444444444444,
              "#bd3786"
             ],
             [
              0.5555555555555556,
              "#d8576b"
             ],
             [
              0.6666666666666666,
              "#ed7953"
             ],
             [
              0.7777777777777778,
              "#fb9f3a"
             ],
             [
              0.8888888888888888,
              "#fdca26"
             ],
             [
              1,
              "#f0f921"
             ]
            ],
            "type": "heatmap"
           }
          ],
          "histogram": [
           {
            "marker": {
             "pattern": {
              "fillmode": "overlay",
              "size": 10,
              "solidity": 0.2
             }
            },
            "type": "histogram"
           }
          ],
          "histogram2d": [
           {
            "colorbar": {
             "outlinewidth": 0,
             "ticks": ""
            },
            "colorscale": [
             [
              0,
              "#0d0887"
             ],
             [
              0.1111111111111111,
              "#46039f"
             ],
             [
              0.2222222222222222,
              "#7201a8"
             ],
             [
              0.3333333333333333,
              "#9c179e"
             ],
             [
              0.4444444444444444,
              "#bd3786"
             ],
             [
              0.5555555555555556,
              "#d8576b"
             ],
             [
              0.6666666666666666,
              "#ed7953"
             ],
             [
              0.7777777777777778,
              "#fb9f3a"
             ],
             [
              0.8888888888888888,
              "#fdca26"
             ],
             [
              1,
              "#f0f921"
             ]
            ],
            "type": "histogram2d"
           }
          ],
          "histogram2dcontour": [
           {
            "colorbar": {
             "outlinewidth": 0,
             "ticks": ""
            },
            "colorscale": [
             [
              0,
              "#0d0887"
             ],
             [
              0.1111111111111111,
              "#46039f"
             ],
             [
              0.2222222222222222,
              "#7201a8"
             ],
             [
              0.3333333333333333,
              "#9c179e"
             ],
             [
              0.4444444444444444,
              "#bd3786"
             ],
             [
              0.5555555555555556,
              "#d8576b"
             ],
             [
              0.6666666666666666,
              "#ed7953"
             ],
             [
              0.7777777777777778,
              "#fb9f3a"
             ],
             [
              0.8888888888888888,
              "#fdca26"
             ],
             [
              1,
              "#f0f921"
             ]
            ],
            "type": "histogram2dcontour"
           }
          ],
          "mesh3d": [
           {
            "colorbar": {
             "outlinewidth": 0,
             "ticks": ""
            },
            "type": "mesh3d"
           }
          ],
          "parcoords": [
           {
            "line": {
             "colorbar": {
              "outlinewidth": 0,
              "ticks": ""
             }
            },
            "type": "parcoords"
           }
          ],
          "pie": [
           {
            "automargin": true,
            "type": "pie"
           }
          ],
          "scatter": [
           {
            "fillpattern": {
             "fillmode": "overlay",
             "size": 10,
             "solidity": 0.2
            },
            "type": "scatter"
           }
          ],
          "scatter3d": [
           {
            "line": {
             "colorbar": {
              "outlinewidth": 0,
              "ticks": ""
             }
            },
            "marker": {
             "colorbar": {
              "outlinewidth": 0,
              "ticks": ""
             }
            },
            "type": "scatter3d"
           }
          ],
          "scattercarpet": [
           {
            "marker": {
             "colorbar": {
              "outlinewidth": 0,
              "ticks": ""
             }
            },
            "type": "scattercarpet"
           }
          ],
          "scattergeo": [
           {
            "marker": {
             "colorbar": {
              "outlinewidth": 0,
              "ticks": ""
             }
            },
            "type": "scattergeo"
           }
          ],
          "scattergl": [
           {
            "marker": {
             "colorbar": {
              "outlinewidth": 0,
              "ticks": ""
             }
            },
            "type": "scattergl"
           }
          ],
          "scattermap": [
           {
            "marker": {
             "colorbar": {
              "outlinewidth": 0,
              "ticks": ""
             }
            },
            "type": "scattermap"
           }
          ],
          "scattermapbox": [
           {
            "marker": {
             "colorbar": {
              "outlinewidth": 0,
              "ticks": ""
             }
            },
            "type": "scattermapbox"
           }
          ],
          "scatterpolar": [
           {
            "marker": {
             "colorbar": {
              "outlinewidth": 0,
              "ticks": ""
             }
            },
            "type": "scatterpolar"
           }
          ],
          "scatterpolargl": [
           {
            "marker": {
             "colorbar": {
              "outlinewidth": 0,
              "ticks": ""
             }
            },
            "type": "scatterpolargl"
           }
          ],
          "scatterternary": [
           {
            "marker": {
             "colorbar": {
              "outlinewidth": 0,
              "ticks": ""
             }
            },
            "type": "scatterternary"
           }
          ],
          "surface": [
           {
            "colorbar": {
             "outlinewidth": 0,
             "ticks": ""
            },
            "colorscale": [
             [
              0,
              "#0d0887"
             ],
             [
              0.1111111111111111,
              "#46039f"
             ],
             [
              0.2222222222222222,
              "#7201a8"
             ],
             [
              0.3333333333333333,
              "#9c179e"
             ],
             [
              0.4444444444444444,
              "#bd3786"
             ],
             [
              0.5555555555555556,
              "#d8576b"
             ],
             [
              0.6666666666666666,
              "#ed7953"
             ],
             [
              0.7777777777777778,
              "#fb9f3a"
             ],
             [
              0.8888888888888888,
              "#fdca26"
             ],
             [
              1,
              "#f0f921"
             ]
            ],
            "type": "surface"
           }
          ],
          "table": [
           {
            "cells": {
             "fill": {
              "color": "#EBF0F8"
             },
             "line": {
              "color": "white"
             }
            },
            "header": {
             "fill": {
              "color": "#C8D4E3"
             },
             "line": {
              "color": "white"
             }
            },
            "type": "table"
           }
          ]
         },
         "layout": {
          "annotationdefaults": {
           "arrowcolor": "#2a3f5f",
           "arrowhead": 0,
           "arrowwidth": 1
          },
          "autotypenumbers": "strict",
          "coloraxis": {
           "colorbar": {
            "outlinewidth": 0,
            "ticks": ""
           }
          },
          "colorscale": {
           "diverging": [
            [
             0,
             "#8e0152"
            ],
            [
             0.1,
             "#c51b7d"
            ],
            [
             0.2,
             "#de77ae"
            ],
            [
             0.3,
             "#f1b6da"
            ],
            [
             0.4,
             "#fde0ef"
            ],
            [
             0.5,
             "#f7f7f7"
            ],
            [
             0.6,
             "#e6f5d0"
            ],
            [
             0.7,
             "#b8e186"
            ],
            [
             0.8,
             "#7fbc41"
            ],
            [
             0.9,
             "#4d9221"
            ],
            [
             1,
             "#276419"
            ]
           ],
           "sequential": [
            [
             0,
             "#0d0887"
            ],
            [
             0.1111111111111111,
             "#46039f"
            ],
            [
             0.2222222222222222,
             "#7201a8"
            ],
            [
             0.3333333333333333,
             "#9c179e"
            ],
            [
             0.4444444444444444,
             "#bd3786"
            ],
            [
             0.5555555555555556,
             "#d8576b"
            ],
            [
             0.6666666666666666,
             "#ed7953"
            ],
            [
             0.7777777777777778,
             "#fb9f3a"
            ],
            [
             0.8888888888888888,
             "#fdca26"
            ],
            [
             1,
             "#f0f921"
            ]
           ],
           "sequentialminus": [
            [
             0,
             "#0d0887"
            ],
            [
             0.1111111111111111,
             "#46039f"
            ],
            [
             0.2222222222222222,
             "#7201a8"
            ],
            [
             0.3333333333333333,
             "#9c179e"
            ],
            [
             0.4444444444444444,
             "#bd3786"
            ],
            [
             0.5555555555555556,
             "#d8576b"
            ],
            [
             0.6666666666666666,
             "#ed7953"
            ],
            [
             0.7777777777777778,
             "#fb9f3a"
            ],
            [
             0.8888888888888888,
             "#fdca26"
            ],
            [
             1,
             "#f0f921"
            ]
           ]
          },
          "colorway": [
           "#636efa",
           "#EF553B",
           "#00cc96",
           "#ab63fa",
           "#FFA15A",
           "#19d3f3",
           "#FF6692",
           "#B6E880",
           "#FF97FF",
           "#FECB52"
          ],
          "font": {
           "color": "#2a3f5f"
          },
          "geo": {
           "bgcolor": "white",
           "lakecolor": "white",
           "landcolor": "#E5ECF6",
           "showlakes": true,
           "showland": true,
           "subunitcolor": "white"
          },
          "hoverlabel": {
           "align": "left"
          },
          "hovermode": "closest",
          "mapbox": {
           "style": "light"
          },
          "paper_bgcolor": "white",
          "plot_bgcolor": "#E5ECF6",
          "polar": {
           "angularaxis": {
            "gridcolor": "white",
            "linecolor": "white",
            "ticks": ""
           },
           "bgcolor": "#E5ECF6",
           "radialaxis": {
            "gridcolor": "white",
            "linecolor": "white",
            "ticks": ""
           }
          },
          "scene": {
           "xaxis": {
            "backgroundcolor": "#E5ECF6",
            "gridcolor": "white",
            "gridwidth": 2,
            "linecolor": "white",
            "showbackground": true,
            "ticks": "",
            "zerolinecolor": "white"
           },
           "yaxis": {
            "backgroundcolor": "#E5ECF6",
            "gridcolor": "white",
            "gridwidth": 2,
            "linecolor": "white",
            "showbackground": true,
            "ticks": "",
            "zerolinecolor": "white"
           },
           "zaxis": {
            "backgroundcolor": "#E5ECF6",
            "gridcolor": "white",
            "gridwidth": 2,
            "linecolor": "white",
            "showbackground": true,
            "ticks": "",
            "zerolinecolor": "white"
           }
          },
          "shapedefaults": {
           "line": {
            "color": "#2a3f5f"
           }
          },
          "ternary": {
           "aaxis": {
            "gridcolor": "white",
            "linecolor": "white",
            "ticks": ""
           },
           "baxis": {
            "gridcolor": "white",
            "linecolor": "white",
            "ticks": ""
           },
           "bgcolor": "#E5ECF6",
           "caxis": {
            "gridcolor": "white",
            "linecolor": "white",
            "ticks": ""
           }
          },
          "title": {
           "x": 0.05
          },
          "xaxis": {
           "automargin": true,
           "gridcolor": "white",
           "linecolor": "white",
           "ticks": "",
           "title": {
            "standoff": 15
           },
           "zerolinecolor": "white",
           "zerolinewidth": 2
          },
          "yaxis": {
           "automargin": true,
           "gridcolor": "white",
           "linecolor": "white",
           "ticks": "",
           "title": {
            "standoff": 15
           },
           "zerolinecolor": "white",
           "zerolinewidth": 2
          }
         }
        },
        "title": {
         "text": "Clusters + Centroides (KMeans, k=2)"
        }
       }
      }
     },
     "metadata": {},
     "output_type": "display_data"
    }
   ],
   "source": [
    "# 5.3 Application du clustering choisi et 3D-plot\n",
    "from sklearn.cluster import KMeans, AgglomerativeClustering\n",
    "from sklearn.metrics import silhouette_score\n",
    "import plotly.express as px\n",
    "import numpy as np\n",
    "import pandas as pd\n",
    "\n",
    "# Sécuriser les prérequis\n",
    "if 'X_pca' not in globals():\n",
    "    raise RuntimeError(\"X_pca introuvable. Exécutez d'abord la cellule 5.1 (PCA).\")\n",
    "if 'best_model_name' not in globals() or 'best_n_clusters' not in globals():\n",
    "    raise RuntimeError(\"Meilleur modèle non défini. Exécutez d'abord la cellule 5.2.\")\n",
    "\n",
    "# Fit final du meilleur modèle\n",
    "if best_model_name == 'KMeans':\n",
    "    model = KMeans(n_clusters=best_n_clusters, random_state=42, n_init=10)\n",
    "elif best_model_name == 'Agglomerative':\n",
    "    model = AgglomerativeClustering(n_clusters=best_n_clusters, linkage='ward')\n",
    "else:\n",
    "    raise ValueError(f\"Méthode non reconnue: {best_model_name}\")\n",
    "\n",
    "labels = model.fit_predict(X_pca)\n",
    "sil = silhouette_score(X_pca, labels)\n",
    "\n",
    "# Ajouter les labels au df et à df_pca\n",
    "df['Cluster'] = labels\n",
    "df_pca['Cluster'] = labels\n",
    "\n",
    "print(f\"Clusters obtenus: {np.bincount(labels)} (k={best_n_clusters})\")\n",
    "print(f\"Score de silhouette final: {sil:.3f}\")\n",
    "\n",
    "# Visualisation 3D des clusters sur l'espace PCA\n",
    "fig = px.scatter_3d(df_pca, x='PC1', y='PC2', z='PC3',\n",
    "                    color=df_pca['Cluster'].astype(str),\n",
    "                    title=f'Clustering {best_model_name} sur PCA (k={best_n_clusters})',\n",
    "                    labels={'color':'Cluster'})\n",
    "fig.update_traces(marker=dict(size=4, opacity=0.85))\n",
    "fig.show()\n",
    "\n",
    "# Optionnel: centroids en 3D (pour KMeans)\n",
    "try:\n",
    "    centers = model.cluster_centers_  # disponible pour KMeans\n",
    "    centers_df = pd.DataFrame(centers, columns=['PC1','PC2','PC3'])\n",
    "    import plotly.graph_objects as go\n",
    "    fig_centers = px.scatter_3d(df_pca, x='PC1', y='PC2', z='PC3', color=df_pca['Cluster'].astype(str),\n",
    "                                title=f'Clusters + Centroides (KMeans, k={best_n_clusters})')\n",
    "    fig_centers.add_trace(go.Scatter3d(x=centers_df['PC1'], y=centers_df['PC2'], z=centers_df['PC3'],\n",
    "                                       mode='markers', marker=dict(size=8, color='black', symbol='x'),\n",
    "                                       name='Centroids'))\n",
    "    fig_centers.show()\n",
    "except Exception:\n",
    "    pass"
   ]
  },
  {
   "cell_type": "markdown",
   "id": "dc23e364",
   "metadata": {},
   "source": [
    "---\n",
    "## 8️) Modélisation Prédictive\n",
    "\n",
    "### 8.1 Préparation des données pour la prédiction"
   ]
  },
  {
   "cell_type": "code",
   "execution_count": null,
   "id": "0d6bcef0",
   "metadata": {},
   "outputs": [],
   "source": []
  },
  {
   "cell_type": "markdown",
   "id": "9adebde3",
   "metadata": {},
   "source": [
    "### 8.2 Entraînement de plusieurs modèles"
   ]
  },
  {
   "cell_type": "code",
   "execution_count": null,
   "id": "87d1dd60",
   "metadata": {},
   "outputs": [],
   "source": []
  },
  {
   "cell_type": "markdown",
   "id": "ce613e25",
   "metadata": {},
   "source": [
    "### 8.3 Comparaison des performances"
   ]
  },
  {
   "cell_type": "code",
   "execution_count": null,
   "id": "2b28a638",
   "metadata": {},
   "outputs": [],
   "source": []
  },
  {
   "cell_type": "markdown",
   "id": "990ae85f",
   "metadata": {},
   "source": [
    "### 8.4 Analyse détaillée du meilleur modèle"
   ]
  },
  {
   "cell_type": "code",
   "execution_count": null,
   "id": "5e5397df",
   "metadata": {},
   "outputs": [],
   "source": []
  },
  {
   "cell_type": "markdown",
   "id": "b5f2e79e",
   "metadata": {},
   "source": [
    "---\n",
    "## 9️) Conclusions et Recommandations\n",
    "\n",
    "### 9.1 Synthèse des Résultats"
   ]
  },
  {
   "cell_type": "markdown",
   "id": "1bd19647",
   "metadata": {},
   "source": [
    "### 9.2 Recommandations Stratégiques"
   ]
  },
  {
   "cell_type": "markdown",
   "id": "32abb92f",
   "metadata": {},
   "source": [
    "---\n",
    "\n",
    "## Conclusion Finale\n",
    "\n",
    "Cette analyse complète a permis de :\n",
    "\n",
    "\n",
    "### Points Forts de l'Analyse\n"
   ]
  }
 ],
 "metadata": {
  "kernelspec": {
   "display_name": "base",
   "language": "python",
   "name": "python3"
  },
  "language_info": {
   "codemirror_mode": {
    "name": "ipython",
    "version": 3
   },
   "file_extension": ".py",
   "mimetype": "text/x-python",
   "name": "python",
   "nbconvert_exporter": "python",
   "pygments_lexer": "ipython3",
   "version": "3.12.7"
  }
 },
 "nbformat": 4,
 "nbformat_minor": 5
}
